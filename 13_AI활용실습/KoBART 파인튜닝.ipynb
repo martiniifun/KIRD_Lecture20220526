{
 "cells": [
  {
   "cell_type": "markdown",
   "source": [
    "# KoBART의 summarization을 활용한 응용프로그램 - 기사요약 프로그램을 만들어봅시다.\n"
   ],
   "metadata": {
    "collapsed": false,
    "pycharm": {
     "name": "#%% md\n"
    }
   }
  },
  {
   "cell_type": "code",
   "execution_count": 1,
   "metadata": {
    "collapsed": true,
    "pycharm": {
     "name": "#%%\n"
    }
   },
   "outputs": [],
   "source": [
    "from transformers import PreTrainedTokenizerFast\n",
    "from transformers import BartForConditionalGeneration\n",
    "import torch\n",
    "\n",
    "tokenizer = PreTrainedTokenizerFast.from_pretrained('gogamza/kobart-summarization')\n",
    "model = BartForConditionalGeneration.from_pretrained('gogamza/kobart-summarization')"
   ]
  },
  {
   "cell_type": "code",
   "execution_count": 2,
   "outputs": [],
   "source": [
    "# 파일명 : 211231 조간 (보도) 5G 이동통신 주파수 할당계획(안)에 대한 공개 토론회 개최_\n",
    "\n",
    "text = \"\"\"□ 과학기술정보통신부(장관 임혜숙, 이하 ‘과기정통부’)는 2022년 1월 4일(화) 오후 3시, 더케이호텔에서 ｢5세대(5G) 이동통신 주파수 할당계획(안)｣에 대한 공개 토론회를 개최한다.\n",
    "\n",
    " ㅇ 지난 12월 3일 과기정통부는 3.4~3.42㎓대역의 20㎒폭 주파수에 대해 주파수 할당으로 국민의 서비스 품질이 개선되고, 전파자원 이용 효율성 및 통신시장의 경쟁 환경에도 긍정적인 효과가 더 크다고 판단하여 할당을 추진하기로 한 바 있으며,\n",
    "\n",
    " ㅇ 주파수 할당을 위해 할당방식, 할당대가 및 조건 등 구체적인 주파수 할당계획(안)을 마련하고 산학연 전문가 및 이해관계자의 의견 수렴을 위해 토론회를 개최한다.\n",
    "\n",
    "□ 토론회에서는 △김지환 정보통신정책연구원 실장이 ｢이동통신 시장 및 주파수 현황｣, △박태완 과기정통부 주파수정책과장이 ｢5세대(5G) 이동통신 주파수 할당계획(안)｣에 대해 발제하고,\n",
    "\n",
    " ㅇ 학계・연구계・소비자단체 등 전문가와 이동통신사 관계자 등이 토론자로 참여한다.\n",
    "□ 아울러, 이번 토론회는 코로나19로 인한 사회적 거리두기에 따라 현장 참석자는 토론자를 포함해 49명 이내로 제한하여 실시하며, 과기정통부 공식 채널*(유튜브, 네이버TV)을 통해 온라인으로도 실시간 중계할 예정이다.\"\"\""
   ],
   "metadata": {
    "collapsed": false,
    "pycharm": {
     "name": "#%%\n"
    }
   }
  },
  {
   "cell_type": "code",
   "execution_count": 3,
   "outputs": [
    {
     "name": "stdout",
     "output_type": "stream",
     "text": [
      "과학기술정보통신부는 2022년 1월 4일(화) 오후 3시, 더케이호텔에서 「5세대(5G 이동통신 주파수 할당계획(안)에 대한 공개 토론회를 개최하며, 토론회에서는 김종환 정보통신정책연구원 실장이 발제하고 박태완 과기정통부 주파수 정책과장의 발표가 있을 예정이다.\n"
     ]
    }
   ],
   "source": [
    "raw_input_ids = tokenizer.encode(text)\n",
    "input_ids = [tokenizer.bos_token_id] + raw_input_ids + [tokenizer.eos_token_id]\n",
    "summary_ids = model.generate(torch.tensor([input_ids]), max_length=512, early_stopping=True, repetition_penalty=2.0)\n",
    "summ = tokenizer.decode(summary_ids.squeeze().tolist(), skip_special_tokens=True)\n",
    "print(summ)"
   ],
   "metadata": {
    "collapsed": false,
    "pycharm": {
     "name": "#%%\n"
    }
   }
  },
  {
   "cell_type": "markdown",
   "source": [
    "하나만 더 요약해볼까요?"
   ],
   "metadata": {
    "collapsed": false,
    "pycharm": {
     "name": "#%% md\n"
    }
   }
  },
  {
   "cell_type": "code",
   "execution_count": 5,
   "outputs": [
    {
     "name": "stdout",
     "output_type": "stream",
     "text": [
      "전국 규모의 과학경진대회인 제67회전국과학전람회는 전국에서 총 2,308점의 작품이 출품되어 294점이 수상작으로 선정되었으며 대통령상 2점, 국무총리상, 우수상과 장려상을 시상했다.\n"
     ]
    }
   ],
   "source": [
    "text = \"\"\"□ 제67회 전국과학전람회 시상식이 12월 1일(수) 오후 3시 국립중앙과학관(관장 유국희) 사이언스홀에서 개최되었다.\n",
    "\n",
    " ㅇ 전국과학전람회는 과학인구의 저변 확대와 전 국민의 과학화를 위해 1949년에 제1회 대회를 개최한 이후 올해로 67회째를 맞이하는 가장 권위 있는 전국 규모의 과학경진대회이다.\n",
    "\n",
    " ㅇ 이번 대회는 전국에서 총 2,308점의 작품이 출품되었고, 이 중 294점이 수상작으로 선정되었다.\n",
    "\n",
    "     ※ 대통령상 2점, 국무총리상 2점, 최우수상 10점, 특상 75점, 우수상 99점, 장려상 106점(총 294점)\n",
    "\n",
    "□ 영예의 대통령상은 학생부에서 ｢정색반응* 분석을 위한 IAS(Image Analysis System) 제작 및 활용에 관한 탐구｣를 출품한 ‘I Am Sorry but I love you팀’(충북과학고등학교 2학년/김도율, 김연욱, 정광혁 학생)이,\n",
    "\n",
    "   * 어떤 성분 또는 화합물이 특정한 시약에 대하여 발색(또는 변색)하는 반응\n",
    "\n",
    " ㅇ 교원부에서는 ｢AI융합 ‘폐각 활용 물분해 실험장치’ 및 에듀테크 콘텐츠 개발｣을 출품한 ‘디자인씽킹공작소팀’(전라남도 경호초등학교 강순기, 여천초등학교 김기범, 소라초등학교 김상현 교사)이 수상하였다.\n",
    "\n",
    "□ 또한, 국무총리상은 학생부에서 ｢사람마다 그네를 다르게 타는 이유는? 무게중심 위치에 따른 최적의 그네타기 전략 탐구｣를 출품한 ‘Swing My 근근팀‘(충북과학고등학교 1학년/노수빈, 이승환, 안연수 학생)이,\n",
    "\n",
    " ㅇ 교원부에서는 ｢참다슬기의 서캐디안* 리듬(circadian rhythm)에 관한 연구｣를 출품한 ‘슬기로운 탐구생활팀’(전라남도 순천남산초등학교 박혜정, 동산초등학교 박승현 교사)이 수상하였다.\n",
    "\n",
    "     * 사람 및 동식물의 생체 주기(일반적으로는 24시간 주기리듬)\n",
    "\n",
    "□ 이날 시상식에 참석한 과기정통부 용홍택 제1차관은 수상작들을 둘러보고 수상자들을 만난 자리에서\n",
    "\n",
    " ㅇ “수상작들마다 그간의 노력과 열정이 느껴져 감동했다.”고 전하며, “앞으로도 과학에 대한 열정과 탐구를 계속 이어가서 우리나라 과학기술을 이끌 인재로 성장하길 바란다.”고 격려하였다.\n",
    "\"\"\"\n",
    "\n",
    "raw_input_ids = tokenizer.encode(text)\n",
    "input_ids = [tokenizer.bos_token_id] + raw_input_ids + [tokenizer.eos_token_id]\n",
    "summary_ids = model.generate(torch.tensor([input_ids]), max_length=512, early_stopping=True, repetition_penalty=2.0)\n",
    "summ = tokenizer.decode(summary_ids.squeeze().tolist(), skip_special_tokens=True)\n",
    "print(summ)"
   ],
   "metadata": {
    "collapsed": false,
    "pycharm": {
     "name": "#%%\n"
    }
   }
  },
  {
   "cell_type": "markdown",
   "source": [
    "# 이번 보도자료의 실제 타이틀은 \"제67회 전국과학전람회 시상식 개최\"였습니다."
   ],
   "metadata": {
    "collapsed": false,
    "pycharm": {
     "name": "#%% md\n"
    }
   }
  },
  {
   "cell_type": "markdown",
   "source": [
    "## 위 기능을 재활용하기 위해 함수로 만들어 둡니다."
   ],
   "metadata": {
    "collapsed": false,
    "pycharm": {
     "name": "#%% md\n"
    }
   }
  },
  {
   "cell_type": "code",
   "execution_count": 17,
   "outputs": [],
   "source": [
    "def kobart_summarize(text):\n",
    "    raw_input_ids = tokenizer.encode(text)\n",
    "    input_ids = [tokenizer.bos_token_id] + raw_input_ids + [tokenizer.eos_token_id]\n",
    "    summary_ids = model.generate(torch.tensor([input_ids]), max_length=512, early_stopping=True, repetition_penalty=2.0)\n",
    "    summ = tokenizer.decode(summary_ids.squeeze().tolist(), skip_special_tokens=True)\n",
    "    return summ"
   ],
   "metadata": {
    "collapsed": false,
    "pycharm": {
     "name": "#%%\n"
    }
   }
  },
  {
   "cell_type": "markdown",
   "source": [
    "# 이제 과기정통부 보도자료 인식 및 요약성능을 높이기 위해\n",
    "\n",
    "# 파인튜닝을 시도해봅시다.\n",
    "\n",
    "참고한 포스팅 : https://jiyeonnn03.github.io/posts/kobartsum/"
   ],
   "metadata": {
    "collapsed": false,
    "pycharm": {
     "name": "#%% md\n"
    }
   }
  },
  {
   "cell_type": "markdown",
   "source": [
    "# 1. 데이터를 구해야 합니다. 보도자료 다운로드!"
   ],
   "metadata": {
    "collapsed": false,
    "pycharm": {
     "name": "#%% md\n"
    }
   }
  },
  {
   "cell_type": "code",
   "execution_count": null,
   "outputs": [],
   "source": [
    "from time import sleep\n",
    "\n",
    "from selenium import webdriver\n",
    "import chromedriver_autoinstaller\n",
    "from selenium.common.exceptions import TimeoutException\n",
    "from selenium.webdriver.common.by import By\n",
    "from selenium.webdriver.support import expected_conditions as EC\n",
    "from selenium.webdriver.support.wait import WebDriverWait\n",
    "\n",
    "from selenium.webdriver.chrome.options import Options\n",
    "\n",
    "\n",
    "chrome_options = Options()\n",
    "prefs = {'profile.default_content_setting_values.automatic_downloads': 1}\n",
    "chrome_options.add_experimental_option(\"prefs\", prefs)\n",
    "driver_path = chromedriver_autoinstaller.install()\n",
    "driver = webdriver.Chrome(options=chrome_options)\n",
    "# 과기정통부 보도자료 페이지 접속\n",
    "driver.get(\"https://www.msit.go.kr/bbs/list.do?sCode=user&mPid=112&mId=113\")\n",
    "\n",
    "\n",
    "# (확인차) 1페이지로 이동\n",
    "driver.execute_script(\"fn_paging(1);\")\n",
    "\n",
    "# 첫 번째 글 클릭\n",
    "driver.find_element(by=By.CSS_SELECTOR, value='#td_NTT_SJ_0').click()\n",
    "\n",
    "while True:\n",
    "    try:\n",
    "        #%% # 다운로드 JS코드 찾기\n",
    "        download_element = WebDriverWait(driver, 5).until(EC.presence_of_element_located((By.CSS_SELECTOR, \"#search-view-form > div > div.view_file > ul > li > span > a:nth-child(1)\")))\n",
    "        download_script = download_element.get_attribute('onclick')\n",
    "        #%% # 다운로드 JS코드 실행\n",
    "        driver.execute_script(download_script)\n",
    "    except TimeoutException as e:  # 본문에 오류가 있는 경우(비어있음)\n",
    "        print(e)  # 패스\n",
    "        print(driver.current_url)\n",
    "\n",
    "    try:\n",
    "        pre_link_element = WebDriverWait(driver, 5).until(EC.presence_of_element_located((By.CSS_SELECTOR, '#search-view-form > div > div.page_skip > ul > li:nth-child(2) > p > a')))\n",
    "        pre_link_script = pre_link_element.get_attribute('onclick')\n",
    "        driver.execute_script(pre_link_script)\n",
    "    except TimeoutException as e:\n",
    "        print(e)\n",
    "        driver.back()\n",
    "        sleep(3)\n",
    "        pre_link_element = WebDriverWait(driver, 5).until(EC.presence_of_element_located((By.CSS_SELECTOR, '#search-view-form > div > div.page_skip > ul > li:nth-child(2) > p > a')))\n",
    "        pre_link_script = pre_link_element.get_attribute('onclick')\n",
    "        driver.execute_script(pre_link_script)"
   ],
   "metadata": {
    "collapsed": false,
    "pycharm": {
     "name": "#%%\n"
    }
   }
  },
  {
   "cell_type": "markdown",
   "source": [
    "# 가급적 많은 수의 보도자료가 모이면 좋겠지요.\n",
    "\n",
    "# 빵빵한 클라우드 지원비용이나, GPU 워크스테이션이 구비되어 있다면 더 좋고요."
   ],
   "metadata": {
    "collapsed": false,
    "pycharm": {
     "name": "#%% md\n"
    }
   }
  },
  {
   "cell_type": "markdown",
   "source": [
    "# 2. 한/글 -> 엑셀 -> tsv 파일로 변환\n",
    "\n",
    "한/글 보도자료 특정 셀 안에 제목이 있고, 그 외 나머지를 본문으로 간주하면 되겠습니다. 성능을 향상시키려면 본문 하단 \"붙임\"이나 \"참고\" 등, 보도 요약시 불필요한 텍스트는 제거해 주는 것이 좋겠습니다."
   ],
   "metadata": {
    "collapsed": false,
    "pycharm": {
     "name": "#%% md\n"
    }
   }
  },
  {
   "cell_type": "markdown",
   "source": [
    "## 먼저, 다운받은 한/글 파일 중 하나를 열어보겠습니다."
   ],
   "metadata": {
    "collapsed": false,
    "pycharm": {
     "name": "#%% md\n"
    }
   }
  },
  {
   "cell_type": "markdown",
   "source": [
    "![](https://i.ibb.co/B4bwBrT/291.png)"
   ],
   "metadata": {
    "collapsed": false,
    "pycharm": {
     "name": "#%% md\n"
    }
   }
  },
  {
   "cell_type": "markdown",
   "source": [
    "![](https://i.ibb.co/pZFyD9S/292.png)"
   ],
   "metadata": {
    "collapsed": false,
    "pycharm": {
     "name": "#%% md\n"
    }
   }
  },
  {
   "cell_type": "markdown",
   "source": [
    "# 재미있게도 2022년 1월 28일부터 보도자료에 숨겨진 편의기능이 생겼습니다.\n",
    "\n",
    "### 파이썬으로 보도자료의 제목과 부제목, 그리고 붙임을 제외한 본문 등을 간편하게 추출할 수 있는 기능입니다.\n",
    "\n",
    "### 한 번 실행해보겠습니다."
   ],
   "metadata": {
    "collapsed": false,
    "pycharm": {
     "name": "#%% md\n"
    }
   }
  },
  {
   "cell_type": "code",
   "execution_count": 7,
   "outputs": [
    {
     "data": {
      "text/plain": "True"
     },
     "execution_count": 7,
     "metadata": {},
     "output_type": "execute_result"
    }
   ],
   "source": [
    "import win32com.client as win32\n",
    "\n",
    "hwp = win32.gencache.EnsureDispatch(\"hwpframe.hwpobject\")\n",
    "hwp.XHwpWindows.Item(0).Visible = True\n",
    "hwp.RegisterModule(\"FilePathCheckDLL\", \"FilePathCheckerModule\")\n",
    "hwp.Open(r\"C:\\Users\\smj02\\Desktop\\과기정통부보도자료\\220901 조간 (보도) 국내 핵융합 신진인력, 세계 최고 수준의 핵융합 연구를 위해 국제무대 진출_.hwpx\")"
   ],
   "metadata": {
    "collapsed": false,
    "pycharm": {
     "name": "#%%\n"
    }
   }
  },
  {
   "cell_type": "markdown",
   "source": [
    "## 호출할 수 있는 필드명은 아래와 같이 조회할 수 있습니다."
   ],
   "metadata": {
    "collapsed": false,
    "pycharm": {
     "name": "#%% md\n"
    }
   }
  },
  {
   "cell_type": "code",
   "execution_count": 18,
   "outputs": [
    {
     "data": {
      "text/plain": "'기관명\\x02보도일시\\x02배포일시\\x02책임자대외직명\\x02책임자명\\x02책임자전화번호\\x02담당부서\\x02담당자대외직명\\x02담당자명\\x02담당자전화번호\\x02제목명\\x02부제목명\\x02본문\\x02기관명2\\x02책임자대외직명2\\x02책임자명2\\x02책임자전화번호2'"
     },
     "execution_count": 18,
     "metadata": {},
     "output_type": "execute_result"
    }
   ],
   "source": [
    "hwp.GetFieldList()"
   ],
   "metadata": {
    "collapsed": false,
    "pycharm": {
     "name": "#%%\n"
    }
   }
  },
  {
   "cell_type": "markdown",
   "source": [
    "### \\x02를 구분자로 하는 문자열입니다.\n",
    "### 다소 보기 불편하므로 split 메서드로 잘라서 리스트로 만들어줍니다."
   ],
   "metadata": {
    "collapsed": false,
    "pycharm": {
     "name": "#%% md\n"
    }
   }
  },
  {
   "cell_type": "code",
   "execution_count": 11,
   "outputs": [
    {
     "data": {
      "text/plain": "['기관명',\n '보도일시',\n '배포일시',\n '책임자대외직명',\n '책임자명',\n '책임자전화번호',\n '담당부서',\n '담당자대외직명',\n '담당자명',\n '담당자전화번호',\n '제목명',\n '부제목명',\n '본문',\n '기관명2',\n '책임자대외직명2',\n '책임자명2',\n '책임자전화번호2']"
     },
     "execution_count": 11,
     "metadata": {},
     "output_type": "execute_result"
    }
   ],
   "source": [
    "hwp.GetFieldList().split(\"\\x02\")"
   ],
   "metadata": {
    "collapsed": false,
    "pycharm": {
     "name": "#%%\n"
    }
   }
  },
  {
   "cell_type": "markdown",
   "source": [
    "## 필드 안에 삽입되어 있는 내용을 추출하려면 아래와 같이 실행합니다."
   ],
   "metadata": {
    "collapsed": false,
    "pycharm": {
     "name": "#%% md\n"
    }
   }
  },
  {
   "cell_type": "code",
   "execution_count": 19,
   "outputs": [
    {
     "data": {
      "text/plain": "'국내 핵융합 신진인력, 세계 최고 수준의 핵융합 연구를 위해 국제무대(국제핵융합실험로 기구) 진출'"
     },
     "execution_count": 19,
     "metadata": {},
     "output_type": "execute_result"
    }
   ],
   "source": [
    "hwp.GetFieldText(\"제목명\")"
   ],
   "metadata": {
    "collapsed": false,
    "pycharm": {
     "name": "#%%\n"
    }
   }
  },
  {
   "cell_type": "code",
   "execution_count": 20,
   "outputs": [
    {
     "data": {
      "text/plain": "'- 제1회 코리아-국제핵융합실험로(Korea-ITER) 박사후연구원 3명 파견 -'"
     },
     "execution_count": 20,
     "metadata": {},
     "output_type": "execute_result"
    }
   ],
   "source": [
    "hwp.GetFieldText(\"부제목명\")"
   ],
   "metadata": {
    "collapsed": false,
    "pycharm": {
     "name": "#%%\n"
    }
   }
  },
  {
   "cell_type": "code",
   "execution_count": 21,
   "outputs": [
    {
     "name": "stdout",
     "output_type": "stream",
     "text": [
      "□ 과학기술정보통신부(장관 이종호, 이하 ‘과기정통부’)는 미래 핵융합 연구를 선도해나갈 전문인력 양성을 위해 제1회 코리아-국제핵융합실험로(Korea-ITER*) 박사후연구원을 선발하여 올 9월 1일자로 국제핵융합실험로(ITER) 국제기구* 근무에 착수했다고 밝혔다. \r\n",
      "   * ITER (International Thermonuclear Experimental Reactor) : 핵융합에너지 대량 생산 가능성 실증을 위해 7개국이 공동으로 개발·건설·운영하는 실험로\r\n",
      "  ** ITER Organization : ITER 사업을 주관하는 국제기구\r\n",
      "□ 올해 신설된 ‘코리아-국제핵융합실험로(Korea-ITER) 박사후연구원 지원사업’은 대한민국 국적의 신진 연구인력(5년 이내 박사학위 취득자)*을 매년 3명씩 선발하여 국제핵융합실험로(ITER) 기구에서 2년 간의 근무 기회를 제공하는 프로그램이다.\r\n",
      " ㅇ 이번 프로그램은 과기정통부의 적극적인 요청과 함께 한국의 차세대 전문인력 양성이 국제핵융합실험로(ITER) 사업의 성공에도 기여할 수 있다는 국제핵융합실험로(ITER) 기구와의공감대에 따라 추진되었다. \r\n",
      "    ※ ‘Agreement for post-doctoral research fellowships between ITER KODA(한국사업단) and ITER organization’ 체결(`22.1월)\r\n",
      " ㅇ 7개 회원국 국민 대상 공개경쟁*으로 진행되는 기존 선발절차와 달리, 국제핵융합실험로(ITER) 기구-국제핵융합실험로(ITER) 한국사업단 공동선발기구를 통해 대한민국 국적의 박사후연구원만을 선발하여 국내 신진연구자에게 더 많은 국제핵융합실험로(ITER) 경험 기회를 제공할 수 있게 되었다.\r\n",
      "     * 공개경쟁을 통해 한국인 59명이 국제핵융합실험로(ITER) 기구에 근무 중(`22.8 기준)\r\n",
      "□ 제1회 코리아-국제핵융합실험로(Korea-ITER) 박사후연구원은 국제핵융합실험로(ITER) 국제기구의 채용공고(2~4월), 국제핵융합실험로(ITER)-한국사업단 공동심사(4~5월) 과정을 거쳐 플라즈마 대면 및 진단, 전자공명가열(ECH) 연구 분야의 최종 합격자 3명을 선발하였다. \r\n",
      " ㅇ 이들은 앞으로 2년간 국제핵융합실험로(ITER) 국제기구 소속 직원으로 엔지니어링(2명), 과학·운전(1명) 부문(Domain)에서 근무하며, 세계 최고 수준의 핵융합 기술을 습득하고 연구 경험을 축적하게 된다.\r\n",
      "□ 과기정통부 권현준 거대공공연구정책관은 “국내 핵융합 연구 분야의 고급 인재를 양성하는 것은 미래 핵융합에너지 실현을 위한 필수과제”라며,\r\n",
      " ㅇ “국내 신진인력이 국제무대에서 우수한 역량을 축적하여 국제핵융합실험로(ITER) 운영단계(`26~)에 활발히 참여하고, 국내 핵융합 실증 연구를 선도해나가는 인력 선순환을 기대한다”고 전했다. \r\n",
      " \n"
     ]
    }
   ],
   "source": [
    "본문 = hwp.GetFieldText(\"본문\")\n",
    "print(본문)"
   ],
   "metadata": {
    "collapsed": false,
    "pycharm": {
     "name": "#%%\n"
    }
   }
  },
  {
   "cell_type": "code",
   "execution_count": 22,
   "outputs": [
    {
     "data": {
      "text/plain": "'과학기술정보통신부는 미래 핵융합 연구를 선도해나갈 전문인력 양성을 위해 제1회 코리아-국제핵융합실험로(Korea-ITER*) 박사후연구원을 선발하여 국제핵융합실험로(ITR)에서 근무할 기회를 제공하고, KODA와 ITER 기구에 근무하는 한국인 59명을 채용하였다.'"
     },
     "execution_count": 22,
     "metadata": {},
     "output_type": "execute_result"
    }
   ],
   "source": [
    "kobart_summarize(본문)"
   ],
   "metadata": {
    "collapsed": false,
    "pycharm": {
     "name": "#%%\n"
    }
   }
  },
  {
   "cell_type": "markdown",
   "source": [
    "### 다소 난해한 기사내용을 짧게 잘 요약해 준 느낌입니다."
   ],
   "metadata": {
    "collapsed": false,
    "pycharm": {
     "name": "#%% md\n"
    }
   }
  },
  {
   "cell_type": "markdown",
   "source": [
    "# 이 기능을 이용해 엑셀로 tsv(탭을 구분자로 하는 csv느낌) 문서를 만들어줍니다."
   ],
   "metadata": {
    "collapsed": false,
    "pycharm": {
     "name": "#%% md\n"
    }
   }
  },
  {
   "cell_type": "markdown",
   "source": [
    "## 만들려고 하는 tsv는 아래와 같은 서식입니다. pretrained 자료입니다."
   ],
   "metadata": {
    "collapsed": false,
    "pycharm": {
     "name": "#%% md\n"
    }
   }
  },
  {
   "cell_type": "markdown",
   "source": [
    "![](https://i.ibb.co/M6NfRKH/293.png)"
   ],
   "metadata": {
    "collapsed": false,
    "pycharm": {
     "name": "#%% md\n"
    }
   }
  },
  {
   "cell_type": "markdown",
   "source": [
    "## 본문의 칼럼명은 news, 실제 요약문 칼럼은 summary네요."
   ],
   "metadata": {
    "collapsed": false,
    "pycharm": {
     "name": "#%% md\n"
    }
   }
  },
  {
   "cell_type": "code",
   "execution_count": 55,
   "outputs": [
    {
     "ename": "IndexError",
     "evalue": "index out of range in self",
     "output_type": "error",
     "traceback": [
      "\u001B[1;31m---------------------------------------------------------------------------\u001B[0m",
      "\u001B[1;31mIndexError\u001B[0m                                Traceback (most recent call last)",
      "\u001B[1;32m<ipython-input-55-a46e39a0917a>\u001B[0m in \u001B[0;36m<module>\u001B[1;34m\u001B[0m\n\u001B[0;32m     66\u001B[0m \u001B[1;33m\u001B[0m\u001B[0m\n\u001B[0;32m     67\u001B[0m     \u001B[0mhwp\u001B[0m\u001B[1;33m.\u001B[0m\u001B[0mRun\u001B[0m\u001B[1;33m(\u001B[0m\u001B[1;34m\"FileClose\"\u001B[0m\u001B[1;33m)\u001B[0m\u001B[1;33m\u001B[0m\u001B[1;33m\u001B[0m\u001B[0m\n\u001B[1;32m---> 68\u001B[1;33m     \u001B[0mws\u001B[0m\u001B[1;33m.\u001B[0m\u001B[0mRange\u001B[0m\u001B[1;33m(\u001B[0m\u001B[0mws\u001B[0m\u001B[1;33m.\u001B[0m\u001B[0mCells\u001B[0m\u001B[1;33m(\u001B[0m\u001B[0mi\u001B[0m\u001B[1;33m+\u001B[0m\u001B[1;36m2\u001B[0m\u001B[1;33m,\u001B[0m \u001B[1;36m1\u001B[0m\u001B[1;33m)\u001B[0m\u001B[1;33m,\u001B[0m \u001B[0mws\u001B[0m\u001B[1;33m.\u001B[0m\u001B[0mCells\u001B[0m\u001B[1;33m(\u001B[0m\u001B[0mi\u001B[0m\u001B[1;33m+\u001B[0m\u001B[1;36m2\u001B[0m\u001B[1;33m,\u001B[0m \u001B[1;36m3\u001B[0m\u001B[1;33m)\u001B[0m\u001B[1;33m)\u001B[0m\u001B[1;33m.\u001B[0m\u001B[0mValue\u001B[0m \u001B[1;33m=\u001B[0m \u001B[0mnews\u001B[0m\u001B[1;33m,\u001B[0m \u001B[0msummary\u001B[0m\u001B[1;33m,\u001B[0m \u001B[0mkobart_summarize\u001B[0m\u001B[1;33m(\u001B[0m\u001B[0mnews\u001B[0m\u001B[1;33m)\u001B[0m\u001B[1;33m\u001B[0m\u001B[1;33m\u001B[0m\u001B[0m\n\u001B[0m",
      "\u001B[1;32m<ipython-input-17-ee08689f67c9>\u001B[0m in \u001B[0;36mkobart_summarize\u001B[1;34m(text)\u001B[0m\n\u001B[0;32m      2\u001B[0m     \u001B[0mraw_input_ids\u001B[0m \u001B[1;33m=\u001B[0m \u001B[0mtokenizer\u001B[0m\u001B[1;33m.\u001B[0m\u001B[0mencode\u001B[0m\u001B[1;33m(\u001B[0m\u001B[0mtext\u001B[0m\u001B[1;33m)\u001B[0m\u001B[1;33m\u001B[0m\u001B[1;33m\u001B[0m\u001B[0m\n\u001B[0;32m      3\u001B[0m     \u001B[0minput_ids\u001B[0m \u001B[1;33m=\u001B[0m \u001B[1;33m[\u001B[0m\u001B[0mtokenizer\u001B[0m\u001B[1;33m.\u001B[0m\u001B[0mbos_token_id\u001B[0m\u001B[1;33m]\u001B[0m \u001B[1;33m+\u001B[0m \u001B[0mraw_input_ids\u001B[0m \u001B[1;33m+\u001B[0m \u001B[1;33m[\u001B[0m\u001B[0mtokenizer\u001B[0m\u001B[1;33m.\u001B[0m\u001B[0meos_token_id\u001B[0m\u001B[1;33m]\u001B[0m\u001B[1;33m\u001B[0m\u001B[1;33m\u001B[0m\u001B[0m\n\u001B[1;32m----> 4\u001B[1;33m     \u001B[0msummary_ids\u001B[0m \u001B[1;33m=\u001B[0m \u001B[0mmodel\u001B[0m\u001B[1;33m.\u001B[0m\u001B[0mgenerate\u001B[0m\u001B[1;33m(\u001B[0m\u001B[0mtorch\u001B[0m\u001B[1;33m.\u001B[0m\u001B[0mtensor\u001B[0m\u001B[1;33m(\u001B[0m\u001B[1;33m[\u001B[0m\u001B[0minput_ids\u001B[0m\u001B[1;33m]\u001B[0m\u001B[1;33m)\u001B[0m\u001B[1;33m,\u001B[0m \u001B[0mmax_length\u001B[0m\u001B[1;33m=\u001B[0m\u001B[1;36m512\u001B[0m\u001B[1;33m,\u001B[0m \u001B[0mearly_stopping\u001B[0m\u001B[1;33m=\u001B[0m\u001B[1;32mTrue\u001B[0m\u001B[1;33m,\u001B[0m \u001B[0mrepetition_penalty\u001B[0m\u001B[1;33m=\u001B[0m\u001B[1;36m2.0\u001B[0m\u001B[1;33m)\u001B[0m\u001B[1;33m\u001B[0m\u001B[1;33m\u001B[0m\u001B[0m\n\u001B[0m\u001B[0;32m      5\u001B[0m     \u001B[0msumm\u001B[0m \u001B[1;33m=\u001B[0m \u001B[0mtokenizer\u001B[0m\u001B[1;33m.\u001B[0m\u001B[0mdecode\u001B[0m\u001B[1;33m(\u001B[0m\u001B[0msummary_ids\u001B[0m\u001B[1;33m.\u001B[0m\u001B[0msqueeze\u001B[0m\u001B[1;33m(\u001B[0m\u001B[1;33m)\u001B[0m\u001B[1;33m.\u001B[0m\u001B[0mtolist\u001B[0m\u001B[1;33m(\u001B[0m\u001B[1;33m)\u001B[0m\u001B[1;33m,\u001B[0m \u001B[0mskip_special_tokens\u001B[0m\u001B[1;33m=\u001B[0m\u001B[1;32mTrue\u001B[0m\u001B[1;33m)\u001B[0m\u001B[1;33m\u001B[0m\u001B[1;33m\u001B[0m\u001B[0m\n\u001B[0;32m      6\u001B[0m     \u001B[1;32mreturn\u001B[0m \u001B[0msumm\u001B[0m\u001B[1;33m\u001B[0m\u001B[1;33m\u001B[0m\u001B[0m\n",
      "\u001B[1;32mc:\\python\\python368\\lib\\site-packages\\torch\\autograd\\grad_mode.py\u001B[0m in \u001B[0;36mdecorate_context\u001B[1;34m(*args, **kwargs)\u001B[0m\n\u001B[0;32m     24\u001B[0m         \u001B[1;32mdef\u001B[0m \u001B[0mdecorate_context\u001B[0m\u001B[1;33m(\u001B[0m\u001B[1;33m*\u001B[0m\u001B[0margs\u001B[0m\u001B[1;33m,\u001B[0m \u001B[1;33m**\u001B[0m\u001B[0mkwargs\u001B[0m\u001B[1;33m)\u001B[0m\u001B[1;33m:\u001B[0m\u001B[1;33m\u001B[0m\u001B[1;33m\u001B[0m\u001B[0m\n\u001B[0;32m     25\u001B[0m             \u001B[1;32mwith\u001B[0m \u001B[0mself\u001B[0m\u001B[1;33m.\u001B[0m\u001B[0m__class__\u001B[0m\u001B[1;33m(\u001B[0m\u001B[1;33m)\u001B[0m\u001B[1;33m:\u001B[0m\u001B[1;33m\u001B[0m\u001B[1;33m\u001B[0m\u001B[0m\n\u001B[1;32m---> 26\u001B[1;33m                 \u001B[1;32mreturn\u001B[0m \u001B[0mfunc\u001B[0m\u001B[1;33m(\u001B[0m\u001B[1;33m*\u001B[0m\u001B[0margs\u001B[0m\u001B[1;33m,\u001B[0m \u001B[1;33m**\u001B[0m\u001B[0mkwargs\u001B[0m\u001B[1;33m)\u001B[0m\u001B[1;33m\u001B[0m\u001B[1;33m\u001B[0m\u001B[0m\n\u001B[0m\u001B[0;32m     27\u001B[0m         \u001B[1;32mreturn\u001B[0m \u001B[0mcast\u001B[0m\u001B[1;33m(\u001B[0m\u001B[0mF\u001B[0m\u001B[1;33m,\u001B[0m \u001B[0mdecorate_context\u001B[0m\u001B[1;33m)\u001B[0m\u001B[1;33m\u001B[0m\u001B[1;33m\u001B[0m\u001B[0m\n\u001B[0;32m     28\u001B[0m \u001B[1;33m\u001B[0m\u001B[0m\n",
      "\u001B[1;32m~\\AppData\\Roaming\\Python\\Python36\\site-packages\\transformers\\generation_utils.py\u001B[0m in \u001B[0;36mgenerate\u001B[1;34m(self, input_ids, max_length, min_length, do_sample, early_stopping, num_beams, temperature, top_k, top_p, repetition_penalty, bad_words_ids, bos_token_id, pad_token_id, eos_token_id, length_penalty, no_repeat_ngram_size, encoder_no_repeat_ngram_size, num_return_sequences, decoder_start_token_id, use_cache, num_beam_groups, diversity_penalty, prefix_allowed_tokens_fn, output_attentions, output_hidden_states, output_scores, return_dict_in_generate, **model_kwargs)\u001B[0m\n\u001B[0;32m    845\u001B[0m         \u001B[1;32mif\u001B[0m \u001B[0mself\u001B[0m\u001B[1;33m.\u001B[0m\u001B[0mconfig\u001B[0m\u001B[1;33m.\u001B[0m\u001B[0mis_encoder_decoder\u001B[0m\u001B[1;33m:\u001B[0m\u001B[1;33m\u001B[0m\u001B[1;33m\u001B[0m\u001B[0m\n\u001B[0;32m    846\u001B[0m             \u001B[1;31m# add encoder_outputs to model_kwargs\u001B[0m\u001B[1;33m\u001B[0m\u001B[1;33m\u001B[0m\u001B[1;33m\u001B[0m\u001B[0m\n\u001B[1;32m--> 847\u001B[1;33m             \u001B[0mmodel_kwargs\u001B[0m \u001B[1;33m=\u001B[0m \u001B[0mself\u001B[0m\u001B[1;33m.\u001B[0m\u001B[0m_prepare_encoder_decoder_kwargs_for_generation\u001B[0m\u001B[1;33m(\u001B[0m\u001B[0minput_ids\u001B[0m\u001B[1;33m,\u001B[0m \u001B[0mmodel_kwargs\u001B[0m\u001B[1;33m)\u001B[0m\u001B[1;33m\u001B[0m\u001B[1;33m\u001B[0m\u001B[0m\n\u001B[0m\u001B[0;32m    848\u001B[0m \u001B[1;33m\u001B[0m\u001B[0m\n\u001B[0;32m    849\u001B[0m             \u001B[1;31m# set input_ids as decoder_input_ids\u001B[0m\u001B[1;33m\u001B[0m\u001B[1;33m\u001B[0m\u001B[1;33m\u001B[0m\u001B[0m\n",
      "\u001B[1;32m~\\AppData\\Roaming\\Python\\Python36\\site-packages\\transformers\\generation_utils.py\u001B[0m in \u001B[0;36m_prepare_encoder_decoder_kwargs_for_generation\u001B[1;34m(self, input_ids, model_kwargs)\u001B[0m\n\u001B[0;32m    377\u001B[0m             \u001B[0margument\u001B[0m\u001B[1;33m:\u001B[0m \u001B[0mvalue\u001B[0m \u001B[1;32mfor\u001B[0m \u001B[0margument\u001B[0m\u001B[1;33m,\u001B[0m \u001B[0mvalue\u001B[0m \u001B[1;32min\u001B[0m \u001B[0mmodel_kwargs\u001B[0m\u001B[1;33m.\u001B[0m\u001B[0mitems\u001B[0m\u001B[1;33m(\u001B[0m\u001B[1;33m)\u001B[0m \u001B[1;32mif\u001B[0m \u001B[1;32mnot\u001B[0m \u001B[0margument\u001B[0m\u001B[1;33m.\u001B[0m\u001B[0mstartswith\u001B[0m\u001B[1;33m(\u001B[0m\u001B[1;34m\"decoder_\"\u001B[0m\u001B[1;33m)\u001B[0m\u001B[1;33m\u001B[0m\u001B[1;33m\u001B[0m\u001B[0m\n\u001B[0;32m    378\u001B[0m         }\n\u001B[1;32m--> 379\u001B[1;33m         \u001B[0mmodel_kwargs\u001B[0m\u001B[1;33m[\u001B[0m\u001B[1;34m\"encoder_outputs\"\u001B[0m\u001B[1;33m]\u001B[0m\u001B[1;33m:\u001B[0m \u001B[0mModelOutput\u001B[0m \u001B[1;33m=\u001B[0m \u001B[0mencoder\u001B[0m\u001B[1;33m(\u001B[0m\u001B[0minput_ids\u001B[0m\u001B[1;33m,\u001B[0m \u001B[0mreturn_dict\u001B[0m\u001B[1;33m=\u001B[0m\u001B[1;32mTrue\u001B[0m\u001B[1;33m,\u001B[0m \u001B[1;33m**\u001B[0m\u001B[0mencoder_kwargs\u001B[0m\u001B[1;33m)\u001B[0m\u001B[1;33m\u001B[0m\u001B[1;33m\u001B[0m\u001B[0m\n\u001B[0m\u001B[0;32m    380\u001B[0m         \u001B[1;32mreturn\u001B[0m \u001B[0mmodel_kwargs\u001B[0m\u001B[1;33m\u001B[0m\u001B[1;33m\u001B[0m\u001B[0m\n\u001B[0;32m    381\u001B[0m \u001B[1;33m\u001B[0m\u001B[0m\n",
      "\u001B[1;32mc:\\python\\python368\\lib\\site-packages\\torch\\nn\\modules\\module.py\u001B[0m in \u001B[0;36m_call_impl\u001B[1;34m(self, *input, **kwargs)\u001B[0m\n\u001B[0;32m    725\u001B[0m             \u001B[0mresult\u001B[0m \u001B[1;33m=\u001B[0m \u001B[0mself\u001B[0m\u001B[1;33m.\u001B[0m\u001B[0m_slow_forward\u001B[0m\u001B[1;33m(\u001B[0m\u001B[1;33m*\u001B[0m\u001B[0minput\u001B[0m\u001B[1;33m,\u001B[0m \u001B[1;33m**\u001B[0m\u001B[0mkwargs\u001B[0m\u001B[1;33m)\u001B[0m\u001B[1;33m\u001B[0m\u001B[1;33m\u001B[0m\u001B[0m\n\u001B[0;32m    726\u001B[0m         \u001B[1;32melse\u001B[0m\u001B[1;33m:\u001B[0m\u001B[1;33m\u001B[0m\u001B[1;33m\u001B[0m\u001B[0m\n\u001B[1;32m--> 727\u001B[1;33m             \u001B[0mresult\u001B[0m \u001B[1;33m=\u001B[0m \u001B[0mself\u001B[0m\u001B[1;33m.\u001B[0m\u001B[0mforward\u001B[0m\u001B[1;33m(\u001B[0m\u001B[1;33m*\u001B[0m\u001B[0minput\u001B[0m\u001B[1;33m,\u001B[0m \u001B[1;33m**\u001B[0m\u001B[0mkwargs\u001B[0m\u001B[1;33m)\u001B[0m\u001B[1;33m\u001B[0m\u001B[1;33m\u001B[0m\u001B[0m\n\u001B[0m\u001B[0;32m    728\u001B[0m         for hook in itertools.chain(\n\u001B[0;32m    729\u001B[0m                 \u001B[0m_global_forward_hooks\u001B[0m\u001B[1;33m.\u001B[0m\u001B[0mvalues\u001B[0m\u001B[1;33m(\u001B[0m\u001B[1;33m)\u001B[0m\u001B[1;33m,\u001B[0m\u001B[1;33m\u001B[0m\u001B[1;33m\u001B[0m\u001B[0m\n",
      "\u001B[1;32m~\\AppData\\Roaming\\Python\\Python36\\site-packages\\transformers\\models\\bart\\modeling_bart.py\u001B[0m in \u001B[0;36mforward\u001B[1;34m(self, input_ids, attention_mask, head_mask, inputs_embeds, output_attentions, output_hidden_states, return_dict)\u001B[0m\n\u001B[0;32m    748\u001B[0m             \u001B[0minputs_embeds\u001B[0m \u001B[1;33m=\u001B[0m \u001B[0mself\u001B[0m\u001B[1;33m.\u001B[0m\u001B[0membed_tokens\u001B[0m\u001B[1;33m(\u001B[0m\u001B[0minput_ids\u001B[0m\u001B[1;33m)\u001B[0m \u001B[1;33m*\u001B[0m \u001B[0mself\u001B[0m\u001B[1;33m.\u001B[0m\u001B[0membed_scale\u001B[0m\u001B[1;33m\u001B[0m\u001B[1;33m\u001B[0m\u001B[0m\n\u001B[0;32m    749\u001B[0m \u001B[1;33m\u001B[0m\u001B[0m\n\u001B[1;32m--> 750\u001B[1;33m         \u001B[0membed_pos\u001B[0m \u001B[1;33m=\u001B[0m \u001B[0mself\u001B[0m\u001B[1;33m.\u001B[0m\u001B[0membed_positions\u001B[0m\u001B[1;33m(\u001B[0m\u001B[0minput_shape\u001B[0m\u001B[1;33m)\u001B[0m\u001B[1;33m\u001B[0m\u001B[1;33m\u001B[0m\u001B[0m\n\u001B[0m\u001B[0;32m    751\u001B[0m \u001B[1;33m\u001B[0m\u001B[0m\n\u001B[0;32m    752\u001B[0m         \u001B[0mhidden_states\u001B[0m \u001B[1;33m=\u001B[0m \u001B[0minputs_embeds\u001B[0m \u001B[1;33m+\u001B[0m \u001B[0membed_pos\u001B[0m\u001B[1;33m\u001B[0m\u001B[1;33m\u001B[0m\u001B[0m\n",
      "\u001B[1;32mc:\\python\\python368\\lib\\site-packages\\torch\\nn\\modules\\module.py\u001B[0m in \u001B[0;36m_call_impl\u001B[1;34m(self, *input, **kwargs)\u001B[0m\n\u001B[0;32m    725\u001B[0m             \u001B[0mresult\u001B[0m \u001B[1;33m=\u001B[0m \u001B[0mself\u001B[0m\u001B[1;33m.\u001B[0m\u001B[0m_slow_forward\u001B[0m\u001B[1;33m(\u001B[0m\u001B[1;33m*\u001B[0m\u001B[0minput\u001B[0m\u001B[1;33m,\u001B[0m \u001B[1;33m**\u001B[0m\u001B[0mkwargs\u001B[0m\u001B[1;33m)\u001B[0m\u001B[1;33m\u001B[0m\u001B[1;33m\u001B[0m\u001B[0m\n\u001B[0;32m    726\u001B[0m         \u001B[1;32melse\u001B[0m\u001B[1;33m:\u001B[0m\u001B[1;33m\u001B[0m\u001B[1;33m\u001B[0m\u001B[0m\n\u001B[1;32m--> 727\u001B[1;33m             \u001B[0mresult\u001B[0m \u001B[1;33m=\u001B[0m \u001B[0mself\u001B[0m\u001B[1;33m.\u001B[0m\u001B[0mforward\u001B[0m\u001B[1;33m(\u001B[0m\u001B[1;33m*\u001B[0m\u001B[0minput\u001B[0m\u001B[1;33m,\u001B[0m \u001B[1;33m**\u001B[0m\u001B[0mkwargs\u001B[0m\u001B[1;33m)\u001B[0m\u001B[1;33m\u001B[0m\u001B[1;33m\u001B[0m\u001B[0m\n\u001B[0m\u001B[0;32m    728\u001B[0m         for hook in itertools.chain(\n\u001B[0;32m    729\u001B[0m                 \u001B[0m_global_forward_hooks\u001B[0m\u001B[1;33m.\u001B[0m\u001B[0mvalues\u001B[0m\u001B[1;33m(\u001B[0m\u001B[1;33m)\u001B[0m\u001B[1;33m,\u001B[0m\u001B[1;33m\u001B[0m\u001B[1;33m\u001B[0m\u001B[0m\n",
      "\u001B[1;32m~\\AppData\\Roaming\\Python\\Python36\\site-packages\\transformers\\models\\bart\\modeling_bart.py\u001B[0m in \u001B[0;36mforward\u001B[1;34m(self, input_ids_shape, past_key_values_length)\u001B[0m\n\u001B[0;32m    122\u001B[0m             \u001B[0mpast_key_values_length\u001B[0m\u001B[1;33m,\u001B[0m \u001B[0mpast_key_values_length\u001B[0m \u001B[1;33m+\u001B[0m \u001B[0mseq_len\u001B[0m\u001B[1;33m,\u001B[0m \u001B[0mdtype\u001B[0m\u001B[1;33m=\u001B[0m\u001B[0mtorch\u001B[0m\u001B[1;33m.\u001B[0m\u001B[0mlong\u001B[0m\u001B[1;33m,\u001B[0m \u001B[0mdevice\u001B[0m\u001B[1;33m=\u001B[0m\u001B[0mself\u001B[0m\u001B[1;33m.\u001B[0m\u001B[0mweight\u001B[0m\u001B[1;33m.\u001B[0m\u001B[0mdevice\u001B[0m\u001B[1;33m\u001B[0m\u001B[1;33m\u001B[0m\u001B[0m\n\u001B[0;32m    123\u001B[0m         )\n\u001B[1;32m--> 124\u001B[1;33m         \u001B[1;32mreturn\u001B[0m \u001B[0msuper\u001B[0m\u001B[1;33m(\u001B[0m\u001B[1;33m)\u001B[0m\u001B[1;33m.\u001B[0m\u001B[0mforward\u001B[0m\u001B[1;33m(\u001B[0m\u001B[0mpositions\u001B[0m \u001B[1;33m+\u001B[0m \u001B[0mself\u001B[0m\u001B[1;33m.\u001B[0m\u001B[0moffset\u001B[0m\u001B[1;33m)\u001B[0m\u001B[1;33m\u001B[0m\u001B[1;33m\u001B[0m\u001B[0m\n\u001B[0m\u001B[0;32m    125\u001B[0m \u001B[1;33m\u001B[0m\u001B[0m\n\u001B[0;32m    126\u001B[0m \u001B[1;33m\u001B[0m\u001B[0m\n",
      "\u001B[1;32mc:\\python\\python368\\lib\\site-packages\\torch\\nn\\modules\\sparse.py\u001B[0m in \u001B[0;36mforward\u001B[1;34m(self, input)\u001B[0m\n\u001B[0;32m    124\u001B[0m         return F.embedding(\n\u001B[0;32m    125\u001B[0m             \u001B[0minput\u001B[0m\u001B[1;33m,\u001B[0m \u001B[0mself\u001B[0m\u001B[1;33m.\u001B[0m\u001B[0mweight\u001B[0m\u001B[1;33m,\u001B[0m \u001B[0mself\u001B[0m\u001B[1;33m.\u001B[0m\u001B[0mpadding_idx\u001B[0m\u001B[1;33m,\u001B[0m \u001B[0mself\u001B[0m\u001B[1;33m.\u001B[0m\u001B[0mmax_norm\u001B[0m\u001B[1;33m,\u001B[0m\u001B[1;33m\u001B[0m\u001B[1;33m\u001B[0m\u001B[0m\n\u001B[1;32m--> 126\u001B[1;33m             self.norm_type, self.scale_grad_by_freq, self.sparse)\n\u001B[0m\u001B[0;32m    127\u001B[0m \u001B[1;33m\u001B[0m\u001B[0m\n\u001B[0;32m    128\u001B[0m     \u001B[1;32mdef\u001B[0m \u001B[0mextra_repr\u001B[0m\u001B[1;33m(\u001B[0m\u001B[0mself\u001B[0m\u001B[1;33m)\u001B[0m \u001B[1;33m->\u001B[0m \u001B[0mstr\u001B[0m\u001B[1;33m:\u001B[0m\u001B[1;33m\u001B[0m\u001B[1;33m\u001B[0m\u001B[0m\n",
      "\u001B[1;32mc:\\python\\python368\\lib\\site-packages\\torch\\nn\\functional.py\u001B[0m in \u001B[0;36membedding\u001B[1;34m(input, weight, padding_idx, max_norm, norm_type, scale_grad_by_freq, sparse)\u001B[0m\n\u001B[0;32m   1850\u001B[0m         \u001B[1;31m# remove once script supports set_grad_enabled\u001B[0m\u001B[1;33m\u001B[0m\u001B[1;33m\u001B[0m\u001B[1;33m\u001B[0m\u001B[0m\n\u001B[0;32m   1851\u001B[0m         \u001B[0m_no_grad_embedding_renorm_\u001B[0m\u001B[1;33m(\u001B[0m\u001B[0mweight\u001B[0m\u001B[1;33m,\u001B[0m \u001B[0minput\u001B[0m\u001B[1;33m,\u001B[0m \u001B[0mmax_norm\u001B[0m\u001B[1;33m,\u001B[0m \u001B[0mnorm_type\u001B[0m\u001B[1;33m)\u001B[0m\u001B[1;33m\u001B[0m\u001B[1;33m\u001B[0m\u001B[0m\n\u001B[1;32m-> 1852\u001B[1;33m     \u001B[1;32mreturn\u001B[0m \u001B[0mtorch\u001B[0m\u001B[1;33m.\u001B[0m\u001B[0membedding\u001B[0m\u001B[1;33m(\u001B[0m\u001B[0mweight\u001B[0m\u001B[1;33m,\u001B[0m \u001B[0minput\u001B[0m\u001B[1;33m,\u001B[0m \u001B[0mpadding_idx\u001B[0m\u001B[1;33m,\u001B[0m \u001B[0mscale_grad_by_freq\u001B[0m\u001B[1;33m,\u001B[0m \u001B[0msparse\u001B[0m\u001B[1;33m)\u001B[0m\u001B[1;33m\u001B[0m\u001B[1;33m\u001B[0m\u001B[0m\n\u001B[0m\u001B[0;32m   1853\u001B[0m \u001B[1;33m\u001B[0m\u001B[0m\n\u001B[0;32m   1854\u001B[0m \u001B[1;33m\u001B[0m\u001B[0m\n",
      "\u001B[1;31mIndexError\u001B[0m: index out of range in self"
     ]
    }
   ],
   "source": [
    "import os\n",
    "import win32com.client as win32\n",
    "import pyperclip as cb\n",
    "# import pandas as pd\n",
    "import win32com.client as win32\n",
    "\n",
    "\n",
    "excel = win32.gencache.EnsureDispatch(\"Excel.Application\")\n",
    "wb = excel.Workbooks.Add()\n",
    "ws = wb.Worksheets(1)\n",
    "ws.Cells(1, 1).Value = \"news\"\n",
    "ws.Cells(1, 2).Value = \"summary\"\n",
    "# df = pd.DataFrame(index=[\"news\", \"summary\"])\n",
    "excel.Visible = True\n",
    "\n",
    "\n",
    "# def 제목_본문_추출():\n",
    "#     \"\"\"\n",
    "#     제목 표(두 번째 표) 이동 후 선택 : 제목\n",
    "#     표 아래부터는 : 본문\n",
    "#     \"\"\"\n",
    "#     count = 0\n",
    "#     ctrl = hwp.HeadCtrl\n",
    "#     while True:\n",
    "#         if ctrl.CtrlID == \"tbl\":\n",
    "#             count += 1\n",
    "#             if count == 2:\n",
    "#                 location = ctrl.GetAnchorPos(0)\n",
    "#                 _, para, pos = [location.Item(i) for i in [\"List\", \"Para\", \"Pos\"]]\n",
    "#                 hwp.MovePos(0, para, pos)\n",
    "#                 break\n",
    "#             else:\n",
    "#                 ctrl = ctrl.Next\n",
    "#         else:\n",
    "#             ctrl = ctrl.Next\n",
    "#     hwp.FindCtrl()\n",
    "#     hwp.Run(\"Copy\")\n",
    "#     title = cb.paste()\n",
    "#     hwp.Run(\"CloseEx\")\n",
    "#     hwp.Run(\"MoveDown\")\n",
    "#     hwp.Run(\"MoveSelTopLevelEnd\")\n",
    "#     hwp.Run(\"Copy\")\n",
    "#     content = cb.paste()\n",
    "#     return title, content\n",
    "\n",
    "\n",
    "hwp = win32.gencache.EnsureDispatch(\"hwpframe.hwpobject\")\n",
    "hwp.XHwpWindows.Item(0).Visible = True\n",
    "hwp.RegisterModule(\"FilePathCheckDLL\", \"FilePathCheckerModule\")\n",
    "hwp.SetMessageBoxMode(1)\n",
    "\n",
    "os.chdir(r\"C:\\Users\\smj02\\Desktop\\과기정통부보도자료\")\n",
    "filelist = os.listdir()\n",
    "\n",
    "\n",
    "for i, filename in enumerate(filelist):\n",
    "    hwp.Open(os.path.join(os.getcwd(), filename))\n",
    "\n",
    "    # 두 번째 표가 요약(제목)\n",
    "    # 그 아래부터 본문\n",
    "    # summary, news = 제목_본문_추출()\n",
    "\n",
    "    news = hwp.GetFieldText(\"본문\")\n",
    "    if len(news) > 2000: news = news[:2000]\n",
    "    summary = hwp.GetFieldText(\"제목명\") + \"\\r\\n\" + hwp.GetFieldText(\"부제목명\")\n",
    "\n",
    "    hwp.Run(\"FileClose\")\n",
    "    ws.Range(ws.Cells(i+2, 1), ws.Cells(i+2, 3)).Value = news, summary, kobart_summarize(news)"
   ],
   "metadata": {
    "collapsed": false,
    "pycharm": {
     "name": "#%%\n"
    }
   }
  },
  {
   "cell_type": "code",
   "execution_count": 59,
   "outputs": [
    {
     "data": {
      "text/plain": "30000"
     },
     "execution_count": 59,
     "metadata": {},
     "output_type": "execute_result"
    }
   ],
   "source": [
    "model.config.vocab_size"
   ],
   "metadata": {
    "collapsed": false,
    "pycharm": {
     "name": "#%%\n"
    }
   }
  },
  {
   "cell_type": "code",
   "execution_count": 60,
   "outputs": [
    {
     "data": {
      "text/plain": "30000"
     },
     "execution_count": 60,
     "metadata": {},
     "output_type": "execute_result"
    }
   ],
   "source": [
    "len(tokenizer)"
   ],
   "metadata": {
    "collapsed": false,
    "pycharm": {
     "name": "#%%\n"
    }
   }
  },
  {
   "cell_type": "code",
   "execution_count": 57,
   "outputs": [
    {
     "data": {
      "text/plain": "2000"
     },
     "execution_count": 57,
     "metadata": {},
     "output_type": "execute_result"
    }
   ],
   "source": [
    "len(news)"
   ],
   "metadata": {
    "collapsed": false,
    "pycharm": {
     "name": "#%%\n"
    }
   }
  },
  {
   "cell_type": "code",
   "execution_count": 58,
   "outputs": [
    {
     "data": {
      "text/plain": "388"
     },
     "execution_count": 58,
     "metadata": {},
     "output_type": "execute_result"
    }
   ],
   "source": [
    "len(news.split(\" \"))"
   ],
   "metadata": {
    "collapsed": false,
    "pycharm": {
     "name": "#%%\n"
    }
   }
  },
  {
   "cell_type": "code",
   "execution_count": 28,
   "outputs": [
    {
     "data": {
      "text/plain": "2969"
     },
     "execution_count": 28,
     "metadata": {},
     "output_type": "execute_result"
    }
   ],
   "source": [
    "len(news)"
   ],
   "metadata": {
    "collapsed": false,
    "pycharm": {
     "name": "#%%\n"
    }
   }
  },
  {
   "cell_type": "code",
   "execution_count": 29,
   "outputs": [
    {
     "name": "stdout",
     "output_type": "stream",
     "text": [
      "1484\n"
     ]
    }
   ],
   "source": [
    "while True:\n",
    "    try:\n",
    "        news = news[:len(news)//2]\n",
    "        print(len(news))\n",
    "        kobart_summarize(news)\n",
    "        break\n",
    "    except IndexError:\n",
    "        pass"
   ],
   "metadata": {
    "collapsed": false,
    "pycharm": {
     "name": "#%%\n"
    }
   }
  },
  {
   "cell_type": "code",
   "execution_count": 30,
   "outputs": [
    {
     "data": {
      "text/plain": "'과학기술정보통신부와 공정거래위원회는 2022. 1. 27,(목) 대기업집단(9개)과 IT서비스 기업들과 공동으로 간담회를 개최하였는데, 이번 행사는 국내IT 서비스 시장에서 공정하고 상생하는 거래환경이 자리 잡을 수 있도록 「IT서비스 일감개방 자율준수기준」과 ‘소프트웨어 사업용 표준계약서’를 소개하고, 관련 사업자들의 적극적인 관심과 사용을 독려하기 위해 마련되었다.'"
     },
     "execution_count": 30,
     "metadata": {},
     "output_type": "execute_result"
    }
   ],
   "source": [
    "kobart_summarize(news)"
   ],
   "metadata": {
    "collapsed": false,
    "pycharm": {
     "name": "#%%\n"
    }
   }
  },
  {
   "cell_type": "code",
   "execution_count": 31,
   "outputs": [],
   "source": [
    "news = cb.paste()"
   ],
   "metadata": {
    "collapsed": false,
    "pycharm": {
     "name": "#%%\n"
    }
   }
  },
  {
   "cell_type": "code",
   "execution_count": 32,
   "outputs": [
    {
     "data": {
      "text/plain": "'\"\\\\r\\\\n\\\\r\\\\n□ 과학기술정보통신부(장관 임혜숙, 이하 과기정통부)와 공정거래위원회(위원장 조성욱, 이하 공정위)는 2022. 1. 27.(목) 대기업집단(9개) 소속 주요 발주기업 및 IT서비스 기업들과 공동으로 간담회를 개최하였다.\\\\r\\\\n\\\\r\\\\n ㅇ 이번 행사는 국내 IT서비스 시장에서 공정하고 상생하는 거래환경이 자리 잡을 수 있도록 「IT서비스 일감개방 자율준수기준」(공정위)과 「소프트웨어 사업용 표준계약서」(과기정통부)를 소개하고 관련 사업자들의 적극적인 관심과 사용을 독려하기 위하여 개최하였다.\\\\r\\\\n\\\\r\\\\n\\\\r\\\\n\\\\r\\\\n\\\\r\\\\n \\\\r\\\\n□ IT서비스 산업은 디지털 대전환(Digital Transformation) 시대와 맞물려 업무환경 혁신과 부가가치 창출에 핵심적인 역할을 하고 있음에도,\\\\r\\\\n\\\\r\\\\n ㅇ 그간 합리적인 비교·분석 없이 관행적으로 계열 IT서비스 기업에 편중하는 거래관행과 높은 재하도급 비중 등은 산업 발전은 물론 역량 있는 독립·전문 IT서비스 기업의 성장을 저해하는 요인으로 지적되고 있다.\\\\r\\\\n\\\\r\\\\n   ※ 대기업집단 IT서비스기업 내부거래 비중: (’18) 67.2% (’19) 58.4% (’20) 63.1% / 全산업 평균 12%\\\\r\\\\n\\\\r\\\\n□ 이에 과기정통부와 공정위는 민간의 자발적인 참여를 전제로 IT서비스 시장에 경쟁 친화적이고 공정한 거래환경을 조성하기 위하여 자율규범 성격인 자율준수기준과 표준계약서의 적극적인 사용을 독려하게 되었다.\\\\r\\\\n \\\\r\\\\n\\\\r\\\\n\\\\r\\\\n□ 공정위의 「IT서비스 일감개방 자율준수기준」은 대기업집단의 IT서비스 일감이 독립·중소 비계열회사에게도 경쟁 원리를 바탕으로 공정하게 개방될 수 있도록 유도하기 위하여 마련하였다.\\\\r\\\\n\\\\r\\\\n ㅇ 기업들은 이 자율준수기준의 목적과 기본원칙 등을 존중하는 범위 내에서 각 기업의 사업 여건에 맞게 탄력적으로 활용할 수 있다.\\\\r\\\\n\\\\r\\\\n□ 이 자율준수기준의 5가지 기본원칙은 ▲절차적 정당성 보장 ▲일감나누기 확대 ▲거래효율성 및 전문성 제고 ▲공정거래를 통한 상생 ▲거래과정의 객관성·투명성 확보 등이며, 구체적으로 발주기업과 IT서비스 기업들에게 권고되는 세부 기준을 각각 마련하였다.\\\\r\\\\n ㅇ 발주기업이 준수할 세부기준은 신규 일감을 발주하거나 계열 IT서비스 기업과의 계약을 갱신할 경우 합리적인 고려와 비교를 통해 거래상대방을 선정하기 위한 구체적인 검토 절차 및 내부통제 방안 등을 제시하였다\\\\r\\\\n\\\\r\\\\n  - 주요 내용으로는 수의계약보다는 가급적 경쟁입찰을 먼저 고려하고, 비계열회사의 거래조건을 차별하지 않는 한편, 발주지침 등을 통해 발주업무 처리의 적정성을 내부적으로 검토하도록 하였다.\\\\r\\\\n\\\\r\\\\n ㅇ IT서비스 기업이 준수할 세부기준으로는 자체적인 사업역량을 강화하고, 하도급을 통해 실질적 역할 없이 거래단계만 추가하는 거래방식은 지양하며, 협력회사들과 공정거래 및 상생협력 하도록 권고하는 내용 등을 담았다.\\\\r\\\\n\\\\r\\\\n     * IT서비스 일감개방 자율준수기준의 주요 내용은 붙임1 참조\\\\r\\\\n\\\\r\\\\n\\\\r\\\\n   \\\\r\\\\n□ 과기정통부는 \\'20.12월 민간발주자와 소프트웨어(이하 SW)사업자 간 계약시 공정한 거래의 기준으로 「소프트웨어 사업용 표준계약서」를 마련하고 이의 활용 확산을 위해 노력하고 있다.\\\\r\\\\n       \\\\r\\\\n ㅇ IT서비스 일감개방 자율준수기준에 따라 일감이 개방될 경우, 대기업 집단 발주기업과 중견ㆍ중소기업이 「소프트웨어진흥법」 제38조의 ‘공정계약의 원칙’에 따라 대등한 입장에서 공정하게 계약을 체결하는 기준이 필요 하게 된다. 이 경우 「소프트웨어사업용 표준계약서」를 활용할 수 있다.\\\\r\\\\n    \\\\r\\\\n ㅇ 과기정통부는 정보시스템과 상용SW의 각 구축과 유지관리 사업에 활용되는 「소프트웨어 사업용 표준계약서」 4종을 제시하였다. 이는 ▲민간발주자와 SW사업자 간 또는 ▲SW사업자와 SW사업자 간 계약에 활용 할 수 있다.\\\\r\\\\n< SW사업용 표준계약서(4종) >\\\\r\\\\n\\\\r\\\\n\\\\r\\\\n ㅇ 주요 내용으로는, 과업내용서를 작성하여 과업내용을 명확히하고 과업변경시 계약금액ㆍ기간 등도 다시 확정하도록 계약서에 명시했다.\\\\r\\\\n  \\\\r\\\\n ㅇ 또한, 발주자가 대금을 정해진 기일까지 지급하지 않은 경우에는 공급자는 사업을 일시 중지할 수 있고, 중지된 기간은 지체상금 산정 시 지체일수에서 제외토록 하였다.\\\\r\\\\n \\\\r\\\\n ㅇ 아울러, 계약해지 사유, 손해배상, 분쟁조정 방법 등도 명시하여 분쟁발생시 공정하고 합리적으로 해결될 수 있도록 하였다.\\\\r\\\\n \\\\r\\\\n ㅇ 「소프트웨어 사업용 표준계약서」 전문은 과기정통부(www.msit.go.kr)와 정보통신산업진흥원(www.nipa.kr) 누리집을 통해 내려받을 수 있다.\\\\r\\\\n  \\\\r\\\\n   * 소프트웨어 사업용 표준계약서의 주요 내용은 붙임2를 참조하고 SW사업용 표준계약서(4종)는 붙임 4(별첨)를 참조\\\\r\\\\n    \\\\r\\\\n\\\\r\\\\n\\\\r\\\\n□ 이번 공동 간담회는 대기업집단 시책을 담당하는 공정위와 IT서비스 산업 진흥을 담당하는 과기정통부가 국내 IT서비스 시장의 거래환경을 개선하기 위해 협력하였다는 데 의의가 있다.\\\\r\\\\n\\\\r\\\\n ㅇ 간담회에 참석한 기업들도 자율준수기준 및 표준계약서 등 자율규범의 취지에 전반적으로 공감하며, 동참의 뜻을 밝혔다.\\\\r\\\\n\\\\r\\\\n ㅇ 향후 민간의 자율적인 참여를 바탕으로 IT서비스 시장에 공정하고 합리적인 거래문화가 뿌리내리는 계기가 될 것으로 기대된다.\\\\r\\\\n\\\\r\\\\n□ 과기정통부와 공정위는 자율규범이 IT서비스 시장에 성공적으로 정착·확산될 수 있도록 지속적인 소통과 홍보를 진행할 계획이다.\\\\r\\\\n\\\\r\\\\n ㅇ 또한, 적극적으로 「소프트웨어 사업용 표준계약서」 활용한 기업은 공공SW사업 입찰시 소프트웨어 기술성 평가(과기정통부)에서 가점을 부여하고, 「IT서비스 일감개방 자율준수기준」에 적극 동참하는 기업에게는 공정거래 협약 이행평가*(공정위)에서 가점을 부여하는 등 인센티브도 제공하고 있다.\\\\r\\\\n \\\\r\\\\n     * ‘21년 평가부터 IT서비스(SI)·물류 등 분야의 일감개방 실적에 가점을 부여하고 있음\\\\r\\\\n\\\\r\\\\n붙임 1. IT서비스 일감개방 자율준수기준 주요 내용2. 소프트웨어 분야 사업용 표준계약서 주요 내용3. IT서비스 일감개방 자율준수기준 전문(별첨)4. 소프트웨어 분야 사업용 표준계약서 전문(4종, 별첨)\"'"
     },
     "execution_count": 32,
     "metadata": {},
     "output_type": "execute_result"
    }
   ],
   "source": [
    "news"
   ],
   "metadata": {
    "collapsed": false,
    "pycharm": {
     "name": "#%%\n"
    }
   }
  },
  {
   "cell_type": "code",
   "execution_count": 33,
   "outputs": [
    {
     "data": {
      "text/plain": "3105"
     },
     "execution_count": 33,
     "metadata": {},
     "output_type": "execute_result"
    }
   ],
   "source": [
    "len(news)"
   ],
   "metadata": {
    "collapsed": false,
    "pycharm": {
     "name": "#%%\n"
    }
   }
  },
  {
   "cell_type": "code",
   "execution_count": 53,
   "outputs": [
    {
     "data": {
      "text/plain": "'공정위는 2022. 1. 27, 「IT서비스 일감개방 자율준수기준」과 표준계약서 등을 소개하고 관련 사업자들의 적극적인 참여를 독려하기 위해 간담회를 개최하였다.'"
     },
     "execution_count": 53,
     "metadata": {},
     "output_type": "execute_result"
    }
   ],
   "source": [
    "kobart_summarize(news[:2034])"
   ],
   "metadata": {
    "collapsed": false,
    "pycharm": {
     "name": "#%%\n"
    }
   }
  },
  {
   "cell_type": "code",
   "execution_count": null,
   "outputs": [],
   "source": [],
   "metadata": {
    "collapsed": false,
    "pycharm": {
     "name": "#%%\n"
    }
   }
  }
 ],
 "metadata": {
  "kernelspec": {
   "display_name": "Python 3",
   "language": "python",
   "name": "python3"
  },
  "language_info": {
   "codemirror_mode": {
    "name": "ipython",
    "version": 2
   },
   "file_extension": ".py",
   "mimetype": "text/x-python",
   "name": "python",
   "nbconvert_exporter": "python",
   "pygments_lexer": "ipython2",
   "version": "2.7.6"
  }
 },
 "nbformat": 4,
 "nbformat_minor": 0
}