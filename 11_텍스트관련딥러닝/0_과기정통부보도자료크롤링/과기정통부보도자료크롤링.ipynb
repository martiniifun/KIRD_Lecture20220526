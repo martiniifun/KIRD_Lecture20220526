{
 "cells": [
  {
   "cell_type": "markdown",
   "metadata": {
    "pycharm": {
     "name": "#%% md\n"
    }
   },
   "source": [
    "# 크롤링 실습\n",
    "\n",
    "## 과기정통부 홈페이지(msit.go.kr)의 보도자료 hwp파일 수집\n",
    "\n",
    "<img src=\"https://i.ibb.co/zZmw0YX/254.png\" width=1550>"
   ]
  },
  {
   "cell_type": "markdown",
   "metadata": {
    "pycharm": {
     "name": "#%% md\n"
    }
   },
   "source": [
    "# 모듈 임포트"
   ]
  },
  {
   "cell_type": "code",
   "execution_count": 1,
   "metadata": {
    "pycharm": {
     "name": "#%%\n"
    }
   },
   "outputs": [],
   "source": [
    "from time import sleep  # 몇 초간 멈추고 기다려줘야 할 때\n",
    "\n",
    "from selenium import webdriver  # 크롬브라우저를 원격으로 컨트롤하기 위한 모듈\n",
    "import chromedriver_autoinstaller  # 크롬브라우저 드라이버(원격 컨트롤을 위한 프로그램) 간편다운로드 모듈\n",
    "from selenium.common.exceptions import TimeoutException  # 브라우저에서 발생하는 특정 오류 핸들링을 위한 클래스\n",
    "from selenium.webdriver.common.by import By  # 어떤 속성으로 요소를 찾을지(css_selector, id..) 결정할 때 쓰는 간편한 클래스\n",
    "from selenium.webdriver.support import expected_conditions as EC  # 브라우저 특정 상태에서의 반응을 결정할 수 있는 클래스\n",
    "from selenium.webdriver.support.wait import WebDriverWait  # time.sleep 말고 EC에 따른 대기조건을 결정할 수 있는 클래스\n",
    "\n",
    "from selenium.webdriver.chrome.options import Options  # 옵션 설정(헤드리스, 묻지마 다운로드, user-agent 위변조 등..)"
   ]
  },
  {
   "cell_type": "markdown",
   "metadata": {
    "pycharm": {
     "name": "#%% md\n"
    }
   },
   "source": [
    "# 크롬옵션 설정(묻지 않고 다운로드 시작)\n",
    "\n",
    "# & 크롬드라이버 자동다운로드"
   ]
  },
  {
   "cell_type": "code",
   "execution_count": 2,
   "metadata": {
    "pycharm": {
     "name": "#%%\n"
    }
   },
   "outputs": [],
   "source": [
    "chrome_options = Options()\n",
    "prefs = {'profile.default_content_setting_values.automatic_downloads': 1}\n",
    "chrome_options.add_experimental_option(\"prefs\", prefs)\n",
    "driver_path = chromedriver_autoinstaller.install()"
   ]
  },
  {
   "cell_type": "markdown",
   "metadata": {
    "pycharm": {
     "name": "#%% md\n"
    }
   },
   "source": [
    "# 브라우저(크롬드라이버) 열기"
   ]
  },
  {
   "cell_type": "code",
   "execution_count": 3,
   "metadata": {
    "pycharm": {
     "name": "#%%\n"
    }
   },
   "outputs": [],
   "source": [
    "driver = webdriver.Chrome(driver_path, options=chrome_options)"
   ]
  },
  {
   "cell_type": "markdown",
   "metadata": {
    "pycharm": {
     "name": "#%% md\n"
    }
   },
   "source": [
    "# 과기정통부 보도자료 페이지 접속"
   ]
  },
  {
   "cell_type": "code",
   "execution_count": 4,
   "metadata": {
    "pycharm": {
     "name": "#%%\n"
    }
   },
   "outputs": [],
   "source": [
    "driver.get(\"https://www.msit.go.kr/bbs/list.do?sCode=user&mPid=112&mId=113\")"
   ]
  },
  {
   "cell_type": "markdown",
   "metadata": {
    "pycharm": {
     "name": "#%% md\n"
    }
   },
   "source": [
    "# (현재 1페이지이지만 확인차) 다시 1페이지로 이동"
   ]
  },
  {
   "cell_type": "code",
   "execution_count": 5,
   "metadata": {
    "pycharm": {
     "name": "#%%\n"
    }
   },
   "outputs": [],
   "source": [
    "sleep(3)\n",
    "driver.execute_script(\"fn_paging(1);\")"
   ]
  },
  {
   "cell_type": "markdown",
   "metadata": {
    "pycharm": {
     "name": "#%% md\n"
    }
   },
   "source": [
    "# 첫 번째(최상단) 글 클릭"
   ]
  },
  {
   "cell_type": "code",
   "execution_count": 6,
   "metadata": {
    "pycharm": {
     "name": "#%%\n"
    }
   },
   "outputs": [],
   "source": [
    "driver.find_element_by_css_selector('#td_NTT_SJ_0').click()"
   ]
  },
  {
   "cell_type": "markdown",
   "metadata": {
    "pycharm": {
     "name": "#%% md\n"
    }
   },
   "source": [
    "# 본격적인 다운로드 반복작업 시작"
   ]
  },
  {
   "cell_type": "code",
   "execution_count": null,
   "metadata": {
    "pycharm": {
     "name": "#%%\n"
    }
   },
   "outputs": [
    {
     "name": "stdout",
     "output_type": "stream",
     "text": [
      "Message: \n",
      "\n",
      "https://www.msit.go.kr/bbs/view.do?sCode=user&mId=113&mPid=112&bbsSeqNo=94&nttSeqNo=3181970&formMode=&pageIndex=1&searchCtgry=&searchCtgry2=&searchCtgry3=&RLS_YN=&searchOpt=ALL&searchTxt=\n"
     ]
    }
   ],
   "source": [
    "while True:\n",
    "    try:  # 오류 핸들링을 위한 try-except 구문\n",
    "\n",
    "        # 먼저 \"다운로드\"를 위한 <a> 태그 찾기\n",
    "        download_element = WebDriverWait(driver, 5).until(EC.presence_of_element_located((By.CSS_SELECTOR,\n",
    "                           \"\"\"#search-view-form > div > div.view_file > ul > li > span > a:nth-child(1)\"\"\")))\n",
    "\n",
    "        # <a href=\"javascript:void(0);\" onclick=\"fn_download('38668', '1', 'hwpx');\" class=\"down\" title=\"파일다운로드\">다운로드</a>                                 ===================================\n",
    "\n",
    "        # <a> 태그의 onclick 속성값 추출 : \"fn_download('38668', '1', 'hwpx');\"\n",
    "        download_script = download_element.get_attribute('onclick')\n",
    "\n",
    "        # onclick 속성(JS코드) 실행 -> 다운로드 시작\n",
    "        driver.execute_script(download_script)\n",
    "\n",
    "    except TimeoutException as e:  # 첨부파일이 없는 경우(페이지 오류) 프로그램이 종료되지 않게 처리함\n",
    "        print(e)  # 오류메시지 출력\n",
    "        print(driver.current_url)  # 첨부파일 없는 페이지 주소 출력\n",
    "\n",
    "    try:\n",
    "        # 다음글로 이동하는 onclick attribute(JS코드) 추출\n",
    "        pre_link_element = WebDriverWait(driver, 5).until(EC.presence_of_element_located((By.CSS_SELECTOR,\n",
    "                                              '#search-view-form > div > div.page_skip > ul > li:nth-child(2) > p > a')))\n",
    "        pre_link_script = pre_link_element.get_attribute('onclick')\n",
    "\n",
    "        # 다음글로 이동하는 JS코드 실행\n",
    "        driver.execute_script(pre_link_script)\n",
    "\n",
    "    except TimeoutException as e:  # 가끔 렉이 심하게 걸리거나, 페이지가 없는 경우 오류 핸들링하기 위함(종료 방지)\n",
    "        print(e)  # 오류메시지 출력하고\n",
    "        driver.back()  # 다시 이전 페이지(이전글)로 이동\n",
    "        sleep(3)  # 3초 쉬고 재시도\n",
    "        pre_link_element = WebDriverWait(driver, 5).until(EC.presence_of_element_located((By.CSS_SELECTOR, '#search-view-form > div > div.page_skip > ul > li:nth-child(2) > p > a')))\n",
    "        pre_link_script = pre_link_element.get_attribute('onclick')\n",
    "        #%% # 이전글로 이동 코드 실행\n",
    "        driver.execute_script(pre_link_script)"
   ]
  },
  {
   "cell_type": "markdown",
   "metadata": {
    "pycharm": {
     "name": "#%% md\n"
    }
   },
   "source": [
    "완료 코드는 따로 짜 놓지 않았음\n",
    "\n",
    "\"이전글\" 버튼 없으면 알아서 오류 뱉고 종료되겠지.."
   ]
  },
  {
   "cell_type": "code",
   "execution_count": null,
   "metadata": {
    "pycharm": {
     "name": "#%%\n"
    }
   },
   "outputs": [],
   "source": []
  }
 ],
 "metadata": {
  "kernelspec": {
   "display_name": "Python 3",
   "language": "python",
   "name": "python3"
  },
  "language_info": {
   "codemirror_mode": {
    "name": "ipython",
    "version": 3
   },
   "file_extension": ".py",
   "mimetype": "text/x-python",
   "name": "python",
   "nbconvert_exporter": "python",
   "pygments_lexer": "ipython3",
   "version": "3.6.8"
  }
 },
 "nbformat": 4,
 "nbformat_minor": 1
}