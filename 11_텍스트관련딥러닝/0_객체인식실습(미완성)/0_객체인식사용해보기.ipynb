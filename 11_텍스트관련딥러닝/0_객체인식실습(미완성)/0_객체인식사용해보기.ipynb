{
 "cells": [
  {
   "cell_type": "markdown",
   "source": [
    "# 0. 객체 인식 사용해보기\n",
    "\n",
    "지난 시간에 CNN 레이어를 이용한 이미지 분류 실습을 간단히 해보았습니다. 백여개 남짓한 적은 수의 이미지였지만, K-Food 분류기도 만들어보았어요. 이번 시간에는 국내외 공룡 IT기업에서 만든 여러 가지 모델을 다운받아 바로 인식작업을 해 보도록 하겠습니다.\n",
    "\n",
    "가장 인기있는 딥러닝 오픈소스 프레임워크인 텐서플로TensorFlow의 모듈 중에는 텐서플로 객체추출 API가 라이브러리 형태로 제공됩니다. 이걸 이용해서 기존 학습객체에 대해 바로 인식이 가능한지, 성능은 어느 정도인지 확인해보겠습니다.\n",
    "\n",
    "## <주의사항>\n",
    "\n",
    "object_detection은 경우에 따라\n",
    "\n",
    "pip install tensorflow-object-detection-api\n",
    "\n",
    "위 한 줄의 명령어로 필수모듈이 모두 설치될 수 있습니다.(아래과정 전부 생략가능)\n",
    "pip으로 설치시 오류가 나지 않고 완료된다면 바로 테스트코드로 건너뛰시면 됩니다.\n"
   ],
   "metadata": {
    "collapsed": false,
    "pycharm": {
     "name": "#%% md\n"
    }
   }
  },
  {
   "cell_type": "markdown",
   "source": [
    "## 개발환경 구성(프로토콜 버퍼 설치)\n",
    "\n",
    "텐서플로 객체 추출 API를 사용하기 위해서는 프로토콜 버퍼(protoc, protocol buffer)라는 오픈소스 프로그램을 다운받아야 합니다. 구글에서 제작한 모듈로 구조화된 데이터를 직렬화하는 모듈입니다.\n",
    "다운받으실 수 있는 주소는 아래에 적어 두겠습니다.\n",
    "https://github.com/protocolbuffers/protobuf/releases/\n",
    "여러 개의 압축파일 중 ~win32.zip이나 ~win64.zip 라는 이름의 압축파일을 선택합니다.\n",
    "![](https://i.ibb.co/ydryMc2/240.png)\n",
    "\n",
    "\n",
    "그리고 조금 번거롭지만 \"시스템 환경 변수\"라는 곳에 압축해제 경로를 등록해줘야 합니다. 차근차근 따라해봅시다.\n",
    "시작버튼을 누르고 \"환경 변수\"를 타이핑해보면 \"시스템 환경 변수 편집\"이라는 메뉴가 나타날 겁니다. 클릭해주세요.\n",
    "\n",
    "![](https://i.ibb.co/Pr0vXRK/241.png)\n",
    "\n",
    "아래 캡쳐이미지대로 따라해주세요.\n",
    "\n",
    "![](https://i.ibb.co/stBV03R/242.png)\n",
    "\n",
    "![](https://i.ibb.co/mcytVcT/243.png)\n",
    "\n",
    "![](https://i.ibb.co/zQrhHmK/244.png)\n",
    "\n",
    "![](https://i.ibb.co/MSmpn7L/245.png)\n",
    "\n",
    "여러분의 컴퓨터에 protoc 설치를 완료했습니다.\n",
    "\n",
    "프로토콜 버퍼가 정상적으로 설치되었는지 확인하려면 커맨드라인에서 실행해보면 됩니다. 아래와 같이 프로토콜 버퍼의 버전을 확인해서 값이 표시된다면 정상적으로 설치된 겁니다.\n",
    "\n",
    "![](https://i.ibb.co/7G92fLb/248.png)\n",
    "\n"
   ],
   "metadata": {
    "collapsed": false,
    "pycharm": {
     "name": "#%% md\n"
    }
   }
  },
  {
   "cell_type": "markdown",
   "source": [
    "## 파이썬 모듈\n",
    "\n",
    "아나콘다를 사용하고 계시거나, 머신러닝 프로젝트를 개발환경에서 구동하신 적이 있다면 대부분 설치되어 있을 것입니다.\n",
    "\n",
    "- pillow\n",
    "- lxml\n",
    "- matplotlib\n",
    "- tensorflow\n",
    "\n",
    "위의 패키지를 설치하는 방법은 커맨드라인에서\n",
    "```\n",
    "pip install pillow lxml matplotlib tensorflow\n",
    "```\n",
    "명령으로 실행하시면 됩니다."
   ],
   "metadata": {
    "collapsed": false,
    "pycharm": {
     "name": "#%% md\n"
    }
   }
  },
  {
   "cell_type": "markdown",
   "source": [
    "## 텐서플로 객체 추출 API  설치\n",
    "\n",
    "이제 텐서플로 객체추출 API를 설치할 차례입니다. 깃헙에서 복제하겠습니다.\n",
    "여러분의 PC에 git이 설치되어 있어야 합니다. git은 윈도우 기준으로 https://git-scm.com/download/win 에 들어가시면 최신버전을 설치할 수 있는 링크가 상단에 있습니다.\n",
    "\n",
    "![](https://i.ibb.co/2KcrNZh/249.png)\n",
    "\n",
    "커맨드라인에서 설치할 위치로 이동해 모델파일을 깃헙에서 \"복제clone\"하겠습니다.\n",
    "저는 프로젝트 폴더 내에 tensorflow라는 폴더를 만들고 그 안에 파일을 클론하겠습니다.\n",
    "\n",
    "![](https://i.ibb.co/3C5RczH/250.png)\n",
    "\n",
    "용량이 제법 큽니다.\n",
    "\n",
    "설치가 완료되었으면, 정상적으로 모델 파일이 저장되었는지 확인해보겠습니다.\n",
    "\n",
    "![](https://i.ibb.co/Wx7MqxG/251.png)\n",
    "\n",
    "이제 위에서 설치한 프로토콜 버퍼를 사용하기 위해 컴파일을 하겠습니다.\n",
    "아래 명령어를 터미널(커맨드라인)에서 입력해주세요.\n",
    "(실행할 위치는 /tensorflow/models/research 입니다.)\n",
    "\n",
    "아무 메시지도 나오지 않으면 정상적으로 컴파일된 것입니다.\n",
    "\n",
    "마지막으로 시스템 환경변수를 하나 더 추가하겠습니다.\n",
    "사용자 환경변수의 PYTHONPATH에 \"%cd%;%cd%\\slim\" 을 추가합니다.\n",
    "(만약 PYTHONPATH라는 변수명이 없다면 새로 만들면 됩니다.)\n",
    "\n",
    "![](https://i.ibb.co/Fbg9ymR/253.png)\n",
    "\n"
   ],
   "metadata": {
    "collapsed": false,
    "pycharm": {
     "name": "#%% md\n"
    }
   }
  },
  {
   "cell_type": "markdown",
   "source": [
    "## 테스트 코드 실행\n",
    "\n",
    "이제 설정 및 컴파일까지 완료했으니 테스트 코드를 실행해봅시다.\n",
    "커맨드라인에서 /tensorflow/models/research/object_detection/builders/로 이동한 후\n",
    "아래의 커맨드를 입력해봅니다.\n",
    "\n",
    "```python object_detection/builders/model_builder_test.py```\n",
    "\n",
    "\n",
    "\n"
   ],
   "metadata": {
    "collapsed": false,
    "pycharm": {
     "name": "#%% md\n"
    }
   }
  }
 ],
 "metadata": {
  "kernelspec": {
   "display_name": "Python 3",
   "language": "python",
   "name": "python3"
  },
  "language_info": {
   "codemirror_mode": {
    "name": "ipython",
    "version": 2
   },
   "file_extension": ".py",
   "mimetype": "text/x-python",
   "name": "python",
   "nbconvert_exporter": "python",
   "pygments_lexer": "ipython2",
   "version": "2.7.6"
  }
 },
 "nbformat": 4,
 "nbformat_minor": 0
}