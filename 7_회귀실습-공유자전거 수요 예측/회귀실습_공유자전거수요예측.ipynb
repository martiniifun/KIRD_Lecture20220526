{
 "cells": [
  {
   "cell_type": "markdown",
   "source": [
    "# 선형회귀 실습 - 공유자전거 대여 수요 예측\n",
    "\n",
    "캐글의 자전거 대여 수요 데이터셋을 활용하여 선형회귀 예측모델을 만드는 과정을 실습해보겠습니다. 데이터세트는 https://www.kaggle.com/c/bike-sharing-demand/data에서 내려받을 수 있습니다. train.csv 파일만 다운받아서 노트북 폴더에 복사해 둡니다.\n",
    "\n",
    "![](https://imgdb.in/k7rr.jpg)\n",
    "\n",
    "위 데이터세트는 2011년 1월부터 2012년 12월까지 2년동안 매일 1시간 간격으로 자전거 대여 횟수를 기록한 자료입니다. 데이터세트의 칼럼은 아래와 같습니다.\n",
    "\n",
    "- datetime : 날짜 + 시각(1시간 간격)\n",
    "- season : 계절(봄여름가을겨울 순으로 1, 2, 3, 4)\n",
    "- holiday : 휴일이면 1, 휴일이 아니면 0(주말은 0)\n",
    "- workingday : 주중이면 1, 주말이나 휴일이면 0\n",
    "- weather : 날씨(1-맑거나 약간 구름, 2-안개, 3-가벼운 눈이나 비, 4-심한 눈이나 천둥번개)\n",
    "- temp : 온도(섭씨)\n",
    "- atemp : 체감온도(섭씨)\n",
    "- humidity : 상대습도\n",
    "- windspeed : 풍속(단위?)\n",
    "- casual : 미등록 사용자(비회원) 대여횟수\n",
    "- registered : 등록회원 대여횟수\n",
    "- count : 대여횟수(예측대상)"
   ],
   "metadata": {
    "collapsed": false,
    "pycharm": {
     "name": "#%% md\n"
    }
   }
  },
  {
   "cell_type": "markdown",
   "source": [
    "본격적으로 예측작업을 하기 전에 데이터 탐색을 한 번 해 봅시다."
   ],
   "metadata": {
    "collapsed": false,
    "pycharm": {
     "name": "#%% md\n"
    }
   }
  },
  {
   "cell_type": "code",
   "execution_count": 161,
   "outputs": [
    {
     "data": {
      "text/plain": "              datetime  season  holiday  workingday  weather  temp   atemp  \\\n0  2011-01-01 00:00:00       1        0           0        1  9.84  14.395   \n1  2011-01-01 01:00:00       1        0           0        1  9.02  13.635   \n2  2011-01-01 02:00:00       1        0           0        1  9.02  13.635   \n3  2011-01-01 03:00:00       1        0           0        1  9.84  14.395   \n4  2011-01-01 04:00:00       1        0           0        1  9.84  14.395   \n\n   humidity  windspeed  casual  registered  count  \n0        81        0.0       3          13     16  \n1        80        0.0       8          32     40  \n2        80        0.0       5          27     32  \n3        75        0.0       3          10     13  \n4        75        0.0       0           1      1  ",
      "text/html": "<div>\n<style scoped>\n    .dataframe tbody tr th:only-of-type {\n        vertical-align: middle;\n    }\n\n    .dataframe tbody tr th {\n        vertical-align: top;\n    }\n\n    .dataframe thead th {\n        text-align: right;\n    }\n</style>\n<table border=\"1\" class=\"dataframe\">\n  <thead>\n    <tr style=\"text-align: right;\">\n      <th></th>\n      <th>datetime</th>\n      <th>season</th>\n      <th>holiday</th>\n      <th>workingday</th>\n      <th>weather</th>\n      <th>temp</th>\n      <th>atemp</th>\n      <th>humidity</th>\n      <th>windspeed</th>\n      <th>casual</th>\n      <th>registered</th>\n      <th>count</th>\n    </tr>\n  </thead>\n  <tbody>\n    <tr>\n      <th>0</th>\n      <td>2011-01-01 00:00:00</td>\n      <td>1</td>\n      <td>0</td>\n      <td>0</td>\n      <td>1</td>\n      <td>9.84</td>\n      <td>14.395</td>\n      <td>81</td>\n      <td>0.0</td>\n      <td>3</td>\n      <td>13</td>\n      <td>16</td>\n    </tr>\n    <tr>\n      <th>1</th>\n      <td>2011-01-01 01:00:00</td>\n      <td>1</td>\n      <td>0</td>\n      <td>0</td>\n      <td>1</td>\n      <td>9.02</td>\n      <td>13.635</td>\n      <td>80</td>\n      <td>0.0</td>\n      <td>8</td>\n      <td>32</td>\n      <td>40</td>\n    </tr>\n    <tr>\n      <th>2</th>\n      <td>2011-01-01 02:00:00</td>\n      <td>1</td>\n      <td>0</td>\n      <td>0</td>\n      <td>1</td>\n      <td>9.02</td>\n      <td>13.635</td>\n      <td>80</td>\n      <td>0.0</td>\n      <td>5</td>\n      <td>27</td>\n      <td>32</td>\n    </tr>\n    <tr>\n      <th>3</th>\n      <td>2011-01-01 03:00:00</td>\n      <td>1</td>\n      <td>0</td>\n      <td>0</td>\n      <td>1</td>\n      <td>9.84</td>\n      <td>14.395</td>\n      <td>75</td>\n      <td>0.0</td>\n      <td>3</td>\n      <td>10</td>\n      <td>13</td>\n    </tr>\n    <tr>\n      <th>4</th>\n      <td>2011-01-01 04:00:00</td>\n      <td>1</td>\n      <td>0</td>\n      <td>0</td>\n      <td>1</td>\n      <td>9.84</td>\n      <td>14.395</td>\n      <td>75</td>\n      <td>0.0</td>\n      <td>0</td>\n      <td>1</td>\n      <td>1</td>\n    </tr>\n  </tbody>\n</table>\n</div>"
     },
     "execution_count": 161,
     "metadata": {},
     "output_type": "execute_result"
    }
   ],
   "source": [
    "import numpy as np\n",
    "import pandas as pd\n",
    "import seaborn as sns\n",
    "import matplotlib.pyplot as plt\n",
    "%matplotlib inline\n",
    "\n",
    "\n",
    "df = pd.read_csv(\"./train.csv\")\n",
    "df.head()"
   ],
   "metadata": {
    "collapsed": false,
    "pycharm": {
     "name": "#%%\n"
    }
   }
  },
  {
   "cell_type": "code",
   "execution_count": 64,
   "outputs": [
    {
     "name": "stdout",
     "output_type": "stream",
     "text": [
      "<class 'pandas.core.frame.DataFrame'>\n",
      "RangeIndex: 10886 entries, 0 to 10885\n",
      "Data columns (total 12 columns):\n",
      " #   Column      Non-Null Count  Dtype  \n",
      "---  ------      --------------  -----  \n",
      " 0   datetime    10886 non-null  object \n",
      " 1   season      10886 non-null  int64  \n",
      " 2   holiday     10886 non-null  int64  \n",
      " 3   workingday  10886 non-null  int64  \n",
      " 4   weather     10886 non-null  int64  \n",
      " 5   temp        10886 non-null  float64\n",
      " 6   atemp       10886 non-null  float64\n",
      " 7   humidity    10886 non-null  int64  \n",
      " 8   windspeed   10886 non-null  float64\n",
      " 9   casual      10886 non-null  int64  \n",
      " 10  registered  10886 non-null  int64  \n",
      " 11  count       10886 non-null  int64  \n",
      "dtypes: float64(3), int64(8), object(1)\n",
      "memory usage: 1020.7+ KB\n"
     ]
    }
   ],
   "source": [
    "df.info()"
   ],
   "metadata": {
    "collapsed": false,
    "pycharm": {
     "name": "#%%\n"
    }
   }
  },
  {
   "cell_type": "markdown",
   "source": [
    "10886개의 행과 12개의 칼럼으로 구성되어 있네요. 다행히 Null 데이터도 없고요.\n",
    "\n",
    "0번 행인 datetime을 보면 자료형이 \"object\"입니다. \"연-월-일 시:분:초\" 형식의 문자열로 구성되어 있는데, [연, 월, 일, 시] 네 개의 칼럼으로 분리하도록 하겠습니다. (분과 초는 0이므로 무시합시다.)"
   ],
   "metadata": {
    "collapsed": false,
    "pycharm": {
     "name": "#%% md\n"
    }
   }
  },
  {
   "cell_type": "code",
   "execution_count": 162,
   "outputs": [
    {
     "data": {
      "text/plain": "   season  holiday  workingday  weather  temp   atemp  humidity  windspeed  \\\n0       1        0           0        1  9.84  14.395        81        0.0   \n1       1        0           0        1  9.02  13.635        80        0.0   \n2       1        0           0        1  9.02  13.635        80        0.0   \n3       1        0           0        1  9.84  14.395        75        0.0   \n4       1        0           0        1  9.84  14.395        75        0.0   \n\n   casual  registered  count  year  month  day  hour  \n0       3          13     16  2011      1    1     0  \n1       8          32     40  2011      1    1     1  \n2       5          27     32  2011      1    1     2  \n3       3          10     13  2011      1    1     3  \n4       0           1      1  2011      1    1     4  ",
      "text/html": "<div>\n<style scoped>\n    .dataframe tbody tr th:only-of-type {\n        vertical-align: middle;\n    }\n\n    .dataframe tbody tr th {\n        vertical-align: top;\n    }\n\n    .dataframe thead th {\n        text-align: right;\n    }\n</style>\n<table border=\"1\" class=\"dataframe\">\n  <thead>\n    <tr style=\"text-align: right;\">\n      <th></th>\n      <th>season</th>\n      <th>holiday</th>\n      <th>workingday</th>\n      <th>weather</th>\n      <th>temp</th>\n      <th>atemp</th>\n      <th>humidity</th>\n      <th>windspeed</th>\n      <th>casual</th>\n      <th>registered</th>\n      <th>count</th>\n      <th>year</th>\n      <th>month</th>\n      <th>day</th>\n      <th>hour</th>\n    </tr>\n  </thead>\n  <tbody>\n    <tr>\n      <th>0</th>\n      <td>1</td>\n      <td>0</td>\n      <td>0</td>\n      <td>1</td>\n      <td>9.84</td>\n      <td>14.395</td>\n      <td>81</td>\n      <td>0.0</td>\n      <td>3</td>\n      <td>13</td>\n      <td>16</td>\n      <td>2011</td>\n      <td>1</td>\n      <td>1</td>\n      <td>0</td>\n    </tr>\n    <tr>\n      <th>1</th>\n      <td>1</td>\n      <td>0</td>\n      <td>0</td>\n      <td>1</td>\n      <td>9.02</td>\n      <td>13.635</td>\n      <td>80</td>\n      <td>0.0</td>\n      <td>8</td>\n      <td>32</td>\n      <td>40</td>\n      <td>2011</td>\n      <td>1</td>\n      <td>1</td>\n      <td>1</td>\n    </tr>\n    <tr>\n      <th>2</th>\n      <td>1</td>\n      <td>0</td>\n      <td>0</td>\n      <td>1</td>\n      <td>9.02</td>\n      <td>13.635</td>\n      <td>80</td>\n      <td>0.0</td>\n      <td>5</td>\n      <td>27</td>\n      <td>32</td>\n      <td>2011</td>\n      <td>1</td>\n      <td>1</td>\n      <td>2</td>\n    </tr>\n    <tr>\n      <th>3</th>\n      <td>1</td>\n      <td>0</td>\n      <td>0</td>\n      <td>1</td>\n      <td>9.84</td>\n      <td>14.395</td>\n      <td>75</td>\n      <td>0.0</td>\n      <td>3</td>\n      <td>10</td>\n      <td>13</td>\n      <td>2011</td>\n      <td>1</td>\n      <td>1</td>\n      <td>3</td>\n    </tr>\n    <tr>\n      <th>4</th>\n      <td>1</td>\n      <td>0</td>\n      <td>0</td>\n      <td>1</td>\n      <td>9.84</td>\n      <td>14.395</td>\n      <td>75</td>\n      <td>0.0</td>\n      <td>0</td>\n      <td>1</td>\n      <td>1</td>\n      <td>2011</td>\n      <td>1</td>\n      <td>1</td>\n      <td>4</td>\n    </tr>\n  </tbody>\n</table>\n</div>"
     },
     "execution_count": 162,
     "metadata": {},
     "output_type": "execute_result"
    }
   ],
   "source": [
    "# 연월일시 추출방법\n",
    "df[\"datetime\"] = df.datetime.apply(pd.to_datetime)  # 파이썬에서 제공하는 datetime 인스턴스로 변경\n",
    "df[\"year\"] = df.datetime.apply(lambda x: x.year)\n",
    "df[\"month\"] = df.datetime.apply(lambda x: x.month)\n",
    "df[\"day\"] = df.datetime.apply(lambda x: x.day)\n",
    "df[\"hour\"] = df.datetime.apply(lambda x: x.hour)\n",
    "\n",
    "df.drop([\"datetime\"], inplace=True, axis=1)  # datetime 열 제거\n",
    "df.head()"
   ],
   "metadata": {
    "collapsed": false,
    "pycharm": {
     "name": "#%%\n"
    }
   }
  },
  {
   "cell_type": "code",
   "execution_count": 42,
   "outputs": [
    {
     "name": "stdout",
     "output_type": "stream",
     "text": [
      "2011-01-01 00:00:00\n",
      "1\n"
     ]
    }
   ],
   "source": [
    "# 위의 연월일시 변환 코드를 이해하기 위한 예시\n",
    "\n",
    "import datetime as dt\n",
    "\n",
    "sample = \"2011-01-01 00:00:00\"\n",
    "converted_sample = dt.datetime.strptime(sample, \"%Y-%m-%d %H:%M:%S\")\n",
    "print(converted_sample)\n",
    "print(converted_sample.month)  # 각각의 요소를 인식할 수 있음. month값만 출력"
   ],
   "metadata": {
    "collapsed": false,
    "pycharm": {
     "name": "#%%\n"
    }
   }
  },
  {
   "cell_type": "markdown",
   "source": [
    "또 한 가지, casual과 registered는 합하면 count가 됩니다. 즉, 상관도가 높아 예측을 저해할 우려가 있어서 깔끔하게 지워버려도 되지만, 욱하는 마음에 자전거를 타버리는(?) 비회원 비율이 예측에 도움이 될까 싶기도 한데요. 한 번 상관관계를 알아볼까요?"
   ],
   "metadata": {
    "collapsed": false,
    "pycharm": {
     "name": "#%% md\n"
    }
   }
  },
  {
   "cell_type": "code",
   "execution_count": 156,
   "outputs": [
    {
     "data": {
      "text/plain": "count    1.088600e+04\nmean              inf\nstd               NaN\nmin      0.000000e+00\n25%      6.574394e-02\n50%      1.692308e-01\n75%      3.394495e-01\nmax               inf\nName: ratio, dtype: float64"
     },
     "execution_count": 156,
     "metadata": {},
     "output_type": "execute_result"
    }
   ],
   "source": [
    "df[\"ratio\"] = df[\"casual\"] / df[\"registered\"]\n",
    "df[\"ratio\"].describe()"
   ],
   "metadata": {
    "collapsed": false,
    "pycharm": {
     "name": "#%%\n"
    }
   }
  },
  {
   "cell_type": "markdown",
   "source": [
    "scatter플롯으로 시각화해서 count와 ratio의 상관관계를 한 번 확인해봅시다."
   ],
   "metadata": {
    "collapsed": false,
    "pycharm": {
     "name": "#%% md\n"
    }
   }
  },
  {
   "cell_type": "code",
   "execution_count": 157,
   "outputs": [
    {
     "data": {
      "text/plain": "<AxesSubplot:xlabel='ratio', ylabel='count'>"
     },
     "execution_count": 157,
     "metadata": {},
     "output_type": "execute_result"
    },
    {
     "data": {
      "text/plain": "<Figure size 432x288 with 1 Axes>",
      "image/png": "[encoded data removed]"
     },
     "metadata": {
      "needs_background": "light"
     },
     "output_type": "display_data"
    }
   ],
   "source": [
    "df.plot.scatter(\"ratio\", \"count\")"
   ],
   "metadata": {
    "collapsed": false,
    "pycharm": {
     "name": "#%%\n"
    }
   }
  },
  {
   "cell_type": "code",
   "execution_count": 69,
   "outputs": [
    {
     "data": {
      "text/plain": "              casual  registered     ratio     count\ncasual      1.000000    0.497250  0.505726  0.690414\nregistered  0.497250    1.000000 -0.052397  0.970948\nratio       0.505726   -0.052397  1.000000  0.095852\ncount       0.690414    0.970948  0.095852  1.000000",
      "text/html": "<div>\n<style scoped>\n    .dataframe tbody tr th:only-of-type {\n        vertical-align: middle;\n    }\n\n    .dataframe tbody tr th {\n        vertical-align: top;\n    }\n\n    .dataframe thead th {\n        text-align: right;\n    }\n</style>\n<table border=\"1\" class=\"dataframe\">\n  <thead>\n    <tr style=\"text-align: right;\">\n      <th></th>\n      <th>casual</th>\n      <th>registered</th>\n      <th>ratio</th>\n      <th>count</th>\n    </tr>\n  </thead>\n  <tbody>\n    <tr>\n      <th>casual</th>\n      <td>1.000000</td>\n      <td>0.497250</td>\n      <td>0.505726</td>\n      <td>0.690414</td>\n    </tr>\n    <tr>\n      <th>registered</th>\n      <td>0.497250</td>\n      <td>1.000000</td>\n      <td>-0.052397</td>\n      <td>0.970948</td>\n    </tr>\n    <tr>\n      <th>ratio</th>\n      <td>0.505726</td>\n      <td>-0.052397</td>\n      <td>1.000000</td>\n      <td>0.095852</td>\n    </tr>\n    <tr>\n      <th>count</th>\n      <td>0.690414</td>\n      <td>0.970948</td>\n      <td>0.095852</td>\n      <td>1.000000</td>\n    </tr>\n  </tbody>\n</table>\n</div>"
     },
     "execution_count": 69,
     "metadata": {},
     "output_type": "execute_result"
    }
   ],
   "source": [
    "df[[\"casual\", \"registered\", \"ratio\", \"count\"]].corr()"
   ],
   "metadata": {
    "collapsed": false,
    "pycharm": {
     "name": "#%%\n"
    }
   }
  },
  {
   "cell_type": "markdown",
   "source": [
    "ratio와 count의 상관관계는 약 0.096 정도입니다. 0에 아주 가까운, 아무 짝에도 쓸모없는 관계를 갖고 있군요. ratio는 사용하지 말아야겠습니다."
   ],
   "metadata": {
    "collapsed": false,
    "pycharm": {
     "name": "#%% md\n"
    }
   }
  },
  {
   "cell_type": "code",
   "execution_count": 70,
   "outputs": [],
   "source": [
    "df.drop([\"ratio\"], inplace=True, axis=1)"
   ],
   "metadata": {
    "collapsed": false,
    "pycharm": {
     "name": "#%%\n"
    }
   }
  },
  {
   "cell_type": "markdown",
   "source": [
    "이참에 아예 모든 칼럼별로 어떤 값에 count가 많이 들어가는지 시각화해봅시다.\n",
    "(주의: 시간이 상당히 걸림)"
   ],
   "metadata": {
    "collapsed": false,
    "pycharm": {
     "name": "#%% md\n"
    }
   }
  },
  {
   "cell_type": "code",
   "execution_count": 9,
   "outputs": [
    {
     "data": {
      "text/plain": "<Figure size 1440x720 with 16 Axes>",
      "image/png": "[encoded data removed]"
     },
     "metadata": {
      "needs_background": "light"
     },
     "output_type": "display_data"
    }
   ],
   "source": [
    "fig, ax = plt.subplots(figsize=(20, 10), ncols=4, nrows=4)\n",
    "cat_features = df.columns.tolist()[:-1]\n",
    "for idx, feature in enumerate(cat_features):\n",
    "    row = int(idx // 4)\n",
    "    col = idx % 4\n",
    "    sns.barplot(x=feature, y=\"count\", data=df, ax=ax[row][col])\n",
    "fig.subplots_adjust(wspace=0.25, hspace=0.3)"
   ],
   "metadata": {
    "collapsed": false,
    "pycharm": {
     "name": "#%%\n"
    }
   }
  },
  {
   "cell_type": "code",
   "execution_count": 163,
   "outputs": [],
   "source": [
    "from sklearn.model_selection import train_test_split  # 과적합 방지를 위한 훈련/테스트데이터 분리 함수\n",
    "from sklearn.linear_model import LinearRegression  # sklearn에서 제공하는 기본 선형회귀모델 클래스\n",
    "from sklearn.metrics import mean_squared_error  # 평균제곱오차MSE 함수\n",
    "\n",
    "\n",
    "def rmse(y, pred):  # Root Mean Squared Error(평균제곱근오차)\n",
    "    return np.sqrt(mean_squared_error(y, pred))  # 단순히 MSE에 루트만 씌우면 됨.\n",
    "\n",
    "X_features = df.drop([\"count\"], axis=1, inplace=False)  # 타겟값인 count를 배제한 모든 특성을 사용 예정\n",
    "y_target = df[\"count\"]  # 타겟값만 별도의 변수로 분리\n",
    "\n",
    "X_train, X_test, y_train, y_test = train_test_split(X_features, y_target, test_size=0.3)  # 훈련/테스트 데이터 비율 70:30"
   ],
   "metadata": {
    "collapsed": false,
    "pycharm": {
     "name": "#%%\n"
    }
   }
  },
  {
   "cell_type": "code",
   "execution_count": 164,
   "outputs": [
    {
     "name": "stdout",
     "output_type": "stream",
     "text": [
      "1.1271058523561528e-13\n"
     ]
    }
   ],
   "source": [
    "lr = LinearRegression()  # lr이라는 선형회귀 인스턴스 생성(클래스 문법)\n",
    "lr.fit(X_train, y_train)  # 반복훈련 실행\n",
    "predict = lr.predict(X_test)  # 예측\n",
    "print(rmse(y_test, predict))  # RMSE를 평가지표로 사용"
   ],
   "metadata": {
    "collapsed": false,
    "pycharm": {
     "name": "#%%\n"
    }
   }
  },
  {
   "cell_type": "markdown",
   "source": [
    "(random_state를 지정하지 않아서 값에 변동이 있음)\n",
    "0.0000000000001 ????\n",
    "이상하리만큼 오차가 0에 가깝네요...?\n",
    "이럴 땐 무조건 잘못되었다고 의심을 해봐야 합니다."
   ],
   "metadata": {
    "collapsed": false,
    "pycharm": {
     "name": "#%% md\n"
    }
   }
  },
  {
   "cell_type": "code",
   "execution_count": 49,
   "outputs": [
    {
     "data": {
      "text/plain": "      real_count  predicted_count  diff\n0            166            166.0   0.0\n2181         199            199.0   0.0\n2171          53             53.0   0.0\n2172         710            710.0   0.0\n2173         524            524.0   0.0\n2174         198            198.0   0.0\n2175          95             95.0   0.0\n2176         113            113.0   0.0\n2177          84             84.0   0.0\n2178         321            321.0   0.0\n2179         605            605.0   0.0\n2180         468            468.0   0.0\n2182         554            554.0   0.0\n2169         122            122.0   0.0\n2183           4              4.0   0.0\n2184           2              2.0   0.0\n2185           4              4.0   0.0\n2186         107            107.0   0.0\n2187         712            712.0   0.0\n2188         296            296.0   0.0",
      "text/html": "<div>\n<style scoped>\n    .dataframe tbody tr th:only-of-type {\n        vertical-align: middle;\n    }\n\n    .dataframe tbody tr th {\n        vertical-align: top;\n    }\n\n    .dataframe thead th {\n        text-align: right;\n    }\n</style>\n<table border=\"1\" class=\"dataframe\">\n  <thead>\n    <tr style=\"text-align: right;\">\n      <th></th>\n      <th>real_count</th>\n      <th>predicted_count</th>\n      <th>diff</th>\n    </tr>\n  </thead>\n  <tbody>\n    <tr>\n      <th>0</th>\n      <td>166</td>\n      <td>166.0</td>\n      <td>0.0</td>\n    </tr>\n    <tr>\n      <th>2181</th>\n      <td>199</td>\n      <td>199.0</td>\n      <td>0.0</td>\n    </tr>\n    <tr>\n      <th>2171</th>\n      <td>53</td>\n      <td>53.0</td>\n      <td>0.0</td>\n    </tr>\n    <tr>\n      <th>2172</th>\n      <td>710</td>\n      <td>710.0</td>\n      <td>0.0</td>\n    </tr>\n    <tr>\n      <th>2173</th>\n      <td>524</td>\n      <td>524.0</td>\n      <td>0.0</td>\n    </tr>\n    <tr>\n      <th>2174</th>\n      <td>198</td>\n      <td>198.0</td>\n      <td>0.0</td>\n    </tr>\n    <tr>\n      <th>2175</th>\n      <td>95</td>\n      <td>95.0</td>\n      <td>0.0</td>\n    </tr>\n    <tr>\n      <th>2176</th>\n      <td>113</td>\n      <td>113.0</td>\n      <td>0.0</td>\n    </tr>\n    <tr>\n      <th>2177</th>\n      <td>84</td>\n      <td>84.0</td>\n      <td>0.0</td>\n    </tr>\n    <tr>\n      <th>2178</th>\n      <td>321</td>\n      <td>321.0</td>\n      <td>0.0</td>\n    </tr>\n    <tr>\n      <th>2179</th>\n      <td>605</td>\n      <td>605.0</td>\n      <td>0.0</td>\n    </tr>\n    <tr>\n      <th>2180</th>\n      <td>468</td>\n      <td>468.0</td>\n      <td>0.0</td>\n    </tr>\n    <tr>\n      <th>2182</th>\n      <td>554</td>\n      <td>554.0</td>\n      <td>0.0</td>\n    </tr>\n    <tr>\n      <th>2169</th>\n      <td>122</td>\n      <td>122.0</td>\n      <td>0.0</td>\n    </tr>\n    <tr>\n      <th>2183</th>\n      <td>4</td>\n      <td>4.0</td>\n      <td>0.0</td>\n    </tr>\n    <tr>\n      <th>2184</th>\n      <td>2</td>\n      <td>2.0</td>\n      <td>0.0</td>\n    </tr>\n    <tr>\n      <th>2185</th>\n      <td>4</td>\n      <td>4.0</td>\n      <td>0.0</td>\n    </tr>\n    <tr>\n      <th>2186</th>\n      <td>107</td>\n      <td>107.0</td>\n      <td>0.0</td>\n    </tr>\n    <tr>\n      <th>2187</th>\n      <td>712</td>\n      <td>712.0</td>\n      <td>0.0</td>\n    </tr>\n    <tr>\n      <th>2188</th>\n      <td>296</td>\n      <td>296.0</td>\n      <td>0.0</td>\n    </tr>\n  </tbody>\n</table>\n</div>"
     },
     "execution_count": 49,
     "metadata": {},
     "output_type": "execute_result"
    }
   ],
   "source": [
    "# 실제 대여값과 예측 대여값의 차이가 많이 나는 순서대로 출력\n",
    "result_df = pd.DataFrame(y_test.values, columns=['real_count'])\n",
    "result_df['predicted_count']= np.round(predict)\n",
    "result_df['diff'] = np.abs(result_df['real_count'] - result_df['predicted_count'])\n",
    "\n",
    "result_df.sort_values('diff', ascending=False)[:20]"
   ],
   "metadata": {
    "collapsed": false,
    "pycharm": {
     "name": "#%%\n"
    }
   }
  },
  {
   "cell_type": "markdown",
   "source": [
    "이건 뭐 완전히 동일한 값이 나와버리네요? 왜 그럴까요?\n",
    "앞에서 언급했지만, casual + registered = count이기 때문입니다.\n",
    "선형회귀로 학습한 가중치를 한 번 확인해보겠습니다."
   ],
   "metadata": {
    "collapsed": false,
    "pycharm": {
     "name": "#%% md\n"
    }
   }
  },
  {
   "cell_type": "code",
   "execution_count": 50,
   "outputs": [
    {
     "data": {
      "text/plain": "array([ 7.74727120e-15,  3.69583588e-13, -2.46140202e-14,  1.62931399e-14,\n       -2.02541445e-15,  3.36250703e-15, -1.07851167e-15,  3.61585849e-16,\n        1.00000000e+00,  1.00000000e+00, -2.71996125e-15,  1.22464615e-15,\n       -9.73889746e-17, -4.63511791e-16])"
     },
     "execution_count": 50,
     "metadata": {},
     "output_type": "execute_result"
    }
   ],
   "source": [
    "lr.coef_"
   ],
   "metadata": {
    "collapsed": false,
    "pycharm": {
     "name": "#%%\n"
    }
   }
  },
  {
   "cell_type": "markdown",
   "source": [
    "8번과 9번 칼럼(casual & registered)만 가중치가 1로 학습되고, 나머지 특성들은 모두 0으로 수렴하였습니다..\n",
    "대략 아래와 같은 식이 나와버렸네요..\n",
    "\n",
    "$$1 * x_{casual} + 1 * x_{registered} = 예측값$$\n",
    "\n",
    "그런데, 조금만 생각해봐도 casual과 registered는 사후에 집계된 숫자일 뿐, 예측시점에는 절대 취득할 수 없는 값이기 때문에\n",
    "이 두 개의 특성은 (겸허히) 예측모델에서 배제한 후에 다시 만드는 게 좋겠습니다.\n",
    "동일한 과정으로 선형회귀 모델을 다시 학습해보겠습니다."
   ],
   "metadata": {
    "collapsed": false,
    "pycharm": {
     "name": "#%% md\n"
    }
   }
  },
  {
   "cell_type": "code",
   "execution_count": 51,
   "outputs": [
    {
     "name": "stdout",
     "output_type": "stream",
     "text": [
      "144.87631457956562\n"
     ]
    }
   ],
   "source": [
    "X_features = df.drop([\"casual\", \"registered\", \"count\"], axis=1, inplace=False)  # casual과 registered 특성도 제거\n",
    "y_target = df[\"count\"]\n",
    "\n",
    "X_train, X_test, y_train, y_test = train_test_split(X_features, y_target, test_size=0.3)\n",
    "\n",
    "lr = LinearRegression()\n",
    "lr.fit(X_train, y_train)  # 가중치 학습\n",
    "predict = lr.predict(X_test)  # 예측값 계산\n",
    "print(rmse(y_test, predict))  # 평균제곱근오차RMSE 계산"
   ],
   "metadata": {
    "collapsed": false,
    "pycharm": {
     "name": "#%%\n"
    }
   }
  },
  {
   "cell_type": "markdown",
   "source": [
    "모르긴 몰라도 144라는 (엄청나게 큰) 숫자가 튀어나왔습니다ㄷㄷ\n",
    "어느 정도 오차인지 잘 감이 오지 않을 수 있으니,\n",
    "비교적 우리에게 익숙한 결정계수($R^2$)로 확인해볼까요?"
   ],
   "metadata": {
    "collapsed": false,
    "pycharm": {
     "name": "#%% md\n"
    }
   }
  },
  {
   "cell_type": "code",
   "execution_count": 52,
   "outputs": [
    {
     "data": {
      "text/plain": "0.38317031197628826"
     },
     "execution_count": 52,
     "metadata": {},
     "output_type": "execute_result"
    }
   ],
   "source": [
    "lr.score(X_test, y_test)  # 결정계수 R^2을 계산해주는 메서드"
   ],
   "metadata": {
    "collapsed": false,
    "pycharm": {
     "name": "#%%\n"
    }
   }
  },
  {
   "cell_type": "markdown",
   "source": [
    "실제 y값과 예측한 값과의 상관관계가 0.38 정도면, 거의 쓸모없는 것 같은데요?\n",
    "14개의 특성으로 y값을 고작 38% 정도 밖에 설명할 수 없는 모델이라뇨ㅜ\n",
    "그래도 좌절하지 말고 모델을 개선해봅시다."
   ],
   "metadata": {
    "collapsed": false,
    "pycharm": {
     "name": "#%% md\n"
    }
   }
  },
  {
   "cell_type": "markdown",
   "source": [
    "넘어가기 전에 $R^2$나 RMSE가 실제 어느 정도의 오차를 의미하는지\n",
    "와닿지 않을 수도 있기 때문에\n",
    "실제값과 예측값의 차이를 실제로 한 번 확인해보겠습니다."
   ],
   "metadata": {
    "collapsed": false,
    "pycharm": {
     "name": "#%% md\n"
    }
   }
  },
  {
   "cell_type": "code",
   "execution_count": 53,
   "outputs": [
    {
     "data": {
      "text/plain": "      real_count  predicted_count   diff\n694          784            182.0  602.0\n2829         731            143.0  588.0\n354          948            364.0  584.0\n747          917            337.0  580.0\n1109         890            325.0  565.0\n1906         968            405.0  563.0\n1342         677            125.0  552.0\n2157         745            194.0  551.0\n345          797            246.0  551.0\n2835         813            265.0  548.0\n3232         766            220.0  546.0\n190          785            239.0  546.0\n2997         678            133.0  545.0\n592          758            214.0  544.0\n1705         891            355.0  536.0\n321          694            173.0  521.0\n3071         688            174.0  514.0\n2389         850            341.0  509.0\n96           594             93.0  501.0\n2819         844            347.0  497.0",
      "text/html": "<div>\n<style scoped>\n    .dataframe tbody tr th:only-of-type {\n        vertical-align: middle;\n    }\n\n    .dataframe tbody tr th {\n        vertical-align: top;\n    }\n\n    .dataframe thead th {\n        text-align: right;\n    }\n</style>\n<table border=\"1\" class=\"dataframe\">\n  <thead>\n    <tr style=\"text-align: right;\">\n      <th></th>\n      <th>real_count</th>\n      <th>predicted_count</th>\n      <th>diff</th>\n    </tr>\n  </thead>\n  <tbody>\n    <tr>\n      <th>694</th>\n      <td>784</td>\n      <td>182.0</td>\n      <td>602.0</td>\n    </tr>\n    <tr>\n      <th>2829</th>\n      <td>731</td>\n      <td>143.0</td>\n      <td>588.0</td>\n    </tr>\n    <tr>\n      <th>354</th>\n      <td>948</td>\n      <td>364.0</td>\n      <td>584.0</td>\n    </tr>\n    <tr>\n      <th>747</th>\n      <td>917</td>\n      <td>337.0</td>\n      <td>580.0</td>\n    </tr>\n    <tr>\n      <th>1109</th>\n      <td>890</td>\n      <td>325.0</td>\n      <td>565.0</td>\n    </tr>\n    <tr>\n      <th>1906</th>\n      <td>968</td>\n      <td>405.0</td>\n      <td>563.0</td>\n    </tr>\n    <tr>\n      <th>1342</th>\n      <td>677</td>\n      <td>125.0</td>\n      <td>552.0</td>\n    </tr>\n    <tr>\n      <th>2157</th>\n      <td>745</td>\n      <td>194.0</td>\n      <td>551.0</td>\n    </tr>\n    <tr>\n      <th>345</th>\n      <td>797</td>\n      <td>246.0</td>\n      <td>551.0</td>\n    </tr>\n    <tr>\n      <th>2835</th>\n      <td>813</td>\n      <td>265.0</td>\n      <td>548.0</td>\n    </tr>\n    <tr>\n      <th>3232</th>\n      <td>766</td>\n      <td>220.0</td>\n      <td>546.0</td>\n    </tr>\n    <tr>\n      <th>190</th>\n      <td>785</td>\n      <td>239.0</td>\n      <td>546.0</td>\n    </tr>\n    <tr>\n      <th>2997</th>\n      <td>678</td>\n      <td>133.0</td>\n      <td>545.0</td>\n    </tr>\n    <tr>\n      <th>592</th>\n      <td>758</td>\n      <td>214.0</td>\n      <td>544.0</td>\n    </tr>\n    <tr>\n      <th>1705</th>\n      <td>891</td>\n      <td>355.0</td>\n      <td>536.0</td>\n    </tr>\n    <tr>\n      <th>321</th>\n      <td>694</td>\n      <td>173.0</td>\n      <td>521.0</td>\n    </tr>\n    <tr>\n      <th>3071</th>\n      <td>688</td>\n      <td>174.0</td>\n      <td>514.0</td>\n    </tr>\n    <tr>\n      <th>2389</th>\n      <td>850</td>\n      <td>341.0</td>\n      <td>509.0</td>\n    </tr>\n    <tr>\n      <th>96</th>\n      <td>594</td>\n      <td>93.0</td>\n      <td>501.0</td>\n    </tr>\n    <tr>\n      <th>2819</th>\n      <td>844</td>\n      <td>347.0</td>\n      <td>497.0</td>\n    </tr>\n  </tbody>\n</table>\n</div>"
     },
     "execution_count": 53,
     "metadata": {},
     "output_type": "execute_result"
    }
   ],
   "source": [
    "result_df = pd.DataFrame(y_test.values, columns=['real_count'])  # 실제 대여횟수로 df생성\n",
    "result_df['predicted_count']= np.round(predict)  # 예측 대여횟수 칼럼 추가\n",
    "result_df['diff'] = np.abs(result_df['real_count'] - result_df['predicted_count'])  # 차잇값 칼럼 추가\n",
    "\n",
    "result_df.sort_values('diff', ascending=False)[:20]  # 가장 오차가 큰 20개 행 출력"
   ],
   "metadata": {
    "collapsed": false,
    "pycharm": {
     "name": "#%%\n"
    }
   }
  },
  {
   "cell_type": "code",
   "execution_count": 54,
   "outputs": [
    {
     "data": {
      "text/plain": "<AxesSubplot:xlabel='real_count', ylabel='predicted_count'>"
     },
     "execution_count": 54,
     "metadata": {},
     "output_type": "execute_result"
    },
    {
     "data": {
      "text/plain": "<Figure size 432x288 with 1 Axes>",
      "image/png": "[encoded data removed]"
     },
     "metadata": {
      "needs_background": "light"
     },
     "output_type": "display_data"
    }
   ],
   "source": [
    "result_df.plot.scatter(\"real_count\", \"predicted_count\")"
   ],
   "metadata": {
    "collapsed": false,
    "pycharm": {
     "name": "#%%\n"
    }
   }
  },
  {
   "cell_type": "markdown",
   "source": [
    "개판이네요..\n",
    "(예측값 중 가장 많이 빗나간 값이긴 하지만) \"784대\"를 빌려간 날의 예측값이 \"182대\"이니 못써먹겠네요.\n",
    "그래도 어떻게든 잘 보완해서 성능을 끌어올려봐야 하지 않겠습니까?\n",
    "\n",
    "회귀에서 이렇게 큰 오류가 발생하는 경우 가장 먼저 확인해야 할 것은 \"타겟 값의 분포\"입니다. 타겟값이 미려한 정규분포곡선을 띠고 있으면 제일 좋은데, 이런 경우는 정말 흔하지 않죠."
   ],
   "metadata": {
    "collapsed": false,
    "pycharm": {
     "name": "#%% md\n"
    }
   }
  },
  {
   "cell_type": "code",
   "execution_count": 55,
   "outputs": [
    {
     "data": {
      "text/plain": "<AxesSubplot:>"
     },
     "execution_count": 55,
     "metadata": {},
     "output_type": "execute_result"
    },
    {
     "data": {
      "text/plain": "<Figure size 432x288 with 1 Axes>",
      "image/png": "[encoded data removed]"
     },
     "metadata": {
      "needs_background": "light"
     },
     "output_type": "display_data"
    }
   ],
   "source": [
    "y_target.hist()"
   ],
   "metadata": {
    "collapsed": false,
    "pycharm": {
     "name": "#%%\n"
    }
   }
  },
  {
   "cell_type": "markdown",
   "source": [
    "이런 히스토그램이라면, 로그변환을 한 번 해보면 정규분포 형태를 띠기도 합니다."
   ],
   "metadata": {
    "collapsed": false,
    "pycharm": {
     "name": "#%% md\n"
    }
   }
  },
  {
   "cell_type": "code",
   "execution_count": 56,
   "outputs": [
    {
     "data": {
      "text/plain": "<AxesSubplot:>"
     },
     "execution_count": 56,
     "metadata": {},
     "output_type": "execute_result"
    },
    {
     "data": {
      "text/plain": "<Figure size 432x288 with 1 Axes>",
      "image/png": "[encoded data removed]"
     },
     "metadata": {
      "needs_background": "light"
     },
     "output_type": "display_data"
    }
   ],
   "source": [
    "y_log = np.log1p(y_target)  # 입력값이 0에 수렴할 때 -inf가 되는 경우를 방지하기 위해 1을 더한 후(1p) 로그를 취함\n",
    "y_log.hist()"
   ],
   "metadata": {
    "collapsed": false,
    "pycharm": {
     "name": "#%%\n"
    }
   }
  },
  {
   "cell_type": "markdown",
   "source": [
    "(반대쪽으로 쏠려버린 느낌이 없잖아 있지만...)\n",
    "변환하기 전보다는 훨씬 나은 모양이네요.\n",
    "이걸로 다시 학습한 후 평가해보겠습니다.\n",
    "마지막엔 로그로 변환했던 값을 exp로 복원해야 하는 과정 꼭 잊지 마세요!"
   ],
   "metadata": {
    "collapsed": false,
    "pycharm": {
     "name": "#%% md\n"
    }
   }
  },
  {
   "cell_type": "code",
   "execution_count": 57,
   "outputs": [
    {
     "data": {
      "text/plain": "157.35812563146843"
     },
     "execution_count": 57,
     "metadata": {},
     "output_type": "execute_result"
    }
   ],
   "source": [
    "y_target_log = np.log1p(y_target)\n",
    "\n",
    "X_train, X_test, y_train, y_test = train_test_split(X_features, y_target_log, test_size=0.3)\n",
    "lr = LinearRegression()\n",
    "lr.fit(X_train, y_train)\n",
    "predict = lr.predict(X_test)\n",
    "\n",
    "y_test = np.expm1(y_test)  # 원래 스케일로 변환(복원). 로그 취할 때 1을 더했으므로 복원 때는 1을 다시 빼줘야 함(\"m1\"=\"Minus 1\")\n",
    "predict = np.expm1(predict)  # 로그변환된 타겟값을 기반으로 예측했으므로 예측값도 스케일 복원\n",
    "\n",
    "rmse(y_test, predict)"
   ],
   "metadata": {
    "collapsed": false,
    "pycharm": {
     "name": "#%%\n"
    }
   }
  },
  {
   "cell_type": "markdown",
   "source": [
    "점입가경이네요.. RMSE가 더 커졌습니다ㅜㅜㅜ (144->157?)\n",
    "뭐가 문제인지 가중치를 다시 점검해봅시다.."
   ],
   "metadata": {
    "collapsed": false,
    "pycharm": {
     "name": "#%% md\n"
    }
   }
  },
  {
   "cell_type": "code",
   "execution_count": 58,
   "outputs": [
    {
     "data": {
      "text/plain": "<AxesSubplot:>"
     },
     "execution_count": 58,
     "metadata": {},
     "output_type": "execute_result"
    },
    {
     "data": {
      "text/plain": "<Figure size 432x288 with 1 Axes>",
      "image/png": "[encoded data removed]"
     },
     "metadata": {
      "needs_background": "light"
     },
     "output_type": "display_data"
    }
   ],
   "source": [
    "coef = pd.Series(lr.coef_, index=X_features.columns)\n",
    "sns.barplot(x=coef.values, y=coef.index)"
   ],
   "metadata": {
    "collapsed": false,
    "pycharm": {
     "name": "#%%\n"
    }
   }
  },
  {
   "cell_type": "markdown",
   "source": [
    "이건 뭐죠? 가장 영향이 큰 가중치(계수)가 year 특성이네요?\n",
    "\"그깟 2011, 2012가 가장 영향도가 높다고...?\"\n",
    "...라고 생각하실 수 있지만 이게 말이 되는 게,\n",
    "아래 그래프를 보시면 이해가 될 겁니다."
   ],
   "metadata": {
    "collapsed": false,
    "pycharm": {
     "name": "#%% md\n"
    }
   }
  },
  {
   "cell_type": "code",
   "execution_count": 59,
   "outputs": [
    {
     "data": {
      "text/plain": "<AxesSubplot:xlabel='year', ylabel='count'>"
     },
     "execution_count": 59,
     "metadata": {},
     "output_type": "execute_result"
    },
    {
     "data": {
      "text/plain": "<Figure size 432x288 with 1 Axes>",
      "image/png": "[encoded data removed]"
     },
     "metadata": {
      "needs_background": "light"
     },
     "output_type": "display_data"
    }
   ],
   "source": [
    "sns.barplot(x=\"year\", y=\"count\", data=df)"
   ],
   "metadata": {
    "collapsed": false,
    "pycharm": {
     "name": "#%%\n"
    }
   }
  },
  {
   "cell_type": "markdown",
   "source": [
    "2012년에는 자전거 대여횟수가 훅 늘었어요. 두 배 가까이 늘었네요.\n",
    "그래서 우리 모델도 2012년이면 대여횟수가 크고, 2011년에는 대여횟수가 적다고 해석한 거겠죠.\n",
    "> 광고를 많이 해서인지, 점차 대중화가 되고 있어서인지.. 알게 뭐람ㅜ\n",
    "\n",
    "# 이쯤에서 우리가 간과하고 있던..\n",
    "(미리 눈치채신 분도 많겠지만)\n",
    "## 아주 중요한 사실 한 가지를 알려드리겠습니다.\n",
    "\n",
    "우리 선형회귀 모델은 12(월)을 1(월)보다 중요하게 생각하는 경향이 있어요.\n",
    "30(일)을 01(일)보다 30배 크다고 인식하고, 겨울(4)이 봄(1)보다 네 배 정도 크다고 여겨요.\n",
    "컴퓨터는 연월일시나 계절을 카테고리처럼 인식하지 않고, 크기비교 가능한 숫자라고 인식해버리기 때문에\n",
    "숫자로 된 값에 영향을 크게 받아요.\n",
    "\n",
    "## 원핫인코딩이 필요한 시점\n",
    "\n",
    "그래서 이들을 모두 카테고리형 특성으로 변환해줘야 해요.\n",
    "가장 많이 사용하는 기법, 일종의 트릭인 \"원-핫 인코딩\"을 적용해보겠습니다.\n",
    "\n",
    "> \"하나만 뜨거운 인코딩이라고?\"\n",
    "\n",
    "예, 맞습니다. 예를 들어,\n",
    "season 칼럼에는 봄부터 겨울까지 1~4의 정수가 들어있는데,\n",
    "원핫인코딩을 적용하면 season 칼럼이\n",
    "season_1, season_2, season_3, season_4 라는 네 개의 칼럼으로 바뀌고\n",
    "season_1 칼럼에는 봄(1)인 행에만 1, 나머지 행에는 0이 들어가게 됩니다.\n",
    "\n",
    "판다스에서 제공하는 get_dummies를 사용하여\n",
    "범주형이라고 생각되는 모든 특성에 원핫인코딩을 적용하겠습니다."
   ],
   "metadata": {
    "collapsed": false,
    "pycharm": {
     "name": "#%% md\n"
    }
   }
  },
  {
   "cell_type": "code",
   "execution_count": 166,
   "outputs": [
    {
     "name": "stdout",
     "output_type": "stream",
     "text": [
      "<class 'pandas.core.frame.DataFrame'>\n",
      "RangeIndex: 10886 entries, 0 to 10885\n",
      "Data columns (total 73 columns):\n",
      " #   Column        Non-Null Count  Dtype  \n",
      "---  ------        --------------  -----  \n",
      " 0   temp          10886 non-null  float64\n",
      " 1   atemp         10886 non-null  float64\n",
      " 2   humidity      10886 non-null  int64  \n",
      " 3   windspeed     10886 non-null  float64\n",
      " 4   year_2011     10886 non-null  uint8  \n",
      " 5   year_2012     10886 non-null  uint8  \n",
      " 6   month_1       10886 non-null  uint8  \n",
      " 7   month_2       10886 non-null  uint8  \n",
      " 8   month_3       10886 non-null  uint8  \n",
      " 9   month_4       10886 non-null  uint8  \n",
      " 10  month_5       10886 non-null  uint8  \n",
      " 11  month_6       10886 non-null  uint8  \n",
      " 12  month_7       10886 non-null  uint8  \n",
      " 13  month_8       10886 non-null  uint8  \n",
      " 14  month_9       10886 non-null  uint8  \n",
      " 15  month_10      10886 non-null  uint8  \n",
      " 16  month_11      10886 non-null  uint8  \n",
      " 17  month_12      10886 non-null  uint8  \n",
      " 18  day_1         10886 non-null  uint8  \n",
      " 19  day_2         10886 non-null  uint8  \n",
      " 20  day_3         10886 non-null  uint8  \n",
      " 21  day_4         10886 non-null  uint8  \n",
      " 22  day_5         10886 non-null  uint8  \n",
      " 23  day_6         10886 non-null  uint8  \n",
      " 24  day_7         10886 non-null  uint8  \n",
      " 25  day_8         10886 non-null  uint8  \n",
      " 26  day_9         10886 non-null  uint8  \n",
      " 27  day_10        10886 non-null  uint8  \n",
      " 28  day_11        10886 non-null  uint8  \n",
      " 29  day_12        10886 non-null  uint8  \n",
      " 30  day_13        10886 non-null  uint8  \n",
      " 31  day_14        10886 non-null  uint8  \n",
      " 32  day_15        10886 non-null  uint8  \n",
      " 33  day_16        10886 non-null  uint8  \n",
      " 34  day_17        10886 non-null  uint8  \n",
      " 35  day_18        10886 non-null  uint8  \n",
      " 36  day_19        10886 non-null  uint8  \n",
      " 37  hour_0        10886 non-null  uint8  \n",
      " 38  hour_1        10886 non-null  uint8  \n",
      " 39  hour_2        10886 non-null  uint8  \n",
      " 40  hour_3        10886 non-null  uint8  \n",
      " 41  hour_4        10886 non-null  uint8  \n",
      " 42  hour_5        10886 non-null  uint8  \n",
      " 43  hour_6        10886 non-null  uint8  \n",
      " 44  hour_7        10886 non-null  uint8  \n",
      " 45  hour_8        10886 non-null  uint8  \n",
      " 46  hour_9        10886 non-null  uint8  \n",
      " 47  hour_10       10886 non-null  uint8  \n",
      " 48  hour_11       10886 non-null  uint8  \n",
      " 49  hour_12       10886 non-null  uint8  \n",
      " 50  hour_13       10886 non-null  uint8  \n",
      " 51  hour_14       10886 non-null  uint8  \n",
      " 52  hour_15       10886 non-null  uint8  \n",
      " 53  hour_16       10886 non-null  uint8  \n",
      " 54  hour_17       10886 non-null  uint8  \n",
      " 55  hour_18       10886 non-null  uint8  \n",
      " 56  hour_19       10886 non-null  uint8  \n",
      " 57  hour_20       10886 non-null  uint8  \n",
      " 58  hour_21       10886 non-null  uint8  \n",
      " 59  hour_22       10886 non-null  uint8  \n",
      " 60  hour_23       10886 non-null  uint8  \n",
      " 61  holiday_0     10886 non-null  uint8  \n",
      " 62  holiday_1     10886 non-null  uint8  \n",
      " 63  workingday_0  10886 non-null  uint8  \n",
      " 64  workingday_1  10886 non-null  uint8  \n",
      " 65  season_1      10886 non-null  uint8  \n",
      " 66  season_2      10886 non-null  uint8  \n",
      " 67  season_3      10886 non-null  uint8  \n",
      " 68  season_4      10886 non-null  uint8  \n",
      " 69  weather_1     10886 non-null  uint8  \n",
      " 70  weather_2     10886 non-null  uint8  \n",
      " 71  weather_3     10886 non-null  uint8  \n",
      " 72  weather_4     10886 non-null  uint8  \n",
      "dtypes: float64(3), int64(1), uint8(69)\n",
      "memory usage: 1.0 MB\n"
     ]
    }
   ],
   "source": [
    "X_features = pd.get_dummies(X_features, columns=[\"year\", \"month\", \"day\", \"hour\", \"holiday\", \"workingday\", \"season\", \"weather\"])\n",
    "X_features.info()  # 특성이 72개로 훅 늘어납니다."
   ],
   "metadata": {
    "collapsed": false,
    "pycharm": {
     "name": "#%%\n"
    }
   }
  },
  {
   "cell_type": "code",
   "execution_count": 73,
   "outputs": [
    {
     "data": {
      "text/plain": "92.14583971302538"
     },
     "execution_count": 73,
     "metadata": {},
     "output_type": "execute_result"
    }
   ],
   "source": [
    "X_train, X_test, y_train, y_test = train_test_split(X_features, y_target_log, test_size=0.3)\n",
    "lr = LinearRegression()\n",
    "lr.fit(X_train, y_train)\n",
    "predict = lr.predict(X_test)\n",
    "\n",
    "y_test = np.expm1(y_test)  # 원래 스케일로 변환(복원)\n",
    "predict = np.expm1(predict)  # 로그변환된 타겟값을 기반으로 예측했으므로 예측값도 스케일 복원\n",
    "\n",
    "rmse(y_test, predict)"
   ],
   "metadata": {
    "collapsed": false,
    "pycharm": {
     "name": "#%%\n"
    }
   }
  },
  {
   "cell_type": "markdown",
   "source": [
    "오, 오차가 절반 가까이 줄어들었습니다.\n",
    "뭔가 숫자가 세자리에서 두자리가 되니까 성능이 (엄청) 좋아진 것처럼 느껴지네요!\n",
    "결정계수도 (이번엔 다른 방식으로) 계산해볼까요?"
   ],
   "metadata": {
    "collapsed": false,
    "pycharm": {
     "name": "#%% md\n"
    }
   }
  },
  {
   "cell_type": "code",
   "execution_count": 75,
   "outputs": [
    {
     "data": {
      "text/plain": "0.7415709373455441"
     },
     "execution_count": 75,
     "metadata": {},
     "output_type": "execute_result"
    }
   ],
   "source": [
    "from sklearn.metrics import r2_score\n",
    "\n",
    "\n",
    "r2_score(y_test, predict)  # lr.score 메서드 내부에서도 동일한 r2_score 함수를 사용함"
   ],
   "metadata": {
    "collapsed": false,
    "pycharm": {
     "name": "#%%\n"
    }
   }
  },
  {
   "cell_type": "markdown",
   "source": [
    "영향력이 큰 계수는 어떻게 바뀌었는지 다시 확인해볼까요?"
   ],
   "metadata": {
    "collapsed": false,
    "pycharm": {
     "name": "#%% md\n"
    }
   }
  },
  {
   "cell_type": "code",
   "execution_count": 85,
   "outputs": [
    {
     "data": {
      "text/plain": "array([ 8.93329043e-03,  1.69907353e-02, -3.31612309e-03, -3.83717687e-03,\n       -6.28473867e+09, -6.28473867e+09,  1.42004276e+09,  1.42004277e+09,\n        1.42004277e+09, -3.62450323e+09, -3.62450323e+09, -3.62450323e+09,\n        2.77584759e+09,  2.77584759e+09,  2.77584759e+09,  1.11095218e+07,\n        1.11095218e+07,  1.11095217e+07, -4.66969665e+08, -4.66969665e+08,\n       -4.66969665e+08, -4.66969665e+08, -4.66969665e+08, -4.66969665e+08,\n       -4.66969665e+08, -4.66969665e+08, -4.66969665e+08, -4.66969665e+08,\n       -4.66969665e+08, -4.66969665e+08, -4.66969665e+08, -4.66969665e+08,\n       -4.66969665e+08, -4.66969665e+08, -4.66969665e+08, -4.66969665e+08,\n       -4.66969665e+08, -1.51854534e+08, -1.51854535e+08, -1.51854536e+08,\n       -1.51854536e+08, -1.51854536e+08, -1.51854535e+08, -1.51854534e+08,\n       -1.51854533e+08, -1.51854533e+08, -1.51854533e+08, -1.51854533e+08,\n       -1.51854533e+08, -1.51854533e+08, -1.51854533e+08, -1.51854533e+08,\n       -1.51854533e+08, -1.51854533e+08, -1.51854532e+08, -1.51854532e+08,\n       -1.51854533e+08, -1.51854533e+08, -1.51854533e+08, -1.51854533e+08,\n       -1.51854534e+08,  5.88959927e+08,  5.88959927e+08,  2.01467509e+09,\n        2.01467509e+09, -9.53594900e+09, -4.49140301e+09, -1.08917538e+10,\n       -8.12701576e+09,  3.83967621e+09,  3.83967621e+09,  3.83967621e+09,\n        3.83967621e+09])"
     },
     "execution_count": 85,
     "metadata": {},
     "output_type": "execute_result"
    }
   ],
   "source": [
    "lr.coef_"
   ],
   "metadata": {
    "collapsed": false,
    "pycharm": {
     "name": "#%%\n"
    }
   }
  },
  {
   "cell_type": "markdown",
   "source": [
    "year만 압도적으로 높았던 이전 모델과 달리 날씨나 월, 계절, 연도, 주말여부 등의 특성이 골고루 영향도를 보임을 확인할 수 있습니다. 시각화해서 확인해볼까요?"
   ],
   "metadata": {
    "collapsed": false,
    "pycharm": {
     "name": "#%% md\n"
    }
   }
  },
  {
   "cell_type": "code",
   "execution_count": 86,
   "outputs": [
    {
     "data": {
      "text/plain": "<AxesSubplot:>"
     },
     "execution_count": 86,
     "metadata": {},
     "output_type": "execute_result"
    },
    {
     "data": {
      "text/plain": "<Figure size 1440x1440 with 1 Axes>",
      "image/png": "[encoded data removed]"
     },
     "metadata": {
      "needs_background": "light"
     },
     "output_type": "display_data"
    }
   ],
   "source": [
    "coef = pd.Series(lr.coef_, index=X_features.columns).sort_values(ascending=False)\n",
    "plt.figure(figsize=(20,20))\n",
    "sns.barplot(x=coef.values, y=coef.index)"
   ],
   "metadata": {
    "collapsed": false,
    "pycharm": {
     "name": "#%%\n"
    }
   }
  },
  {
   "cell_type": "markdown",
   "source": [
    "위에서 실행했던, 예측값과 실제값의 차이를 다시 알아보겠습니다."
   ],
   "metadata": {
    "collapsed": false,
    "pycharm": {
     "name": "#%% md\n"
    }
   }
  },
  {
   "cell_type": "code",
   "execution_count": 87,
   "outputs": [
    {
     "data": {
      "text/plain": "      real_count  predicted_count  diff\n3250         5.0              5.0   0.0\n980          5.0              5.0   0.0\n1114        11.0             11.0   0.0\n601         12.0             12.0   0.0\n2146        12.0             12.0   0.0\n...          ...              ...   ...\n921          1.0              2.0   1.0\n1074         5.0              6.0   1.0\n853          5.0              4.0   1.0\n1489         5.0              6.0   1.0\n25          11.0             10.0   1.0\n\n[100 rows x 3 columns]",
      "text/html": "<div>\n<style scoped>\n    .dataframe tbody tr th:only-of-type {\n        vertical-align: middle;\n    }\n\n    .dataframe tbody tr th {\n        vertical-align: top;\n    }\n\n    .dataframe thead th {\n        text-align: right;\n    }\n</style>\n<table border=\"1\" class=\"dataframe\">\n  <thead>\n    <tr style=\"text-align: right;\">\n      <th></th>\n      <th>real_count</th>\n      <th>predicted_count</th>\n      <th>diff</th>\n    </tr>\n  </thead>\n  <tbody>\n    <tr>\n      <th>3250</th>\n      <td>5.0</td>\n      <td>5.0</td>\n      <td>0.0</td>\n    </tr>\n    <tr>\n      <th>980</th>\n      <td>5.0</td>\n      <td>5.0</td>\n      <td>0.0</td>\n    </tr>\n    <tr>\n      <th>1114</th>\n      <td>11.0</td>\n      <td>11.0</td>\n      <td>0.0</td>\n    </tr>\n    <tr>\n      <th>601</th>\n      <td>12.0</td>\n      <td>12.0</td>\n      <td>0.0</td>\n    </tr>\n    <tr>\n      <th>2146</th>\n      <td>12.0</td>\n      <td>12.0</td>\n      <td>0.0</td>\n    </tr>\n    <tr>\n      <th>...</th>\n      <td>...</td>\n      <td>...</td>\n      <td>...</td>\n    </tr>\n    <tr>\n      <th>921</th>\n      <td>1.0</td>\n      <td>2.0</td>\n      <td>1.0</td>\n    </tr>\n    <tr>\n      <th>1074</th>\n      <td>5.0</td>\n      <td>6.0</td>\n      <td>1.0</td>\n    </tr>\n    <tr>\n      <th>853</th>\n      <td>5.0</td>\n      <td>4.0</td>\n      <td>1.0</td>\n    </tr>\n    <tr>\n      <th>1489</th>\n      <td>5.0</td>\n      <td>6.0</td>\n      <td>1.0</td>\n    </tr>\n    <tr>\n      <th>25</th>\n      <td>11.0</td>\n      <td>10.0</td>\n      <td>1.0</td>\n    </tr>\n  </tbody>\n</table>\n<p>100 rows × 3 columns</p>\n</div>"
     },
     "execution_count": 87,
     "metadata": {},
     "output_type": "execute_result"
    }
   ],
   "source": [
    "result_df = pd.DataFrame(y_test.values, columns=['real_count'])\n",
    "result_df['predicted_count']= np.round(predict)\n",
    "result_df['diff'] = np.abs(result_df['real_count'] - result_df['predicted_count'])\n",
    "\n",
    "# result_df.sort_values('diff', ascending=False)[:20]  # 오차가 너무 커 보여 생략\n",
    "result_df.sort_values('diff', ascending=True)[:100]"
   ],
   "metadata": {
    "collapsed": false,
    "pycharm": {
     "name": "#%%\n"
    }
   }
  },
  {
   "cell_type": "code",
   "execution_count": 92,
   "outputs": [
    {
     "data": {
      "text/plain": "Text(0, 0.5, 'predicted value')"
     },
     "execution_count": 92,
     "metadata": {},
     "output_type": "execute_result"
    },
    {
     "data": {
      "text/plain": "<Figure size 864x576 with 1 Axes>",
      "image/png": "[encoded data removed]"
     },
     "metadata": {
      "needs_background": "light"
     },
     "output_type": "display_data"
    }
   ],
   "source": [
    "plt.figure(figsize=(12,8))\n",
    "plt.scatter(y_test, predict)\n",
    "plt.xlabel(\"real value\")\n",
    "plt.ylabel(\"predicted value\")"
   ],
   "metadata": {
    "collapsed": false,
    "pycharm": {
     "name": "#%%\n"
    }
   }
  },
  {
   "cell_type": "markdown",
   "source": [
    "여전히 완벽한 모델은 아니지만, 제법 준수한 예측을 해 주는 것 같습니다.\n",
    "선형회귀 모델을 유지한 채로 성능을 더 끌어올리려면,\n",
    "지속적으로 데이터를 더 많이 확보하거나\n",
    "그리드서치로 하이퍼파라미터를 최적화해보기도 하고\n",
    "다항polynomial회귀와 규제-Ridge, Lasso 등을 적용해볼 수도 있고\n",
    "(범주형으로 전부 때려넣었던) 기간정보 등을 통해 시계열에 따른 경향을 고려해볼 수도 있겠습니다.\n",
    "(다만, 대체로 성능향상은 경미합니다.)\n",
    "\n",
    "마지막으로 이 데이터셋에서 가장 높은 성능을 보이는 \"앙상블 모델\"로도 학습을 해보겠습니다.\n",
    "\n",
    "가장 인기가 많은 라이브러리인 XGBoost, 마이크로소프트에서 제작한 lightgbm과\n",
    "사이킷런에서 기본적으로 제공하는 랜덤포레스트, 그래디언트 부스팅 모델 등\n",
    "성능이 뛰어나다는 회귀(트리)모델을 전부 가져와서 학습을 돌려보겠습니다.\n",
    "\n",
    "> 참고로 앙상블모델은 기존의 단순한 모델을 여러 개(수백~수천) 만들고 각각의 예측값 또는 오답여부, 오차 등의 정보를 이용해 여러 방법으로 조합하여 최적의 예측값을 도출하는 기법입니다. 일종의 \"집단지성\"같은 모델입니다. 이들의 평균을 낸다든지(회귀), 투표를 한다든지(분류) 등의 방식으로 정확도도 끌어올리면서 과적합도 적당히 방지하는, (딥러닝을 제외하고는) 가장 인기가 많은 모델이기도 합니다.\n",
    "\n",
    "<img src=\"https://img1.daumcdn.net/thumb/R1280x0/?scode=mtistory2&fname=https%3A%2F%2Fblog.kakaocdn.net%2Fdn%2FFthOe%2FbtqGn0AeoUy%2FKWkOHKAEz2MSfchuxNxQJ0%2Fimg.png\" width=900>"
   ],
   "metadata": {
    "collapsed": false,
    "pycharm": {
     "name": "#%% md\n"
    }
   }
  },
  {
   "cell_type": "code",
   "execution_count": 26,
   "outputs": [
    {
     "name": "stdout",
     "output_type": "stream",
     "text": [
      "Requirement already satisfied: xgboost in c:\\users\\smj02\\anaconda3\\lib\\site-packages (1.6.1)\n",
      "Requirement already satisfied: lightgbm in c:\\users\\smj02\\anaconda3\\lib\\site-packages (3.3.2)\n",
      "Requirement already satisfied: scipy in c:\\users\\smj02\\anaconda3\\lib\\site-packages (from xgboost) (1.7.1)\n",
      "Requirement already satisfied: numpy in c:\\users\\smj02\\anaconda3\\lib\\site-packages (from xgboost) (1.20.3)\n",
      "Requirement already satisfied: scikit-learn!=0.22.0 in c:\\users\\smj02\\anaconda3\\lib\\site-packages (from lightgbm) (0.24.2)\n",
      "Requirement already satisfied: wheel in c:\\users\\smj02\\anaconda3\\lib\\site-packages (from lightgbm) (0.37.0)\n",
      "Requirement already satisfied: threadpoolctl>=2.0.0 in c:\\users\\smj02\\anaconda3\\lib\\site-packages (from scikit-learn!=0.22.0->lightgbm) (2.2.0)\n",
      "Requirement already satisfied: joblib>=0.11 in c:\\users\\smj02\\anaconda3\\lib\\site-packages (from scikit-learn!=0.22.0->lightgbm) (1.1.0)\n"
     ]
    }
   ],
   "source": [
    "!pip install xgboost lightgbm  # 외부 라이브러리이므로 설치 필요"
   ],
   "metadata": {
    "collapsed": false,
    "pycharm": {
     "name": "#%%\n"
    }
   }
  },
  {
   "cell_type": "code",
   "execution_count": 95,
   "outputs": [
    {
     "name": "stdout",
     "output_type": "stream",
     "text": [
      "RandomForestRegressor(n_estimators=500)\n",
      "rmse :  46.41781058521262\n",
      "r2_score :  0.9331307360060586\n",
      "\n",
      "\n",
      "\n",
      "GradientBoostingRegressor(n_estimators=500)\n",
      "rmse :  55.01454661712772\n",
      "r2_score :  0.9061237436851683\n",
      "\n",
      "\n",
      "\n",
      "XGBRegressor(base_score=0.5, booster='gbtree', callbacks=None,\n",
      "             colsample_bylevel=1, colsample_bynode=1, colsample_bytree=1,\n",
      "             early_stopping_rounds=None, enable_categorical=False,\n",
      "             eval_metric=None, gamma=0, gpu_id=-1, grow_policy='depthwise',\n",
      "             importance_type=None, interaction_constraints='',\n",
      "             learning_rate=0.300000012, max_bin=256, max_cat_to_onehot=4,\n",
      "             max_delta_step=0, max_depth=6, max_leaves=0, min_child_weight=1,\n",
      "             missing=nan, monotone_constraints='()', n_estimators=500, n_jobs=0,\n",
      "             num_parallel_tree=1, predictor='auto', random_state=0, reg_alpha=0,\n",
      "             reg_lambda=1, ...)\n",
      "rmse :  52.98193632397359\n",
      "r2_score :  0.914532481817359\n",
      "\n",
      "\n",
      "\n",
      "LGBMRegressor(n_estimators=500)\n",
      "rmse :  44.02922353915659\n",
      "r2_score :  0.9400243277896806\n",
      "\n",
      "\n",
      "\n"
     ]
    }
   ],
   "source": [
    "from sklearn.ensemble import RandomForestRegressor, GradientBoostingRegressor\n",
    "from xgboost import XGBRegressor\n",
    "from lightgbm import LGBMRegressor\n",
    "\n",
    "\n",
    "\n",
    "model = RandomForestRegressor(n_estimators=500)\n",
    "gbm = GradientBoostingRegressor(n_estimators=500)\n",
    "xgb = XGBRegressor(n_estimators=500)\n",
    "model = LGBMRegressor(n_estimators=500)\n",
    "\n",
    "for model in [rf, gbm, xgb, lgbm]:\n",
    "    X_train, X_test, y_train, y_test = train_test_split(X_features, y_target_log, test_size=0.3)\n",
    "    model.fit(X_train, y_train)\n",
    "    predict = model.predict(X_test)\n",
    "    y_test = np.expm1(y_test)  # 원래 스케일로 변환(복원)\n",
    "    predict = np.expm1(predict)  # 로그변환된 타겟값을 기반으로 예측했으므로 예측값도 스케일 복원\n",
    "    print(model)\n",
    "    print(\"rmse : \", rmse(y_test, predict))\n",
    "    print(\"r2_score : \", r2_score(y_test, predict))\n",
    "    print(\"\\n\\n\")"
   ],
   "metadata": {
    "collapsed": false,
    "pycharm": {
     "name": "#%%\n"
    }
   }
  },
  {
   "cell_type": "markdown",
   "source": [
    "앙상블 모델들은 대체로 40 부근의 준수한 RMSE 값, 0.9 이상의 R2 값이 나왔네요.\n",
    "(이것이 집단지성의 힘인가요ㄷㄷㄷ)\n",
    "\n",
    "항상 앙상블(회귀 트리)가 선형회귀보다 뛰어난 성능을 보이는 것은 아닙니다.\n",
    "(그렇지만 거의 대부분의 경우에 뛰어나기는 합니다ㅜ)\n",
    "데이터세트 유형에 따라 얼마든지 결과가 달라질 수 있어\n",
    "여러 개의 가벼운 모델로도 예측을 시도해보는 습관을 가지는 것이 좋습니다."
   ],
   "metadata": {
    "collapsed": false,
    "pycharm": {
     "name": "#%% md\n"
    }
   }
  },
  {
   "cell_type": "markdown",
   "source": [
    "# 학습완료된 모델을 로컬에 저장하기\n",
    "\n",
    "학습한 모델 객체를 저장할 때는 joblib 또는 (파이썬에서 기본제공하는) pickle 모듈을 사용합니다.\n",
    "선형회귀 모델 lr은 joblib으로, lightGBM 모델은 pickle로 저장해보겠습니다."
   ],
   "metadata": {
    "collapsed": false,
    "pycharm": {
     "name": "#%% md\n"
    }
   }
  },
  {
   "cell_type": "code",
   "execution_count": 148,
   "outputs": [
    {
     "data": {
      "text/plain": "['bikeshare_linearregression#20220721.sav']"
     },
     "execution_count": 148,
     "metadata": {},
     "output_type": "execute_result"
    }
   ],
   "source": [
    "# 학습완료된 모델을 로컬에 저장(joblib 사용)\n",
    "import joblib\n",
    "\n",
    "\n",
    "joblib.dump(lr, 'bikeshare_linearregression#20220721.sav') # 모델을 파일로 저장"
   ],
   "metadata": {
    "collapsed": false,
    "pycharm": {
     "name": "#%%\n"
    }
   }
  },
  {
   "cell_type": "code",
   "execution_count": 149,
   "outputs": [],
   "source": [
    "# 학습완료된 lightGBM 모델을 로컬에 저장(pickle 사용)\n",
    "import pickle\n",
    "\n",
    "\n",
    "filename2 = 'bikeshare_lightgbm#20220721.pickle'\n",
    "with open(filename2, \"wb\") as f:\n",
    "    pickle.dump(model, f)"
   ],
   "metadata": {
    "collapsed": false,
    "pycharm": {
     "name": "#%%\n"
    }
   }
  },
  {
   "cell_type": "markdown",
   "source": [
    "간편하게 저장이 완료되었습니다.\n",
    "이제 이 파일을 통해 모델을 불러오는 과정을 보여드리겠습니다."
   ],
   "metadata": {
    "collapsed": false,
    "pycharm": {
     "name": "#%% md\n"
    }
   }
  },
  {
   "cell_type": "code",
   "execution_count": 150,
   "outputs": [
    {
     "data": {
      "text/plain": "LinearRegression()"
     },
     "execution_count": 150,
     "metadata": {},
     "output_type": "execute_result"
    }
   ],
   "source": [
    "# joblib으로 파일에서 모델객체 불러오기\n",
    "lr_model = joblib.load('bikeshare_linearregression#20220721.sav')\n",
    "lr_model"
   ],
   "metadata": {
    "collapsed": false,
    "pycharm": {
     "name": "#%%\n"
    }
   }
  },
  {
   "cell_type": "code",
   "execution_count": 151,
   "outputs": [
    {
     "data": {
      "text/plain": "LGBMRegressor(n_estimators=500)"
     },
     "execution_count": 151,
     "metadata": {},
     "output_type": "execute_result"
    }
   ],
   "source": [
    "# pickle로 파일에서 모델객체 불러오기\n",
    "with open(filename2, \"rb\") as f:  # Read Binary\n",
    "    lgbm_model = pickle.load(f)\n",
    "\n",
    "lgbm_model"
   ],
   "metadata": {
    "collapsed": false,
    "pycharm": {
     "name": "#%%\n"
    }
   }
  },
  {
   "cell_type": "markdown",
   "source": [
    "# 공유자전거 수요 예측하기\n",
    "\n",
    "## 입력데이터 준비"
   ],
   "metadata": {
    "collapsed": false,
    "pycharm": {
     "name": "#%% md\n"
    }
   }
  },
  {
   "cell_type": "code",
   "execution_count": 153,
   "outputs": [
    {
     "name": "stdout",
     "output_type": "stream",
     "text": [
      "[[15.58  19.695 76.     0.     0.     1.     0.     0.     0.     0.\n",
      "   0.     0.     0.     0.     0.     1.     0.     0.     0.     0.\n",
      "   0.     0.     0.     0.     0.     0.     0.     0.     0.     0.\n",
      "   0.     0.     0.     0.     1.     0.     0.     0.     0.     1.\n",
      "   0.     0.     0.     0.     0.     0.     0.     0.     0.     0.\n",
      "   0.     0.     0.     0.     0.     0.     0.     0.     0.     0.\n",
      "   0.     1.     0.     0.     1.     0.     0.     0.     1.     1.\n",
      "   0.     0.     0.   ]]\n"
     ]
    }
   ],
   "source": [
    "example = np.array(X_test.iloc[0]).reshape(-1, 1).T  # model.predict 메서드는 열갯수가 중요하므로 전치(T)로 열벡터로 바꿈\n",
    "print(example)  # 기온 섭씨15.58도, 체감기온 19.7도, 상대습도 76% 등등"
   ],
   "metadata": {
    "collapsed": false,
    "pycharm": {
     "name": "#%%\n"
    }
   }
  },
  {
   "cell_type": "markdown",
   "source": [
    "## 불러온 선형회귀 모델로 예측하기"
   ],
   "metadata": {
    "collapsed": false,
    "pycharm": {
     "name": "#%% md\n"
    }
   }
  },
  {
   "cell_type": "code",
   "execution_count": 145,
   "outputs": [
    {
     "data": {
      "text/plain": "array([22.62960515])"
     },
     "execution_count": 145,
     "metadata": {},
     "output_type": "execute_result"
    }
   ],
   "source": [
    "np.expm1(lr_model.predict(example))  # 선형회귀"
   ],
   "metadata": {
    "collapsed": false,
    "pycharm": {
     "name": "#%%\n"
    }
   }
  },
  {
   "cell_type": "markdown",
   "source": [
    "## 불러온 LightGBM 모델로 예측하기"
   ],
   "metadata": {
    "collapsed": false,
    "pycharm": {
     "name": "#%% md\n"
    }
   }
  },
  {
   "cell_type": "code",
   "execution_count": 152,
   "outputs": [
    {
     "data": {
      "text/plain": "array([5.60686302])"
     },
     "execution_count": 152,
     "metadata": {},
     "output_type": "execute_result"
    }
   ],
   "source": [
    "np.expm1(lgbm_model.predict(example))  # LightGBM"
   ],
   "metadata": {
    "collapsed": false,
    "pycharm": {
     "name": "#%%\n"
    }
   }
  },
  {
   "cell_type": "markdown",
   "source": [
    "# 예측결과\n",
    "\n",
    "2012년 10월 17일(수) 겨울 새벽 두 시,\n",
    "날씨는 맑고, 기온은 섭씨 15.6도, 체감온도 19.7도, 상대습도 76%일 때 새벽2시~3시 대여 예측량은,\n",
    "선형회귀는 **약 23대** 정도로, LightGBM은 **약 6대** 정도로 예측하네요.\n",
    "(해당 시간에 실제로는 **16대**를 대여했습니다.)\n",
    "\n",
    "> 실제로 머신러닝 서비스는 데이터 적재나 예측 때 DB를 연동한 일종의 \"파이프라인\"을 구축해놓습니다.\n",
    "> 간단한 숫자 하나를 예측하는데 73개나 되는 숫자를 손으로 직접 전처리하고 입력하기는 쉽지 않죠.\n",
    "\n",
    "오늘 온라인 미팅은 여기서 마치겠습니다.\n",
    "다음 시간에 뵙겠습니다!\n",
    "\n",
    "수고하셨습니다!"
   ],
   "metadata": {
    "collapsed": false,
    "pycharm": {
     "name": "#%% md\n"
    }
   }
  },
  {
   "cell_type": "code",
   "execution_count": null,
   "outputs": [],
   "source": [],
   "metadata": {
    "collapsed": false,
    "pycharm": {
     "name": "#%%\n"
    }
   }
  }
 ],
 "metadata": {
  "kernelspec": {
   "display_name": "Python 3",
   "language": "python",
   "name": "python3"
  },
  "language_info": {
   "codemirror_mode": {
    "name": "ipython",
    "version": 2
   },
   "file_extension": ".py",
   "mimetype": "text/x-python",
   "name": "python",
   "nbconvert_exporter": "python",
   "pygments_lexer": "ipython2",
   "version": "2.7.6"
  }
 },
 "nbformat": 4,
 "nbformat_minor": 0
}