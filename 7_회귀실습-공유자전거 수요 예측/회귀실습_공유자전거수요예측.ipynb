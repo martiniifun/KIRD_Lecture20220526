{
 "cells": [
  {
   "cell_type": "markdown",
   "source": [
    "# 선형회귀 실습 - 공유자전거 대여 수요 예측\n",
    "\n",
    "캐글의 자전거 대여 수요 데이터셋을 활용하여 선형회귀 예측모델을 만드는 과정을 실습해보겠습니다. 데이터세트는 https://www.kaggle.com/c/bike-sharing-demand/data에서 내려받을 수 있습니다. train.csv 파일만 다운받아서 노트북 폴더에 복사해 둡니다.\n",
    "\n",
    "![](https://imgdb.in/k7rr.jpg)\n",
    "\n",
    "위 데이터세트는 2011년 1월부터 2012년 12월까지 2년동안 매일 1시간 간격으로 자전거 대여 횟수를 기록한 자료입니다. 데이터세트의 칼럼은 아래와 같습니다.\n",
    "\n",
    "- datetime : 날짜 + 시각(1시간 간격)\n",
    "- season : 계절(봄여름가을겨울 순으로 1, 2, 3, 4)\n",
    "- holiday : 휴일이면 1, 휴일이 아니면 0(주말은 0)\n",
    "- workingday : 주중이면 1, 주말이나 휴일이면 0\n",
    "- weather : 날씨(1-맑거나 약간 구름, 2-안개, 3-가벼운 눈이나 비, 4-심한 눈이나 천둥번개)\n",
    "- temp : 온도(섭씨)\n",
    "- atemp : 체감온도(섭씨)\n",
    "- humidity : 상대습도\n",
    "- windspeed : 풍속(단위?)\n",
    "- casual : 미등록 사용자(비회원) 대여횟수\n",
    "- registered : 등록회원 대여횟수\n",
    "- count : 대여횟수(예측대상)"
   ],
   "metadata": {
    "collapsed": false,
    "pycharm": {
     "name": "#%% md\n"
    }
   }
  },
  {
   "cell_type": "markdown",
   "source": [
    "본격적으로 예측작업을 하기 전에 데이터 탐색을 한 번 해 봅시다."
   ],
   "metadata": {
    "collapsed": false,
    "pycharm": {
     "name": "#%% md\n"
    }
   }
  },
  {
   "cell_type": "code",
   "execution_count": 197,
   "outputs": [
    {
     "data": {
      "text/plain": "              datetime  season  holiday  workingday  weather  temp   atemp  \\\n0  2011-01-01 00:00:00       1        0           0        1  9.84  14.395   \n1  2011-01-01 01:00:00       1        0           0        1  9.02  13.635   \n2  2011-01-01 02:00:00       1        0           0        1  9.02  13.635   \n3  2011-01-01 03:00:00       1        0           0        1  9.84  14.395   \n4  2011-01-01 04:00:00       1        0           0        1  9.84  14.395   \n\n   humidity  windspeed  casual  registered  count  \n0        81        0.0       3          13     16  \n1        80        0.0       8          32     40  \n2        80        0.0       5          27     32  \n3        75        0.0       3          10     13  \n4        75        0.0       0           1      1  ",
      "text/html": "<div>\n<style scoped>\n    .dataframe tbody tr th:only-of-type {\n        vertical-align: middle;\n    }\n\n    .dataframe tbody tr th {\n        vertical-align: top;\n    }\n\n    .dataframe thead th {\n        text-align: right;\n    }\n</style>\n<table border=\"1\" class=\"dataframe\">\n  <thead>\n    <tr style=\"text-align: right;\">\n      <th></th>\n      <th>datetime</th>\n      <th>season</th>\n      <th>holiday</th>\n      <th>workingday</th>\n      <th>weather</th>\n      <th>temp</th>\n      <th>atemp</th>\n      <th>humidity</th>\n      <th>windspeed</th>\n      <th>casual</th>\n      <th>registered</th>\n      <th>count</th>\n    </tr>\n  </thead>\n  <tbody>\n    <tr>\n      <th>0</th>\n      <td>2011-01-01 00:00:00</td>\n      <td>1</td>\n      <td>0</td>\n      <td>0</td>\n      <td>1</td>\n      <td>9.84</td>\n      <td>14.395</td>\n      <td>81</td>\n      <td>0.0</td>\n      <td>3</td>\n      <td>13</td>\n      <td>16</td>\n    </tr>\n    <tr>\n      <th>1</th>\n      <td>2011-01-01 01:00:00</td>\n      <td>1</td>\n      <td>0</td>\n      <td>0</td>\n      <td>1</td>\n      <td>9.02</td>\n      <td>13.635</td>\n      <td>80</td>\n      <td>0.0</td>\n      <td>8</td>\n      <td>32</td>\n      <td>40</td>\n    </tr>\n    <tr>\n      <th>2</th>\n      <td>2011-01-01 02:00:00</td>\n      <td>1</td>\n      <td>0</td>\n      <td>0</td>\n      <td>1</td>\n      <td>9.02</td>\n      <td>13.635</td>\n      <td>80</td>\n      <td>0.0</td>\n      <td>5</td>\n      <td>27</td>\n      <td>32</td>\n    </tr>\n    <tr>\n      <th>3</th>\n      <td>2011-01-01 03:00:00</td>\n      <td>1</td>\n      <td>0</td>\n      <td>0</td>\n      <td>1</td>\n      <td>9.84</td>\n      <td>14.395</td>\n      <td>75</td>\n      <td>0.0</td>\n      <td>3</td>\n      <td>10</td>\n      <td>13</td>\n    </tr>\n    <tr>\n      <th>4</th>\n      <td>2011-01-01 04:00:00</td>\n      <td>1</td>\n      <td>0</td>\n      <td>0</td>\n      <td>1</td>\n      <td>9.84</td>\n      <td>14.395</td>\n      <td>75</td>\n      <td>0.0</td>\n      <td>0</td>\n      <td>1</td>\n      <td>1</td>\n    </tr>\n  </tbody>\n</table>\n</div>"
     },
     "execution_count": 197,
     "metadata": {},
     "output_type": "execute_result"
    }
   ],
   "source": [
    "import numpy as np\n",
    "import pandas as pd\n",
    "import seaborn as sns\n",
    "import matplotlib.pyplot as plt\n",
    "%matplotlib inline\n",
    "\n",
    "\n",
    "df = pd.read_csv(\"./train.csv\")\n",
    "df.head()"
   ],
   "metadata": {
    "collapsed": false,
    "pycharm": {
     "name": "#%%\n"
    }
   }
  },
  {
   "cell_type": "code",
   "execution_count": 198,
   "outputs": [
    {
     "name": "stdout",
     "output_type": "stream",
     "text": [
      "<class 'pandas.core.frame.DataFrame'>\n",
      "RangeIndex: 10886 entries, 0 to 10885\n",
      "Data columns (total 12 columns):\n",
      " #   Column      Non-Null Count  Dtype  \n",
      "---  ------      --------------  -----  \n",
      " 0   datetime    10886 non-null  object \n",
      " 1   season      10886 non-null  int64  \n",
      " 2   holiday     10886 non-null  int64  \n",
      " 3   workingday  10886 non-null  int64  \n",
      " 4   weather     10886 non-null  int64  \n",
      " 5   temp        10886 non-null  float64\n",
      " 6   atemp       10886 non-null  float64\n",
      " 7   humidity    10886 non-null  int64  \n",
      " 8   windspeed   10886 non-null  float64\n",
      " 9   casual      10886 non-null  int64  \n",
      " 10  registered  10886 non-null  int64  \n",
      " 11  count       10886 non-null  int64  \n",
      "dtypes: float64(3), int64(8), object(1)\n",
      "memory usage: 1020.7+ KB\n"
     ]
    }
   ],
   "source": [
    "df.info()"
   ],
   "metadata": {
    "collapsed": false,
    "pycharm": {
     "name": "#%%\n"
    }
   }
  },
  {
   "cell_type": "markdown",
   "source": [
    "10886개의 행과 12개의 칼럼으로 구성되어 있네요. 다행히 Null 데이터도 없고요.\n",
    "\n",
    "0번 행인 datetime을 보면 자료형이 \"object\"입니다. \"연-월-일 시:분:초\" 형식의 문자열로 구성되어 있는데, [연, 월, 일, 시] 네 개의 칼럼으로 분리하도록 하겠습니다. (분과 초는 0이므로 무시합시다.)"
   ],
   "metadata": {
    "collapsed": false,
    "pycharm": {
     "name": "#%% md\n"
    }
   }
  },
  {
   "cell_type": "code",
   "execution_count": 199,
   "outputs": [
    {
     "data": {
      "text/plain": "   season  holiday  workingday  weather  temp   atemp  humidity  windspeed  \\\n0       1        0           0        1  9.84  14.395        81        0.0   \n1       1        0           0        1  9.02  13.635        80        0.0   \n2       1        0           0        1  9.02  13.635        80        0.0   \n3       1        0           0        1  9.84  14.395        75        0.0   \n4       1        0           0        1  9.84  14.395        75        0.0   \n\n   casual  registered  count  year  month  day  hour  \n0       3          13     16  2011      1    1     0  \n1       8          32     40  2011      1    1     1  \n2       5          27     32  2011      1    1     2  \n3       3          10     13  2011      1    1     3  \n4       0           1      1  2011      1    1     4  ",
      "text/html": "<div>\n<style scoped>\n    .dataframe tbody tr th:only-of-type {\n        vertical-align: middle;\n    }\n\n    .dataframe tbody tr th {\n        vertical-align: top;\n    }\n\n    .dataframe thead th {\n        text-align: right;\n    }\n</style>\n<table border=\"1\" class=\"dataframe\">\n  <thead>\n    <tr style=\"text-align: right;\">\n      <th></th>\n      <th>season</th>\n      <th>holiday</th>\n      <th>workingday</th>\n      <th>weather</th>\n      <th>temp</th>\n      <th>atemp</th>\n      <th>humidity</th>\n      <th>windspeed</th>\n      <th>casual</th>\n      <th>registered</th>\n      <th>count</th>\n      <th>year</th>\n      <th>month</th>\n      <th>day</th>\n      <th>hour</th>\n    </tr>\n  </thead>\n  <tbody>\n    <tr>\n      <th>0</th>\n      <td>1</td>\n      <td>0</td>\n      <td>0</td>\n      <td>1</td>\n      <td>9.84</td>\n      <td>14.395</td>\n      <td>81</td>\n      <td>0.0</td>\n      <td>3</td>\n      <td>13</td>\n      <td>16</td>\n      <td>2011</td>\n      <td>1</td>\n      <td>1</td>\n      <td>0</td>\n    </tr>\n    <tr>\n      <th>1</th>\n      <td>1</td>\n      <td>0</td>\n      <td>0</td>\n      <td>1</td>\n      <td>9.02</td>\n      <td>13.635</td>\n      <td>80</td>\n      <td>0.0</td>\n      <td>8</td>\n      <td>32</td>\n      <td>40</td>\n      <td>2011</td>\n      <td>1</td>\n      <td>1</td>\n      <td>1</td>\n    </tr>\n    <tr>\n      <th>2</th>\n      <td>1</td>\n      <td>0</td>\n      <td>0</td>\n      <td>1</td>\n      <td>9.02</td>\n      <td>13.635</td>\n      <td>80</td>\n      <td>0.0</td>\n      <td>5</td>\n      <td>27</td>\n      <td>32</td>\n      <td>2011</td>\n      <td>1</td>\n      <td>1</td>\n      <td>2</td>\n    </tr>\n    <tr>\n      <th>3</th>\n      <td>1</td>\n      <td>0</td>\n      <td>0</td>\n      <td>1</td>\n      <td>9.84</td>\n      <td>14.395</td>\n      <td>75</td>\n      <td>0.0</td>\n      <td>3</td>\n      <td>10</td>\n      <td>13</td>\n      <td>2011</td>\n      <td>1</td>\n      <td>1</td>\n      <td>3</td>\n    </tr>\n    <tr>\n      <th>4</th>\n      <td>1</td>\n      <td>0</td>\n      <td>0</td>\n      <td>1</td>\n      <td>9.84</td>\n      <td>14.395</td>\n      <td>75</td>\n      <td>0.0</td>\n      <td>0</td>\n      <td>1</td>\n      <td>1</td>\n      <td>2011</td>\n      <td>1</td>\n      <td>1</td>\n      <td>4</td>\n    </tr>\n  </tbody>\n</table>\n</div>"
     },
     "execution_count": 199,
     "metadata": {},
     "output_type": "execute_result"
    }
   ],
   "source": [
    "# 연월일시 추출방법 1(datetime 메서드 활용)\n",
    "df[\"datetime\"] = df.datetime.apply(pd.to_datetime)  # 파이썬에서 제공하는 datetime 인스턴스로 변경\n",
    "df[\"year\"] = df.datetime.apply(lambda x: x.year)\n",
    "df[\"month\"] = df.datetime.apply(lambda x: x.month)\n",
    "df[\"day\"] = df.datetime.apply(lambda x: x.day)\n",
    "df[\"hour\"] = df.datetime.apply(lambda x: x.hour)\n",
    "\n",
    "df.drop([\"datetime\"], inplace=True, axis=1)  # datetime 열 제거\n",
    "df.head()"
   ],
   "metadata": {
    "collapsed": false,
    "pycharm": {
     "name": "#%%\n"
    }
   }
  },
  {
   "cell_type": "code",
   "execution_count": 200,
   "outputs": [
    {
     "name": "stdout",
     "output_type": "stream",
     "text": [
      "2011-01-01 00:00:00\n"
     ]
    }
   ],
   "source": [
    "# 위의 연월일시 변환 코드를 이해하기 위한 예시\n",
    "\n",
    "import datetime as dt\n",
    "\n",
    "sample = \"2011-01-01 00:00:00\"\n",
    "print(dt.datetime.strptime(sample, \"%Y-%m-%d %H:%M:%S\"))"
   ],
   "metadata": {
    "collapsed": false,
    "pycharm": {
     "name": "#%%\n"
    }
   }
  },
  {
   "cell_type": "markdown",
   "source": [
    "또 한 가지, casual과 registered는 합하면 count가 됩니다. 즉, 상관도가 높아 예측을 저해할 우려가 있어서 깔끔하게 지워버려도 되지만, 욱하는 마음에 자전거를 타는 사람 비율이 예측에 도움이 될까 싶기도 한데요. 한 번 상관관계를 알아볼까요?"
   ],
   "metadata": {
    "collapsed": false,
    "pycharm": {
     "name": "#%% md\n"
    }
   }
  },
  {
   "cell_type": "code",
   "execution_count": 201,
   "outputs": [
    {
     "data": {
      "text/plain": "count    1.088600e+04\nmean              inf\nstd               NaN\nmin      0.000000e+00\n25%      6.574394e-02\n50%      1.692308e-01\n75%      3.394495e-01\nmax               inf\nName: ratio, dtype: float64"
     },
     "execution_count": 201,
     "metadata": {},
     "output_type": "execute_result"
    }
   ],
   "source": [
    "df[\"ratio\"] = df[\"casual\"] / df[\"registered\"]\n",
    "df[\"ratio\"].describe()"
   ],
   "metadata": {
    "collapsed": false,
    "pycharm": {
     "name": "#%%\n"
    }
   }
  },
  {
   "cell_type": "code",
   "execution_count": 202,
   "outputs": [
    {
     "data": {
      "text/plain": "<AxesSubplot:xlabel='ratio', ylabel='count'>"
     },
     "execution_count": 202,
     "metadata": {},
     "output_type": "execute_result"
    },
    {
     "data": {
      "text/plain": "<Figure size 432x288 with 1 Axes>",
      "image/png": "[encoded data removed]"
     },
     "metadata": {
      "needs_background": "light"
     },
     "output_type": "display_data"
    }
   ],
   "source": [
    "df.plot.scatter(\"ratio\", \"count\")"
   ],
   "metadata": {
    "collapsed": false,
    "pycharm": {
     "name": "#%%\n"
    }
   }
  },
  {
   "cell_type": "code",
   "execution_count": 203,
   "outputs": [
    {
     "data": {
      "text/plain": "              casual  registered     ratio     count\ncasual      1.000000    0.497250  0.505726  0.690414\nregistered  0.497250    1.000000 -0.052397  0.970948\nratio       0.505726   -0.052397  1.000000  0.095852\ncount       0.690414    0.970948  0.095852  1.000000",
      "text/html": "<div>\n<style scoped>\n    .dataframe tbody tr th:only-of-type {\n        vertical-align: middle;\n    }\n\n    .dataframe tbody tr th {\n        vertical-align: top;\n    }\n\n    .dataframe thead th {\n        text-align: right;\n    }\n</style>\n<table border=\"1\" class=\"dataframe\">\n  <thead>\n    <tr style=\"text-align: right;\">\n      <th></th>\n      <th>casual</th>\n      <th>registered</th>\n      <th>ratio</th>\n      <th>count</th>\n    </tr>\n  </thead>\n  <tbody>\n    <tr>\n      <th>casual</th>\n      <td>1.000000</td>\n      <td>0.497250</td>\n      <td>0.505726</td>\n      <td>0.690414</td>\n    </tr>\n    <tr>\n      <th>registered</th>\n      <td>0.497250</td>\n      <td>1.000000</td>\n      <td>-0.052397</td>\n      <td>0.970948</td>\n    </tr>\n    <tr>\n      <th>ratio</th>\n      <td>0.505726</td>\n      <td>-0.052397</td>\n      <td>1.000000</td>\n      <td>0.095852</td>\n    </tr>\n    <tr>\n      <th>count</th>\n      <td>0.690414</td>\n      <td>0.970948</td>\n      <td>0.095852</td>\n      <td>1.000000</td>\n    </tr>\n  </tbody>\n</table>\n</div>"
     },
     "execution_count": 203,
     "metadata": {},
     "output_type": "execute_result"
    }
   ],
   "source": [
    "df[[\"casual\", \"registered\", \"ratio\", \"count\"]].corr()"
   ],
   "metadata": {
    "collapsed": false,
    "pycharm": {
     "name": "#%%\n"
    }
   }
  },
  {
   "cell_type": "markdown",
   "source": [
    "ratio와 count의 상관관계는 0에 아주 가까운, 아무 짝에도 쓸모없는 관계를 갖고 있군요. 다시 지우겠습니다."
   ],
   "metadata": {
    "collapsed": false,
    "pycharm": {
     "name": "#%% md\n"
    }
   }
  },
  {
   "cell_type": "code",
   "execution_count": 204,
   "outputs": [],
   "source": [
    "df.drop([\"ratio\"], inplace=True, axis=1)"
   ],
   "metadata": {
    "collapsed": false,
    "pycharm": {
     "name": "#%%\n"
    }
   }
  },
  {
   "cell_type": "markdown",
   "source": [
    "이참에 아예 모든 칼럼별로 어떤 값에 count가 많이 들어가는지 시각화해보는 건 어떨까요?\n",
    "(주의: 시간이 상당히 걸림)"
   ],
   "metadata": {
    "collapsed": false,
    "pycharm": {
     "name": "#%% md\n"
    }
   }
  },
  {
   "cell_type": "code",
   "execution_count": 205,
   "outputs": [
    {
     "data": {
      "text/plain": "<Figure size 1440x720 with 16 Axes>",
      "image/png": "[encoded data removed]"
     },
     "metadata": {
      "needs_background": "light"
     },
     "output_type": "display_data"
    }
   ],
   "source": [
    "fig, ax = plt.subplots(figsize=(20, 10), ncols=4, nrows=4)\n",
    "cat_features = df.columns.tolist()[:-1]\n",
    "for idx, feature in enumerate(cat_features):\n",
    "    row = int(idx // 4)\n",
    "    col = idx % 4\n",
    "    sns.barplot(x=feature, y=\"count\", data=df, ax=ax[row][col])\n",
    "fig.subplots_adjust(wspace=0.25, hspace=0.3)"
   ],
   "metadata": {
    "collapsed": false,
    "pycharm": {
     "name": "#%%\n"
    }
   }
  },
  {
   "cell_type": "code",
   "execution_count": 206,
   "outputs": [],
   "source": [
    "from sklearn.model_selection import train_test_split\n",
    "from sklearn.linear_model import LinearRegression\n",
    "from sklearn.metrics import mean_squared_error\n",
    "\n",
    "\n",
    "def rmse(y, pred):\n",
    "    return np.sqrt(mean_squared_error(y, pred))\n",
    "\n",
    "X_features = df.drop([\"count\"], axis=1, inplace=False)\n",
    "y_target = df[\"count\"]\n",
    "\n",
    "X_train, X_test, y_train, y_test = train_test_split(X_features, y_target, test_size=0.3)"
   ],
   "metadata": {
    "collapsed": false,
    "pycharm": {
     "name": "#%%\n"
    }
   }
  },
  {
   "cell_type": "code",
   "execution_count": 207,
   "outputs": [
    {
     "name": "stdout",
     "output_type": "stream",
     "text": [
      "2.7937860897074635e-13\n"
     ]
    }
   ],
   "source": [
    "lr = LinearRegression()\n",
    "lr.fit(X_train, y_train)\n",
    "predict = lr.predict(X_test)\n",
    "print(rmse(y_test, predict))"
   ],
   "metadata": {
    "collapsed": false,
    "pycharm": {
     "name": "#%%\n"
    }
   }
  },
  {
   "cell_type": "markdown",
   "source": [
    "이상하리만큼 오차가 0에 가깝네요...?\n",
    "이럴 땐 의심을 해봐야 합니다.\n"
   ],
   "metadata": {
    "collapsed": false,
    "pycharm": {
     "name": "#%% md\n"
    }
   }
  },
  {
   "cell_type": "code",
   "execution_count": 208,
   "outputs": [
    {
     "data": {
      "text/plain": "      real_count  predicted_count  diff\n0            159            159.0   0.0\n2181          84             84.0   0.0\n2171          30             30.0   0.0\n2172         121            121.0   0.0\n2173         139            139.0   0.0\n2174         137            137.0   0.0\n2175         238            238.0   0.0\n2176          63             63.0   0.0\n2177         126            126.0   0.0\n2178           8              8.0   0.0\n2179         151            151.0   0.0\n2180         153            153.0   0.0\n2182         290            290.0   0.0\n2169         156            156.0   0.0\n2183         188            188.0   0.0\n2184         211            211.0   0.0\n2185         275            275.0   0.0\n2186         218            218.0   0.0\n2187         176            176.0   0.0\n2188          38             38.0   0.0",
      "text/html": "<div>\n<style scoped>\n    .dataframe tbody tr th:only-of-type {\n        vertical-align: middle;\n    }\n\n    .dataframe tbody tr th {\n        vertical-align: top;\n    }\n\n    .dataframe thead th {\n        text-align: right;\n    }\n</style>\n<table border=\"1\" class=\"dataframe\">\n  <thead>\n    <tr style=\"text-align: right;\">\n      <th></th>\n      <th>real_count</th>\n      <th>predicted_count</th>\n      <th>diff</th>\n    </tr>\n  </thead>\n  <tbody>\n    <tr>\n      <th>0</th>\n      <td>159</td>\n      <td>159.0</td>\n      <td>0.0</td>\n    </tr>\n    <tr>\n      <th>2181</th>\n      <td>84</td>\n      <td>84.0</td>\n      <td>0.0</td>\n    </tr>\n    <tr>\n      <th>2171</th>\n      <td>30</td>\n      <td>30.0</td>\n      <td>0.0</td>\n    </tr>\n    <tr>\n      <th>2172</th>\n      <td>121</td>\n      <td>121.0</td>\n      <td>0.0</td>\n    </tr>\n    <tr>\n      <th>2173</th>\n      <td>139</td>\n      <td>139.0</td>\n      <td>0.0</td>\n    </tr>\n    <tr>\n      <th>2174</th>\n      <td>137</td>\n      <td>137.0</td>\n      <td>0.0</td>\n    </tr>\n    <tr>\n      <th>2175</th>\n      <td>238</td>\n      <td>238.0</td>\n      <td>0.0</td>\n    </tr>\n    <tr>\n      <th>2176</th>\n      <td>63</td>\n      <td>63.0</td>\n      <td>0.0</td>\n    </tr>\n    <tr>\n      <th>2177</th>\n      <td>126</td>\n      <td>126.0</td>\n      <td>0.0</td>\n    </tr>\n    <tr>\n      <th>2178</th>\n      <td>8</td>\n      <td>8.0</td>\n      <td>0.0</td>\n    </tr>\n    <tr>\n      <th>2179</th>\n      <td>151</td>\n      <td>151.0</td>\n      <td>0.0</td>\n    </tr>\n    <tr>\n      <th>2180</th>\n      <td>153</td>\n      <td>153.0</td>\n      <td>0.0</td>\n    </tr>\n    <tr>\n      <th>2182</th>\n      <td>290</td>\n      <td>290.0</td>\n      <td>0.0</td>\n    </tr>\n    <tr>\n      <th>2169</th>\n      <td>156</td>\n      <td>156.0</td>\n      <td>0.0</td>\n    </tr>\n    <tr>\n      <th>2183</th>\n      <td>188</td>\n      <td>188.0</td>\n      <td>0.0</td>\n    </tr>\n    <tr>\n      <th>2184</th>\n      <td>211</td>\n      <td>211.0</td>\n      <td>0.0</td>\n    </tr>\n    <tr>\n      <th>2185</th>\n      <td>275</td>\n      <td>275.0</td>\n      <td>0.0</td>\n    </tr>\n    <tr>\n      <th>2186</th>\n      <td>218</td>\n      <td>218.0</td>\n      <td>0.0</td>\n    </tr>\n    <tr>\n      <th>2187</th>\n      <td>176</td>\n      <td>176.0</td>\n      <td>0.0</td>\n    </tr>\n    <tr>\n      <th>2188</th>\n      <td>38</td>\n      <td>38.0</td>\n      <td>0.0</td>\n    </tr>\n  </tbody>\n</table>\n</div>"
     },
     "execution_count": 208,
     "metadata": {},
     "output_type": "execute_result"
    }
   ],
   "source": [
    "# 실제 대여값과 예측 대여값의 차이가 많이 나는 순서대로 출력\n",
    "result_df = pd.DataFrame(y_test.values, columns=['real_count'])\n",
    "result_df['predicted_count']= np.round(predict)\n",
    "result_df['diff'] = np.abs(result_df['real_count'] - result_df['predicted_count'])\n",
    "\n",
    "result_df.sort_values('diff', ascending=False)[:20]"
   ],
   "metadata": {
    "collapsed": false,
    "pycharm": {
     "name": "#%%\n"
    }
   }
  },
  {
   "cell_type": "markdown",
   "source": [
    "이건 뭐 완전히 동일한 값이 나와버리네요? 왜 그럴까요?\n",
    "앞에서 언급했지만, casual + registered = count이기 때문입니다.\n",
    "선형회귀로 학습한 가중치를 한 번 확인해보겠습니다."
   ],
   "metadata": {
    "collapsed": false,
    "pycharm": {
     "name": "#%% md\n"
    }
   }
  },
  {
   "cell_type": "code",
   "execution_count": 209,
   "outputs": [
    {
     "data": {
      "text/plain": "array([ 2.35072898e-14,  4.72948333e-13, -1.11492442e-14,  3.04806161e-14,\n       -3.39321394e-15,  1.56572037e-15, -2.11610727e-15,  5.18715886e-16,\n        1.00000000e+00,  1.00000000e+00, -1.52550771e-15, -3.83997754e-15,\n       -2.35569733e-16,  7.88869862e-16])"
     },
     "execution_count": 209,
     "metadata": {},
     "output_type": "execute_result"
    }
   ],
   "source": [
    "lr.coef_"
   ],
   "metadata": {
    "collapsed": false,
    "pycharm": {
     "name": "#%%\n"
    }
   }
  },
  {
   "cell_type": "markdown",
   "source": [
    "8번과 9번 칼럼만 가중치가 1로 학습되고, 나머지 특성들은 모두 0으로 수렴하였습니다..\n",
    "간단히 생각해보면 casual과 registered는 나중에 집계한 숫자일 뿐, 예측에는 활용될 수 없는 값이기 때문에\n",
    "이 두 개의 특성은 (겸허히) 제거한 후에 예측모델을 다시 만드는 게 좋겠습니다.\n",
    "동일하게 선형회귀 모델을 학습해보겠습니다."
   ],
   "metadata": {
    "collapsed": false,
    "pycharm": {
     "name": "#%% md\n"
    }
   }
  },
  {
   "cell_type": "code",
   "execution_count": 210,
   "outputs": [
    {
     "name": "stdout",
     "output_type": "stream",
     "text": [
      "143.76496415957087\n"
     ]
    }
   ],
   "source": [
    "X_features = df.drop([\"casual\", \"registered\", \"count\"], axis=1, inplace=False)\n",
    "y_target = df[\"count\"]\n",
    "\n",
    "X_train, X_test, y_train, y_test = train_test_split(X_features, y_target, test_size=0.3)\n",
    "\n",
    "lr = LinearRegression()\n",
    "lr.fit(X_train, y_train)\n",
    "predict = lr.predict(X_test)\n",
    "print(rmse(y_test, predict))"
   ],
   "metadata": {
    "collapsed": false,
    "pycharm": {
     "name": "#%%\n"
    }
   }
  },
  {
   "cell_type": "markdown",
   "source": [
    "모르긴 몰라도 144라는 (엄청나게 큰) 숫자가 튀어나왔습니다ㄷㄷ\n",
    "어느 정도 오차인지 잘 감이 오지 않으니 실제값과 예측값의 차이를 다시 한 번 확인해보겠습니다."
   ],
   "metadata": {
    "collapsed": false,
    "pycharm": {
     "name": "#%% md\n"
    }
   }
  },
  {
   "cell_type": "code",
   "execution_count": 211,
   "outputs": [
    {
     "data": {
      "text/plain": "      real_count  predicted_count   diff\n2466         834            191.0  643.0\n718          839            204.0  635.0\n3061         809            198.0  611.0\n1885         784            183.0  601.0\n1494         917            342.0  575.0\n756          968            405.0  563.0\n1028         884            328.0  556.0\n1810         797            245.0  552.0\n1116         856            314.0  542.0\n779          758            216.0  542.0\n132          662            125.0  537.0\n781          745            211.0  534.0\n1668         770            237.0  533.0\n1124         891            358.0  533.0\n1546         925            396.0  529.0\n211          750            223.0  527.0\n1826         901            379.0  522.0\n3191         873            352.0  521.0\n1231         688            172.0  516.0\n2598         681            173.0  508.0",
      "text/html": "<div>\n<style scoped>\n    .dataframe tbody tr th:only-of-type {\n        vertical-align: middle;\n    }\n\n    .dataframe tbody tr th {\n        vertical-align: top;\n    }\n\n    .dataframe thead th {\n        text-align: right;\n    }\n</style>\n<table border=\"1\" class=\"dataframe\">\n  <thead>\n    <tr style=\"text-align: right;\">\n      <th></th>\n      <th>real_count</th>\n      <th>predicted_count</th>\n      <th>diff</th>\n    </tr>\n  </thead>\n  <tbody>\n    <tr>\n      <th>2466</th>\n      <td>834</td>\n      <td>191.0</td>\n      <td>643.0</td>\n    </tr>\n    <tr>\n      <th>718</th>\n      <td>839</td>\n      <td>204.0</td>\n      <td>635.0</td>\n    </tr>\n    <tr>\n      <th>3061</th>\n      <td>809</td>\n      <td>198.0</td>\n      <td>611.0</td>\n    </tr>\n    <tr>\n      <th>1885</th>\n      <td>784</td>\n      <td>183.0</td>\n      <td>601.0</td>\n    </tr>\n    <tr>\n      <th>1494</th>\n      <td>917</td>\n      <td>342.0</td>\n      <td>575.0</td>\n    </tr>\n    <tr>\n      <th>756</th>\n      <td>968</td>\n      <td>405.0</td>\n      <td>563.0</td>\n    </tr>\n    <tr>\n      <th>1028</th>\n      <td>884</td>\n      <td>328.0</td>\n      <td>556.0</td>\n    </tr>\n    <tr>\n      <th>1810</th>\n      <td>797</td>\n      <td>245.0</td>\n      <td>552.0</td>\n    </tr>\n    <tr>\n      <th>1116</th>\n      <td>856</td>\n      <td>314.0</td>\n      <td>542.0</td>\n    </tr>\n    <tr>\n      <th>779</th>\n      <td>758</td>\n      <td>216.0</td>\n      <td>542.0</td>\n    </tr>\n    <tr>\n      <th>132</th>\n      <td>662</td>\n      <td>125.0</td>\n      <td>537.0</td>\n    </tr>\n    <tr>\n      <th>781</th>\n      <td>745</td>\n      <td>211.0</td>\n      <td>534.0</td>\n    </tr>\n    <tr>\n      <th>1668</th>\n      <td>770</td>\n      <td>237.0</td>\n      <td>533.0</td>\n    </tr>\n    <tr>\n      <th>1124</th>\n      <td>891</td>\n      <td>358.0</td>\n      <td>533.0</td>\n    </tr>\n    <tr>\n      <th>1546</th>\n      <td>925</td>\n      <td>396.0</td>\n      <td>529.0</td>\n    </tr>\n    <tr>\n      <th>211</th>\n      <td>750</td>\n      <td>223.0</td>\n      <td>527.0</td>\n    </tr>\n    <tr>\n      <th>1826</th>\n      <td>901</td>\n      <td>379.0</td>\n      <td>522.0</td>\n    </tr>\n    <tr>\n      <th>3191</th>\n      <td>873</td>\n      <td>352.0</td>\n      <td>521.0</td>\n    </tr>\n    <tr>\n      <th>1231</th>\n      <td>688</td>\n      <td>172.0</td>\n      <td>516.0</td>\n    </tr>\n    <tr>\n      <th>2598</th>\n      <td>681</td>\n      <td>173.0</td>\n      <td>508.0</td>\n    </tr>\n  </tbody>\n</table>\n</div>"
     },
     "execution_count": 211,
     "metadata": {},
     "output_type": "execute_result"
    }
   ],
   "source": [
    "result_df = pd.DataFrame(y_test.values, columns=['real_count'])\n",
    "result_df['predicted_count']= np.round(predict)\n",
    "result_df['diff'] = np.abs(result_df['real_count'] - result_df['predicted_count'])\n",
    "\n",
    "result_df.sort_values('diff', ascending=False)[:20]"
   ],
   "metadata": {
    "collapsed": false,
    "pycharm": {
     "name": "#%%\n"
    }
   }
  },
  {
   "cell_type": "code",
   "execution_count": 212,
   "outputs": [
    {
     "data": {
      "text/plain": "<AxesSubplot:xlabel='real_count', ylabel='predicted_count'>"
     },
     "execution_count": 212,
     "metadata": {},
     "output_type": "execute_result"
    },
    {
     "data": {
      "text/plain": "<Figure size 432x288 with 1 Axes>",
      "image/png": "[encoded data removed]"
     },
     "metadata": {
      "needs_background": "light"
     },
     "output_type": "display_data"
    }
   ],
   "source": [
    "result_df.plot.scatter(\"real_count\", \"predicted_count\")"
   ],
   "metadata": {
    "collapsed": false,
    "pycharm": {
     "name": "#%%\n"
    }
   }
  },
  {
   "cell_type": "markdown",
   "source": [
    "개판이네요.. \"834대\"를 빌려간 날의 예측값이 \"190대\"이니 못써먹겠네요.\n",
    "그래도 어떻게든 잘 보완해서 성능을 끌어올려봐야 하지 않겠습니까?\n",
    "\n",
    "회귀에서 이렇게 큰 오류가 발생하는 경우 가장 먼저 확인해야 할 것은 \"타겟 값의 분포\"입니다. 타겟값이 미려한 정규분포곡선을 띠고 있으면 제일 좋은데, 이런 경우는 정말 흔하지 않죠."
   ],
   "metadata": {
    "collapsed": false,
    "pycharm": {
     "name": "#%% md\n"
    }
   }
  },
  {
   "cell_type": "code",
   "execution_count": 213,
   "outputs": [
    {
     "data": {
      "text/plain": "<AxesSubplot:>"
     },
     "execution_count": 213,
     "metadata": {},
     "output_type": "execute_result"
    },
    {
     "data": {
      "text/plain": "<Figure size 432x288 with 1 Axes>",
      "image/png": "[encoded data removed]"
     },
     "metadata": {
      "needs_background": "light"
     },
     "output_type": "display_data"
    }
   ],
   "source": [
    "y_target.hist()"
   ],
   "metadata": {
    "collapsed": false,
    "pycharm": {
     "name": "#%%\n"
    }
   }
  },
  {
   "cell_type": "markdown",
   "source": [
    "이런 히스토그램이라면, 로그변환을 한 번 해보면 정규분포 형태를 띠기도 합니다."
   ],
   "metadata": {
    "collapsed": false,
    "pycharm": {
     "name": "#%% md\n"
    }
   }
  },
  {
   "cell_type": "code",
   "execution_count": 214,
   "outputs": [
    {
     "data": {
      "text/plain": "<AxesSubplot:>"
     },
     "execution_count": 214,
     "metadata": {},
     "output_type": "execute_result"
    },
    {
     "data": {
      "text/plain": "<Figure size 432x288 with 1 Axes>",
      "image/png": "[encoded data removed]"
     },
     "metadata": {
      "needs_background": "light"
     },
     "output_type": "display_data"
    }
   ],
   "source": [
    "y_log = np.log1p(y_target)\n",
    "y_log.hist()"
   ],
   "metadata": {
    "collapsed": false,
    "pycharm": {
     "name": "#%%\n"
    }
   }
  },
  {
   "cell_type": "markdown",
   "source": [
    "(반대쪽으로 쏠려버린 느낌이 없잖아 있지만...)\n",
    "변환하기 전보다는 훨씬 나은 모양이네요.\n",
    "이걸로 다시 학습한 후 평가해보겠습니다.\n",
    "마지막엔 로그로 변환했던 값을 exp로 복원해야 하는 과정 꼭 잊지 마세요!"
   ],
   "metadata": {
    "collapsed": false,
    "pycharm": {
     "name": "#%% md\n"
    }
   }
  },
  {
   "cell_type": "code",
   "execution_count": 215,
   "outputs": [
    {
     "data": {
      "text/plain": "159.84501972536475"
     },
     "execution_count": 215,
     "metadata": {},
     "output_type": "execute_result"
    }
   ],
   "source": [
    "y_target_log = np.log1p(y_target)\n",
    "\n",
    "X_train, X_test, y_train, y_test = train_test_split(X_features, y_target_log, test_size=0.3)\n",
    "lr = LinearRegression()\n",
    "lr.fit(X_train, y_train)\n",
    "predict = lr.predict(X_test)\n",
    "\n",
    "y_test = np.expm1(y_test)  # 원래 스케일로 변환(복원)\n",
    "predict = np.expm1(predict)  # 로그변환된 타겟값을 기반으로 예측했으므로 예측값도 스케일 복원\n",
    "\n",
    "rmse(y_test, predict)"
   ],
   "metadata": {
    "collapsed": false,
    "pycharm": {
     "name": "#%%\n"
    }
   }
  },
  {
   "cell_type": "markdown",
   "source": [
    "점입가경이네요.. RMSE가 더 커졌습니다ㅜㅜㅜ\n",
    "뭐가 문제인지 가중치를 다시 점검해봅시다.."
   ],
   "metadata": {
    "collapsed": false,
    "pycharm": {
     "name": "#%% md\n"
    }
   }
  },
  {
   "cell_type": "code",
   "execution_count": 216,
   "outputs": [
    {
     "data": {
      "text/plain": "<AxesSubplot:>"
     },
     "execution_count": 216,
     "metadata": {},
     "output_type": "execute_result"
    },
    {
     "data": {
      "text/plain": "<Figure size 432x288 with 1 Axes>",
      "image/png": "[encoded data removed]"
     },
     "metadata": {
      "needs_background": "light"
     },
     "output_type": "display_data"
    }
   ],
   "source": [
    "coef = pd.Series(lr.coef_, index=X_features.columns)\n",
    "sns.barplot(x=coef.values, y=coef.index)"
   ],
   "metadata": {
    "collapsed": false,
    "pycharm": {
     "name": "#%%\n"
    }
   }
  },
  {
   "cell_type": "markdown",
   "source": [
    "이건 뭐죠? 가장 영향이 큰 가중치(계수)가 year 특성이네요? 2011, 2012가 가장 영향도가 높다고...?\n",
    "...라고 생각하실 수 있지만 이게 말이 되는 게, 아래 그래프를 보시면 이해가 될 겁니다."
   ],
   "metadata": {
    "collapsed": false,
    "pycharm": {
     "name": "#%% md\n"
    }
   }
  },
  {
   "cell_type": "code",
   "execution_count": 217,
   "outputs": [
    {
     "data": {
      "text/plain": "<AxesSubplot:xlabel='year', ylabel='count'>"
     },
     "execution_count": 217,
     "metadata": {},
     "output_type": "execute_result"
    },
    {
     "data": {
      "text/plain": "<Figure size 432x288 with 1 Axes>",
      "image/png": "[encoded data removed]"
     },
     "metadata": {
      "needs_background": "light"
     },
     "output_type": "display_data"
    }
   ],
   "source": [
    "sns.barplot(x=\"year\", y=\"count\", data=df)"
   ],
   "metadata": {
    "collapsed": false,
    "pycharm": {
     "name": "#%%\n"
    }
   }
  },
  {
   "cell_type": "markdown",
   "source": [
    "2012년에는 자전거 대여횟수가 훅 늘었어요. 두 배 가까이 늘었네요.\n",
    "그래서 우리 모델도 2012년이면 대여횟수가 크고, 2011년에는 대여횟수가 적다고 해석한 거겠죠.\n",
    "> 광고를 많이 해서인지, 점차 대중화가 되고 있어서인지.. 알게 뭐람ㅜ\n",
    "\n",
    "# 이쯤에서 우리가 간과하고 있던..\n",
    "(미리 눈치채신 분도 많겠지만)\n",
    "## 아주 중요한 사실 한 가지를 알려드리겠습니다.\n",
    "\n",
    "우리 선형회귀 모델은 12(월)을 1(월)보다 중요하게 생각하는 경향이 있어요.\n",
    "31(일)을 01(일)보다 30배 크다고 인식하고, 겨울이 봄보다 네 배 정도 크다고 여겨요.\n",
    "연월일시나 계절을 카테고리처럼 인식하는 게 아니라 크기비교가 가능한 숫자라고 인식해버리기 때문에\n",
    "숫자로 된 값에 영향을 크게 받아요.\n",
    "그래서 이들을 모두 카테고리형 특성으로 변환해줘야 해요.\n",
    "가장 많이 사용하는 기법인 \"원-핫 인코딩\"을 적용해보겠습니다.\n",
    "판다스에서 제공하는 get_dummies를 사용하겠습니다."
   ],
   "metadata": {
    "collapsed": false,
    "pycharm": {
     "name": "#%% md\n"
    }
   }
  },
  {
   "cell_type": "code",
   "execution_count": 218,
   "outputs": [
    {
     "name": "stdout",
     "output_type": "stream",
     "text": [
      "<class 'pandas.core.frame.DataFrame'>\n",
      "RangeIndex: 10886 entries, 0 to 10885\n",
      "Data columns (total 12 columns):\n",
      " #   Column      Non-Null Count  Dtype  \n",
      "---  ------      --------------  -----  \n",
      " 0   season      10886 non-null  int64  \n",
      " 1   holiday     10886 non-null  int64  \n",
      " 2   workingday  10886 non-null  int64  \n",
      " 3   weather     10886 non-null  int64  \n",
      " 4   temp        10886 non-null  float64\n",
      " 5   atemp       10886 non-null  float64\n",
      " 6   humidity    10886 non-null  int64  \n",
      " 7   windspeed   10886 non-null  float64\n",
      " 8   year        10886 non-null  int64  \n",
      " 9   month       10886 non-null  int64  \n",
      " 10  day         10886 non-null  int64  \n",
      " 11  hour        10886 non-null  int64  \n",
      "dtypes: float64(3), int64(9)\n",
      "memory usage: 1020.7 KB\n"
     ]
    }
   ],
   "source": [
    "# X_features = pd.get_dummies(X_features, columns=[\"year\", \"month\", \"day\", \"hour\", \"holiday\", \"workingday\", \"season\", \"weather\"])\n",
    "X_features.info()  # 특성이 72개로 훅 늘어납니다."
   ],
   "metadata": {
    "collapsed": false,
    "pycharm": {
     "name": "#%%\n"
    }
   }
  },
  {
   "cell_type": "code",
   "execution_count": 219,
   "outputs": [
    {
     "data": {
      "text/plain": "162.1581605258671"
     },
     "execution_count": 219,
     "metadata": {},
     "output_type": "execute_result"
    }
   ],
   "source": [
    "X_train, X_test, y_train, y_test = train_test_split(X_features, y_target_log, test_size=0.3)\n",
    "lr = LinearRegression()\n",
    "lr.fit(X_train, y_train)\n",
    "predict = lr.predict(X_test)\n",
    "\n",
    "y_test = np.expm1(y_test)  # 원래 스케일로 변환(복원)\n",
    "predict = np.expm1(predict)  # 로그변환된 타겟값을 기반으로 예측했으므로 예측값도 스케일 복원\n",
    "\n",
    "rmse(y_test, predict)"
   ],
   "metadata": {
    "collapsed": false,
    "pycharm": {
     "name": "#%%\n"
    }
   }
  },
  {
   "cell_type": "markdown",
   "source": [
    "오, 뭔가 숫자가 두자리 아래로 내려가니까 성능이 (엄청) 좋아진 것 같네요!\n",
    "다시 영향력이 큰 계수를 알아볼까요?"
   ],
   "metadata": {
    "collapsed": false,
    "pycharm": {
     "name": "#%% md\n"
    }
   }
  },
  {
   "cell_type": "code",
   "execution_count": 220,
   "outputs": [
    {
     "data": {
      "text/plain": "<AxesSubplot:>"
     },
     "execution_count": 220,
     "metadata": {},
     "output_type": "execute_result"
    },
    {
     "data": {
      "text/plain": "<Figure size 432x288 with 1 Axes>",
      "image/png": "[encoded data removed]"
     },
     "metadata": {
      "needs_background": "light"
     },
     "output_type": "display_data"
    }
   ],
   "source": [
    "coef = pd.Series(lr.coef_, index=X_features.columns).sort_values(ascending=False)[:20]\n",
    "sns.barplot(x=coef.values, y=coef.index)"
   ],
   "metadata": {
    "collapsed": false,
    "pycharm": {
     "name": "#%%\n"
    }
   }
  },
  {
   "cell_type": "markdown",
   "source": [
    "year가 올킬하던 예전과는 달리, 계절과 월, 일도 높은 영향도를 보이고 있습니다.\n",
    "위에서 실행했던, 예측값과 실제값의 차이를 다시 알아보겠습니다."
   ],
   "metadata": {
    "collapsed": false,
    "pycharm": {
     "name": "#%% md\n"
    }
   }
  },
  {
   "cell_type": "code",
   "execution_count": 221,
   "outputs": [
    {
     "data": {
      "text/plain": "      real_count  predicted_count   diff\n1906       148.0            909.0  761.0\n468        201.0            961.0  760.0\n1157       839.0             85.0  754.0\n760        758.0             89.0  669.0\n1015       110.0            777.0  667.0\n3233       750.0             95.0  655.0\n93         721.0             73.0  648.0\n314        710.0             65.0  645.0\n3132       759.0            116.0  643.0\n2504       276.0            914.0  638.0\n2316       711.0             85.0  626.0\n452        719.0             94.0  625.0\n3205       688.0             70.0  618.0\n2122       681.0             65.0  616.0\n29         813.0            200.0  613.0\n1635       666.0             55.0  611.0\n896        737.0            128.0  609.0\n1196       679.0             72.0  607.0\n879        683.0             83.0  600.0\n2038       737.0            138.0  599.0",
      "text/html": "<div>\n<style scoped>\n    .dataframe tbody tr th:only-of-type {\n        vertical-align: middle;\n    }\n\n    .dataframe tbody tr th {\n        vertical-align: top;\n    }\n\n    .dataframe thead th {\n        text-align: right;\n    }\n</style>\n<table border=\"1\" class=\"dataframe\">\n  <thead>\n    <tr style=\"text-align: right;\">\n      <th></th>\n      <th>real_count</th>\n      <th>predicted_count</th>\n      <th>diff</th>\n    </tr>\n  </thead>\n  <tbody>\n    <tr>\n      <th>1906</th>\n      <td>148.0</td>\n      <td>909.0</td>\n      <td>761.0</td>\n    </tr>\n    <tr>\n      <th>468</th>\n      <td>201.0</td>\n      <td>961.0</td>\n      <td>760.0</td>\n    </tr>\n    <tr>\n      <th>1157</th>\n      <td>839.0</td>\n      <td>85.0</td>\n      <td>754.0</td>\n    </tr>\n    <tr>\n      <th>760</th>\n      <td>758.0</td>\n      <td>89.0</td>\n      <td>669.0</td>\n    </tr>\n    <tr>\n      <th>1015</th>\n      <td>110.0</td>\n      <td>777.0</td>\n      <td>667.0</td>\n    </tr>\n    <tr>\n      <th>3233</th>\n      <td>750.0</td>\n      <td>95.0</td>\n      <td>655.0</td>\n    </tr>\n    <tr>\n      <th>93</th>\n      <td>721.0</td>\n      <td>73.0</td>\n      <td>648.0</td>\n    </tr>\n    <tr>\n      <th>314</th>\n      <td>710.0</td>\n      <td>65.0</td>\n      <td>645.0</td>\n    </tr>\n    <tr>\n      <th>3132</th>\n      <td>759.0</td>\n      <td>116.0</td>\n      <td>643.0</td>\n    </tr>\n    <tr>\n      <th>2504</th>\n      <td>276.0</td>\n      <td>914.0</td>\n      <td>638.0</td>\n    </tr>\n    <tr>\n      <th>2316</th>\n      <td>711.0</td>\n      <td>85.0</td>\n      <td>626.0</td>\n    </tr>\n    <tr>\n      <th>452</th>\n      <td>719.0</td>\n      <td>94.0</td>\n      <td>625.0</td>\n    </tr>\n    <tr>\n      <th>3205</th>\n      <td>688.0</td>\n      <td>70.0</td>\n      <td>618.0</td>\n    </tr>\n    <tr>\n      <th>2122</th>\n      <td>681.0</td>\n      <td>65.0</td>\n      <td>616.0</td>\n    </tr>\n    <tr>\n      <th>29</th>\n      <td>813.0</td>\n      <td>200.0</td>\n      <td>613.0</td>\n    </tr>\n    <tr>\n      <th>1635</th>\n      <td>666.0</td>\n      <td>55.0</td>\n      <td>611.0</td>\n    </tr>\n    <tr>\n      <th>896</th>\n      <td>737.0</td>\n      <td>128.0</td>\n      <td>609.0</td>\n    </tr>\n    <tr>\n      <th>1196</th>\n      <td>679.0</td>\n      <td>72.0</td>\n      <td>607.0</td>\n    </tr>\n    <tr>\n      <th>879</th>\n      <td>683.0</td>\n      <td>83.0</td>\n      <td>600.0</td>\n    </tr>\n    <tr>\n      <th>2038</th>\n      <td>737.0</td>\n      <td>138.0</td>\n      <td>599.0</td>\n    </tr>\n  </tbody>\n</table>\n</div>"
     },
     "execution_count": 221,
     "metadata": {},
     "output_type": "execute_result"
    }
   ],
   "source": [
    "result_df = pd.DataFrame(y_test.values, columns=['real_count'])\n",
    "result_df['predicted_count']= np.round(predict)\n",
    "result_df['diff'] = np.abs(result_df['real_count'] - result_df['predicted_count'])\n",
    "\n",
    "result_df.sort_values('diff', ascending=False)[:20]"
   ],
   "metadata": {
    "collapsed": false,
    "pycharm": {
     "name": "#%%\n"
    }
   }
  },
  {
   "cell_type": "markdown",
   "source": [
    "여전히 개판인 건 부인할 수 없지만, 그리드서치나 다항회귀를 해도 크게 성능이 향상될 것 같지는 않습니다.\n",
    "\n",
    "아쉽지만 마지막으로 사이킷런에서 제공하는 앙상블모델 중 랜덤포레스트, 그래디언트 부스팅 모델과\n",
    "외부 라이브러리인 XG부스트, 마이크로소프트에서 제작한 lightgbm 등\n",
    "성능이 뛰어나다는 회귀(트리)모델을 전부 가져와서 학습을 돌려보겠습니다."
   ],
   "metadata": {
    "collapsed": false,
    "pycharm": {
     "name": "#%% md\n"
    }
   }
  },
  {
   "cell_type": "code",
   "execution_count": 222,
   "outputs": [
    {
     "name": "stdout",
     "output_type": "stream",
     "text": [
      "Requirement already satisfied: xgboost in c:\\users\\smj02\\anaconda3\\lib\\site-packages (1.6.1)\n",
      "Requirement already satisfied: lightgbm in c:\\users\\smj02\\anaconda3\\lib\\site-packages (3.3.2)\n",
      "Requirement already satisfied: scipy in c:\\users\\smj02\\anaconda3\\lib\\site-packages (from xgboost) (1.7.1)\n",
      "Requirement already satisfied: numpy in c:\\users\\smj02\\anaconda3\\lib\\site-packages (from xgboost) (1.20.3)\n",
      "Requirement already satisfied: wheel in c:\\users\\smj02\\anaconda3\\lib\\site-packages (from lightgbm) (0.37.0)\n",
      "Requirement already satisfied: scikit-learn!=0.22.0 in c:\\users\\smj02\\anaconda3\\lib\\site-packages (from lightgbm) (0.24.2)\n",
      "Requirement already satisfied: threadpoolctl>=2.0.0 in c:\\users\\smj02\\anaconda3\\lib\\site-packages (from scikit-learn!=0.22.0->lightgbm) (2.2.0)\n",
      "Requirement already satisfied: joblib>=0.11 in c:\\users\\smj02\\anaconda3\\lib\\site-packages (from scikit-learn!=0.22.0->lightgbm) (1.1.0)\n"
     ]
    }
   ],
   "source": [
    "!pip install xgboost lightgbm"
   ],
   "metadata": {
    "collapsed": false,
    "pycharm": {
     "name": "#%%\n"
    }
   }
  },
  {
   "cell_type": "code",
   "execution_count": 243,
   "outputs": [
    {
     "name": "stdout",
     "output_type": "stream",
     "text": [
      "RandomForestRegressor(n_estimators=500)\n",
      "47.105349277271564\n",
      "GradientBoostingRegressor(n_estimators=500)\n",
      "46.42909634705627\n",
      "XGBRegressor(base_score=0.5, booster='gbtree', callbacks=None,\n",
      "             colsample_bylevel=1, colsample_bynode=1, colsample_bytree=1,\n",
      "             early_stopping_rounds=None, enable_categorical=False,\n",
      "             eval_metric=None, gamma=0, gpu_id=-1, grow_policy='depthwise',\n",
      "             importance_type=None, interaction_constraints='',\n",
      "             learning_rate=0.300000012, max_bin=256, max_cat_to_onehot=4,\n",
      "             max_delta_step=0, max_depth=6, max_leaves=0, min_child_weight=1,\n",
      "             missing=nan, monotone_constraints='()', n_estimators=500, n_jobs=0,\n",
      "             num_parallel_tree=1, predictor='auto', random_state=0, reg_alpha=0,\n",
      "             reg_lambda=1, ...)\n",
      "44.231857582598565\n",
      "LGBMRegressor(n_estimators=500)\n",
      "41.721985955837525\n"
     ]
    }
   ],
   "source": [
    "from sklearn.ensemble import RandomForestRegressor, GradientBoostingRegressor\n",
    "from xgboost import XGBRegressor\n",
    "from lightgbm import LGBMRegressor\n",
    "\n",
    "\n",
    "def get_diff():\n",
    "    result_df = pd.DataFrame(y_test.values, columns=['real_count'])\n",
    "    result_df['predicted_count']= np.round(predict)\n",
    "    result_df['diff'] = np.abs(result_df['real_count'] - result_df['predicted_count'])\n",
    "    print(result_df.sort_values('diff', ascending=False)[:20])\n",
    "\n",
    "\n",
    "rf = RandomForestRegressor(n_estimators=500)\n",
    "gbm = GradientBoostingRegressor(n_estimators=500)\n",
    "xgb = XGBRegressor(n_estimators=500)\n",
    "lgbm = LGBMRegressor(n_estimators=500)\n",
    "\n",
    "for model in [rf, gbm, xgb, lgbm]:\n",
    "    # get_model_predict(model, X_train, X_test, y_train, y_test)\n",
    "    X_train, X_test, y_train, y_test = train_test_split(X_features, y_target_log, test_size=0.3)\n",
    "    model.fit(X_train, y_train)\n",
    "    predict = model.predict(X_test)\n",
    "    y_test = np.expm1(y_test)  # 원래 스케일로 변환(복원)\n",
    "    predict = np.expm1(predict)  # 로그변환된 타겟값을 기반으로 예측했으므로 예측값도 스케일 복원\n",
    "    print(model)\n",
    "    print(rmse(y_test, predict))\n",
    "    # get_diff()\n",
    "\n"
   ],
   "metadata": {
    "collapsed": false,
    "pycharm": {
     "name": "#%%\n"
    }
   }
  },
  {
   "cell_type": "markdown",
   "source": [
    "회귀 트리 모델들은 대체로 40 부근의 준수한 RMSE 값을 보입니다.\n",
    "회귀 트리가 항상 선형회귀보다 뛰어난 성능을 보이는 모델은 아닙니다.\n",
    "데이터세트의 유형에 따라 얼마든지 결과가 달라질 수 있습니다.\n",
    "그래도 이번 자전거 대여 예측 모델에는 선형회귀보다 트리모델이 더 적합한 것으로 보입니다.\n",
    "\n",
    "이번에는 이 모델 중 하나를 골라 예측값을 리턴해주는 함수를 하나 만들고,\n",
    "GUI로 로컬 프로그램을 한 번 만들어보겠습니다."
   ],
   "metadata": {
    "collapsed": false,
    "pycharm": {
     "name": "#%% md\n"
    }
   }
  },
  {
   "cell_type": "code",
   "execution_count": 244,
   "outputs": [],
   "source": [
    "# pyside6로 GUI 제작"
   ],
   "metadata": {
    "collapsed": false,
    "pycharm": {
     "name": "#%%\n"
    }
   }
  },
  {
   "cell_type": "code",
   "execution_count": null,
   "outputs": [],
   "source": [],
   "metadata": {
    "collapsed": false,
    "pycharm": {
     "name": "#%%\n"
    }
   }
  }
 ],
 "metadata": {
  "kernelspec": {
   "display_name": "Python 3",
   "language": "python",
   "name": "python3"
  },
  "language_info": {
   "codemirror_mode": {
    "name": "ipython",
    "version": 2
   },
   "file_extension": ".py",
   "mimetype": "text/x-python",
   "name": "python",
   "nbconvert_exporter": "python",
   "pygments_lexer": "ipython2",
   "version": "2.7.6"
  }
 },
 "nbformat": 4,
 "nbformat_minor": 0
}