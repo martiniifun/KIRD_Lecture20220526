{
 "cells": [
  {
   "cell_type": "markdown",
   "source": [
    "# 2. 데이터 분석 개요\n",
    "\n",
    "  앞으로 다섯 시간에 걸쳐 데이터분석에 대해 소개드리겠습니다. 이번 시간은 쥬피터노트북을 통한 실습을 통해 파이썬 기초와 판다스 기초에 대해 가볍게 진행하겠습니다. 온라인으로 한 시간 동안 진행하기에는 분량이 다소 많아 이렇게 문서로 공유드리오니 예습복습에 활용해 주시기 바랍니다.\n",
    "\n",
    "\n",
    "\n",
    "## 2-1. 일반적인 데이터분석 프로세스\n",
    "\n",
    "\"데이터 분석\"이라는 용어는 굉장히 막연한 편입니다. \"데이터\"도 \"분석\"도 크게 생소한 용어가 아닌데 말이죠. 어쩌면 \"머신러닝\"이나 \"파이썬\", \"R\"이 유행하면서 뭔가 더 거창한 개념이 되어버린 것 같지만, 본질은 예나 지금이나 동일합니다. ①데이터를 취합하고, ②해당 데이터를 뜯어보면서 **패턴**을 발견하고, ③그림이나 숫자로 요약하는 기술통계를 진행한 후, ④발견한 패턴이 전체 데이터에 적용 가능한지 가설을 세운 후, ⑤유의성을 검정하고, ⑥이를 바탕으로 인사이트를 도출합니다. ⑦이에 기반하여 의사결정을 내리거나 실행에 옮기게 됩니다.\n",
    "\n",
    "데이터 취합(크롤링, 설문 등)\n",
    "-> 데이터 전처리(외부 데이터의 가공, 클렌징)를 통한 마스터 데이터셋의 생성\n",
    "-> 탐색적 데이터 분석(EDA, wrangling)\n",
    "-> 분석모델 및 알고리즘 결정(분석방법론)\n",
    "-> 시각화 보고서를 활용한 커뮤니케이션\n",
    "-> 의사결정 또는 프로덕트 배포\n",
    "\n",
    "## 2-2. 이번 차시에 알아볼 내용\n",
    "\n",
    "이번 차시에는 탐색적 데이터 분석(EDA, Exploratory Data Analysis)을 진행해보겠습니다. 파이썬이나 판다스를 통해 커맨드를 통한 분석이 어느 정도만 익숙해지셔도 엑셀보다 훨씬 더 간편하게 데이터를 탐색하고 시각화할 수 있다는 느낌을 갖게 되실 겁니다.\n",
    "\n",
    "이번 차시에 이용해볼 데이터셋은 \"fifa15.csv\"입니다. 다운받으셔서 쥬피터노트북 파일(.ipynb, 이하 \"노트북\")과 동일한 폴더에 넣어주시기 바랍니다."
   ],
   "metadata": {
    "collapsed": false,
    "pycharm": {
     "name": "#%% md\n"
    }
   }
  },
  {
   "cell_type": "markdown",
   "id": "6c47a816",
   "metadata": {
    "pycharm": {
     "name": "#%% md\n"
    }
   },
   "source": [
    " # 모듈 임포트\n",
    "\n",
    "파이썬 모듈을 임포트합니다. 파이썬에서 특정 모듈을 임포트하는 방법은 ```import 모듈명```입니다. 모듈명이 길어서 커맨드를 입력하기 귀찮은 이들을 위해 ```import 모듈명 as 별칭```으로 임포트하기도 합니다. 판다스는 모듈명이 pandas이지만, 보통 pd라는 별칭으로, 넘파이는 numpy지만, 보통 np라는 별칭을 사용합니다. 오래 전부터 굳어진 관례라서 여러분도 특별한 이유가 없다면 이 컨벤션을 따라 주실 것을 권장드립니다. 여러분의 PC에 파이썬을 설치하셨다면 아래의 커맨드를 실행하여(Shift-Enter) 판다스를 설치해 주시기 바랍니다. (아나콘다를 설치하셨거나, 구글콜랩 등을 사용하고 계시다면 모듈이 이미 설치되어 있습니다.)"
   ]
  },
  {
   "cell_type": "code",
   "execution_count": 87,
   "id": "c2c826c5",
   "metadata": {
    "pycharm": {
     "name": "#%%\n"
    }
   },
   "outputs": [
    {
     "name": "stdout",
     "output_type": "stream",
     "text": [
      "Requirement already satisfied: pandas in c:\\users\\smj02\\anaconda3\\lib\\site-packages (1.3.4)\n",
      "Requirement already satisfied: python-dateutil>=2.7.3 in c:\\users\\smj02\\anaconda3\\lib\\site-packages (from pandas) (2.8.2)\n",
      "Requirement already satisfied: numpy>=1.17.3 in c:\\users\\smj02\\anaconda3\\lib\\site-packages (from pandas) (1.20.3)\n",
      "Requirement already satisfied: pytz>=2017.3 in c:\\users\\smj02\\anaconda3\\lib\\site-packages (from pandas) (2021.3)\n",
      "Requirement already satisfied: six>=1.5 in c:\\users\\smj02\\anaconda3\\lib\\site-packages (from python-dateutil>=2.7.3->pandas) (1.16.0)\n"
     ]
    }
   ],
   "source": [
    "!pip install pandas"
   ]
  },
  {
   "cell_type": "markdown",
   "source": [
    "위 명령을 통해 판다스와 넘파이 등이 설치되었습니다. 이제 임포트를 해 보겠습니다. 위에서 말씀드린 대로 각각 ```pd```와 ```np```라는 별칭으로 임포트합니다."
   ],
   "metadata": {
    "collapsed": false,
    "pycharm": {
     "name": "#%% md\n"
    }
   }
  },
  {
   "cell_type": "code",
   "execution_count": 88,
   "id": "aeb1d593",
   "metadata": {
    "pycharm": {
     "name": "#%%\n"
    }
   },
   "outputs": [],
   "source": [
    "import pandas as pd\n",
    "import numpy as np"
   ]
  },
  {
   "cell_type": "markdown",
   "id": "e9fcf606",
   "metadata": {
    "pycharm": {
     "name": "#%% md\n"
    }
   },
   "source": [
    "# 데이터셋 불러오기\n",
    "\n",
    "이제 데이터셋을 불러오겠습니다. 관례상 데이터프레임은 df라는 변수명으로 사용하는 것이 일반적입니다. (데이터프레임을 가공해 가면서 새로운 이름의 데이터프레임을 생성하기도 합니다.)"
   ]
  },
  {
   "cell_type": "code",
   "execution_count": 89,
   "id": "72579c0e",
   "metadata": {
    "pycharm": {
     "name": "#%%\n"
    }
   },
   "outputs": [],
   "source": [
    "df = pd.read_csv(\"fifa21.csv\")"
   ]
  },
  {
   "cell_type": "markdown",
   "source": [
    "이제 df만 입력하고 셀을 실행해보면 ```fifa21.csv```가 데이터프레임 형태로 출력됩니다."
   ],
   "metadata": {
    "collapsed": false,
    "pycharm": {
     "name": "#%% md\n"
    }
   }
  },
  {
   "cell_type": "code",
   "execution_count": 90,
   "outputs": [
    {
     "data": {
      "text/plain": "       sofifa_id                                         player_url  \\\n0         158023  https://sofifa.com/player/158023/lionel-messi/...   \n1          20801  https://sofifa.com/player/20801/c-ronaldo-dos-...   \n2         190871  https://sofifa.com/player/190871/neymar-da-sil...   \n3         167495  https://sofifa.com/player/167495/manuel-neuer/...   \n4         176580  https://sofifa.com/player/176580/luis-suarez/2...   \n...          ...                                                ...   \n18939     256679  https://sofifa.com/player/256679/kevin-angulo/...   \n18940     257710  https://sofifa.com/player/257710/mengxuan-zhan...   \n18941     250989  https://sofifa.com/player/250989/zhenghao-wang...   \n18942     257697  https://sofifa.com/player/257697/zitong-chen/2...   \n18943     257936   https://sofifa.com/player/257936/yue-song/210002   \n\n              short_name                            long_name  age  \\\n0               L. Messi       Lionel Andrés Messi Cuccittini   33   \n1      Cristiano Ronaldo  Cristiano Ronaldo dos Santos Aveiro   35   \n2              Neymar Jr        Neymar da Silva Santos Júnior   28   \n3               M. Neuer                         Manuel Neuer   34   \n4              L. Suárez             Luis Alberto Suárez Díaz   33   \n...                  ...                                  ...  ...   \n18939          K. Angulo                         Kevin Angulo   24   \n18940     Zhang Mengxuan                       Mengxuan Zhang   21   \n18941      Wang Zhenghao                                  王政豪   20   \n18942        Chen Zitong                          Zitong Chen   23   \n18943           Song Yue                             Yue Song   28   \n\n              dob  height_cm  weight_kg nationality  \\\n0      1987-06-24        170         72   Argentina   \n1      1985-02-05        187         83    Portugal   \n2      1992-02-05        175         68      Brazil   \n3      1986-03-27        193         92     Germany   \n4      1987-01-24        182         86     Uruguay   \n...           ...        ...        ...         ...   \n18939  1996-04-13        176         73    Colombia   \n18940  1999-04-26        177         70    China PR   \n18941  2000-06-28        185         74    China PR   \n18942  1997-02-20        186         80    China PR   \n18943  1991-11-20        185         79    China PR   \n\n                                 club_name              league_name  \\\n0                             FC Barcelona   Spain Primera Division   \n1                                 Juventus          Italian Serie A   \n2                      Paris Saint-Germain           French Ligue 1   \n3                        FC Bayern München     German 1. Bundesliga   \n4                             FC Barcelona   Spain Primera Division   \n...                                    ...                      ...   \n18939                      América de Cali  Colombian Liga Postobón   \n18940  Chongqing Dangdai Lifan FC SWM Team     Chinese Super League   \n18941                      Tianjin TEDA FC     Chinese Super League   \n18942        Shijiazhuang Ever Bright F.C.     Chinese Super League   \n18943                      Tianjin TEDA FC     Chinese Super League   \n\n       league_rank  overall  potential  value_eur  wage_eur player_positions  \\\n0              1.0       93         93   67500000    560000       RW, ST, CF   \n1              1.0       92         92   46000000    220000           ST, LW   \n2              1.0       91         91   90000000    270000          LW, CAM   \n3              1.0       89         89   29000000    125000               GK   \n4              1.0       87         87   31500000    280000               ST   \n...            ...      ...        ...        ...       ...              ...   \n18939          1.0       47         52      40000       500               CM   \n18940          1.0       47         52      35000      1000               CB   \n18941          1.0       47         51      35000      1000               CB   \n18942          1.0       47         51      40000      1000               CM   \n18943          1.0       47         47      30000      2000               CM   \n\n      preferred_foot  international_reputation  weak_foot  skill_moves  \\\n0               Left                         5          4            4   \n1              Right                         5          4            5   \n2              Right                         5          5            5   \n3              Right                         5          4            1   \n4              Right                         5          4            3   \n...              ...                       ...        ...          ...   \n18939          Right                         1          2            2   \n18940          Right                         1          2            2   \n18941          Right                         1          2            2   \n18942          Right                         1          2            2   \n18943          Right                         1          2            2   \n\n           work_rate             body_type real_face  release_clause_eur  \\\n0         Medium/Low                 Messi       Yes         138400000.0   \n1           High/Low            C. Ronaldo       Yes          75900000.0   \n2        High/Medium                Neymar       Yes         166500000.0   \n3      Medium/Medium  PLAYER_BODY_TYPE_273       Yes          47900000.0   \n4        High/Medium  PLAYER_BODY_TYPE_374       Yes          64600000.0   \n...              ...                   ...       ...                 ...   \n18939  Medium/Medium                Normal        No             91000.0   \n18940        Low/Low                Normal        No             57000.0   \n18941     Low/Medium                Normal        No             57000.0   \n18942        Low/Low                  Lean        No             65000.0   \n18943        Low/Low                  Lean        No             47000.0   \n\n                                             player_tags team_position  \\\n0      #Dribbler, #Distance Shooter, #FK Specialist, ...           CAM   \n1      #Aerial Threat, #Dribbler, #Distance Shooter, ...            LS   \n2      #Speedster, #Dribbler, #Playmaker, #FK Special...            LW   \n3                                                    NaN            GK   \n4                  #Distance Shooter, #Clinical Finisher           SUB   \n...                                                  ...           ...   \n18939                                                NaN           SUB   \n18940                                                NaN           SUB   \n18941                                                NaN           RES   \n18942                                                NaN           RDM   \n18943                                                NaN           RES   \n\n       team_jersey_number loaned_from      joined  contract_valid_until  \\\n0                    10.0         NaN  2004-07-01                2021.0   \n1                     7.0         NaN  2018-07-10                2022.0   \n2                    10.0         NaN  2017-08-03                2022.0   \n3                     1.0         NaN  2011-07-01                2023.0   \n4                     9.0         NaN  2014-07-11                2021.0   \n...                   ...         ...         ...                   ...   \n18939                28.0         NaN  2020-01-01                2024.0   \n18940                25.0         NaN  2020-08-01                2020.0   \n18941                 2.0         NaN  2019-02-01                2022.0   \n18942                 4.0         NaN  2020-08-01                2023.0   \n18943                33.0         NaN  2020-08-01                2022.0   \n\n      nation_position  nation_jersey_number  pace  shooting  passing  \\\n0                  RW                  10.0  85.0      92.0     91.0   \n1                  LS                   7.0  89.0      93.0     81.0   \n2                 NaN                   NaN  91.0      85.0     86.0   \n3                  GK                   1.0   NaN       NaN      NaN   \n4                 NaN                   NaN  70.0      90.0     82.0   \n...               ...                   ...   ...       ...      ...   \n18939             NaN                   NaN  63.0      37.0     50.0   \n18940             NaN                   NaN  58.0      23.0     26.0   \n18941             NaN                   NaN  51.0      25.0     29.0   \n18942             NaN                   NaN  61.0      35.0     48.0   \n18943             NaN                   NaN  65.0      37.0     49.0   \n\n       dribbling  defending  physic  gk_diving  gk_handling  gk_kicking  \\\n0           95.0       38.0    65.0        NaN          NaN         NaN   \n1           89.0       35.0    77.0        NaN          NaN         NaN   \n2           94.0       36.0    59.0        NaN          NaN         NaN   \n3            NaN        NaN     NaN       87.0         87.0        91.0   \n4           83.0       51.0    83.0        NaN          NaN         NaN   \n...          ...        ...     ...        ...          ...         ...   \n18939       47.0       41.0    50.0        NaN          NaN         NaN   \n18940       27.0       50.0    48.0        NaN          NaN         NaN   \n18941       36.0       45.0    55.0        NaN          NaN         NaN   \n18942       48.0       44.0    58.0        NaN          NaN         NaN   \n18943       46.0       40.0    59.0        NaN          NaN         NaN   \n\n       gk_reflexes  gk_speed  gk_positioning  \\\n0              NaN       NaN             NaN   \n1              NaN       NaN             NaN   \n2              NaN       NaN             NaN   \n3             89.0      57.0            86.0   \n4              NaN       NaN             NaN   \n...            ...       ...             ...   \n18939          NaN       NaN             NaN   \n18940          NaN       NaN             NaN   \n18941          NaN       NaN             NaN   \n18942          NaN       NaN             NaN   \n18943          NaN       NaN             NaN   \n\n                                           player_traits  attacking_crossing  \\\n0      Finesse Shot, Long Shot Taker (AI), Speed Drib...                  85   \n1      Power Free-Kick, Flair, Long Shot Taker (AI), ...                  84   \n2      Injury Prone, Flair, Speed Dribbler (AI), Outs...                  85   \n3      Leadership, GK Long Throw, Rushes Out Of Goal,...                  15   \n4                        Solid Player, Outside Foot Shot                  80   \n...                                                  ...                 ...   \n18939                                                NaN                  45   \n18940                                                NaN                  23   \n18941                                                NaN                  20   \n18942                                                NaN                  38   \n18943                                                NaN                  44   \n\n       attacking_finishing  attacking_heading_accuracy  \\\n0                       95                          70   \n1                       95                          90   \n2                       87                          62   \n3                       13                          25   \n4                       92                          84   \n...                    ...                         ...   \n18939                   37                          43   \n18940                   16                          45   \n18941                   20                          46   \n18942                   32                          45   \n18943                   32                          44   \n\n       attacking_short_passing  attacking_volleys  skill_dribbling  \\\n0                           91                 88               96   \n1                           82                 86               88   \n2                           87                 87               95   \n3                           55                 11               30   \n4                           83                 90               84   \n...                        ...                ...              ...   \n18939                       55                 27               44   \n18940                       31                 26               19   \n18941                       40                 22               35   \n18942                       56                 32               45   \n18943                       56                 35               46   \n\n       skill_curve  skill_fk_accuracy  skill_long_passing  skill_ball_control  \\\n0               93                 94                  91                  96   \n1               81                 76                  77                  92   \n2               88                 89                  81                  95   \n3               14                 11                  59                  46   \n4               86                 82                  77                  84   \n...            ...                ...                 ...                 ...   \n18939           35                 35                  53                  46   \n18940           21                 22                  25                  24   \n18941           20                 25                  25                  30   \n18942           35                 35                  54                  48   \n18943           37                 33                  56                  43   \n\n       movement_acceleration  movement_sprint_speed  movement_agility  \\\n0                         91                     80                91   \n1                         87                     91                87   \n2                         94                     89                96   \n3                         54                     60                51   \n4                         72                     68                76   \n...                      ...                    ...               ...   \n18939                     64                     62                53   \n18940                     60                     56                45   \n18941                     54                     49                40   \n18942                     62                     60                59   \n18943                     67                     64                56   \n\n       movement_reactions  movement_balance  power_shot_power  power_jumping  \\\n0                      94                95                86             68   \n1                      95                71                94             95   \n2                      91                83                80             62   \n3                      86                35                68             77   \n4                      92                78                89             69   \n...                   ...               ...               ...            ...   \n18939                  51                71                43             57   \n18940                  48                70                35             65   \n18941                  45                57                35             69   \n18942                  51                53                45             56   \n18943                  44                55                49             59   \n\n       power_stamina  power_strength  power_long_shots  mentality_aggression  \\\n0                 72              69                94                    44   \n1                 84              78                93                    63   \n2                 81              50                84                    51   \n3                 43              80                16                    29   \n4                 78              85                88                    87   \n...              ...             ...               ...                   ...   \n18939             40              51                36                    57   \n18940             55              45                23                    44   \n18941             58              55                22                    46   \n18942             48              63                33                    56   \n18943             54              62                34                    57   \n\n       mentality_interceptions  mentality_positioning  mentality_vision  \\\n0                           40                     93                95   \n1                           29                     95                82   \n2                           36                     87                90   \n3                           30                     12                70   \n4                           41                     91                84   \n...                        ...                    ...               ...   \n18939                       41                     31                49   \n18940                       50                     25                25   \n18941                       45                     25                25   \n18942                       40                     31                45   \n18943                       35                     48                44   \n\n       mentality_penalties  mentality_composure  defending_marking  \\\n0                       75                   96                NaN   \n1                       84                   95                NaN   \n2                       92                   93                NaN   \n3                       47                   70                NaN   \n4                       83                   85                NaN   \n...                    ...                  ...                ...   \n18939                   39                   36                NaN   \n18940                   35                   40                NaN   \n18941                   35                   40                NaN   \n18942                   42                   43                NaN   \n18943                   36                   35                NaN   \n\n       defending_standing_tackle  defending_sliding_tackle  \\\n0                             35                        24   \n1                             32                        24   \n2                             30                        29   \n3                             10                        11   \n4                             45                        38   \n...                          ...                       ...   \n18939                         39                        54   \n18940                         56                        47   \n18941                         55                        45   \n18942                         49                        45   \n18943                         43                        45   \n\n       goalkeeping_diving  goalkeeping_handling  goalkeeping_kicking  \\\n0                       6                    11                   15   \n1                       7                    11                   15   \n2                       9                     9                   15   \n3                      87                    87                   91   \n4                      27                    25                   31   \n...                   ...                   ...                  ...   \n18939                  10                     9                   14   \n18940                  12                    13                    8   \n18941                  12                     9                   14   \n18942                  15                     7                    7   \n18943                   8                     5                   11   \n\n       goalkeeping_positioning  goalkeeping_reflexes    ls    st    rs    lw  \\\n0                           14                     8  89+3  89+3  89+3  92+0   \n1                           14                    11  91+1  91+1  91+1  89+0   \n2                           15                    11  84+3  84+3  84+3  90+0   \n3                           86                    89  39+3  39+3  39+3  40+0   \n4                           33                    37  86+1  86+1  86+1  84+0   \n...                        ...                   ...   ...   ...   ...   ...   \n18939                        6                     6  44+2  44+2  44+2  47+0   \n18940                       14                     6  32+2  32+2  32+2  30+0   \n18941                       15                    13  34+2  34+2  34+2  33+0   \n18942                        5                    13  44+2  44+2  44+2  46+0   \n18943                        5                     7  46+1  46+1  46+1  47+0   \n\n         lf    cf    rf    rw   lam   cam   ram    lm   lcm    cm   rcm    rm  \\\n0      93+0  93+0  93+0  92+0  93+0  93+0  93+0  91+2  87+3  87+3  87+3  91+2   \n1      91+0  91+0  91+0  89+0  88+3  88+3  88+3  88+3  81+3  81+3  81+3  88+3   \n2      89+0  89+0  89+0  90+0  90+1  90+1  90+1  90+1  83+3  83+3  83+3  90+1   \n3      43+0  43+0  43+0  40+0  46+3  46+3  46+3  43+3  48+3  48+3  48+3  43+3   \n4      85+0  85+0  85+0  84+0  84+3  84+3  84+3  83+3  80+3  80+3  80+3  83+3   \n...     ...   ...   ...   ...   ...   ...   ...   ...   ...   ...   ...   ...   \n18939  45+0  45+0  45+0  47+0  47+2  47+2  47+2  48+2  47+2  47+2  47+2  48+2   \n18940  30+0  30+0  30+0  30+0  29+2  29+2  29+2  31+2  32+2  32+2  32+2  31+2   \n18941  33+0  33+0  33+0  33+0  33+2  33+2  33+2  35+2  35+2  35+2  35+2  35+2   \n18942  45+0  45+0  45+0  46+0  47+2  47+2  47+2  47+2  47+2  47+2  47+2  47+2   \n18943  46+0  46+0  46+0  47+0  47+0  47+0  47+0   49+  47+0  47+0  47+0   49+   \n\n        lwb   ldm   cdm   rdm   rwb    lb   lcb    cb   rcb    rb  \n0      66+3  65+3  65+3  65+3  66+3  62+3  52+3  52+3  52+3  62+3  \n1      65+3  61+3  61+3  61+3  65+3  61+3  54+3  54+3  54+3  61+3  \n2      67+3  62+3  62+3  62+3  67+3  62+3  49+3  49+3  49+3  62+3  \n3      36+3  42+3  42+3  42+3  36+3  34+3  34+3  34+3  34+3  34+3  \n4      67+3  68+3  68+3  68+3  67+3  64+3  63+3  63+3  63+3  64+3  \n...     ...   ...   ...   ...   ...   ...   ...   ...   ...   ...  \n18939  47+2  47+2  47+2  47+2  47+2  47+2  46+2  46+2  46+2  47+2  \n18940  42+2  41+2  41+2  41+2  42+2  45+2  47+2  47+2  47+2  45+2  \n18941  42+2  42+2  42+2  42+2  42+2  44+2  47+2  47+2  47+2  44+2  \n18942  47+2  49+2  49+2  49+2  47+2  47+2  49+2  49+2  49+2  47+2  \n18943  47+0  47+0  47+0  47+0  47+0  47+0  46+1  46+1  46+1  47+0  \n\n[18944 rows x 106 columns]",
      "text/html": "<div>\n<style scoped>\n    .dataframe tbody tr th:only-of-type {\n        vertical-align: middle;\n    }\n\n    .dataframe tbody tr th {\n        vertical-align: top;\n    }\n\n    .dataframe thead th {\n        text-align: right;\n    }\n</style>\n<table border=\"1\" class=\"dataframe\">\n  <thead>\n    <tr style=\"text-align: right;\">\n      <th></th>\n      <th>sofifa_id</th>\n      <th>player_url</th>\n      <th>short_name</th>\n      <th>long_name</th>\n      <th>age</th>\n      <th>dob</th>\n      <th>height_cm</th>\n      <th>weight_kg</th>\n      <th>nationality</th>\n      <th>club_name</th>\n      <th>league_name</th>\n      <th>league_rank</th>\n      <th>overall</th>\n      <th>potential</th>\n      <th>value_eur</th>\n      <th>wage_eur</th>\n      <th>player_positions</th>\n      <th>preferred_foot</th>\n      <th>international_reputation</th>\n      <th>weak_foot</th>\n      <th>skill_moves</th>\n      <th>work_rate</th>\n      <th>body_type</th>\n      <th>real_face</th>\n      <th>release_clause_eur</th>\n      <th>player_tags</th>\n      <th>team_position</th>\n      <th>team_jersey_number</th>\n      <th>loaned_from</th>\n      <th>joined</th>\n      <th>contract_valid_until</th>\n      <th>nation_position</th>\n      <th>nation_jersey_number</th>\n      <th>pace</th>\n      <th>shooting</th>\n      <th>passing</th>\n      <th>dribbling</th>\n      <th>defending</th>\n      <th>physic</th>\n      <th>gk_diving</th>\n      <th>gk_handling</th>\n      <th>gk_kicking</th>\n      <th>gk_reflexes</th>\n      <th>gk_speed</th>\n      <th>gk_positioning</th>\n      <th>player_traits</th>\n      <th>attacking_crossing</th>\n      <th>attacking_finishing</th>\n      <th>attacking_heading_accuracy</th>\n      <th>attacking_short_passing</th>\n      <th>attacking_volleys</th>\n      <th>skill_dribbling</th>\n      <th>skill_curve</th>\n      <th>skill_fk_accuracy</th>\n      <th>skill_long_passing</th>\n      <th>skill_ball_control</th>\n      <th>movement_acceleration</th>\n      <th>movement_sprint_speed</th>\n      <th>movement_agility</th>\n      <th>movement_reactions</th>\n      <th>movement_balance</th>\n      <th>power_shot_power</th>\n      <th>power_jumping</th>\n      <th>power_stamina</th>\n      <th>power_strength</th>\n      <th>power_long_shots</th>\n      <th>mentality_aggression</th>\n      <th>mentality_interceptions</th>\n      <th>mentality_positioning</th>\n      <th>mentality_vision</th>\n      <th>mentality_penalties</th>\n      <th>mentality_composure</th>\n      <th>defending_marking</th>\n      <th>defending_standing_tackle</th>\n      <th>defending_sliding_tackle</th>\n      <th>goalkeeping_diving</th>\n      <th>goalkeeping_handling</th>\n      <th>goalkeeping_kicking</th>\n      <th>goalkeeping_positioning</th>\n      <th>goalkeeping_reflexes</th>\n      <th>ls</th>\n      <th>st</th>\n      <th>rs</th>\n      <th>lw</th>\n      <th>lf</th>\n      <th>cf</th>\n      <th>rf</th>\n      <th>rw</th>\n      <th>lam</th>\n      <th>cam</th>\n      <th>ram</th>\n      <th>lm</th>\n      <th>lcm</th>\n      <th>cm</th>\n      <th>rcm</th>\n      <th>rm</th>\n      <th>lwb</th>\n      <th>ldm</th>\n      <th>cdm</th>\n      <th>rdm</th>\n      <th>rwb</th>\n      <th>lb</th>\n      <th>lcb</th>\n      <th>cb</th>\n      <th>rcb</th>\n      <th>rb</th>\n    </tr>\n  </thead>\n  <tbody>\n    <tr>\n      <th>0</th>\n      <td>158023</td>\n      <td>https://sofifa.com/player/158023/lionel-messi/...</td>\n      <td>L. Messi</td>\n      <td>Lionel Andrés Messi Cuccittini</td>\n      <td>33</td>\n      <td>1987-06-24</td>\n      <td>170</td>\n      <td>72</td>\n      <td>Argentina</td>\n      <td>FC Barcelona</td>\n      <td>Spain Primera Division</td>\n      <td>1.0</td>\n      <td>93</td>\n      <td>93</td>\n      <td>67500000</td>\n      <td>560000</td>\n      <td>RW, ST, CF</td>\n      <td>Left</td>\n      <td>5</td>\n      <td>4</td>\n      <td>4</td>\n      <td>Medium/Low</td>\n      <td>Messi</td>\n      <td>Yes</td>\n      <td>138400000.0</td>\n      <td>#Dribbler, #Distance Shooter, #FK Specialist, ...</td>\n      <td>CAM</td>\n      <td>10.0</td>\n      <td>NaN</td>\n      <td>2004-07-01</td>\n      <td>2021.0</td>\n      <td>RW</td>\n      <td>10.0</td>\n      <td>85.0</td>\n      <td>92.0</td>\n      <td>91.0</td>\n      <td>95.0</td>\n      <td>38.0</td>\n      <td>65.0</td>\n      <td>NaN</td>\n      <td>NaN</td>\n      <td>NaN</td>\n      <td>NaN</td>\n      <td>NaN</td>\n      <td>NaN</td>\n      <td>Finesse Shot, Long Shot Taker (AI), Speed Drib...</td>\n      <td>85</td>\n      <td>95</td>\n      <td>70</td>\n      <td>91</td>\n      <td>88</td>\n      <td>96</td>\n      <td>93</td>\n      <td>94</td>\n      <td>91</td>\n      <td>96</td>\n      <td>91</td>\n      <td>80</td>\n      <td>91</td>\n      <td>94</td>\n      <td>95</td>\n      <td>86</td>\n      <td>68</td>\n      <td>72</td>\n      <td>69</td>\n      <td>94</td>\n      <td>44</td>\n      <td>40</td>\n      <td>93</td>\n      <td>95</td>\n      <td>75</td>\n      <td>96</td>\n      <td>NaN</td>\n      <td>35</td>\n      <td>24</td>\n      <td>6</td>\n      <td>11</td>\n      <td>15</td>\n      <td>14</td>\n      <td>8</td>\n      <td>89+3</td>\n      <td>89+3</td>\n      <td>89+3</td>\n      <td>92+0</td>\n      <td>93+0</td>\n      <td>93+0</td>\n      <td>93+0</td>\n      <td>92+0</td>\n      <td>93+0</td>\n      <td>93+0</td>\n      <td>93+0</td>\n      <td>91+2</td>\n      <td>87+3</td>\n      <td>87+3</td>\n      <td>87+3</td>\n      <td>91+2</td>\n      <td>66+3</td>\n      <td>65+3</td>\n      <td>65+3</td>\n      <td>65+3</td>\n      <td>66+3</td>\n      <td>62+3</td>\n      <td>52+3</td>\n      <td>52+3</td>\n      <td>52+3</td>\n      <td>62+3</td>\n    </tr>\n    <tr>\n      <th>1</th>\n      <td>20801</td>\n      <td>https://sofifa.com/player/20801/c-ronaldo-dos-...</td>\n      <td>Cristiano Ronaldo</td>\n      <td>Cristiano Ronaldo dos Santos Aveiro</td>\n      <td>35</td>\n      <td>1985-02-05</td>\n      <td>187</td>\n      <td>83</td>\n      <td>Portugal</td>\n      <td>Juventus</td>\n      <td>Italian Serie A</td>\n      <td>1.0</td>\n      <td>92</td>\n      <td>92</td>\n      <td>46000000</td>\n      <td>220000</td>\n      <td>ST, LW</td>\n      <td>Right</td>\n      <td>5</td>\n      <td>4</td>\n      <td>5</td>\n      <td>High/Low</td>\n      <td>C. Ronaldo</td>\n      <td>Yes</td>\n      <td>75900000.0</td>\n      <td>#Aerial Threat, #Dribbler, #Distance Shooter, ...</td>\n      <td>LS</td>\n      <td>7.0</td>\n      <td>NaN</td>\n      <td>2018-07-10</td>\n      <td>2022.0</td>\n      <td>LS</td>\n      <td>7.0</td>\n      <td>89.0</td>\n      <td>93.0</td>\n      <td>81.0</td>\n      <td>89.0</td>\n      <td>35.0</td>\n      <td>77.0</td>\n      <td>NaN</td>\n      <td>NaN</td>\n      <td>NaN</td>\n      <td>NaN</td>\n      <td>NaN</td>\n      <td>NaN</td>\n      <td>Power Free-Kick, Flair, Long Shot Taker (AI), ...</td>\n      <td>84</td>\n      <td>95</td>\n      <td>90</td>\n      <td>82</td>\n      <td>86</td>\n      <td>88</td>\n      <td>81</td>\n      <td>76</td>\n      <td>77</td>\n      <td>92</td>\n      <td>87</td>\n      <td>91</td>\n      <td>87</td>\n      <td>95</td>\n      <td>71</td>\n      <td>94</td>\n      <td>95</td>\n      <td>84</td>\n      <td>78</td>\n      <td>93</td>\n      <td>63</td>\n      <td>29</td>\n      <td>95</td>\n      <td>82</td>\n      <td>84</td>\n      <td>95</td>\n      <td>NaN</td>\n      <td>32</td>\n      <td>24</td>\n      <td>7</td>\n      <td>11</td>\n      <td>15</td>\n      <td>14</td>\n      <td>11</td>\n      <td>91+1</td>\n      <td>91+1</td>\n      <td>91+1</td>\n      <td>89+0</td>\n      <td>91+0</td>\n      <td>91+0</td>\n      <td>91+0</td>\n      <td>89+0</td>\n      <td>88+3</td>\n      <td>88+3</td>\n      <td>88+3</td>\n      <td>88+3</td>\n      <td>81+3</td>\n      <td>81+3</td>\n      <td>81+3</td>\n      <td>88+3</td>\n      <td>65+3</td>\n      <td>61+3</td>\n      <td>61+3</td>\n      <td>61+3</td>\n      <td>65+3</td>\n      <td>61+3</td>\n      <td>54+3</td>\n      <td>54+3</td>\n      <td>54+3</td>\n      <td>61+3</td>\n    </tr>\n    <tr>\n      <th>2</th>\n      <td>190871</td>\n      <td>https://sofifa.com/player/190871/neymar-da-sil...</td>\n      <td>Neymar Jr</td>\n      <td>Neymar da Silva Santos Júnior</td>\n      <td>28</td>\n      <td>1992-02-05</td>\n      <td>175</td>\n      <td>68</td>\n      <td>Brazil</td>\n      <td>Paris Saint-Germain</td>\n      <td>French Ligue 1</td>\n      <td>1.0</td>\n      <td>91</td>\n      <td>91</td>\n      <td>90000000</td>\n      <td>270000</td>\n      <td>LW, CAM</td>\n      <td>Right</td>\n      <td>5</td>\n      <td>5</td>\n      <td>5</td>\n      <td>High/Medium</td>\n      <td>Neymar</td>\n      <td>Yes</td>\n      <td>166500000.0</td>\n      <td>#Speedster, #Dribbler, #Playmaker, #FK Special...</td>\n      <td>LW</td>\n      <td>10.0</td>\n      <td>NaN</td>\n      <td>2017-08-03</td>\n      <td>2022.0</td>\n      <td>NaN</td>\n      <td>NaN</td>\n      <td>91.0</td>\n      <td>85.0</td>\n      <td>86.0</td>\n      <td>94.0</td>\n      <td>36.0</td>\n      <td>59.0</td>\n      <td>NaN</td>\n      <td>NaN</td>\n      <td>NaN</td>\n      <td>NaN</td>\n      <td>NaN</td>\n      <td>NaN</td>\n      <td>Injury Prone, Flair, Speed Dribbler (AI), Outs...</td>\n      <td>85</td>\n      <td>87</td>\n      <td>62</td>\n      <td>87</td>\n      <td>87</td>\n      <td>95</td>\n      <td>88</td>\n      <td>89</td>\n      <td>81</td>\n      <td>95</td>\n      <td>94</td>\n      <td>89</td>\n      <td>96</td>\n      <td>91</td>\n      <td>83</td>\n      <td>80</td>\n      <td>62</td>\n      <td>81</td>\n      <td>50</td>\n      <td>84</td>\n      <td>51</td>\n      <td>36</td>\n      <td>87</td>\n      <td>90</td>\n      <td>92</td>\n      <td>93</td>\n      <td>NaN</td>\n      <td>30</td>\n      <td>29</td>\n      <td>9</td>\n      <td>9</td>\n      <td>15</td>\n      <td>15</td>\n      <td>11</td>\n      <td>84+3</td>\n      <td>84+3</td>\n      <td>84+3</td>\n      <td>90+0</td>\n      <td>89+0</td>\n      <td>89+0</td>\n      <td>89+0</td>\n      <td>90+0</td>\n      <td>90+1</td>\n      <td>90+1</td>\n      <td>90+1</td>\n      <td>90+1</td>\n      <td>83+3</td>\n      <td>83+3</td>\n      <td>83+3</td>\n      <td>90+1</td>\n      <td>67+3</td>\n      <td>62+3</td>\n      <td>62+3</td>\n      <td>62+3</td>\n      <td>67+3</td>\n      <td>62+3</td>\n      <td>49+3</td>\n      <td>49+3</td>\n      <td>49+3</td>\n      <td>62+3</td>\n    </tr>\n    <tr>\n      <th>3</th>\n      <td>167495</td>\n      <td>https://sofifa.com/player/167495/manuel-neuer/...</td>\n      <td>M. Neuer</td>\n      <td>Manuel Neuer</td>\n      <td>34</td>\n      <td>1986-03-27</td>\n      <td>193</td>\n      <td>92</td>\n      <td>Germany</td>\n      <td>FC Bayern München</td>\n      <td>German 1. Bundesliga</td>\n      <td>1.0</td>\n      <td>89</td>\n      <td>89</td>\n      <td>29000000</td>\n      <td>125000</td>\n      <td>GK</td>\n      <td>Right</td>\n      <td>5</td>\n      <td>4</td>\n      <td>1</td>\n      <td>Medium/Medium</td>\n      <td>PLAYER_BODY_TYPE_273</td>\n      <td>Yes</td>\n      <td>47900000.0</td>\n      <td>NaN</td>\n      <td>GK</td>\n      <td>1.0</td>\n      <td>NaN</td>\n      <td>2011-07-01</td>\n      <td>2023.0</td>\n      <td>GK</td>\n      <td>1.0</td>\n      <td>NaN</td>\n      <td>NaN</td>\n      <td>NaN</td>\n      <td>NaN</td>\n      <td>NaN</td>\n      <td>NaN</td>\n      <td>87.0</td>\n      <td>87.0</td>\n      <td>91.0</td>\n      <td>89.0</td>\n      <td>57.0</td>\n      <td>86.0</td>\n      <td>Leadership, GK Long Throw, Rushes Out Of Goal,...</td>\n      <td>15</td>\n      <td>13</td>\n      <td>25</td>\n      <td>55</td>\n      <td>11</td>\n      <td>30</td>\n      <td>14</td>\n      <td>11</td>\n      <td>59</td>\n      <td>46</td>\n      <td>54</td>\n      <td>60</td>\n      <td>51</td>\n      <td>86</td>\n      <td>35</td>\n      <td>68</td>\n      <td>77</td>\n      <td>43</td>\n      <td>80</td>\n      <td>16</td>\n      <td>29</td>\n      <td>30</td>\n      <td>12</td>\n      <td>70</td>\n      <td>47</td>\n      <td>70</td>\n      <td>NaN</td>\n      <td>10</td>\n      <td>11</td>\n      <td>87</td>\n      <td>87</td>\n      <td>91</td>\n      <td>86</td>\n      <td>89</td>\n      <td>39+3</td>\n      <td>39+3</td>\n      <td>39+3</td>\n      <td>40+0</td>\n      <td>43+0</td>\n      <td>43+0</td>\n      <td>43+0</td>\n      <td>40+0</td>\n      <td>46+3</td>\n      <td>46+3</td>\n      <td>46+3</td>\n      <td>43+3</td>\n      <td>48+3</td>\n      <td>48+3</td>\n      <td>48+3</td>\n      <td>43+3</td>\n      <td>36+3</td>\n      <td>42+3</td>\n      <td>42+3</td>\n      <td>42+3</td>\n      <td>36+3</td>\n      <td>34+3</td>\n      <td>34+3</td>\n      <td>34+3</td>\n      <td>34+3</td>\n      <td>34+3</td>\n    </tr>\n    <tr>\n      <th>4</th>\n      <td>176580</td>\n      <td>https://sofifa.com/player/176580/luis-suarez/2...</td>\n      <td>L. Suárez</td>\n      <td>Luis Alberto Suárez Díaz</td>\n      <td>33</td>\n      <td>1987-01-24</td>\n      <td>182</td>\n      <td>86</td>\n      <td>Uruguay</td>\n      <td>FC Barcelona</td>\n      <td>Spain Primera Division</td>\n      <td>1.0</td>\n      <td>87</td>\n      <td>87</td>\n      <td>31500000</td>\n      <td>280000</td>\n      <td>ST</td>\n      <td>Right</td>\n      <td>5</td>\n      <td>4</td>\n      <td>3</td>\n      <td>High/Medium</td>\n      <td>PLAYER_BODY_TYPE_374</td>\n      <td>Yes</td>\n      <td>64600000.0</td>\n      <td>#Distance Shooter, #Clinical Finisher</td>\n      <td>SUB</td>\n      <td>9.0</td>\n      <td>NaN</td>\n      <td>2014-07-11</td>\n      <td>2021.0</td>\n      <td>NaN</td>\n      <td>NaN</td>\n      <td>70.0</td>\n      <td>90.0</td>\n      <td>82.0</td>\n      <td>83.0</td>\n      <td>51.0</td>\n      <td>83.0</td>\n      <td>NaN</td>\n      <td>NaN</td>\n      <td>NaN</td>\n      <td>NaN</td>\n      <td>NaN</td>\n      <td>NaN</td>\n      <td>Solid Player, Outside Foot Shot</td>\n      <td>80</td>\n      <td>92</td>\n      <td>84</td>\n      <td>83</td>\n      <td>90</td>\n      <td>84</td>\n      <td>86</td>\n      <td>82</td>\n      <td>77</td>\n      <td>84</td>\n      <td>72</td>\n      <td>68</td>\n      <td>76</td>\n      <td>92</td>\n      <td>78</td>\n      <td>89</td>\n      <td>69</td>\n      <td>78</td>\n      <td>85</td>\n      <td>88</td>\n      <td>87</td>\n      <td>41</td>\n      <td>91</td>\n      <td>84</td>\n      <td>83</td>\n      <td>85</td>\n      <td>NaN</td>\n      <td>45</td>\n      <td>38</td>\n      <td>27</td>\n      <td>25</td>\n      <td>31</td>\n      <td>33</td>\n      <td>37</td>\n      <td>86+1</td>\n      <td>86+1</td>\n      <td>86+1</td>\n      <td>84+0</td>\n      <td>85+0</td>\n      <td>85+0</td>\n      <td>85+0</td>\n      <td>84+0</td>\n      <td>84+3</td>\n      <td>84+3</td>\n      <td>84+3</td>\n      <td>83+3</td>\n      <td>80+3</td>\n      <td>80+3</td>\n      <td>80+3</td>\n      <td>83+3</td>\n      <td>67+3</td>\n      <td>68+3</td>\n      <td>68+3</td>\n      <td>68+3</td>\n      <td>67+3</td>\n      <td>64+3</td>\n      <td>63+3</td>\n      <td>63+3</td>\n      <td>63+3</td>\n      <td>64+3</td>\n    </tr>\n    <tr>\n      <th>...</th>\n      <td>...</td>\n      <td>...</td>\n      <td>...</td>\n      <td>...</td>\n      <td>...</td>\n      <td>...</td>\n      <td>...</td>\n      <td>...</td>\n      <td>...</td>\n      <td>...</td>\n      <td>...</td>\n      <td>...</td>\n      <td>...</td>\n      <td>...</td>\n      <td>...</td>\n      <td>...</td>\n      <td>...</td>\n      <td>...</td>\n      <td>...</td>\n      <td>...</td>\n      <td>...</td>\n      <td>...</td>\n      <td>...</td>\n      <td>...</td>\n      <td>...</td>\n      <td>...</td>\n      <td>...</td>\n      <td>...</td>\n      <td>...</td>\n      <td>...</td>\n      <td>...</td>\n      <td>...</td>\n      <td>...</td>\n      <td>...</td>\n      <td>...</td>\n      <td>...</td>\n      <td>...</td>\n      <td>...</td>\n      <td>...</td>\n      <td>...</td>\n      <td>...</td>\n      <td>...</td>\n      <td>...</td>\n      <td>...</td>\n      <td>...</td>\n      <td>...</td>\n      <td>...</td>\n      <td>...</td>\n      <td>...</td>\n      <td>...</td>\n      <td>...</td>\n      <td>...</td>\n      <td>...</td>\n      <td>...</td>\n      <td>...</td>\n      <td>...</td>\n      <td>...</td>\n      <td>...</td>\n      <td>...</td>\n      <td>...</td>\n      <td>...</td>\n      <td>...</td>\n      <td>...</td>\n      <td>...</td>\n      <td>...</td>\n      <td>...</td>\n      <td>...</td>\n      <td>...</td>\n      <td>...</td>\n      <td>...</td>\n      <td>...</td>\n      <td>...</td>\n      <td>...</td>\n      <td>...</td>\n      <td>...</td>\n      <td>...</td>\n      <td>...</td>\n      <td>...</td>\n      <td>...</td>\n      <td>...</td>\n      <td>...</td>\n      <td>...</td>\n      <td>...</td>\n      <td>...</td>\n      <td>...</td>\n      <td>...</td>\n      <td>...</td>\n      <td>...</td>\n      <td>...</td>\n      <td>...</td>\n      <td>...</td>\n      <td>...</td>\n      <td>...</td>\n      <td>...</td>\n      <td>...</td>\n      <td>...</td>\n      <td>...</td>\n      <td>...</td>\n      <td>...</td>\n      <td>...</td>\n      <td>...</td>\n      <td>...</td>\n      <td>...</td>\n      <td>...</td>\n      <td>...</td>\n      <td>...</td>\n    </tr>\n    <tr>\n      <th>18939</th>\n      <td>256679</td>\n      <td>https://sofifa.com/player/256679/kevin-angulo/...</td>\n      <td>K. Angulo</td>\n      <td>Kevin Angulo</td>\n      <td>24</td>\n      <td>1996-04-13</td>\n      <td>176</td>\n      <td>73</td>\n      <td>Colombia</td>\n      <td>América de Cali</td>\n      <td>Colombian Liga Postobón</td>\n      <td>1.0</td>\n      <td>47</td>\n      <td>52</td>\n      <td>40000</td>\n      <td>500</td>\n      <td>CM</td>\n      <td>Right</td>\n      <td>1</td>\n      <td>2</td>\n      <td>2</td>\n      <td>Medium/Medium</td>\n      <td>Normal</td>\n      <td>No</td>\n      <td>91000.0</td>\n      <td>NaN</td>\n      <td>SUB</td>\n      <td>28.0</td>\n      <td>NaN</td>\n      <td>2020-01-01</td>\n      <td>2024.0</td>\n      <td>NaN</td>\n      <td>NaN</td>\n      <td>63.0</td>\n      <td>37.0</td>\n      <td>50.0</td>\n      <td>47.0</td>\n      <td>41.0</td>\n      <td>50.0</td>\n      <td>NaN</td>\n      <td>NaN</td>\n      <td>NaN</td>\n      <td>NaN</td>\n      <td>NaN</td>\n      <td>NaN</td>\n      <td>NaN</td>\n      <td>45</td>\n      <td>37</td>\n      <td>43</td>\n      <td>55</td>\n      <td>27</td>\n      <td>44</td>\n      <td>35</td>\n      <td>35</td>\n      <td>53</td>\n      <td>46</td>\n      <td>64</td>\n      <td>62</td>\n      <td>53</td>\n      <td>51</td>\n      <td>71</td>\n      <td>43</td>\n      <td>57</td>\n      <td>40</td>\n      <td>51</td>\n      <td>36</td>\n      <td>57</td>\n      <td>41</td>\n      <td>31</td>\n      <td>49</td>\n      <td>39</td>\n      <td>36</td>\n      <td>NaN</td>\n      <td>39</td>\n      <td>54</td>\n      <td>10</td>\n      <td>9</td>\n      <td>14</td>\n      <td>6</td>\n      <td>6</td>\n      <td>44+2</td>\n      <td>44+2</td>\n      <td>44+2</td>\n      <td>47+0</td>\n      <td>45+0</td>\n      <td>45+0</td>\n      <td>45+0</td>\n      <td>47+0</td>\n      <td>47+2</td>\n      <td>47+2</td>\n      <td>47+2</td>\n      <td>48+2</td>\n      <td>47+2</td>\n      <td>47+2</td>\n      <td>47+2</td>\n      <td>48+2</td>\n      <td>47+2</td>\n      <td>47+2</td>\n      <td>47+2</td>\n      <td>47+2</td>\n      <td>47+2</td>\n      <td>47+2</td>\n      <td>46+2</td>\n      <td>46+2</td>\n      <td>46+2</td>\n      <td>47+2</td>\n    </tr>\n    <tr>\n      <th>18940</th>\n      <td>257710</td>\n      <td>https://sofifa.com/player/257710/mengxuan-zhan...</td>\n      <td>Zhang Mengxuan</td>\n      <td>Mengxuan Zhang</td>\n      <td>21</td>\n      <td>1999-04-26</td>\n      <td>177</td>\n      <td>70</td>\n      <td>China PR</td>\n      <td>Chongqing Dangdai Lifan FC SWM Team</td>\n      <td>Chinese Super League</td>\n      <td>1.0</td>\n      <td>47</td>\n      <td>52</td>\n      <td>35000</td>\n      <td>1000</td>\n      <td>CB</td>\n      <td>Right</td>\n      <td>1</td>\n      <td>2</td>\n      <td>2</td>\n      <td>Low/Low</td>\n      <td>Normal</td>\n      <td>No</td>\n      <td>57000.0</td>\n      <td>NaN</td>\n      <td>SUB</td>\n      <td>25.0</td>\n      <td>NaN</td>\n      <td>2020-08-01</td>\n      <td>2020.0</td>\n      <td>NaN</td>\n      <td>NaN</td>\n      <td>58.0</td>\n      <td>23.0</td>\n      <td>26.0</td>\n      <td>27.0</td>\n      <td>50.0</td>\n      <td>48.0</td>\n      <td>NaN</td>\n      <td>NaN</td>\n      <td>NaN</td>\n      <td>NaN</td>\n      <td>NaN</td>\n      <td>NaN</td>\n      <td>NaN</td>\n      <td>23</td>\n      <td>16</td>\n      <td>45</td>\n      <td>31</td>\n      <td>26</td>\n      <td>19</td>\n      <td>21</td>\n      <td>22</td>\n      <td>25</td>\n      <td>24</td>\n      <td>60</td>\n      <td>56</td>\n      <td>45</td>\n      <td>48</td>\n      <td>70</td>\n      <td>35</td>\n      <td>65</td>\n      <td>55</td>\n      <td>45</td>\n      <td>23</td>\n      <td>44</td>\n      <td>50</td>\n      <td>25</td>\n      <td>25</td>\n      <td>35</td>\n      <td>40</td>\n      <td>NaN</td>\n      <td>56</td>\n      <td>47</td>\n      <td>12</td>\n      <td>13</td>\n      <td>8</td>\n      <td>14</td>\n      <td>6</td>\n      <td>32+2</td>\n      <td>32+2</td>\n      <td>32+2</td>\n      <td>30+0</td>\n      <td>30+0</td>\n      <td>30+0</td>\n      <td>30+0</td>\n      <td>30+0</td>\n      <td>29+2</td>\n      <td>29+2</td>\n      <td>29+2</td>\n      <td>31+2</td>\n      <td>32+2</td>\n      <td>32+2</td>\n      <td>32+2</td>\n      <td>31+2</td>\n      <td>42+2</td>\n      <td>41+2</td>\n      <td>41+2</td>\n      <td>41+2</td>\n      <td>42+2</td>\n      <td>45+2</td>\n      <td>47+2</td>\n      <td>47+2</td>\n      <td>47+2</td>\n      <td>45+2</td>\n    </tr>\n    <tr>\n      <th>18941</th>\n      <td>250989</td>\n      <td>https://sofifa.com/player/250989/zhenghao-wang...</td>\n      <td>Wang Zhenghao</td>\n      <td>王政豪</td>\n      <td>20</td>\n      <td>2000-06-28</td>\n      <td>185</td>\n      <td>74</td>\n      <td>China PR</td>\n      <td>Tianjin TEDA FC</td>\n      <td>Chinese Super League</td>\n      <td>1.0</td>\n      <td>47</td>\n      <td>51</td>\n      <td>35000</td>\n      <td>1000</td>\n      <td>CB</td>\n      <td>Right</td>\n      <td>1</td>\n      <td>2</td>\n      <td>2</td>\n      <td>Low/Medium</td>\n      <td>Normal</td>\n      <td>No</td>\n      <td>57000.0</td>\n      <td>NaN</td>\n      <td>RES</td>\n      <td>2.0</td>\n      <td>NaN</td>\n      <td>2019-02-01</td>\n      <td>2022.0</td>\n      <td>NaN</td>\n      <td>NaN</td>\n      <td>51.0</td>\n      <td>25.0</td>\n      <td>29.0</td>\n      <td>36.0</td>\n      <td>45.0</td>\n      <td>55.0</td>\n      <td>NaN</td>\n      <td>NaN</td>\n      <td>NaN</td>\n      <td>NaN</td>\n      <td>NaN</td>\n      <td>NaN</td>\n      <td>NaN</td>\n      <td>20</td>\n      <td>20</td>\n      <td>46</td>\n      <td>40</td>\n      <td>22</td>\n      <td>35</td>\n      <td>20</td>\n      <td>25</td>\n      <td>25</td>\n      <td>30</td>\n      <td>54</td>\n      <td>49</td>\n      <td>40</td>\n      <td>45</td>\n      <td>57</td>\n      <td>35</td>\n      <td>69</td>\n      <td>58</td>\n      <td>55</td>\n      <td>22</td>\n      <td>46</td>\n      <td>45</td>\n      <td>25</td>\n      <td>25</td>\n      <td>35</td>\n      <td>40</td>\n      <td>NaN</td>\n      <td>55</td>\n      <td>45</td>\n      <td>12</td>\n      <td>9</td>\n      <td>14</td>\n      <td>15</td>\n      <td>13</td>\n      <td>34+2</td>\n      <td>34+2</td>\n      <td>34+2</td>\n      <td>33+0</td>\n      <td>33+0</td>\n      <td>33+0</td>\n      <td>33+0</td>\n      <td>33+0</td>\n      <td>33+2</td>\n      <td>33+2</td>\n      <td>33+2</td>\n      <td>35+2</td>\n      <td>35+2</td>\n      <td>35+2</td>\n      <td>35+2</td>\n      <td>35+2</td>\n      <td>42+2</td>\n      <td>42+2</td>\n      <td>42+2</td>\n      <td>42+2</td>\n      <td>42+2</td>\n      <td>44+2</td>\n      <td>47+2</td>\n      <td>47+2</td>\n      <td>47+2</td>\n      <td>44+2</td>\n    </tr>\n    <tr>\n      <th>18942</th>\n      <td>257697</td>\n      <td>https://sofifa.com/player/257697/zitong-chen/2...</td>\n      <td>Chen Zitong</td>\n      <td>Zitong Chen</td>\n      <td>23</td>\n      <td>1997-02-20</td>\n      <td>186</td>\n      <td>80</td>\n      <td>China PR</td>\n      <td>Shijiazhuang Ever Bright F.C.</td>\n      <td>Chinese Super League</td>\n      <td>1.0</td>\n      <td>47</td>\n      <td>51</td>\n      <td>40000</td>\n      <td>1000</td>\n      <td>CM</td>\n      <td>Right</td>\n      <td>1</td>\n      <td>2</td>\n      <td>2</td>\n      <td>Low/Low</td>\n      <td>Lean</td>\n      <td>No</td>\n      <td>65000.0</td>\n      <td>NaN</td>\n      <td>RDM</td>\n      <td>4.0</td>\n      <td>NaN</td>\n      <td>2020-08-01</td>\n      <td>2023.0</td>\n      <td>NaN</td>\n      <td>NaN</td>\n      <td>61.0</td>\n      <td>35.0</td>\n      <td>48.0</td>\n      <td>48.0</td>\n      <td>44.0</td>\n      <td>58.0</td>\n      <td>NaN</td>\n      <td>NaN</td>\n      <td>NaN</td>\n      <td>NaN</td>\n      <td>NaN</td>\n      <td>NaN</td>\n      <td>NaN</td>\n      <td>38</td>\n      <td>32</td>\n      <td>45</td>\n      <td>56</td>\n      <td>32</td>\n      <td>45</td>\n      <td>35</td>\n      <td>35</td>\n      <td>54</td>\n      <td>48</td>\n      <td>62</td>\n      <td>60</td>\n      <td>59</td>\n      <td>51</td>\n      <td>53</td>\n      <td>45</td>\n      <td>56</td>\n      <td>48</td>\n      <td>63</td>\n      <td>33</td>\n      <td>56</td>\n      <td>40</td>\n      <td>31</td>\n      <td>45</td>\n      <td>42</td>\n      <td>43</td>\n      <td>NaN</td>\n      <td>49</td>\n      <td>45</td>\n      <td>15</td>\n      <td>7</td>\n      <td>7</td>\n      <td>5</td>\n      <td>13</td>\n      <td>44+2</td>\n      <td>44+2</td>\n      <td>44+2</td>\n      <td>46+0</td>\n      <td>45+0</td>\n      <td>45+0</td>\n      <td>45+0</td>\n      <td>46+0</td>\n      <td>47+2</td>\n      <td>47+2</td>\n      <td>47+2</td>\n      <td>47+2</td>\n      <td>47+2</td>\n      <td>47+2</td>\n      <td>47+2</td>\n      <td>47+2</td>\n      <td>47+2</td>\n      <td>49+2</td>\n      <td>49+2</td>\n      <td>49+2</td>\n      <td>47+2</td>\n      <td>47+2</td>\n      <td>49+2</td>\n      <td>49+2</td>\n      <td>49+2</td>\n      <td>47+2</td>\n    </tr>\n    <tr>\n      <th>18943</th>\n      <td>257936</td>\n      <td>https://sofifa.com/player/257936/yue-song/210002</td>\n      <td>Song Yue</td>\n      <td>Yue Song</td>\n      <td>28</td>\n      <td>1991-11-20</td>\n      <td>185</td>\n      <td>79</td>\n      <td>China PR</td>\n      <td>Tianjin TEDA FC</td>\n      <td>Chinese Super League</td>\n      <td>1.0</td>\n      <td>47</td>\n      <td>47</td>\n      <td>30000</td>\n      <td>2000</td>\n      <td>CM</td>\n      <td>Right</td>\n      <td>1</td>\n      <td>2</td>\n      <td>2</td>\n      <td>Low/Low</td>\n      <td>Lean</td>\n      <td>No</td>\n      <td>47000.0</td>\n      <td>NaN</td>\n      <td>RES</td>\n      <td>33.0</td>\n      <td>NaN</td>\n      <td>2020-08-01</td>\n      <td>2022.0</td>\n      <td>NaN</td>\n      <td>NaN</td>\n      <td>65.0</td>\n      <td>37.0</td>\n      <td>49.0</td>\n      <td>46.0</td>\n      <td>40.0</td>\n      <td>59.0</td>\n      <td>NaN</td>\n      <td>NaN</td>\n      <td>NaN</td>\n      <td>NaN</td>\n      <td>NaN</td>\n      <td>NaN</td>\n      <td>NaN</td>\n      <td>44</td>\n      <td>32</td>\n      <td>44</td>\n      <td>56</td>\n      <td>35</td>\n      <td>46</td>\n      <td>37</td>\n      <td>33</td>\n      <td>56</td>\n      <td>43</td>\n      <td>67</td>\n      <td>64</td>\n      <td>56</td>\n      <td>44</td>\n      <td>55</td>\n      <td>49</td>\n      <td>59</td>\n      <td>54</td>\n      <td>62</td>\n      <td>34</td>\n      <td>57</td>\n      <td>35</td>\n      <td>48</td>\n      <td>44</td>\n      <td>36</td>\n      <td>35</td>\n      <td>NaN</td>\n      <td>43</td>\n      <td>45</td>\n      <td>8</td>\n      <td>5</td>\n      <td>11</td>\n      <td>5</td>\n      <td>7</td>\n      <td>46+1</td>\n      <td>46+1</td>\n      <td>46+1</td>\n      <td>47+0</td>\n      <td>46+0</td>\n      <td>46+0</td>\n      <td>46+0</td>\n      <td>47+0</td>\n      <td>47+0</td>\n      <td>47+0</td>\n      <td>47+0</td>\n      <td>49+</td>\n      <td>47+0</td>\n      <td>47+0</td>\n      <td>47+0</td>\n      <td>49+</td>\n      <td>47+0</td>\n      <td>47+0</td>\n      <td>47+0</td>\n      <td>47+0</td>\n      <td>47+0</td>\n      <td>47+0</td>\n      <td>46+1</td>\n      <td>46+1</td>\n      <td>46+1</td>\n      <td>47+0</td>\n    </tr>\n  </tbody>\n</table>\n<p>18944 rows × 106 columns</p>\n</div>"
     },
     "execution_count": 90,
     "metadata": {},
     "output_type": "execute_result"
    }
   ],
   "source": [
    "df"
   ],
   "metadata": {
    "collapsed": false,
    "pycharm": {
     "name": "#%%\n"
    }
   }
  },
  {
   "cell_type": "markdown",
   "source": [
    "약 2만 개에 가까운 행의 값을 엑셀처럼 전부 불러와서 확인하는 것은 무의미한 일입니다. 보통은 ```df.head()```와 ```df.tail()``` 메서드를 통해 일부의 값만 확인해봅니다."
   ],
   "metadata": {
    "collapsed": false,
    "pycharm": {
     "name": "#%% md\n"
    }
   }
  },
  {
   "cell_type": "code",
   "execution_count": 91,
   "id": "4a0a622f",
   "metadata": {
    "pycharm": {
     "name": "#%%\n"
    }
   },
   "outputs": [
    {
     "data": {
      "text/plain": "   sofifa_id                                         player_url  \\\n0     158023  https://sofifa.com/player/158023/lionel-messi/...   \n1      20801  https://sofifa.com/player/20801/c-ronaldo-dos-...   \n2     190871  https://sofifa.com/player/190871/neymar-da-sil...   \n\n          short_name                            long_name  age         dob  \\\n0           L. Messi       Lionel Andrés Messi Cuccittini   33  1987-06-24   \n1  Cristiano Ronaldo  Cristiano Ronaldo dos Santos Aveiro   35  1985-02-05   \n2          Neymar Jr        Neymar da Silva Santos Júnior   28  1992-02-05   \n\n   height_cm  weight_kg nationality            club_name  \\\n0        170         72   Argentina         FC Barcelona   \n1        187         83    Portugal             Juventus   \n2        175         68      Brazil  Paris Saint-Germain   \n\n              league_name  league_rank  overall  potential  value_eur  \\\n0  Spain Primera Division          1.0       93         93   67500000   \n1         Italian Serie A          1.0       92         92   46000000   \n2          French Ligue 1          1.0       91         91   90000000   \n\n   wage_eur player_positions preferred_foot  international_reputation  \\\n0    560000       RW, ST, CF           Left                         5   \n1    220000           ST, LW          Right                         5   \n2    270000          LW, CAM          Right                         5   \n\n   weak_foot  skill_moves    work_rate   body_type real_face  \\\n0          4            4   Medium/Low       Messi       Yes   \n1          4            5     High/Low  C. Ronaldo       Yes   \n2          5            5  High/Medium      Neymar       Yes   \n\n   release_clause_eur                                        player_tags  \\\n0         138400000.0  #Dribbler, #Distance Shooter, #FK Specialist, ...   \n1          75900000.0  #Aerial Threat, #Dribbler, #Distance Shooter, ...   \n2         166500000.0  #Speedster, #Dribbler, #Playmaker, #FK Special...   \n\n  team_position  team_jersey_number loaned_from      joined  \\\n0           CAM                10.0         NaN  2004-07-01   \n1            LS                 7.0         NaN  2018-07-10   \n2            LW                10.0         NaN  2017-08-03   \n\n   contract_valid_until nation_position  nation_jersey_number  pace  shooting  \\\n0                2021.0              RW                  10.0  85.0      92.0   \n1                2022.0              LS                   7.0  89.0      93.0   \n2                2022.0             NaN                   NaN  91.0      85.0   \n\n   passing  dribbling  defending  physic  gk_diving  gk_handling  gk_kicking  \\\n0     91.0       95.0       38.0    65.0        NaN          NaN         NaN   \n1     81.0       89.0       35.0    77.0        NaN          NaN         NaN   \n2     86.0       94.0       36.0    59.0        NaN          NaN         NaN   \n\n   gk_reflexes  gk_speed  gk_positioning  \\\n0          NaN       NaN             NaN   \n1          NaN       NaN             NaN   \n2          NaN       NaN             NaN   \n\n                                       player_traits  attacking_crossing  \\\n0  Finesse Shot, Long Shot Taker (AI), Speed Drib...                  85   \n1  Power Free-Kick, Flair, Long Shot Taker (AI), ...                  84   \n2  Injury Prone, Flair, Speed Dribbler (AI), Outs...                  85   \n\n   attacking_finishing  attacking_heading_accuracy  attacking_short_passing  \\\n0                   95                          70                       91   \n1                   95                          90                       82   \n2                   87                          62                       87   \n\n   attacking_volleys  skill_dribbling  skill_curve  skill_fk_accuracy  \\\n0                 88               96           93                 94   \n1                 86               88           81                 76   \n2                 87               95           88                 89   \n\n   skill_long_passing  skill_ball_control  movement_acceleration  \\\n0                  91                  96                     91   \n1                  77                  92                     87   \n2                  81                  95                     94   \n\n   movement_sprint_speed  movement_agility  movement_reactions  \\\n0                     80                91                  94   \n1                     91                87                  95   \n2                     89                96                  91   \n\n   movement_balance  power_shot_power  power_jumping  power_stamina  \\\n0                95                86             68             72   \n1                71                94             95             84   \n2                83                80             62             81   \n\n   power_strength  power_long_shots  mentality_aggression  \\\n0              69                94                    44   \n1              78                93                    63   \n2              50                84                    51   \n\n   mentality_interceptions  mentality_positioning  mentality_vision  \\\n0                       40                     93                95   \n1                       29                     95                82   \n2                       36                     87                90   \n\n   mentality_penalties  mentality_composure  defending_marking  \\\n0                   75                   96                NaN   \n1                   84                   95                NaN   \n2                   92                   93                NaN   \n\n   defending_standing_tackle  defending_sliding_tackle  goalkeeping_diving  \\\n0                         35                        24                   6   \n1                         32                        24                   7   \n2                         30                        29                   9   \n\n   goalkeeping_handling  goalkeeping_kicking  goalkeeping_positioning  \\\n0                    11                   15                       14   \n1                    11                   15                       14   \n2                     9                   15                       15   \n\n   goalkeeping_reflexes    ls    st    rs    lw    lf    cf    rf    rw   lam  \\\n0                     8  89+3  89+3  89+3  92+0  93+0  93+0  93+0  92+0  93+0   \n1                    11  91+1  91+1  91+1  89+0  91+0  91+0  91+0  89+0  88+3   \n2                    11  84+3  84+3  84+3  90+0  89+0  89+0  89+0  90+0  90+1   \n\n    cam   ram    lm   lcm    cm   rcm    rm   lwb   ldm   cdm   rdm   rwb  \\\n0  93+0  93+0  91+2  87+3  87+3  87+3  91+2  66+3  65+3  65+3  65+3  66+3   \n1  88+3  88+3  88+3  81+3  81+3  81+3  88+3  65+3  61+3  61+3  61+3  65+3   \n2  90+1  90+1  90+1  83+3  83+3  83+3  90+1  67+3  62+3  62+3  62+3  67+3   \n\n     lb   lcb    cb   rcb    rb  \n0  62+3  52+3  52+3  52+3  62+3  \n1  61+3  54+3  54+3  54+3  61+3  \n2  62+3  49+3  49+3  49+3  62+3  ",
      "text/html": "<div>\n<style scoped>\n    .dataframe tbody tr th:only-of-type {\n        vertical-align: middle;\n    }\n\n    .dataframe tbody tr th {\n        vertical-align: top;\n    }\n\n    .dataframe thead th {\n        text-align: right;\n    }\n</style>\n<table border=\"1\" class=\"dataframe\">\n  <thead>\n    <tr style=\"text-align: right;\">\n      <th></th>\n      <th>sofifa_id</th>\n      <th>player_url</th>\n      <th>short_name</th>\n      <th>long_name</th>\n      <th>age</th>\n      <th>dob</th>\n      <th>height_cm</th>\n      <th>weight_kg</th>\n      <th>nationality</th>\n      <th>club_name</th>\n      <th>league_name</th>\n      <th>league_rank</th>\n      <th>overall</th>\n      <th>potential</th>\n      <th>value_eur</th>\n      <th>wage_eur</th>\n      <th>player_positions</th>\n      <th>preferred_foot</th>\n      <th>international_reputation</th>\n      <th>weak_foot</th>\n      <th>skill_moves</th>\n      <th>work_rate</th>\n      <th>body_type</th>\n      <th>real_face</th>\n      <th>release_clause_eur</th>\n      <th>player_tags</th>\n      <th>team_position</th>\n      <th>team_jersey_number</th>\n      <th>loaned_from</th>\n      <th>joined</th>\n      <th>contract_valid_until</th>\n      <th>nation_position</th>\n      <th>nation_jersey_number</th>\n      <th>pace</th>\n      <th>shooting</th>\n      <th>passing</th>\n      <th>dribbling</th>\n      <th>defending</th>\n      <th>physic</th>\n      <th>gk_diving</th>\n      <th>gk_handling</th>\n      <th>gk_kicking</th>\n      <th>gk_reflexes</th>\n      <th>gk_speed</th>\n      <th>gk_positioning</th>\n      <th>player_traits</th>\n      <th>attacking_crossing</th>\n      <th>attacking_finishing</th>\n      <th>attacking_heading_accuracy</th>\n      <th>attacking_short_passing</th>\n      <th>attacking_volleys</th>\n      <th>skill_dribbling</th>\n      <th>skill_curve</th>\n      <th>skill_fk_accuracy</th>\n      <th>skill_long_passing</th>\n      <th>skill_ball_control</th>\n      <th>movement_acceleration</th>\n      <th>movement_sprint_speed</th>\n      <th>movement_agility</th>\n      <th>movement_reactions</th>\n      <th>movement_balance</th>\n      <th>power_shot_power</th>\n      <th>power_jumping</th>\n      <th>power_stamina</th>\n      <th>power_strength</th>\n      <th>power_long_shots</th>\n      <th>mentality_aggression</th>\n      <th>mentality_interceptions</th>\n      <th>mentality_positioning</th>\n      <th>mentality_vision</th>\n      <th>mentality_penalties</th>\n      <th>mentality_composure</th>\n      <th>defending_marking</th>\n      <th>defending_standing_tackle</th>\n      <th>defending_sliding_tackle</th>\n      <th>goalkeeping_diving</th>\n      <th>goalkeeping_handling</th>\n      <th>goalkeeping_kicking</th>\n      <th>goalkeeping_positioning</th>\n      <th>goalkeeping_reflexes</th>\n      <th>ls</th>\n      <th>st</th>\n      <th>rs</th>\n      <th>lw</th>\n      <th>lf</th>\n      <th>cf</th>\n      <th>rf</th>\n      <th>rw</th>\n      <th>lam</th>\n      <th>cam</th>\n      <th>ram</th>\n      <th>lm</th>\n      <th>lcm</th>\n      <th>cm</th>\n      <th>rcm</th>\n      <th>rm</th>\n      <th>lwb</th>\n      <th>ldm</th>\n      <th>cdm</th>\n      <th>rdm</th>\n      <th>rwb</th>\n      <th>lb</th>\n      <th>lcb</th>\n      <th>cb</th>\n      <th>rcb</th>\n      <th>rb</th>\n    </tr>\n  </thead>\n  <tbody>\n    <tr>\n      <th>0</th>\n      <td>158023</td>\n      <td>https://sofifa.com/player/158023/lionel-messi/...</td>\n      <td>L. Messi</td>\n      <td>Lionel Andrés Messi Cuccittini</td>\n      <td>33</td>\n      <td>1987-06-24</td>\n      <td>170</td>\n      <td>72</td>\n      <td>Argentina</td>\n      <td>FC Barcelona</td>\n      <td>Spain Primera Division</td>\n      <td>1.0</td>\n      <td>93</td>\n      <td>93</td>\n      <td>67500000</td>\n      <td>560000</td>\n      <td>RW, ST, CF</td>\n      <td>Left</td>\n      <td>5</td>\n      <td>4</td>\n      <td>4</td>\n      <td>Medium/Low</td>\n      <td>Messi</td>\n      <td>Yes</td>\n      <td>138400000.0</td>\n      <td>#Dribbler, #Distance Shooter, #FK Specialist, ...</td>\n      <td>CAM</td>\n      <td>10.0</td>\n      <td>NaN</td>\n      <td>2004-07-01</td>\n      <td>2021.0</td>\n      <td>RW</td>\n      <td>10.0</td>\n      <td>85.0</td>\n      <td>92.0</td>\n      <td>91.0</td>\n      <td>95.0</td>\n      <td>38.0</td>\n      <td>65.0</td>\n      <td>NaN</td>\n      <td>NaN</td>\n      <td>NaN</td>\n      <td>NaN</td>\n      <td>NaN</td>\n      <td>NaN</td>\n      <td>Finesse Shot, Long Shot Taker (AI), Speed Drib...</td>\n      <td>85</td>\n      <td>95</td>\n      <td>70</td>\n      <td>91</td>\n      <td>88</td>\n      <td>96</td>\n      <td>93</td>\n      <td>94</td>\n      <td>91</td>\n      <td>96</td>\n      <td>91</td>\n      <td>80</td>\n      <td>91</td>\n      <td>94</td>\n      <td>95</td>\n      <td>86</td>\n      <td>68</td>\n      <td>72</td>\n      <td>69</td>\n      <td>94</td>\n      <td>44</td>\n      <td>40</td>\n      <td>93</td>\n      <td>95</td>\n      <td>75</td>\n      <td>96</td>\n      <td>NaN</td>\n      <td>35</td>\n      <td>24</td>\n      <td>6</td>\n      <td>11</td>\n      <td>15</td>\n      <td>14</td>\n      <td>8</td>\n      <td>89+3</td>\n      <td>89+3</td>\n      <td>89+3</td>\n      <td>92+0</td>\n      <td>93+0</td>\n      <td>93+0</td>\n      <td>93+0</td>\n      <td>92+0</td>\n      <td>93+0</td>\n      <td>93+0</td>\n      <td>93+0</td>\n      <td>91+2</td>\n      <td>87+3</td>\n      <td>87+3</td>\n      <td>87+3</td>\n      <td>91+2</td>\n      <td>66+3</td>\n      <td>65+3</td>\n      <td>65+3</td>\n      <td>65+3</td>\n      <td>66+3</td>\n      <td>62+3</td>\n      <td>52+3</td>\n      <td>52+3</td>\n      <td>52+3</td>\n      <td>62+3</td>\n    </tr>\n    <tr>\n      <th>1</th>\n      <td>20801</td>\n      <td>https://sofifa.com/player/20801/c-ronaldo-dos-...</td>\n      <td>Cristiano Ronaldo</td>\n      <td>Cristiano Ronaldo dos Santos Aveiro</td>\n      <td>35</td>\n      <td>1985-02-05</td>\n      <td>187</td>\n      <td>83</td>\n      <td>Portugal</td>\n      <td>Juventus</td>\n      <td>Italian Serie A</td>\n      <td>1.0</td>\n      <td>92</td>\n      <td>92</td>\n      <td>46000000</td>\n      <td>220000</td>\n      <td>ST, LW</td>\n      <td>Right</td>\n      <td>5</td>\n      <td>4</td>\n      <td>5</td>\n      <td>High/Low</td>\n      <td>C. Ronaldo</td>\n      <td>Yes</td>\n      <td>75900000.0</td>\n      <td>#Aerial Threat, #Dribbler, #Distance Shooter, ...</td>\n      <td>LS</td>\n      <td>7.0</td>\n      <td>NaN</td>\n      <td>2018-07-10</td>\n      <td>2022.0</td>\n      <td>LS</td>\n      <td>7.0</td>\n      <td>89.0</td>\n      <td>93.0</td>\n      <td>81.0</td>\n      <td>89.0</td>\n      <td>35.0</td>\n      <td>77.0</td>\n      <td>NaN</td>\n      <td>NaN</td>\n      <td>NaN</td>\n      <td>NaN</td>\n      <td>NaN</td>\n      <td>NaN</td>\n      <td>Power Free-Kick, Flair, Long Shot Taker (AI), ...</td>\n      <td>84</td>\n      <td>95</td>\n      <td>90</td>\n      <td>82</td>\n      <td>86</td>\n      <td>88</td>\n      <td>81</td>\n      <td>76</td>\n      <td>77</td>\n      <td>92</td>\n      <td>87</td>\n      <td>91</td>\n      <td>87</td>\n      <td>95</td>\n      <td>71</td>\n      <td>94</td>\n      <td>95</td>\n      <td>84</td>\n      <td>78</td>\n      <td>93</td>\n      <td>63</td>\n      <td>29</td>\n      <td>95</td>\n      <td>82</td>\n      <td>84</td>\n      <td>95</td>\n      <td>NaN</td>\n      <td>32</td>\n      <td>24</td>\n      <td>7</td>\n      <td>11</td>\n      <td>15</td>\n      <td>14</td>\n      <td>11</td>\n      <td>91+1</td>\n      <td>91+1</td>\n      <td>91+1</td>\n      <td>89+0</td>\n      <td>91+0</td>\n      <td>91+0</td>\n      <td>91+0</td>\n      <td>89+0</td>\n      <td>88+3</td>\n      <td>88+3</td>\n      <td>88+3</td>\n      <td>88+3</td>\n      <td>81+3</td>\n      <td>81+3</td>\n      <td>81+3</td>\n      <td>88+3</td>\n      <td>65+3</td>\n      <td>61+3</td>\n      <td>61+3</td>\n      <td>61+3</td>\n      <td>65+3</td>\n      <td>61+3</td>\n      <td>54+3</td>\n      <td>54+3</td>\n      <td>54+3</td>\n      <td>61+3</td>\n    </tr>\n    <tr>\n      <th>2</th>\n      <td>190871</td>\n      <td>https://sofifa.com/player/190871/neymar-da-sil...</td>\n      <td>Neymar Jr</td>\n      <td>Neymar da Silva Santos Júnior</td>\n      <td>28</td>\n      <td>1992-02-05</td>\n      <td>175</td>\n      <td>68</td>\n      <td>Brazil</td>\n      <td>Paris Saint-Germain</td>\n      <td>French Ligue 1</td>\n      <td>1.0</td>\n      <td>91</td>\n      <td>91</td>\n      <td>90000000</td>\n      <td>270000</td>\n      <td>LW, CAM</td>\n      <td>Right</td>\n      <td>5</td>\n      <td>5</td>\n      <td>5</td>\n      <td>High/Medium</td>\n      <td>Neymar</td>\n      <td>Yes</td>\n      <td>166500000.0</td>\n      <td>#Speedster, #Dribbler, #Playmaker, #FK Special...</td>\n      <td>LW</td>\n      <td>10.0</td>\n      <td>NaN</td>\n      <td>2017-08-03</td>\n      <td>2022.0</td>\n      <td>NaN</td>\n      <td>NaN</td>\n      <td>91.0</td>\n      <td>85.0</td>\n      <td>86.0</td>\n      <td>94.0</td>\n      <td>36.0</td>\n      <td>59.0</td>\n      <td>NaN</td>\n      <td>NaN</td>\n      <td>NaN</td>\n      <td>NaN</td>\n      <td>NaN</td>\n      <td>NaN</td>\n      <td>Injury Prone, Flair, Speed Dribbler (AI), Outs...</td>\n      <td>85</td>\n      <td>87</td>\n      <td>62</td>\n      <td>87</td>\n      <td>87</td>\n      <td>95</td>\n      <td>88</td>\n      <td>89</td>\n      <td>81</td>\n      <td>95</td>\n      <td>94</td>\n      <td>89</td>\n      <td>96</td>\n      <td>91</td>\n      <td>83</td>\n      <td>80</td>\n      <td>62</td>\n      <td>81</td>\n      <td>50</td>\n      <td>84</td>\n      <td>51</td>\n      <td>36</td>\n      <td>87</td>\n      <td>90</td>\n      <td>92</td>\n      <td>93</td>\n      <td>NaN</td>\n      <td>30</td>\n      <td>29</td>\n      <td>9</td>\n      <td>9</td>\n      <td>15</td>\n      <td>15</td>\n      <td>11</td>\n      <td>84+3</td>\n      <td>84+3</td>\n      <td>84+3</td>\n      <td>90+0</td>\n      <td>89+0</td>\n      <td>89+0</td>\n      <td>89+0</td>\n      <td>90+0</td>\n      <td>90+1</td>\n      <td>90+1</td>\n      <td>90+1</td>\n      <td>90+1</td>\n      <td>83+3</td>\n      <td>83+3</td>\n      <td>83+3</td>\n      <td>90+1</td>\n      <td>67+3</td>\n      <td>62+3</td>\n      <td>62+3</td>\n      <td>62+3</td>\n      <td>67+3</td>\n      <td>62+3</td>\n      <td>49+3</td>\n      <td>49+3</td>\n      <td>49+3</td>\n      <td>62+3</td>\n    </tr>\n  </tbody>\n</table>\n</div>"
     },
     "execution_count": 91,
     "metadata": {},
     "output_type": "execute_result"
    }
   ],
   "source": [
    "df.head(3)  # 괄호 안의 숫자만큼의 행을 출력"
   ]
  },
  {
   "cell_type": "code",
   "execution_count": 92,
   "outputs": [
    {
     "data": {
      "text/plain": "       sofifa_id                                         player_url  \\\n18939     256679  https://sofifa.com/player/256679/kevin-angulo/...   \n18940     257710  https://sofifa.com/player/257710/mengxuan-zhan...   \n18941     250989  https://sofifa.com/player/250989/zhenghao-wang...   \n18942     257697  https://sofifa.com/player/257697/zitong-chen/2...   \n18943     257936   https://sofifa.com/player/257936/yue-song/210002   \n\n           short_name       long_name  age         dob  height_cm  weight_kg  \\\n18939       K. Angulo    Kevin Angulo   24  1996-04-13        176         73   \n18940  Zhang Mengxuan  Mengxuan Zhang   21  1999-04-26        177         70   \n18941   Wang Zhenghao             王政豪   20  2000-06-28        185         74   \n18942     Chen Zitong     Zitong Chen   23  1997-02-20        186         80   \n18943        Song Yue        Yue Song   28  1991-11-20        185         79   \n\n      nationality                            club_name  \\\n18939    Colombia                      América de Cali   \n18940    China PR  Chongqing Dangdai Lifan FC SWM Team   \n18941    China PR                      Tianjin TEDA FC   \n18942    China PR        Shijiazhuang Ever Bright F.C.   \n18943    China PR                      Tianjin TEDA FC   \n\n                   league_name  league_rank  overall  potential  value_eur  \\\n18939  Colombian Liga Postobón          1.0       47         52      40000   \n18940     Chinese Super League          1.0       47         52      35000   \n18941     Chinese Super League          1.0       47         51      35000   \n18942     Chinese Super League          1.0       47         51      40000   \n18943     Chinese Super League          1.0       47         47      30000   \n\n       wage_eur player_positions preferred_foot  international_reputation  \\\n18939       500               CM          Right                         1   \n18940      1000               CB          Right                         1   \n18941      1000               CB          Right                         1   \n18942      1000               CM          Right                         1   \n18943      2000               CM          Right                         1   \n\n       weak_foot  skill_moves      work_rate body_type real_face  \\\n18939          2            2  Medium/Medium    Normal        No   \n18940          2            2        Low/Low    Normal        No   \n18941          2            2     Low/Medium    Normal        No   \n18942          2            2        Low/Low      Lean        No   \n18943          2            2        Low/Low      Lean        No   \n\n       release_clause_eur player_tags team_position  team_jersey_number  \\\n18939             91000.0         NaN           SUB                28.0   \n18940             57000.0         NaN           SUB                25.0   \n18941             57000.0         NaN           RES                 2.0   \n18942             65000.0         NaN           RDM                 4.0   \n18943             47000.0         NaN           RES                33.0   \n\n      loaned_from      joined  contract_valid_until nation_position  \\\n18939         NaN  2020-01-01                2024.0             NaN   \n18940         NaN  2020-08-01                2020.0             NaN   \n18941         NaN  2019-02-01                2022.0             NaN   \n18942         NaN  2020-08-01                2023.0             NaN   \n18943         NaN  2020-08-01                2022.0             NaN   \n\n       nation_jersey_number  pace  shooting  passing  dribbling  defending  \\\n18939                   NaN  63.0      37.0     50.0       47.0       41.0   \n18940                   NaN  58.0      23.0     26.0       27.0       50.0   \n18941                   NaN  51.0      25.0     29.0       36.0       45.0   \n18942                   NaN  61.0      35.0     48.0       48.0       44.0   \n18943                   NaN  65.0      37.0     49.0       46.0       40.0   \n\n       physic  gk_diving  gk_handling  gk_kicking  gk_reflexes  gk_speed  \\\n18939    50.0        NaN          NaN         NaN          NaN       NaN   \n18940    48.0        NaN          NaN         NaN          NaN       NaN   \n18941    55.0        NaN          NaN         NaN          NaN       NaN   \n18942    58.0        NaN          NaN         NaN          NaN       NaN   \n18943    59.0        NaN          NaN         NaN          NaN       NaN   \n\n       gk_positioning player_traits  attacking_crossing  attacking_finishing  \\\n18939             NaN           NaN                  45                   37   \n18940             NaN           NaN                  23                   16   \n18941             NaN           NaN                  20                   20   \n18942             NaN           NaN                  38                   32   \n18943             NaN           NaN                  44                   32   \n\n       attacking_heading_accuracy  attacking_short_passing  attacking_volleys  \\\n18939                          43                       55                 27   \n18940                          45                       31                 26   \n18941                          46                       40                 22   \n18942                          45                       56                 32   \n18943                          44                       56                 35   \n\n       skill_dribbling  skill_curve  skill_fk_accuracy  skill_long_passing  \\\n18939               44           35                 35                  53   \n18940               19           21                 22                  25   \n18941               35           20                 25                  25   \n18942               45           35                 35                  54   \n18943               46           37                 33                  56   \n\n       skill_ball_control  movement_acceleration  movement_sprint_speed  \\\n18939                  46                     64                     62   \n18940                  24                     60                     56   \n18941                  30                     54                     49   \n18942                  48                     62                     60   \n18943                  43                     67                     64   \n\n       movement_agility  movement_reactions  movement_balance  \\\n18939                53                  51                71   \n18940                45                  48                70   \n18941                40                  45                57   \n18942                59                  51                53   \n18943                56                  44                55   \n\n       power_shot_power  power_jumping  power_stamina  power_strength  \\\n18939                43             57             40              51   \n18940                35             65             55              45   \n18941                35             69             58              55   \n18942                45             56             48              63   \n18943                49             59             54              62   \n\n       power_long_shots  mentality_aggression  mentality_interceptions  \\\n18939                36                    57                       41   \n18940                23                    44                       50   \n18941                22                    46                       45   \n18942                33                    56                       40   \n18943                34                    57                       35   \n\n       mentality_positioning  mentality_vision  mentality_penalties  \\\n18939                     31                49                   39   \n18940                     25                25                   35   \n18941                     25                25                   35   \n18942                     31                45                   42   \n18943                     48                44                   36   \n\n       mentality_composure  defending_marking  defending_standing_tackle  \\\n18939                   36                NaN                         39   \n18940                   40                NaN                         56   \n18941                   40                NaN                         55   \n18942                   43                NaN                         49   \n18943                   35                NaN                         43   \n\n       defending_sliding_tackle  goalkeeping_diving  goalkeeping_handling  \\\n18939                        54                  10                     9   \n18940                        47                  12                    13   \n18941                        45                  12                     9   \n18942                        45                  15                     7   \n18943                        45                   8                     5   \n\n       goalkeeping_kicking  goalkeeping_positioning  goalkeeping_reflexes  \\\n18939                   14                        6                     6   \n18940                    8                       14                     6   \n18941                   14                       15                    13   \n18942                    7                        5                    13   \n18943                   11                        5                     7   \n\n         ls    st    rs    lw    lf    cf    rf    rw   lam   cam   ram    lm  \\\n18939  44+2  44+2  44+2  47+0  45+0  45+0  45+0  47+0  47+2  47+2  47+2  48+2   \n18940  32+2  32+2  32+2  30+0  30+0  30+0  30+0  30+0  29+2  29+2  29+2  31+2   \n18941  34+2  34+2  34+2  33+0  33+0  33+0  33+0  33+0  33+2  33+2  33+2  35+2   \n18942  44+2  44+2  44+2  46+0  45+0  45+0  45+0  46+0  47+2  47+2  47+2  47+2   \n18943  46+1  46+1  46+1  47+0  46+0  46+0  46+0  47+0  47+0  47+0  47+0   49+   \n\n        lcm    cm   rcm    rm   lwb   ldm   cdm   rdm   rwb    lb   lcb    cb  \\\n18939  47+2  47+2  47+2  48+2  47+2  47+2  47+2  47+2  47+2  47+2  46+2  46+2   \n18940  32+2  32+2  32+2  31+2  42+2  41+2  41+2  41+2  42+2  45+2  47+2  47+2   \n18941  35+2  35+2  35+2  35+2  42+2  42+2  42+2  42+2  42+2  44+2  47+2  47+2   \n18942  47+2  47+2  47+2  47+2  47+2  49+2  49+2  49+2  47+2  47+2  49+2  49+2   \n18943  47+0  47+0  47+0   49+  47+0  47+0  47+0  47+0  47+0  47+0  46+1  46+1   \n\n        rcb    rb  \n18939  46+2  47+2  \n18940  47+2  45+2  \n18941  47+2  44+2  \n18942  49+2  47+2  \n18943  46+1  47+0  ",
      "text/html": "<div>\n<style scoped>\n    .dataframe tbody tr th:only-of-type {\n        vertical-align: middle;\n    }\n\n    .dataframe tbody tr th {\n        vertical-align: top;\n    }\n\n    .dataframe thead th {\n        text-align: right;\n    }\n</style>\n<table border=\"1\" class=\"dataframe\">\n  <thead>\n    <tr style=\"text-align: right;\">\n      <th></th>\n      <th>sofifa_id</th>\n      <th>player_url</th>\n      <th>short_name</th>\n      <th>long_name</th>\n      <th>age</th>\n      <th>dob</th>\n      <th>height_cm</th>\n      <th>weight_kg</th>\n      <th>nationality</th>\n      <th>club_name</th>\n      <th>league_name</th>\n      <th>league_rank</th>\n      <th>overall</th>\n      <th>potential</th>\n      <th>value_eur</th>\n      <th>wage_eur</th>\n      <th>player_positions</th>\n      <th>preferred_foot</th>\n      <th>international_reputation</th>\n      <th>weak_foot</th>\n      <th>skill_moves</th>\n      <th>work_rate</th>\n      <th>body_type</th>\n      <th>real_face</th>\n      <th>release_clause_eur</th>\n      <th>player_tags</th>\n      <th>team_position</th>\n      <th>team_jersey_number</th>\n      <th>loaned_from</th>\n      <th>joined</th>\n      <th>contract_valid_until</th>\n      <th>nation_position</th>\n      <th>nation_jersey_number</th>\n      <th>pace</th>\n      <th>shooting</th>\n      <th>passing</th>\n      <th>dribbling</th>\n      <th>defending</th>\n      <th>physic</th>\n      <th>gk_diving</th>\n      <th>gk_handling</th>\n      <th>gk_kicking</th>\n      <th>gk_reflexes</th>\n      <th>gk_speed</th>\n      <th>gk_positioning</th>\n      <th>player_traits</th>\n      <th>attacking_crossing</th>\n      <th>attacking_finishing</th>\n      <th>attacking_heading_accuracy</th>\n      <th>attacking_short_passing</th>\n      <th>attacking_volleys</th>\n      <th>skill_dribbling</th>\n      <th>skill_curve</th>\n      <th>skill_fk_accuracy</th>\n      <th>skill_long_passing</th>\n      <th>skill_ball_control</th>\n      <th>movement_acceleration</th>\n      <th>movement_sprint_speed</th>\n      <th>movement_agility</th>\n      <th>movement_reactions</th>\n      <th>movement_balance</th>\n      <th>power_shot_power</th>\n      <th>power_jumping</th>\n      <th>power_stamina</th>\n      <th>power_strength</th>\n      <th>power_long_shots</th>\n      <th>mentality_aggression</th>\n      <th>mentality_interceptions</th>\n      <th>mentality_positioning</th>\n      <th>mentality_vision</th>\n      <th>mentality_penalties</th>\n      <th>mentality_composure</th>\n      <th>defending_marking</th>\n      <th>defending_standing_tackle</th>\n      <th>defending_sliding_tackle</th>\n      <th>goalkeeping_diving</th>\n      <th>goalkeeping_handling</th>\n      <th>goalkeeping_kicking</th>\n      <th>goalkeeping_positioning</th>\n      <th>goalkeeping_reflexes</th>\n      <th>ls</th>\n      <th>st</th>\n      <th>rs</th>\n      <th>lw</th>\n      <th>lf</th>\n      <th>cf</th>\n      <th>rf</th>\n      <th>rw</th>\n      <th>lam</th>\n      <th>cam</th>\n      <th>ram</th>\n      <th>lm</th>\n      <th>lcm</th>\n      <th>cm</th>\n      <th>rcm</th>\n      <th>rm</th>\n      <th>lwb</th>\n      <th>ldm</th>\n      <th>cdm</th>\n      <th>rdm</th>\n      <th>rwb</th>\n      <th>lb</th>\n      <th>lcb</th>\n      <th>cb</th>\n      <th>rcb</th>\n      <th>rb</th>\n    </tr>\n  </thead>\n  <tbody>\n    <tr>\n      <th>18939</th>\n      <td>256679</td>\n      <td>https://sofifa.com/player/256679/kevin-angulo/...</td>\n      <td>K. Angulo</td>\n      <td>Kevin Angulo</td>\n      <td>24</td>\n      <td>1996-04-13</td>\n      <td>176</td>\n      <td>73</td>\n      <td>Colombia</td>\n      <td>América de Cali</td>\n      <td>Colombian Liga Postobón</td>\n      <td>1.0</td>\n      <td>47</td>\n      <td>52</td>\n      <td>40000</td>\n      <td>500</td>\n      <td>CM</td>\n      <td>Right</td>\n      <td>1</td>\n      <td>2</td>\n      <td>2</td>\n      <td>Medium/Medium</td>\n      <td>Normal</td>\n      <td>No</td>\n      <td>91000.0</td>\n      <td>NaN</td>\n      <td>SUB</td>\n      <td>28.0</td>\n      <td>NaN</td>\n      <td>2020-01-01</td>\n      <td>2024.0</td>\n      <td>NaN</td>\n      <td>NaN</td>\n      <td>63.0</td>\n      <td>37.0</td>\n      <td>50.0</td>\n      <td>47.0</td>\n      <td>41.0</td>\n      <td>50.0</td>\n      <td>NaN</td>\n      <td>NaN</td>\n      <td>NaN</td>\n      <td>NaN</td>\n      <td>NaN</td>\n      <td>NaN</td>\n      <td>NaN</td>\n      <td>45</td>\n      <td>37</td>\n      <td>43</td>\n      <td>55</td>\n      <td>27</td>\n      <td>44</td>\n      <td>35</td>\n      <td>35</td>\n      <td>53</td>\n      <td>46</td>\n      <td>64</td>\n      <td>62</td>\n      <td>53</td>\n      <td>51</td>\n      <td>71</td>\n      <td>43</td>\n      <td>57</td>\n      <td>40</td>\n      <td>51</td>\n      <td>36</td>\n      <td>57</td>\n      <td>41</td>\n      <td>31</td>\n      <td>49</td>\n      <td>39</td>\n      <td>36</td>\n      <td>NaN</td>\n      <td>39</td>\n      <td>54</td>\n      <td>10</td>\n      <td>9</td>\n      <td>14</td>\n      <td>6</td>\n      <td>6</td>\n      <td>44+2</td>\n      <td>44+2</td>\n      <td>44+2</td>\n      <td>47+0</td>\n      <td>45+0</td>\n      <td>45+0</td>\n      <td>45+0</td>\n      <td>47+0</td>\n      <td>47+2</td>\n      <td>47+2</td>\n      <td>47+2</td>\n      <td>48+2</td>\n      <td>47+2</td>\n      <td>47+2</td>\n      <td>47+2</td>\n      <td>48+2</td>\n      <td>47+2</td>\n      <td>47+2</td>\n      <td>47+2</td>\n      <td>47+2</td>\n      <td>47+2</td>\n      <td>47+2</td>\n      <td>46+2</td>\n      <td>46+2</td>\n      <td>46+2</td>\n      <td>47+2</td>\n    </tr>\n    <tr>\n      <th>18940</th>\n      <td>257710</td>\n      <td>https://sofifa.com/player/257710/mengxuan-zhan...</td>\n      <td>Zhang Mengxuan</td>\n      <td>Mengxuan Zhang</td>\n      <td>21</td>\n      <td>1999-04-26</td>\n      <td>177</td>\n      <td>70</td>\n      <td>China PR</td>\n      <td>Chongqing Dangdai Lifan FC SWM Team</td>\n      <td>Chinese Super League</td>\n      <td>1.0</td>\n      <td>47</td>\n      <td>52</td>\n      <td>35000</td>\n      <td>1000</td>\n      <td>CB</td>\n      <td>Right</td>\n      <td>1</td>\n      <td>2</td>\n      <td>2</td>\n      <td>Low/Low</td>\n      <td>Normal</td>\n      <td>No</td>\n      <td>57000.0</td>\n      <td>NaN</td>\n      <td>SUB</td>\n      <td>25.0</td>\n      <td>NaN</td>\n      <td>2020-08-01</td>\n      <td>2020.0</td>\n      <td>NaN</td>\n      <td>NaN</td>\n      <td>58.0</td>\n      <td>23.0</td>\n      <td>26.0</td>\n      <td>27.0</td>\n      <td>50.0</td>\n      <td>48.0</td>\n      <td>NaN</td>\n      <td>NaN</td>\n      <td>NaN</td>\n      <td>NaN</td>\n      <td>NaN</td>\n      <td>NaN</td>\n      <td>NaN</td>\n      <td>23</td>\n      <td>16</td>\n      <td>45</td>\n      <td>31</td>\n      <td>26</td>\n      <td>19</td>\n      <td>21</td>\n      <td>22</td>\n      <td>25</td>\n      <td>24</td>\n      <td>60</td>\n      <td>56</td>\n      <td>45</td>\n      <td>48</td>\n      <td>70</td>\n      <td>35</td>\n      <td>65</td>\n      <td>55</td>\n      <td>45</td>\n      <td>23</td>\n      <td>44</td>\n      <td>50</td>\n      <td>25</td>\n      <td>25</td>\n      <td>35</td>\n      <td>40</td>\n      <td>NaN</td>\n      <td>56</td>\n      <td>47</td>\n      <td>12</td>\n      <td>13</td>\n      <td>8</td>\n      <td>14</td>\n      <td>6</td>\n      <td>32+2</td>\n      <td>32+2</td>\n      <td>32+2</td>\n      <td>30+0</td>\n      <td>30+0</td>\n      <td>30+0</td>\n      <td>30+0</td>\n      <td>30+0</td>\n      <td>29+2</td>\n      <td>29+2</td>\n      <td>29+2</td>\n      <td>31+2</td>\n      <td>32+2</td>\n      <td>32+2</td>\n      <td>32+2</td>\n      <td>31+2</td>\n      <td>42+2</td>\n      <td>41+2</td>\n      <td>41+2</td>\n      <td>41+2</td>\n      <td>42+2</td>\n      <td>45+2</td>\n      <td>47+2</td>\n      <td>47+2</td>\n      <td>47+2</td>\n      <td>45+2</td>\n    </tr>\n    <tr>\n      <th>18941</th>\n      <td>250989</td>\n      <td>https://sofifa.com/player/250989/zhenghao-wang...</td>\n      <td>Wang Zhenghao</td>\n      <td>王政豪</td>\n      <td>20</td>\n      <td>2000-06-28</td>\n      <td>185</td>\n      <td>74</td>\n      <td>China PR</td>\n      <td>Tianjin TEDA FC</td>\n      <td>Chinese Super League</td>\n      <td>1.0</td>\n      <td>47</td>\n      <td>51</td>\n      <td>35000</td>\n      <td>1000</td>\n      <td>CB</td>\n      <td>Right</td>\n      <td>1</td>\n      <td>2</td>\n      <td>2</td>\n      <td>Low/Medium</td>\n      <td>Normal</td>\n      <td>No</td>\n      <td>57000.0</td>\n      <td>NaN</td>\n      <td>RES</td>\n      <td>2.0</td>\n      <td>NaN</td>\n      <td>2019-02-01</td>\n      <td>2022.0</td>\n      <td>NaN</td>\n      <td>NaN</td>\n      <td>51.0</td>\n      <td>25.0</td>\n      <td>29.0</td>\n      <td>36.0</td>\n      <td>45.0</td>\n      <td>55.0</td>\n      <td>NaN</td>\n      <td>NaN</td>\n      <td>NaN</td>\n      <td>NaN</td>\n      <td>NaN</td>\n      <td>NaN</td>\n      <td>NaN</td>\n      <td>20</td>\n      <td>20</td>\n      <td>46</td>\n      <td>40</td>\n      <td>22</td>\n      <td>35</td>\n      <td>20</td>\n      <td>25</td>\n      <td>25</td>\n      <td>30</td>\n      <td>54</td>\n      <td>49</td>\n      <td>40</td>\n      <td>45</td>\n      <td>57</td>\n      <td>35</td>\n      <td>69</td>\n      <td>58</td>\n      <td>55</td>\n      <td>22</td>\n      <td>46</td>\n      <td>45</td>\n      <td>25</td>\n      <td>25</td>\n      <td>35</td>\n      <td>40</td>\n      <td>NaN</td>\n      <td>55</td>\n      <td>45</td>\n      <td>12</td>\n      <td>9</td>\n      <td>14</td>\n      <td>15</td>\n      <td>13</td>\n      <td>34+2</td>\n      <td>34+2</td>\n      <td>34+2</td>\n      <td>33+0</td>\n      <td>33+0</td>\n      <td>33+0</td>\n      <td>33+0</td>\n      <td>33+0</td>\n      <td>33+2</td>\n      <td>33+2</td>\n      <td>33+2</td>\n      <td>35+2</td>\n      <td>35+2</td>\n      <td>35+2</td>\n      <td>35+2</td>\n      <td>35+2</td>\n      <td>42+2</td>\n      <td>42+2</td>\n      <td>42+2</td>\n      <td>42+2</td>\n      <td>42+2</td>\n      <td>44+2</td>\n      <td>47+2</td>\n      <td>47+2</td>\n      <td>47+2</td>\n      <td>44+2</td>\n    </tr>\n    <tr>\n      <th>18942</th>\n      <td>257697</td>\n      <td>https://sofifa.com/player/257697/zitong-chen/2...</td>\n      <td>Chen Zitong</td>\n      <td>Zitong Chen</td>\n      <td>23</td>\n      <td>1997-02-20</td>\n      <td>186</td>\n      <td>80</td>\n      <td>China PR</td>\n      <td>Shijiazhuang Ever Bright F.C.</td>\n      <td>Chinese Super League</td>\n      <td>1.0</td>\n      <td>47</td>\n      <td>51</td>\n      <td>40000</td>\n      <td>1000</td>\n      <td>CM</td>\n      <td>Right</td>\n      <td>1</td>\n      <td>2</td>\n      <td>2</td>\n      <td>Low/Low</td>\n      <td>Lean</td>\n      <td>No</td>\n      <td>65000.0</td>\n      <td>NaN</td>\n      <td>RDM</td>\n      <td>4.0</td>\n      <td>NaN</td>\n      <td>2020-08-01</td>\n      <td>2023.0</td>\n      <td>NaN</td>\n      <td>NaN</td>\n      <td>61.0</td>\n      <td>35.0</td>\n      <td>48.0</td>\n      <td>48.0</td>\n      <td>44.0</td>\n      <td>58.0</td>\n      <td>NaN</td>\n      <td>NaN</td>\n      <td>NaN</td>\n      <td>NaN</td>\n      <td>NaN</td>\n      <td>NaN</td>\n      <td>NaN</td>\n      <td>38</td>\n      <td>32</td>\n      <td>45</td>\n      <td>56</td>\n      <td>32</td>\n      <td>45</td>\n      <td>35</td>\n      <td>35</td>\n      <td>54</td>\n      <td>48</td>\n      <td>62</td>\n      <td>60</td>\n      <td>59</td>\n      <td>51</td>\n      <td>53</td>\n      <td>45</td>\n      <td>56</td>\n      <td>48</td>\n      <td>63</td>\n      <td>33</td>\n      <td>56</td>\n      <td>40</td>\n      <td>31</td>\n      <td>45</td>\n      <td>42</td>\n      <td>43</td>\n      <td>NaN</td>\n      <td>49</td>\n      <td>45</td>\n      <td>15</td>\n      <td>7</td>\n      <td>7</td>\n      <td>5</td>\n      <td>13</td>\n      <td>44+2</td>\n      <td>44+2</td>\n      <td>44+2</td>\n      <td>46+0</td>\n      <td>45+0</td>\n      <td>45+0</td>\n      <td>45+0</td>\n      <td>46+0</td>\n      <td>47+2</td>\n      <td>47+2</td>\n      <td>47+2</td>\n      <td>47+2</td>\n      <td>47+2</td>\n      <td>47+2</td>\n      <td>47+2</td>\n      <td>47+2</td>\n      <td>47+2</td>\n      <td>49+2</td>\n      <td>49+2</td>\n      <td>49+2</td>\n      <td>47+2</td>\n      <td>47+2</td>\n      <td>49+2</td>\n      <td>49+2</td>\n      <td>49+2</td>\n      <td>47+2</td>\n    </tr>\n    <tr>\n      <th>18943</th>\n      <td>257936</td>\n      <td>https://sofifa.com/player/257936/yue-song/210002</td>\n      <td>Song Yue</td>\n      <td>Yue Song</td>\n      <td>28</td>\n      <td>1991-11-20</td>\n      <td>185</td>\n      <td>79</td>\n      <td>China PR</td>\n      <td>Tianjin TEDA FC</td>\n      <td>Chinese Super League</td>\n      <td>1.0</td>\n      <td>47</td>\n      <td>47</td>\n      <td>30000</td>\n      <td>2000</td>\n      <td>CM</td>\n      <td>Right</td>\n      <td>1</td>\n      <td>2</td>\n      <td>2</td>\n      <td>Low/Low</td>\n      <td>Lean</td>\n      <td>No</td>\n      <td>47000.0</td>\n      <td>NaN</td>\n      <td>RES</td>\n      <td>33.0</td>\n      <td>NaN</td>\n      <td>2020-08-01</td>\n      <td>2022.0</td>\n      <td>NaN</td>\n      <td>NaN</td>\n      <td>65.0</td>\n      <td>37.0</td>\n      <td>49.0</td>\n      <td>46.0</td>\n      <td>40.0</td>\n      <td>59.0</td>\n      <td>NaN</td>\n      <td>NaN</td>\n      <td>NaN</td>\n      <td>NaN</td>\n      <td>NaN</td>\n      <td>NaN</td>\n      <td>NaN</td>\n      <td>44</td>\n      <td>32</td>\n      <td>44</td>\n      <td>56</td>\n      <td>35</td>\n      <td>46</td>\n      <td>37</td>\n      <td>33</td>\n      <td>56</td>\n      <td>43</td>\n      <td>67</td>\n      <td>64</td>\n      <td>56</td>\n      <td>44</td>\n      <td>55</td>\n      <td>49</td>\n      <td>59</td>\n      <td>54</td>\n      <td>62</td>\n      <td>34</td>\n      <td>57</td>\n      <td>35</td>\n      <td>48</td>\n      <td>44</td>\n      <td>36</td>\n      <td>35</td>\n      <td>NaN</td>\n      <td>43</td>\n      <td>45</td>\n      <td>8</td>\n      <td>5</td>\n      <td>11</td>\n      <td>5</td>\n      <td>7</td>\n      <td>46+1</td>\n      <td>46+1</td>\n      <td>46+1</td>\n      <td>47+0</td>\n      <td>46+0</td>\n      <td>46+0</td>\n      <td>46+0</td>\n      <td>47+0</td>\n      <td>47+0</td>\n      <td>47+0</td>\n      <td>47+0</td>\n      <td>49+</td>\n      <td>47+0</td>\n      <td>47+0</td>\n      <td>47+0</td>\n      <td>49+</td>\n      <td>47+0</td>\n      <td>47+0</td>\n      <td>47+0</td>\n      <td>47+0</td>\n      <td>47+0</td>\n      <td>47+0</td>\n      <td>46+1</td>\n      <td>46+1</td>\n      <td>46+1</td>\n      <td>47+0</td>\n    </tr>\n  </tbody>\n</table>\n</div>"
     },
     "execution_count": 92,
     "metadata": {},
     "output_type": "execute_result"
    }
   ],
   "source": [
    "df.tail()  # 별도의 숫자를 입력하지 않으면 5개가 기본"
   ],
   "metadata": {
    "collapsed": false,
    "pycharm": {
     "name": "#%%\n"
    }
   }
  },
  {
   "cell_type": "markdown",
   "source": [
    "참고로, ```set_option```메서드를 통해 판다스의 여러가지 설정값을 바꿀 수 있습니다. 출력되는 열(칼럼) 수에는 제한을 두지 않는 편이지만, 행의 수는 큰 데이터셋을 다룰 때 메모리가 많이 소요되므로, ```display.max_rows``` 값은 건드리지 않는 편입니다. 저는 각각 None과 20을 적용해보겠습니다."
   ],
   "metadata": {
    "collapsed": false,
    "pycharm": {
     "name": "#%% md\n"
    }
   }
  },
  {
   "cell_type": "code",
   "execution_count": 93,
   "id": "e8dc25a0",
   "metadata": {
    "pycharm": {
     "name": "#%%\n"
    }
   },
   "outputs": [],
   "source": [
    "pd.set_option(\"display.max_columns\", None)  # 칼럼 수 제한없음\n",
    "pd.set_option(\"display.max_rows\", 20) # 행의 수는 20개로 제한\n"
   ]
  },
  {
   "cell_type": "markdown",
   "source": [
    "칼럼은 총 몇 개일까요? ```len```함수를 통해 확인할 수 있습니다."
   ],
   "metadata": {
    "collapsed": false,
    "pycharm": {
     "name": "#%% md\n"
    }
   }
  },
  {
   "cell_type": "code",
   "execution_count": 94,
   "id": "6ef79a19",
   "metadata": {
    "pycharm": {
     "name": "#%%\n"
    }
   },
   "outputs": [
    {
     "data": {
      "text/plain": "106"
     },
     "execution_count": 94,
     "metadata": {},
     "output_type": "execute_result"
    }
   ],
   "source": [
    "len(df.columns)"
   ]
  },
  {
   "cell_type": "markdown",
   "source": [
    "칼럼 수가 106개나 되는군요. 일반적으로 EDA를 진행하면서, 분석에 불필요한 행은 ```df.drop```메서드를 통해 솎아내는 편입니다. ```df.drop``` 메서드는 조금 뒤에 보여드리겠습니다.\n",
    "\n",
    "우선 ```df.columns``` 커맨드를 통해 전체 칼럼은 어떤지, 어떤 데이터를 담고 있는지 한 번 확인해보겠습니다."
   ],
   "metadata": {
    "collapsed": false,
    "pycharm": {
     "name": "#%% md\n"
    }
   }
  },
  {
   "cell_type": "code",
   "execution_count": 95,
   "outputs": [
    {
     "data": {
      "text/plain": "Index(['sofifa_id', 'player_url', 'short_name', 'long_name', 'age', 'dob',\n       'height_cm', 'weight_kg', 'nationality', 'club_name',\n       ...\n       'lwb', 'ldm', 'cdm', 'rdm', 'rwb', 'lb', 'lcb', 'cb', 'rcb', 'rb'],\n      dtype='object', length=106)"
     },
     "execution_count": 95,
     "metadata": {},
     "output_type": "execute_result"
    }
   ],
   "source": [
    "df.columns"
   ],
   "metadata": {
    "collapsed": false,
    "pycharm": {
     "name": "#%%\n"
    }
   }
  },
  {
   "cell_type": "markdown",
   "source": [
    "# 이 데이터셋은?\n",
    "\n",
    "축구 게임을 좋아하시는 분들이라면 전 세계의 이름있는 축구선수들의 정보(신상정보, 능력치나 연봉 등)가 들어있는 데이터프레임인 것을 바로 눈치채셨을 겁니다.\n",
    "\n",
    "쭉 읽어보시면, 대부분의 칼럼명은 직관적으로 이해가 되지만, 그렇지 않은 칼럼들도 있을 것입니다. 일반적으로웹상에서 공유되는 이런 데이터셋들은 디스크립션 자료가 별도로 존재하는 편입니다. 우리가 불러온 데이터는 sofifa.com이라는 사이트에서 모든 현역 선수들의 오버롤 데이터를 크롤링한 자료입니다. 축구 팬이시라면 sofifa.com에서 여러분이 좋아하는 선수의 현재(또는 향후에 조정될) 스탯에 대해 검토하고 토론도 나눌 수 있답니다.\n",
    "\n",
    "데이터셋 출처 : https://www.kaggle.com/datasets/stefanoleone992/fifa-21-complete-player-dataset?resource=download"
   ],
   "metadata": {
    "collapsed": false,
    "pycharm": {
     "name": "#%% md\n"
    }
   }
  },
  {
   "cell_type": "markdown",
   "source": [
    "축구를 별로 좋아하시지 않는 분들이라도 우리나라 사람이라면 손흥민 선수에 대한 애정과 관심은 클 거라고 생각합니다. 우리 데이터셋에 **손흥민** 선수가 들어있는지 인덱싱으로 한 번 확인해볼까요?\n",
    "\n",
    "# 특정 행이나 특정 열을 선택하는 방법, 인덱싱(loc, iloc)\n",
    "\n",
    "![](./h_son.jpg)\n",
    "\n",
    "① 미리 알려드리면, 이 데이터프레임 안에서 손흥민 선수의 인덱스아이디는 71입니다(알고 있다고 가정). 이를 통해 손흥민 선수의 스탯을 확인하려면, 판다스 데이터프레임 메서드인 loc 또는 iloc를 활용하면 됩니다. ```df.loc[71]```을 입력해봅시다."
   ],
   "metadata": {
    "collapsed": false,
    "pycharm": {
     "name": "#%% md\n"
    }
   }
  },
  {
   "cell_type": "code",
   "execution_count": 96,
   "outputs": [
    {
     "data": {
      "text/plain": "sofifa_id                                                200104\nplayer_url    https://sofifa.com/player/200104/heung-min-son...\nshort_name                                               H. Son\nlong_name                                               손흥민 孙兴慜\nage                                                          27\n                                    ...                        \nlb                                                         64+3\nlcb                                                        54+3\ncb                                                         54+3\nrcb                                                        54+3\nrb                                                         64+3\nName: 71, Length: 106, dtype: object"
     },
     "execution_count": 96,
     "metadata": {},
     "output_type": "execute_result"
    }
   ],
   "source": [
    "df.loc[71]  # 인덱스명으로 탐색"
   ],
   "metadata": {
    "collapsed": false,
    "pycharm": {
     "name": "#%%\n"
    }
   }
  },
  {
   "cell_type": "code",
   "execution_count": 97,
   "outputs": [
    {
     "data": {
      "text/plain": "sofifa_id                                                200104\nplayer_url    https://sofifa.com/player/200104/heung-min-son...\nshort_name                                               H. Son\nlong_name                                               손흥민 孙兴慜\nage                                                          27\n                                    ...                        \nlb                                                         64+3\nlcb                                                        54+3\ncb                                                         54+3\nrcb                                                        54+3\nrb                                                         64+3\nName: 71, Length: 106, dtype: object"
     },
     "execution_count": 97,
     "metadata": {},
     "output_type": "execute_result"
    }
   ],
   "source": [
    "df.iloc[71]  # 인덱스 순서로 탐색"
   ],
   "metadata": {
    "collapsed": false,
    "pycharm": {
     "name": "#%%\n"
    }
   }
  },
  {
   "cell_type": "markdown",
   "source": [
    "이 예제에서는 두 커맨드가 같은 결과를 출력했지만, 사실 iloc는 인덱스가 숫자가 아닌 경우에도 숫자로 행을 불러올 수 있는 메서드입니다. 예를 들어 데이터프레임의 인덱스가 \"a\", \"b\", \"c\", ... 인 경우에는 loc 메서드를 사용할 때는 ```df.loc[\"c\"]```와 ```df.iloc[2]```는 동일한 행을 출력해줍니다."
   ],
   "metadata": {
    "collapsed": false,
    "pycharm": {
     "name": "#%% md\n"
    }
   }
  },
  {
   "cell_type": "markdown",
   "source": [
    "그런데 우리는 사실 손흥민 선수의 인덱스(71)를 모르는 상태입니다. \"short_name 칼럼의 문자열이 Son으로 끝나는 선수\"라든지, \"long_name 칼럼에 손흥민이라는 이름이 포함된 선수\"라는 조건으로 검색을 해 보고 싶다면? 이런 경우를 위한 검색방법이 준비되어 있습니다. 아래 두 줄의 커맨드를 찬찬히 살펴보시기 바랍니다."
   ],
   "metadata": {
    "collapsed": false,
    "pycharm": {
     "name": "#%% md\n"
    }
   }
  },
  {
   "cell_type": "code",
   "execution_count": 98,
   "outputs": [
    {
     "data": {
      "text/plain": "      sofifa_id                                         player_url short_name  \\\n71       200104  https://sofifa.com/player/200104/heung-min-son...     H. Son   \n4267     252086  https://sofifa.com/player/252086/fco-javier-hi...        Son   \n\n                           long_name  age         dob  height_cm  weight_kg  \\\n71                           손흥민 孙兴慜   27  1992-07-08        183         78   \n4267  Francisco Javier Hidalgo Gómez   26  1994-03-30        178         72   \n\n         nationality          club_name             league_name  league_rank  \\\n71    Korea Republic  Tottenham Hotspur  English Premier League          1.0   \n4267           Spain         Levante UD  Spain Primera Division          1.0   \n\n      overall  potential  value_eur  wage_eur player_positions preferred_foot  \\\n71         87         87   52500000    165000           LM, CF          Right   \n4267       71         74    2600000     14000               RB          Right   \n\n      international_reputation  weak_foot  skill_moves    work_rate  \\\n71                           3          5            4    High/High   \n4267                         1          3            2  High/Medium   \n\n                 body_type real_face  release_clause_eur  \\\n71    PLAYER_BODY_TYPE_366       Yes          99800000.0   \n4267                  Lean        No           5700000.0   \n\n                                            player_tags team_position  \\\n71    #Dribbler, #Engine, #Distance Shooter, #Acroba...            LM   \n4267                                                NaN           SUB   \n\n      team_jersey_number loaned_from      joined  contract_valid_until  \\\n71                   7.0         NaN  2015-08-28                2023.0   \n4267                 2.0         NaN  2020-08-04                2024.0   \n\n     nation_position  nation_jersey_number  pace  shooting  passing  \\\n71               NaN                   NaN  88.0      86.0     80.0   \n4267             NaN                   NaN  74.0      46.0     61.0   \n\n      dribbling  defending  physic  gk_diving  gk_handling  gk_kicking  \\\n71         87.0       43.0    69.0        NaN          NaN         NaN   \n4267       67.0       67.0    68.0        NaN          NaN         NaN   \n\n      gk_reflexes  gk_speed  gk_positioning  \\\n71            NaN       NaN             NaN   \n4267          NaN       NaN             NaN   \n\n                                          player_traits  attacking_crossing  \\\n71    Solid Player, Finesse Shot, Long Shot Taker (A...                  81   \n4267                                                NaN                  65   \n\n      attacking_finishing  attacking_heading_accuracy  \\\n71                     86                          68   \n4267                   45                          63   \n\n      attacking_short_passing  attacking_volleys  skill_dribbling  \\\n71                         83                 81               88   \n4267                       67                 41               67   \n\n      skill_curve  skill_fk_accuracy  skill_long_passing  skill_ball_control  \\\n71             85                 70                  70                  87   \n4267           55                 45                  56                  66   \n\n      movement_acceleration  movement_sprint_speed  movement_agility  \\\n71                       86                     90                86   \n4267                     75                     74                67   \n\n      movement_reactions  movement_balance  power_shot_power  power_jumping  \\\n71                    89                78                88             56   \n4267                  68                68                44             64   \n\n      power_stamina  power_strength  power_long_shots  mentality_aggression  \\\n71               87              64                90                    62   \n4267             79              65                47                    63   \n\n      mentality_interceptions  mentality_positioning  mentality_vision  \\\n71                         39                     88                83   \n4267                       67                     66                55   \n\n      mentality_penalties  mentality_composure  defending_marking  \\\n71                     73                   88                NaN   \n4267                   53                   67                NaN   \n\n      defending_standing_tackle  defending_sliding_tackle  goalkeeping_diving  \\\n71                           34                        33                  11   \n4267                         67                        68                   8   \n\n      goalkeeping_handling  goalkeeping_kicking  goalkeeping_positioning  \\\n71                      13                   13                        6   \n4267                    12                   10                        8   \n\n      goalkeeping_reflexes    ls    st    rs    lw    lf    cf    rf    rw  \\\n71                      10  84+3  84+3  84+3  86+0  87+0  87+0  87+0  86+0   \n4267                     6  60+2  60+2  60+2  64+0  62+0  62+0  62+0  64+0   \n\n       lam   cam   ram    lm   lcm    cm   rcm    rm   lwb   ldm   cdm   rdm  \\\n71    86+1  86+1  86+1  85+2  79+3  79+3  79+3  85+2  68+3  63+3  63+3  63+3   \n4267  63+2  63+2  63+2  66+2  63+2  63+2  63+2  66+2  69+2  66+2  66+2  66+2   \n\n       rwb    lb   lcb    cb   rcb    rb  \n71    68+3  64+3  54+3  54+3  54+3  64+3  \n4267  69+2  69+2  66+2  66+2  66+2  69+2  ",
      "text/html": "<div>\n<style scoped>\n    .dataframe tbody tr th:only-of-type {\n        vertical-align: middle;\n    }\n\n    .dataframe tbody tr th {\n        vertical-align: top;\n    }\n\n    .dataframe thead th {\n        text-align: right;\n    }\n</style>\n<table border=\"1\" class=\"dataframe\">\n  <thead>\n    <tr style=\"text-align: right;\">\n      <th></th>\n      <th>sofifa_id</th>\n      <th>player_url</th>\n      <th>short_name</th>\n      <th>long_name</th>\n      <th>age</th>\n      <th>dob</th>\n      <th>height_cm</th>\n      <th>weight_kg</th>\n      <th>nationality</th>\n      <th>club_name</th>\n      <th>league_name</th>\n      <th>league_rank</th>\n      <th>overall</th>\n      <th>potential</th>\n      <th>value_eur</th>\n      <th>wage_eur</th>\n      <th>player_positions</th>\n      <th>preferred_foot</th>\n      <th>international_reputation</th>\n      <th>weak_foot</th>\n      <th>skill_moves</th>\n      <th>work_rate</th>\n      <th>body_type</th>\n      <th>real_face</th>\n      <th>release_clause_eur</th>\n      <th>player_tags</th>\n      <th>team_position</th>\n      <th>team_jersey_number</th>\n      <th>loaned_from</th>\n      <th>joined</th>\n      <th>contract_valid_until</th>\n      <th>nation_position</th>\n      <th>nation_jersey_number</th>\n      <th>pace</th>\n      <th>shooting</th>\n      <th>passing</th>\n      <th>dribbling</th>\n      <th>defending</th>\n      <th>physic</th>\n      <th>gk_diving</th>\n      <th>gk_handling</th>\n      <th>gk_kicking</th>\n      <th>gk_reflexes</th>\n      <th>gk_speed</th>\n      <th>gk_positioning</th>\n      <th>player_traits</th>\n      <th>attacking_crossing</th>\n      <th>attacking_finishing</th>\n      <th>attacking_heading_accuracy</th>\n      <th>attacking_short_passing</th>\n      <th>attacking_volleys</th>\n      <th>skill_dribbling</th>\n      <th>skill_curve</th>\n      <th>skill_fk_accuracy</th>\n      <th>skill_long_passing</th>\n      <th>skill_ball_control</th>\n      <th>movement_acceleration</th>\n      <th>movement_sprint_speed</th>\n      <th>movement_agility</th>\n      <th>movement_reactions</th>\n      <th>movement_balance</th>\n      <th>power_shot_power</th>\n      <th>power_jumping</th>\n      <th>power_stamina</th>\n      <th>power_strength</th>\n      <th>power_long_shots</th>\n      <th>mentality_aggression</th>\n      <th>mentality_interceptions</th>\n      <th>mentality_positioning</th>\n      <th>mentality_vision</th>\n      <th>mentality_penalties</th>\n      <th>mentality_composure</th>\n      <th>defending_marking</th>\n      <th>defending_standing_tackle</th>\n      <th>defending_sliding_tackle</th>\n      <th>goalkeeping_diving</th>\n      <th>goalkeeping_handling</th>\n      <th>goalkeeping_kicking</th>\n      <th>goalkeeping_positioning</th>\n      <th>goalkeeping_reflexes</th>\n      <th>ls</th>\n      <th>st</th>\n      <th>rs</th>\n      <th>lw</th>\n      <th>lf</th>\n      <th>cf</th>\n      <th>rf</th>\n      <th>rw</th>\n      <th>lam</th>\n      <th>cam</th>\n      <th>ram</th>\n      <th>lm</th>\n      <th>lcm</th>\n      <th>cm</th>\n      <th>rcm</th>\n      <th>rm</th>\n      <th>lwb</th>\n      <th>ldm</th>\n      <th>cdm</th>\n      <th>rdm</th>\n      <th>rwb</th>\n      <th>lb</th>\n      <th>lcb</th>\n      <th>cb</th>\n      <th>rcb</th>\n      <th>rb</th>\n    </tr>\n  </thead>\n  <tbody>\n    <tr>\n      <th>71</th>\n      <td>200104</td>\n      <td>https://sofifa.com/player/200104/heung-min-son...</td>\n      <td>H. Son</td>\n      <td>손흥민 孙兴慜</td>\n      <td>27</td>\n      <td>1992-07-08</td>\n      <td>183</td>\n      <td>78</td>\n      <td>Korea Republic</td>\n      <td>Tottenham Hotspur</td>\n      <td>English Premier League</td>\n      <td>1.0</td>\n      <td>87</td>\n      <td>87</td>\n      <td>52500000</td>\n      <td>165000</td>\n      <td>LM, CF</td>\n      <td>Right</td>\n      <td>3</td>\n      <td>5</td>\n      <td>4</td>\n      <td>High/High</td>\n      <td>PLAYER_BODY_TYPE_366</td>\n      <td>Yes</td>\n      <td>99800000.0</td>\n      <td>#Dribbler, #Engine, #Distance Shooter, #Acroba...</td>\n      <td>LM</td>\n      <td>7.0</td>\n      <td>NaN</td>\n      <td>2015-08-28</td>\n      <td>2023.0</td>\n      <td>NaN</td>\n      <td>NaN</td>\n      <td>88.0</td>\n      <td>86.0</td>\n      <td>80.0</td>\n      <td>87.0</td>\n      <td>43.0</td>\n      <td>69.0</td>\n      <td>NaN</td>\n      <td>NaN</td>\n      <td>NaN</td>\n      <td>NaN</td>\n      <td>NaN</td>\n      <td>NaN</td>\n      <td>Solid Player, Finesse Shot, Long Shot Taker (A...</td>\n      <td>81</td>\n      <td>86</td>\n      <td>68</td>\n      <td>83</td>\n      <td>81</td>\n      <td>88</td>\n      <td>85</td>\n      <td>70</td>\n      <td>70</td>\n      <td>87</td>\n      <td>86</td>\n      <td>90</td>\n      <td>86</td>\n      <td>89</td>\n      <td>78</td>\n      <td>88</td>\n      <td>56</td>\n      <td>87</td>\n      <td>64</td>\n      <td>90</td>\n      <td>62</td>\n      <td>39</td>\n      <td>88</td>\n      <td>83</td>\n      <td>73</td>\n      <td>88</td>\n      <td>NaN</td>\n      <td>34</td>\n      <td>33</td>\n      <td>11</td>\n      <td>13</td>\n      <td>13</td>\n      <td>6</td>\n      <td>10</td>\n      <td>84+3</td>\n      <td>84+3</td>\n      <td>84+3</td>\n      <td>86+0</td>\n      <td>87+0</td>\n      <td>87+0</td>\n      <td>87+0</td>\n      <td>86+0</td>\n      <td>86+1</td>\n      <td>86+1</td>\n      <td>86+1</td>\n      <td>85+2</td>\n      <td>79+3</td>\n      <td>79+3</td>\n      <td>79+3</td>\n      <td>85+2</td>\n      <td>68+3</td>\n      <td>63+3</td>\n      <td>63+3</td>\n      <td>63+3</td>\n      <td>68+3</td>\n      <td>64+3</td>\n      <td>54+3</td>\n      <td>54+3</td>\n      <td>54+3</td>\n      <td>64+3</td>\n    </tr>\n    <tr>\n      <th>4267</th>\n      <td>252086</td>\n      <td>https://sofifa.com/player/252086/fco-javier-hi...</td>\n      <td>Son</td>\n      <td>Francisco Javier Hidalgo Gómez</td>\n      <td>26</td>\n      <td>1994-03-30</td>\n      <td>178</td>\n      <td>72</td>\n      <td>Spain</td>\n      <td>Levante UD</td>\n      <td>Spain Primera Division</td>\n      <td>1.0</td>\n      <td>71</td>\n      <td>74</td>\n      <td>2600000</td>\n      <td>14000</td>\n      <td>RB</td>\n      <td>Right</td>\n      <td>1</td>\n      <td>3</td>\n      <td>2</td>\n      <td>High/Medium</td>\n      <td>Lean</td>\n      <td>No</td>\n      <td>5700000.0</td>\n      <td>NaN</td>\n      <td>SUB</td>\n      <td>2.0</td>\n      <td>NaN</td>\n      <td>2020-08-04</td>\n      <td>2024.0</td>\n      <td>NaN</td>\n      <td>NaN</td>\n      <td>74.0</td>\n      <td>46.0</td>\n      <td>61.0</td>\n      <td>67.0</td>\n      <td>67.0</td>\n      <td>68.0</td>\n      <td>NaN</td>\n      <td>NaN</td>\n      <td>NaN</td>\n      <td>NaN</td>\n      <td>NaN</td>\n      <td>NaN</td>\n      <td>NaN</td>\n      <td>65</td>\n      <td>45</td>\n      <td>63</td>\n      <td>67</td>\n      <td>41</td>\n      <td>67</td>\n      <td>55</td>\n      <td>45</td>\n      <td>56</td>\n      <td>66</td>\n      <td>75</td>\n      <td>74</td>\n      <td>67</td>\n      <td>68</td>\n      <td>68</td>\n      <td>44</td>\n      <td>64</td>\n      <td>79</td>\n      <td>65</td>\n      <td>47</td>\n      <td>63</td>\n      <td>67</td>\n      <td>66</td>\n      <td>55</td>\n      <td>53</td>\n      <td>67</td>\n      <td>NaN</td>\n      <td>67</td>\n      <td>68</td>\n      <td>8</td>\n      <td>12</td>\n      <td>10</td>\n      <td>8</td>\n      <td>6</td>\n      <td>60+2</td>\n      <td>60+2</td>\n      <td>60+2</td>\n      <td>64+0</td>\n      <td>62+0</td>\n      <td>62+0</td>\n      <td>62+0</td>\n      <td>64+0</td>\n      <td>63+2</td>\n      <td>63+2</td>\n      <td>63+2</td>\n      <td>66+2</td>\n      <td>63+2</td>\n      <td>63+2</td>\n      <td>63+2</td>\n      <td>66+2</td>\n      <td>69+2</td>\n      <td>66+2</td>\n      <td>66+2</td>\n      <td>66+2</td>\n      <td>69+2</td>\n      <td>69+2</td>\n      <td>66+2</td>\n      <td>66+2</td>\n      <td>66+2</td>\n      <td>69+2</td>\n    </tr>\n  </tbody>\n</table>\n</div>"
     },
     "execution_count": 98,
     "metadata": {},
     "output_type": "execute_result"
    }
   ],
   "source": [
    "# short_name 칼럼의 값이 \"Son\"으로 끝나는 선수?\n",
    "df[df.short_name.str.endswith(\"Son\")]"
   ],
   "metadata": {
    "collapsed": false,
    "pycharm": {
     "name": "#%%\n"
    }
   }
  },
  {
   "cell_type": "markdown",
   "source": [
    "다행히 우리 손흥민 선수를 찾기는 했지만, 스페인 프리메라리가의 하비에르 선수도 short_name 값이 Son이어서 같이 검색이 되었네요. 이번에는 long_name에 \"손흥민\"이 포함된 선수를 검색해보겠습니다."
   ],
   "metadata": {
    "collapsed": false,
    "pycharm": {
     "name": "#%% md\n"
    }
   }
  },
  {
   "cell_type": "code",
   "execution_count": 99,
   "outputs": [
    {
     "data": {
      "text/plain": "    sofifa_id                                         player_url short_name  \\\n71     200104  https://sofifa.com/player/200104/heung-min-son...     H. Son   \n\n   long_name  age         dob  height_cm  weight_kg     nationality  \\\n71   손흥민 孙兴慜   27  1992-07-08        183         78  Korea Republic   \n\n            club_name             league_name  league_rank  overall  \\\n71  Tottenham Hotspur  English Premier League          1.0       87   \n\n    potential  value_eur  wage_eur player_positions preferred_foot  \\\n71         87   52500000    165000           LM, CF          Right   \n\n    international_reputation  weak_foot  skill_moves  work_rate  \\\n71                         3          5            4  High/High   \n\n               body_type real_face  release_clause_eur  \\\n71  PLAYER_BODY_TYPE_366       Yes          99800000.0   \n\n                                          player_tags team_position  \\\n71  #Dribbler, #Engine, #Distance Shooter, #Acroba...            LM   \n\n    team_jersey_number loaned_from      joined  contract_valid_until  \\\n71                 7.0         NaN  2015-08-28                2023.0   \n\n   nation_position  nation_jersey_number  pace  shooting  passing  dribbling  \\\n71             NaN                   NaN  88.0      86.0     80.0       87.0   \n\n    defending  physic  gk_diving  gk_handling  gk_kicking  gk_reflexes  \\\n71       43.0    69.0        NaN          NaN         NaN          NaN   \n\n    gk_speed  gk_positioning  \\\n71       NaN             NaN   \n\n                                        player_traits  attacking_crossing  \\\n71  Solid Player, Finesse Shot, Long Shot Taker (A...                  81   \n\n    attacking_finishing  attacking_heading_accuracy  attacking_short_passing  \\\n71                   86                          68                       83   \n\n    attacking_volleys  skill_dribbling  skill_curve  skill_fk_accuracy  \\\n71                 81               88           85                 70   \n\n    skill_long_passing  skill_ball_control  movement_acceleration  \\\n71                  70                  87                     86   \n\n    movement_sprint_speed  movement_agility  movement_reactions  \\\n71                     90                86                  89   \n\n    movement_balance  power_shot_power  power_jumping  power_stamina  \\\n71                78                88             56             87   \n\n    power_strength  power_long_shots  mentality_aggression  \\\n71              64                90                    62   \n\n    mentality_interceptions  mentality_positioning  mentality_vision  \\\n71                       39                     88                83   \n\n    mentality_penalties  mentality_composure  defending_marking  \\\n71                   73                   88                NaN   \n\n    defending_standing_tackle  defending_sliding_tackle  goalkeeping_diving  \\\n71                         34                        33                  11   \n\n    goalkeeping_handling  goalkeeping_kicking  goalkeeping_positioning  \\\n71                    13                   13                        6   \n\n    goalkeeping_reflexes    ls    st    rs    lw    lf    cf    rf    rw  \\\n71                    10  84+3  84+3  84+3  86+0  87+0  87+0  87+0  86+0   \n\n     lam   cam   ram    lm   lcm    cm   rcm    rm   lwb   ldm   cdm   rdm  \\\n71  86+1  86+1  86+1  85+2  79+3  79+3  79+3  85+2  68+3  63+3  63+3  63+3   \n\n     rwb    lb   lcb    cb   rcb    rb  \n71  68+3  64+3  54+3  54+3  54+3  64+3  ",
      "text/html": "<div>\n<style scoped>\n    .dataframe tbody tr th:only-of-type {\n        vertical-align: middle;\n    }\n\n    .dataframe tbody tr th {\n        vertical-align: top;\n    }\n\n    .dataframe thead th {\n        text-align: right;\n    }\n</style>\n<table border=\"1\" class=\"dataframe\">\n  <thead>\n    <tr style=\"text-align: right;\">\n      <th></th>\n      <th>sofifa_id</th>\n      <th>player_url</th>\n      <th>short_name</th>\n      <th>long_name</th>\n      <th>age</th>\n      <th>dob</th>\n      <th>height_cm</th>\n      <th>weight_kg</th>\n      <th>nationality</th>\n      <th>club_name</th>\n      <th>league_name</th>\n      <th>league_rank</th>\n      <th>overall</th>\n      <th>potential</th>\n      <th>value_eur</th>\n      <th>wage_eur</th>\n      <th>player_positions</th>\n      <th>preferred_foot</th>\n      <th>international_reputation</th>\n      <th>weak_foot</th>\n      <th>skill_moves</th>\n      <th>work_rate</th>\n      <th>body_type</th>\n      <th>real_face</th>\n      <th>release_clause_eur</th>\n      <th>player_tags</th>\n      <th>team_position</th>\n      <th>team_jersey_number</th>\n      <th>loaned_from</th>\n      <th>joined</th>\n      <th>contract_valid_until</th>\n      <th>nation_position</th>\n      <th>nation_jersey_number</th>\n      <th>pace</th>\n      <th>shooting</th>\n      <th>passing</th>\n      <th>dribbling</th>\n      <th>defending</th>\n      <th>physic</th>\n      <th>gk_diving</th>\n      <th>gk_handling</th>\n      <th>gk_kicking</th>\n      <th>gk_reflexes</th>\n      <th>gk_speed</th>\n      <th>gk_positioning</th>\n      <th>player_traits</th>\n      <th>attacking_crossing</th>\n      <th>attacking_finishing</th>\n      <th>attacking_heading_accuracy</th>\n      <th>attacking_short_passing</th>\n      <th>attacking_volleys</th>\n      <th>skill_dribbling</th>\n      <th>skill_curve</th>\n      <th>skill_fk_accuracy</th>\n      <th>skill_long_passing</th>\n      <th>skill_ball_control</th>\n      <th>movement_acceleration</th>\n      <th>movement_sprint_speed</th>\n      <th>movement_agility</th>\n      <th>movement_reactions</th>\n      <th>movement_balance</th>\n      <th>power_shot_power</th>\n      <th>power_jumping</th>\n      <th>power_stamina</th>\n      <th>power_strength</th>\n      <th>power_long_shots</th>\n      <th>mentality_aggression</th>\n      <th>mentality_interceptions</th>\n      <th>mentality_positioning</th>\n      <th>mentality_vision</th>\n      <th>mentality_penalties</th>\n      <th>mentality_composure</th>\n      <th>defending_marking</th>\n      <th>defending_standing_tackle</th>\n      <th>defending_sliding_tackle</th>\n      <th>goalkeeping_diving</th>\n      <th>goalkeeping_handling</th>\n      <th>goalkeeping_kicking</th>\n      <th>goalkeeping_positioning</th>\n      <th>goalkeeping_reflexes</th>\n      <th>ls</th>\n      <th>st</th>\n      <th>rs</th>\n      <th>lw</th>\n      <th>lf</th>\n      <th>cf</th>\n      <th>rf</th>\n      <th>rw</th>\n      <th>lam</th>\n      <th>cam</th>\n      <th>ram</th>\n      <th>lm</th>\n      <th>lcm</th>\n      <th>cm</th>\n      <th>rcm</th>\n      <th>rm</th>\n      <th>lwb</th>\n      <th>ldm</th>\n      <th>cdm</th>\n      <th>rdm</th>\n      <th>rwb</th>\n      <th>lb</th>\n      <th>lcb</th>\n      <th>cb</th>\n      <th>rcb</th>\n      <th>rb</th>\n    </tr>\n  </thead>\n  <tbody>\n    <tr>\n      <th>71</th>\n      <td>200104</td>\n      <td>https://sofifa.com/player/200104/heung-min-son...</td>\n      <td>H. Son</td>\n      <td>손흥민 孙兴慜</td>\n      <td>27</td>\n      <td>1992-07-08</td>\n      <td>183</td>\n      <td>78</td>\n      <td>Korea Republic</td>\n      <td>Tottenham Hotspur</td>\n      <td>English Premier League</td>\n      <td>1.0</td>\n      <td>87</td>\n      <td>87</td>\n      <td>52500000</td>\n      <td>165000</td>\n      <td>LM, CF</td>\n      <td>Right</td>\n      <td>3</td>\n      <td>5</td>\n      <td>4</td>\n      <td>High/High</td>\n      <td>PLAYER_BODY_TYPE_366</td>\n      <td>Yes</td>\n      <td>99800000.0</td>\n      <td>#Dribbler, #Engine, #Distance Shooter, #Acroba...</td>\n      <td>LM</td>\n      <td>7.0</td>\n      <td>NaN</td>\n      <td>2015-08-28</td>\n      <td>2023.0</td>\n      <td>NaN</td>\n      <td>NaN</td>\n      <td>88.0</td>\n      <td>86.0</td>\n      <td>80.0</td>\n      <td>87.0</td>\n      <td>43.0</td>\n      <td>69.0</td>\n      <td>NaN</td>\n      <td>NaN</td>\n      <td>NaN</td>\n      <td>NaN</td>\n      <td>NaN</td>\n      <td>NaN</td>\n      <td>Solid Player, Finesse Shot, Long Shot Taker (A...</td>\n      <td>81</td>\n      <td>86</td>\n      <td>68</td>\n      <td>83</td>\n      <td>81</td>\n      <td>88</td>\n      <td>85</td>\n      <td>70</td>\n      <td>70</td>\n      <td>87</td>\n      <td>86</td>\n      <td>90</td>\n      <td>86</td>\n      <td>89</td>\n      <td>78</td>\n      <td>88</td>\n      <td>56</td>\n      <td>87</td>\n      <td>64</td>\n      <td>90</td>\n      <td>62</td>\n      <td>39</td>\n      <td>88</td>\n      <td>83</td>\n      <td>73</td>\n      <td>88</td>\n      <td>NaN</td>\n      <td>34</td>\n      <td>33</td>\n      <td>11</td>\n      <td>13</td>\n      <td>13</td>\n      <td>6</td>\n      <td>10</td>\n      <td>84+3</td>\n      <td>84+3</td>\n      <td>84+3</td>\n      <td>86+0</td>\n      <td>87+0</td>\n      <td>87+0</td>\n      <td>87+0</td>\n      <td>86+0</td>\n      <td>86+1</td>\n      <td>86+1</td>\n      <td>86+1</td>\n      <td>85+2</td>\n      <td>79+3</td>\n      <td>79+3</td>\n      <td>79+3</td>\n      <td>85+2</td>\n      <td>68+3</td>\n      <td>63+3</td>\n      <td>63+3</td>\n      <td>63+3</td>\n      <td>68+3</td>\n      <td>64+3</td>\n      <td>54+3</td>\n      <td>54+3</td>\n      <td>54+3</td>\n      <td>64+3</td>\n    </tr>\n  </tbody>\n</table>\n</div>"
     },
     "execution_count": 99,
     "metadata": {},
     "output_type": "execute_result"
    }
   ],
   "source": [
    "df[df.long_name.str.contains(\"손흥민\")]"
   ],
   "metadata": {
    "collapsed": false,
    "pycharm": {
     "name": "#%%\n"
    }
   }
  },
  {
   "cell_type": "markdown",
   "source": [
    "저 검색문법이 이해가 안 되는 분들도 많을 것으로 생각합니다. ```df[]``` 대괄호 안의 커맨드인 ```df.long_name.str.contains(\"손흥민\")```만 한 번 실행해보겠습니다."
   ],
   "metadata": {
    "collapsed": false,
    "pycharm": {
     "name": "#%% md\n"
    }
   }
  },
  {
   "cell_type": "code",
   "execution_count": 100,
   "outputs": [
    {
     "data": {
      "text/plain": "0        False\n1        False\n2        False\n3        False\n4        False\n         ...  \n18939    False\n18940    False\n18941    False\n18942    False\n18943    False\nName: long_name, Length: 18944, dtype: bool"
     },
     "execution_count": 100,
     "metadata": {},
     "output_type": "execute_result"
    }
   ],
   "source": [
    "df.long_name.str.contains(\"손흥민\")"
   ],
   "metadata": {
    "collapsed": false,
    "pycharm": {
     "name": "#%%\n"
    }
   }
  },
  {
   "cell_type": "markdown",
   "source": [
    "부울 연산자(True, False)로만 이뤄진 18,944개의 칼럼입니다. 이 중 해당조건(\"손흥민\"을 포함하는가)을 만족하는 행(71th)만 True를 리턴하고 있습니다. 이제 전체 커맨드를 보면, 아래와 같은 명령어라는 것을 이해하실 겁니다.\n",
    "\n",
    "```df[[False, False, False, False, ... True, False, False, ...]]```"
   ],
   "metadata": {
    "collapsed": false,
    "pycharm": {
     "name": "#%% md\n"
    }
   }
  },
  {
   "cell_type": "code",
   "execution_count": 101,
   "outputs": [
    {
     "data": {
      "text/plain": "   0\n2  C",
      "text/html": "<div>\n<style scoped>\n    .dataframe tbody tr th:only-of-type {\n        vertical-align: middle;\n    }\n\n    .dataframe tbody tr th {\n        vertical-align: top;\n    }\n\n    .dataframe thead th {\n        text-align: right;\n    }\n</style>\n<table border=\"1\" class=\"dataframe\">\n  <thead>\n    <tr style=\"text-align: right;\">\n      <th></th>\n      <th>0</th>\n    </tr>\n  </thead>\n  <tbody>\n    <tr>\n      <th>2</th>\n      <td>C</td>\n    </tr>\n  </tbody>\n</table>\n</div>"
     },
     "execution_count": 101,
     "metadata": {},
     "output_type": "execute_result"
    }
   ],
   "source": [
    "# 이해를 돕기 위한 작은 예를 보여드리겠습니다.\n",
    "# 아래의 코드를 실행하면 True에 대응하는(세 번째 값인) \"C\"만 리턴됩니다.\n",
    "\n",
    "df_temp = pd.DataFrame([\"A\", \"B\", \"C\", \"D\", \"E\"])\n",
    "df_temp[[False, False, True, False, False]]"
   ],
   "metadata": {
    "collapsed": false,
    "pycharm": {
     "name": "#%%\n"
    }
   }
  },
  {
   "cell_type": "markdown",
   "source": [
    "기본적으로 판다스 데이터프레임의 필터링이나 조건식 문법은 위와 같은 방식으로 내부적으로 부울 조건식을 활용합니다.\n",
    "\n",
    "그럼 누구나 관심있는, 축구선수들의 연봉 이야기로 넘어가보겠습니다.\n",
    "가장 연봉을 많이 받는 10명의 선수는 누구일까요?\n",
    "\n",
    "![](l_messi.jpg)\n",
    "![](c_ronaldo.jpg)\n",
    "![](k_benzema.jpg)\n",
    "\n",
    "\n",
    "가장 큰 값 n개를 리턴하는 메서드는 ```df.nlargest(n, 칼럼명)```입니다."
   ],
   "metadata": {
    "collapsed": false,
    "pycharm": {
     "name": "#%% md\n"
    }
   }
  },
  {
   "cell_type": "code",
   "execution_count": 102,
   "id": "3da6acb7",
   "metadata": {
    "pycharm": {
     "name": "#%%\n"
    }
   },
   "outputs": [
    {
     "data": {
      "text/plain": "    sofifa_id                                         player_url  \\\n0      158023  https://sofifa.com/player/158023/lionel-messi/...   \n7      192985  https://sofifa.com/player/192985/kevin-de-bruy...   \n11     165153  https://sofifa.com/player/165153/karim-benzema...   \n13     183277  https://sofifa.com/player/183277/eden-hazard/2...   \n12     182521  https://sofifa.com/player/182521/toni-kroos/21...   \n56     200145  https://sofifa.com/player/200145/carlos-henriq...   \n9      153079  https://sofifa.com/player/153079/sergio-aguero...   \n10     155862  https://sofifa.com/player/155862/sergio-ramos-...   \n19     194765  https://sofifa.com/player/194765/antoine-griez...   \n4      176580  https://sofifa.com/player/176580/luis-suarez/2...   \n\n      short_name                          long_name  age         dob  \\\n0       L. Messi     Lionel Andrés Messi Cuccittini   33  1987-06-24   \n7   K. De Bruyne                    Kevin De Bruyne   29  1991-06-28   \n11    K. Benzema                      Karim Benzema   32  1987-12-19   \n13     E. Hazard                        Eden Hazard   29  1991-01-07   \n12      T. Kroos                         Toni Kroos   30  1990-01-04   \n56      Casemiro  Carlos Henrique Venancio Casimiro   28  1992-02-23   \n9      S. Agüero  Sergio Leonel Agüero del Castillo   32  1988-06-02   \n10  Sergio Ramos                Sergio Ramos García   34  1986-03-30   \n19  A. Griezmann                  Antoine Griezmann   29  1991-03-21   \n4      L. Suárez           Luis Alberto Suárez Díaz   33  1987-01-24   \n\n    height_cm  weight_kg nationality        club_name             league_name  \\\n0         170         72   Argentina     FC Barcelona  Spain Primera Division   \n7         181         70     Belgium  Manchester City  English Premier League   \n11        185         81      France      Real Madrid  Spain Primera Division   \n13        175         74     Belgium      Real Madrid  Spain Primera Division   \n12        183         76     Germany      Real Madrid  Spain Primera Division   \n56        185         84      Brazil      Real Madrid  Spain Primera Division   \n9         173         70   Argentina  Manchester City  English Premier League   \n10        184         82       Spain      Real Madrid  Spain Primera Division   \n19        176         73      France     FC Barcelona  Spain Primera Division   \n4         182         86     Uruguay     FC Barcelona  Spain Primera Division   \n\n    league_rank  overall  potential  value_eur  wage_eur player_positions  \\\n0           1.0       93         93   67500000    560000       RW, ST, CF   \n7           1.0       91         91   87000000    370000          CAM, CM   \n11          1.0       89         89   53000000    350000           CF, ST   \n13          1.0       88         88   58000000    350000           LW, ST   \n12          1.0       88         88   55000000    310000               CM   \n56          1.0       89         89   59500000    310000              CDM   \n9           1.0       89         89   53000000    300000               ST   \n10          1.0       89         89   24500000    300000               CB   \n19          1.0       87         87   50500000    290000       ST, CF, LW   \n4           1.0       87         87   31500000    280000               ST   \n\n   preferred_foot  international_reputation  weak_foot  skill_moves  \\\n0            Left                         5          4            4   \n7           Right                         4          5            4   \n11          Right                         4          4            4   \n13          Right                         4          4            4   \n12          Right                         4          5            3   \n56          Right                         3          3            2   \n9           Right                         4          4            4   \n10          Right                         4          3            3   \n19           Left                         4          3            4   \n4           Right                         5          4            3   \n\n        work_rate             body_type real_face  release_clause_eur  \\\n0      Medium/Low                 Messi       Yes         138400000.0   \n7       High/High  PLAYER_BODY_TYPE_321       Yes         161000000.0   \n11     Medium/Low                Normal       Yes         108700000.0   \n13    High/Medium  PLAYER_BODY_TYPE_356       Yes         118900000.0   \n12  Medium/Medium                Normal       Yes         112800000.0   \n56      High/High  PLAYER_BODY_TYPE_358       Yes         122000000.0   \n9     High/Medium  PLAYER_BODY_TYPE_322       Yes          98100000.0   \n10    High/Medium  PLAYER_BODY_TYPE_352       Yes          50200000.0   \n19  Medium/Medium  PLAYER_BODY_TYPE_266       Yes         103500000.0   \n4     High/Medium  PLAYER_BODY_TYPE_374       Yes          64600000.0   \n\n                                          player_tags team_position  \\\n0   #Dribbler, #Distance Shooter, #FK Specialist, ...           CAM   \n7   #Dribbler, #Playmaker, #Engine, #Distance Shoo...           RCM   \n11                                           #Poacher            CF   \n13                                #Dribbler, #Acrobat            LW   \n12  #Playmaker, #Distance Shooter, #Crosser, #Comp...           LCM   \n56  #Engine, #Tackling, #Tactician, #Strength, #Co...           CDM   \n9    #Dribbler, #Clinical Finisher, #Complete Forward           SUB   \n10  #Aerial Threat, #Tackling, #Tactician, #Comple...           LCB   \n19  #Poacher, #Dribbler, #Acrobat, #Clinical Finis...            ST   \n4               #Distance Shooter, #Clinical Finisher           SUB   \n\n    team_jersey_number loaned_from      joined  contract_valid_until  \\\n0                 10.0         NaN  2004-07-01                2021.0   \n7                 17.0         NaN  2015-08-30                2023.0   \n11                 9.0         NaN  2009-07-09                2022.0   \n13                 7.0         NaN  2019-07-01                2024.0   \n12                 8.0         NaN  2014-07-17                2023.0   \n56                14.0         NaN  2013-07-11                2023.0   \n9                 10.0         NaN  2011-07-28                2021.0   \n10                 4.0         NaN  2005-08-01                2021.0   \n19                 7.0         NaN  2019-07-12                2024.0   \n4                  9.0         NaN  2014-07-11                2021.0   \n\n   nation_position  nation_jersey_number  pace  shooting  passing  dribbling  \\\n0               RW                  10.0  85.0      92.0     91.0       95.0   \n7              RCM                   7.0  76.0      86.0     93.0       88.0   \n11             NaN                   NaN  74.0      85.0     81.0       86.0   \n13              LF                  10.0  88.0      82.0     83.0       92.0   \n12             LCM                   8.0  54.0      81.0     91.0       81.0   \n56             NaN                   NaN  65.0      73.0     76.0       72.0   \n9               ST                   9.0  78.0      90.0     77.0       88.0   \n10             RCB                  15.0  71.0      70.0     76.0       73.0   \n19              CF                   7.0  79.0      85.0     84.0       88.0   \n4              NaN                   NaN  70.0      90.0     82.0       83.0   \n\n    defending  physic  gk_diving  gk_handling  gk_kicking  gk_reflexes  \\\n0        38.0    65.0        NaN          NaN         NaN          NaN   \n7        64.0    78.0        NaN          NaN         NaN          NaN   \n11       40.0    76.0        NaN          NaN         NaN          NaN   \n13       35.0    66.0        NaN          NaN         NaN          NaN   \n12       71.0    69.0        NaN          NaN         NaN          NaN   \n56       86.0    91.0        NaN          NaN         NaN          NaN   \n9        33.0    73.0        NaN          NaN         NaN          NaN   \n10       88.0    85.0        NaN          NaN         NaN          NaN   \n19       57.0    72.0        NaN          NaN         NaN          NaN   \n4        51.0    83.0        NaN          NaN         NaN          NaN   \n\n    gk_speed  gk_positioning  \\\n0        NaN             NaN   \n7        NaN             NaN   \n11       NaN             NaN   \n13       NaN             NaN   \n12       NaN             NaN   \n56       NaN             NaN   \n9        NaN             NaN   \n10       NaN             NaN   \n19       NaN             NaN   \n4        NaN             NaN   \n\n                                        player_traits  attacking_crossing  \\\n0   Finesse Shot, Long Shot Taker (AI), Speed Drib...                  85   \n7   Injury Prone, Leadership, Early Crosser, Long ...                  94   \n11  Leadership, Finesse Shot, Playmaker (AI), Outs...                  75   \n13  Injury Prone, Finesse Shot, Flair, Playmaker (...                  77   \n12  Long Passer (AI), Long Shot Taker (AI), Playma...                  88   \n56  Power Free-Kick, Solid Player, Dives Into Tack...                  58   \n9            Injury Prone, Leadership, Chip Shot (AI)                  70   \n10  Dives Into Tackles (AI), Leadership, Long Pass...                  66   \n19  Finesse Shot, Flair, Long Shot Taker (AI), Pla...                  83   \n4                     Solid Player, Outside Foot Shot                  80   \n\n    attacking_finishing  attacking_heading_accuracy  attacking_short_passing  \\\n0                    95                          70                       91   \n7                    82                          55                       94   \n11                   88                          91                       86   \n13                   82                          61                       85   \n12                   76                          58                       93   \n56                   64                          80                       84   \n9                    94                          78                       83   \n10                   65                          92                       82   \n19                   88                          83                       84   \n4                    92                          84                       83   \n\n    attacking_volleys  skill_dribbling  skill_curve  skill_fk_accuracy  \\\n0                  88               96           93                 94   \n7                  82               88           85                 83   \n11                 86               87           81                 73   \n13                 83               93           83                 79   \n12                 82               80           86                 84   \n56                 63               69           63                 74   \n9                  86               88           83                 73   \n10                 69               65           74                 76   \n19                 87               87           86                 85   \n4                  90               84           86                 82   \n\n    skill_long_passing  skill_ball_control  movement_acceleration  \\\n0                   91                  96                     91   \n7                   93                  92                     77   \n11                  73                  90                     77   \n13                  81                  91                     91   \n12                  93                  89                     57   \n56                  84                  79                     60   \n9                   64                  89                     79   \n10                  83                  83                     72   \n19                  82                  89                     80   \n4                   77                  84                     72   \n\n    movement_sprint_speed  movement_agility  movement_reactions  \\\n0                      80                91                  94   \n7                      76                78                  91   \n11                     72                79                  91   \n13                     86                92                  86   \n12                     52                63                  89   \n56                     69                61                  87   \n9                      78                84                  92   \n10                     70                78                  92   \n19                     79                91                  92   \n4                      68                76                  92   \n\n    movement_balance  power_shot_power  power_jumping  power_stamina  \\\n0                 95                86             68             72   \n7                 76                91             63             89   \n11                69                84             79             78   \n13                93                82             56             82   \n12                71                89             32             75   \n56                66                88             87             90   \n9                 91                89             78             78   \n10                66                79             93             81   \n19                83                81             90             86   \n4                 78                89             69             78   \n\n    power_strength  power_long_shots  mentality_aggression  \\\n0               69                94                    44   \n7               74                91                    76   \n11              80                79                    63   \n13              63                78                    54   \n12              73                86                    60   \n56              91                81                    91   \n9               74                84                    65   \n10              85                64                    90   \n19              63                82                    73   \n4               85                88                    87   \n\n    mentality_interceptions  mentality_positioning  mentality_vision  \\\n0                        40                     93                95   \n7                        66                     88                94   \n11                       39                     90                87   \n13                       41                     85                86   \n12                       79                     76                90   \n56                       87                     72                80   \n9                        24                     94                83   \n10                       88                     73                71   \n19                       49                     89                85   \n4                        41                     91                84   \n\n    mentality_penalties  mentality_composure  defending_marking  \\\n0                    75                   96                NaN   \n7                    84                   91                NaN   \n11                   84                   90                NaN   \n13                   87                   90                NaN   \n12                   73                   88                NaN   \n56                   66                   84                NaN   \n9                    75                   91                NaN   \n10                   92                   88                NaN   \n19                   86                   89                NaN   \n4                    83                   85                NaN   \n\n    defending_standing_tackle  defending_sliding_tackle  goalkeeping_diving  \\\n0                          35                        24                   6   \n7                          65                        53                  15   \n11                         24                        18                  13   \n13                         27                        22                  11   \n12                         73                        60                  10   \n56                         88                        87                  13   \n9                          29                        24                  13   \n10                         88                        90                  11   \n19                         54                        49                  14   \n4                          45                        38                  27   \n\n    goalkeeping_handling  goalkeeping_kicking  goalkeeping_positioning  \\\n0                     11                   15                       14   \n7                     13                    5                       10   \n11                    11                    5                        5   \n13                    12                    6                        8   \n12                    11                   13                        7   \n56                    14                   16                       12   \n9                     15                    6                       11   \n10                     8                    9                        7   \n19                     8                   14                       13   \n4                     25                   31                       33   \n\n    goalkeeping_reflexes    ls    st    rs    lw    lf    cf    rf    rw  \\\n0                      8  89+3  89+3  89+3  92+0  93+0  93+0  93+0  92+0   \n7                     13  83+3  83+3  83+3  88+0  88+0  88+0  88+0  88+0   \n11                     7  86+3  86+3  86+3  85+0  87+0  87+0  87+0  85+0   \n13                     8  82+3  82+3  82+3  87+0  86+0  86+0  86+0  87+0   \n12                    10  77+3  77+3  77+3  80+0  81+0  81+0  81+0  80+0   \n56                    12  76+3  76+3  76+3  72+0  75+0  75+0  75+0  72+0   \n9                     14  87+2  87+2  87+2  86+0  88+0  88+0  88+0  86+0   \n10                    11  77+3  77+3  77+3  73+0  75+0  75+0  75+0  73+0   \n19                    14  85+2  85+2  85+2  86+0  86+0  86+0  86+0  86+0   \n4                     37  86+1  86+1  86+1  84+0  85+0  85+0  85+0  84+0   \n\n     lam   cam   ram    lm   lcm    cm   rcm    rm   lwb   ldm   cdm   rdm  \\\n0   93+0  93+0  93+0  91+2  87+3  87+3  87+3  91+2  66+3  65+3  65+3  65+3   \n7   89+2  89+2  89+2  89+2  89+2  89+2  89+2  89+2  79+3  80+3  80+3  80+3   \n11  86+3  86+3  86+3  84+3  80+3  80+3  80+3  84+3  63+3  63+3  63+3  63+3   \n13  87+1  87+1  87+1  86+2  80+3  80+3  80+3  86+2  65+3  62+3  62+3  62+3   \n12  83+3  83+3  83+3  81+3  86+2  86+2  86+2  81+3  77+3  81+3  81+3  81+3   \n56  76+3  76+3  76+3  74+3  81+3  81+3  81+3  74+3  80+3  86+3  86+3  86+3   \n9   86+3  86+3  86+3  84+3  77+3  77+3  77+3  84+3  60+3  58+3  58+3  58+3   \n10  75+3  75+3  75+3  75+3  79+3  79+3  79+3  75+3  81+3  85+3  85+3  85+3   \n19  86+1  86+1  86+1  86+1  83+3  83+3  83+3  86+1  73+3  71+3  71+3  71+3   \n4   84+3  84+3  84+3  83+3  80+3  80+3  80+3  83+3  67+3  68+3  68+3  68+3   \n\n     rwb    lb   lcb    cb   rcb    rb  \n0   66+3  62+3  52+3  52+3  52+3  62+3  \n7   79+3  75+3  69+3  69+3  69+3  75+3  \n11  63+3  59+3  55+3  55+3  55+3  59+3  \n13  65+3  59+3  49+3  49+3  49+3  59+3  \n12  77+3  74+3  71+3  71+3  71+3  74+3  \n56  80+3  81+3  86+3  86+3  86+3  81+3  \n9   60+3  56+3  51+3  51+3  51+3  56+3  \n10  81+3  83+3  88+1  88+1  88+1  83+3  \n19  73+3  70+3  65+3  65+3  65+3  70+3  \n4   67+3  64+3  63+3  63+3  63+3  64+3  ",
      "text/html": "<div>\n<style scoped>\n    .dataframe tbody tr th:only-of-type {\n        vertical-align: middle;\n    }\n\n    .dataframe tbody tr th {\n        vertical-align: top;\n    }\n\n    .dataframe thead th {\n        text-align: right;\n    }\n</style>\n<table border=\"1\" class=\"dataframe\">\n  <thead>\n    <tr style=\"text-align: right;\">\n      <th></th>\n      <th>sofifa_id</th>\n      <th>player_url</th>\n      <th>short_name</th>\n      <th>long_name</th>\n      <th>age</th>\n      <th>dob</th>\n      <th>height_cm</th>\n      <th>weight_kg</th>\n      <th>nationality</th>\n      <th>club_name</th>\n      <th>league_name</th>\n      <th>league_rank</th>\n      <th>overall</th>\n      <th>potential</th>\n      <th>value_eur</th>\n      <th>wage_eur</th>\n      <th>player_positions</th>\n      <th>preferred_foot</th>\n      <th>international_reputation</th>\n      <th>weak_foot</th>\n      <th>skill_moves</th>\n      <th>work_rate</th>\n      <th>body_type</th>\n      <th>real_face</th>\n      <th>release_clause_eur</th>\n      <th>player_tags</th>\n      <th>team_position</th>\n      <th>team_jersey_number</th>\n      <th>loaned_from</th>\n      <th>joined</th>\n      <th>contract_valid_until</th>\n      <th>nation_position</th>\n      <th>nation_jersey_number</th>\n      <th>pace</th>\n      <th>shooting</th>\n      <th>passing</th>\n      <th>dribbling</th>\n      <th>defending</th>\n      <th>physic</th>\n      <th>gk_diving</th>\n      <th>gk_handling</th>\n      <th>gk_kicking</th>\n      <th>gk_reflexes</th>\n      <th>gk_speed</th>\n      <th>gk_positioning</th>\n      <th>player_traits</th>\n      <th>attacking_crossing</th>\n      <th>attacking_finishing</th>\n      <th>attacking_heading_accuracy</th>\n      <th>attacking_short_passing</th>\n      <th>attacking_volleys</th>\n      <th>skill_dribbling</th>\n      <th>skill_curve</th>\n      <th>skill_fk_accuracy</th>\n      <th>skill_long_passing</th>\n      <th>skill_ball_control</th>\n      <th>movement_acceleration</th>\n      <th>movement_sprint_speed</th>\n      <th>movement_agility</th>\n      <th>movement_reactions</th>\n      <th>movement_balance</th>\n      <th>power_shot_power</th>\n      <th>power_jumping</th>\n      <th>power_stamina</th>\n      <th>power_strength</th>\n      <th>power_long_shots</th>\n      <th>mentality_aggression</th>\n      <th>mentality_interceptions</th>\n      <th>mentality_positioning</th>\n      <th>mentality_vision</th>\n      <th>mentality_penalties</th>\n      <th>mentality_composure</th>\n      <th>defending_marking</th>\n      <th>defending_standing_tackle</th>\n      <th>defending_sliding_tackle</th>\n      <th>goalkeeping_diving</th>\n      <th>goalkeeping_handling</th>\n      <th>goalkeeping_kicking</th>\n      <th>goalkeeping_positioning</th>\n      <th>goalkeeping_reflexes</th>\n      <th>ls</th>\n      <th>st</th>\n      <th>rs</th>\n      <th>lw</th>\n      <th>lf</th>\n      <th>cf</th>\n      <th>rf</th>\n      <th>rw</th>\n      <th>lam</th>\n      <th>cam</th>\n      <th>ram</th>\n      <th>lm</th>\n      <th>lcm</th>\n      <th>cm</th>\n      <th>rcm</th>\n      <th>rm</th>\n      <th>lwb</th>\n      <th>ldm</th>\n      <th>cdm</th>\n      <th>rdm</th>\n      <th>rwb</th>\n      <th>lb</th>\n      <th>lcb</th>\n      <th>cb</th>\n      <th>rcb</th>\n      <th>rb</th>\n    </tr>\n  </thead>\n  <tbody>\n    <tr>\n      <th>0</th>\n      <td>158023</td>\n      <td>https://sofifa.com/player/158023/lionel-messi/...</td>\n      <td>L. Messi</td>\n      <td>Lionel Andrés Messi Cuccittini</td>\n      <td>33</td>\n      <td>1987-06-24</td>\n      <td>170</td>\n      <td>72</td>\n      <td>Argentina</td>\n      <td>FC Barcelona</td>\n      <td>Spain Primera Division</td>\n      <td>1.0</td>\n      <td>93</td>\n      <td>93</td>\n      <td>67500000</td>\n      <td>560000</td>\n      <td>RW, ST, CF</td>\n      <td>Left</td>\n      <td>5</td>\n      <td>4</td>\n      <td>4</td>\n      <td>Medium/Low</td>\n      <td>Messi</td>\n      <td>Yes</td>\n      <td>138400000.0</td>\n      <td>#Dribbler, #Distance Shooter, #FK Specialist, ...</td>\n      <td>CAM</td>\n      <td>10.0</td>\n      <td>NaN</td>\n      <td>2004-07-01</td>\n      <td>2021.0</td>\n      <td>RW</td>\n      <td>10.0</td>\n      <td>85.0</td>\n      <td>92.0</td>\n      <td>91.0</td>\n      <td>95.0</td>\n      <td>38.0</td>\n      <td>65.0</td>\n      <td>NaN</td>\n      <td>NaN</td>\n      <td>NaN</td>\n      <td>NaN</td>\n      <td>NaN</td>\n      <td>NaN</td>\n      <td>Finesse Shot, Long Shot Taker (AI), Speed Drib...</td>\n      <td>85</td>\n      <td>95</td>\n      <td>70</td>\n      <td>91</td>\n      <td>88</td>\n      <td>96</td>\n      <td>93</td>\n      <td>94</td>\n      <td>91</td>\n      <td>96</td>\n      <td>91</td>\n      <td>80</td>\n      <td>91</td>\n      <td>94</td>\n      <td>95</td>\n      <td>86</td>\n      <td>68</td>\n      <td>72</td>\n      <td>69</td>\n      <td>94</td>\n      <td>44</td>\n      <td>40</td>\n      <td>93</td>\n      <td>95</td>\n      <td>75</td>\n      <td>96</td>\n      <td>NaN</td>\n      <td>35</td>\n      <td>24</td>\n      <td>6</td>\n      <td>11</td>\n      <td>15</td>\n      <td>14</td>\n      <td>8</td>\n      <td>89+3</td>\n      <td>89+3</td>\n      <td>89+3</td>\n      <td>92+0</td>\n      <td>93+0</td>\n      <td>93+0</td>\n      <td>93+0</td>\n      <td>92+0</td>\n      <td>93+0</td>\n      <td>93+0</td>\n      <td>93+0</td>\n      <td>91+2</td>\n      <td>87+3</td>\n      <td>87+3</td>\n      <td>87+3</td>\n      <td>91+2</td>\n      <td>66+3</td>\n      <td>65+3</td>\n      <td>65+3</td>\n      <td>65+3</td>\n      <td>66+3</td>\n      <td>62+3</td>\n      <td>52+3</td>\n      <td>52+3</td>\n      <td>52+3</td>\n      <td>62+3</td>\n    </tr>\n    <tr>\n      <th>7</th>\n      <td>192985</td>\n      <td>https://sofifa.com/player/192985/kevin-de-bruy...</td>\n      <td>K. De Bruyne</td>\n      <td>Kevin De Bruyne</td>\n      <td>29</td>\n      <td>1991-06-28</td>\n      <td>181</td>\n      <td>70</td>\n      <td>Belgium</td>\n      <td>Manchester City</td>\n      <td>English Premier League</td>\n      <td>1.0</td>\n      <td>91</td>\n      <td>91</td>\n      <td>87000000</td>\n      <td>370000</td>\n      <td>CAM, CM</td>\n      <td>Right</td>\n      <td>4</td>\n      <td>5</td>\n      <td>4</td>\n      <td>High/High</td>\n      <td>PLAYER_BODY_TYPE_321</td>\n      <td>Yes</td>\n      <td>161000000.0</td>\n      <td>#Dribbler, #Playmaker, #Engine, #Distance Shoo...</td>\n      <td>RCM</td>\n      <td>17.0</td>\n      <td>NaN</td>\n      <td>2015-08-30</td>\n      <td>2023.0</td>\n      <td>RCM</td>\n      <td>7.0</td>\n      <td>76.0</td>\n      <td>86.0</td>\n      <td>93.0</td>\n      <td>88.0</td>\n      <td>64.0</td>\n      <td>78.0</td>\n      <td>NaN</td>\n      <td>NaN</td>\n      <td>NaN</td>\n      <td>NaN</td>\n      <td>NaN</td>\n      <td>NaN</td>\n      <td>Injury Prone, Leadership, Early Crosser, Long ...</td>\n      <td>94</td>\n      <td>82</td>\n      <td>55</td>\n      <td>94</td>\n      <td>82</td>\n      <td>88</td>\n      <td>85</td>\n      <td>83</td>\n      <td>93</td>\n      <td>92</td>\n      <td>77</td>\n      <td>76</td>\n      <td>78</td>\n      <td>91</td>\n      <td>76</td>\n      <td>91</td>\n      <td>63</td>\n      <td>89</td>\n      <td>74</td>\n      <td>91</td>\n      <td>76</td>\n      <td>66</td>\n      <td>88</td>\n      <td>94</td>\n      <td>84</td>\n      <td>91</td>\n      <td>NaN</td>\n      <td>65</td>\n      <td>53</td>\n      <td>15</td>\n      <td>13</td>\n      <td>5</td>\n      <td>10</td>\n      <td>13</td>\n      <td>83+3</td>\n      <td>83+3</td>\n      <td>83+3</td>\n      <td>88+0</td>\n      <td>88+0</td>\n      <td>88+0</td>\n      <td>88+0</td>\n      <td>88+0</td>\n      <td>89+2</td>\n      <td>89+2</td>\n      <td>89+2</td>\n      <td>89+2</td>\n      <td>89+2</td>\n      <td>89+2</td>\n      <td>89+2</td>\n      <td>89+2</td>\n      <td>79+3</td>\n      <td>80+3</td>\n      <td>80+3</td>\n      <td>80+3</td>\n      <td>79+3</td>\n      <td>75+3</td>\n      <td>69+3</td>\n      <td>69+3</td>\n      <td>69+3</td>\n      <td>75+3</td>\n    </tr>\n    <tr>\n      <th>11</th>\n      <td>165153</td>\n      <td>https://sofifa.com/player/165153/karim-benzema...</td>\n      <td>K. Benzema</td>\n      <td>Karim Benzema</td>\n      <td>32</td>\n      <td>1987-12-19</td>\n      <td>185</td>\n      <td>81</td>\n      <td>France</td>\n      <td>Real Madrid</td>\n      <td>Spain Primera Division</td>\n      <td>1.0</td>\n      <td>89</td>\n      <td>89</td>\n      <td>53000000</td>\n      <td>350000</td>\n      <td>CF, ST</td>\n      <td>Right</td>\n      <td>4</td>\n      <td>4</td>\n      <td>4</td>\n      <td>Medium/Low</td>\n      <td>Normal</td>\n      <td>Yes</td>\n      <td>108700000.0</td>\n      <td>#Poacher</td>\n      <td>CF</td>\n      <td>9.0</td>\n      <td>NaN</td>\n      <td>2009-07-09</td>\n      <td>2022.0</td>\n      <td>NaN</td>\n      <td>NaN</td>\n      <td>74.0</td>\n      <td>85.0</td>\n      <td>81.0</td>\n      <td>86.0</td>\n      <td>40.0</td>\n      <td>76.0</td>\n      <td>NaN</td>\n      <td>NaN</td>\n      <td>NaN</td>\n      <td>NaN</td>\n      <td>NaN</td>\n      <td>NaN</td>\n      <td>Leadership, Finesse Shot, Playmaker (AI), Outs...</td>\n      <td>75</td>\n      <td>88</td>\n      <td>91</td>\n      <td>86</td>\n      <td>86</td>\n      <td>87</td>\n      <td>81</td>\n      <td>73</td>\n      <td>73</td>\n      <td>90</td>\n      <td>77</td>\n      <td>72</td>\n      <td>79</td>\n      <td>91</td>\n      <td>69</td>\n      <td>84</td>\n      <td>79</td>\n      <td>78</td>\n      <td>80</td>\n      <td>79</td>\n      <td>63</td>\n      <td>39</td>\n      <td>90</td>\n      <td>87</td>\n      <td>84</td>\n      <td>90</td>\n      <td>NaN</td>\n      <td>24</td>\n      <td>18</td>\n      <td>13</td>\n      <td>11</td>\n      <td>5</td>\n      <td>5</td>\n      <td>7</td>\n      <td>86+3</td>\n      <td>86+3</td>\n      <td>86+3</td>\n      <td>85+0</td>\n      <td>87+0</td>\n      <td>87+0</td>\n      <td>87+0</td>\n      <td>85+0</td>\n      <td>86+3</td>\n      <td>86+3</td>\n      <td>86+3</td>\n      <td>84+3</td>\n      <td>80+3</td>\n      <td>80+3</td>\n      <td>80+3</td>\n      <td>84+3</td>\n      <td>63+3</td>\n      <td>63+3</td>\n      <td>63+3</td>\n      <td>63+3</td>\n      <td>63+3</td>\n      <td>59+3</td>\n      <td>55+3</td>\n      <td>55+3</td>\n      <td>55+3</td>\n      <td>59+3</td>\n    </tr>\n    <tr>\n      <th>13</th>\n      <td>183277</td>\n      <td>https://sofifa.com/player/183277/eden-hazard/2...</td>\n      <td>E. Hazard</td>\n      <td>Eden Hazard</td>\n      <td>29</td>\n      <td>1991-01-07</td>\n      <td>175</td>\n      <td>74</td>\n      <td>Belgium</td>\n      <td>Real Madrid</td>\n      <td>Spain Primera Division</td>\n      <td>1.0</td>\n      <td>88</td>\n      <td>88</td>\n      <td>58000000</td>\n      <td>350000</td>\n      <td>LW, ST</td>\n      <td>Right</td>\n      <td>4</td>\n      <td>4</td>\n      <td>4</td>\n      <td>High/Medium</td>\n      <td>PLAYER_BODY_TYPE_356</td>\n      <td>Yes</td>\n      <td>118900000.0</td>\n      <td>#Dribbler, #Acrobat</td>\n      <td>LW</td>\n      <td>7.0</td>\n      <td>NaN</td>\n      <td>2019-07-01</td>\n      <td>2024.0</td>\n      <td>LF</td>\n      <td>10.0</td>\n      <td>88.0</td>\n      <td>82.0</td>\n      <td>83.0</td>\n      <td>92.0</td>\n      <td>35.0</td>\n      <td>66.0</td>\n      <td>NaN</td>\n      <td>NaN</td>\n      <td>NaN</td>\n      <td>NaN</td>\n      <td>NaN</td>\n      <td>NaN</td>\n      <td>Injury Prone, Finesse Shot, Flair, Playmaker (...</td>\n      <td>77</td>\n      <td>82</td>\n      <td>61</td>\n      <td>85</td>\n      <td>83</td>\n      <td>93</td>\n      <td>83</td>\n      <td>79</td>\n      <td>81</td>\n      <td>91</td>\n      <td>91</td>\n      <td>86</td>\n      <td>92</td>\n      <td>86</td>\n      <td>93</td>\n      <td>82</td>\n      <td>56</td>\n      <td>82</td>\n      <td>63</td>\n      <td>78</td>\n      <td>54</td>\n      <td>41</td>\n      <td>85</td>\n      <td>86</td>\n      <td>87</td>\n      <td>90</td>\n      <td>NaN</td>\n      <td>27</td>\n      <td>22</td>\n      <td>11</td>\n      <td>12</td>\n      <td>6</td>\n      <td>8</td>\n      <td>8</td>\n      <td>82+3</td>\n      <td>82+3</td>\n      <td>82+3</td>\n      <td>87+0</td>\n      <td>86+0</td>\n      <td>86+0</td>\n      <td>86+0</td>\n      <td>87+0</td>\n      <td>87+1</td>\n      <td>87+1</td>\n      <td>87+1</td>\n      <td>86+2</td>\n      <td>80+3</td>\n      <td>80+3</td>\n      <td>80+3</td>\n      <td>86+2</td>\n      <td>65+3</td>\n      <td>62+3</td>\n      <td>62+3</td>\n      <td>62+3</td>\n      <td>65+3</td>\n      <td>59+3</td>\n      <td>49+3</td>\n      <td>49+3</td>\n      <td>49+3</td>\n      <td>59+3</td>\n    </tr>\n    <tr>\n      <th>12</th>\n      <td>182521</td>\n      <td>https://sofifa.com/player/182521/toni-kroos/21...</td>\n      <td>T. Kroos</td>\n      <td>Toni Kroos</td>\n      <td>30</td>\n      <td>1990-01-04</td>\n      <td>183</td>\n      <td>76</td>\n      <td>Germany</td>\n      <td>Real Madrid</td>\n      <td>Spain Primera Division</td>\n      <td>1.0</td>\n      <td>88</td>\n      <td>88</td>\n      <td>55000000</td>\n      <td>310000</td>\n      <td>CM</td>\n      <td>Right</td>\n      <td>4</td>\n      <td>5</td>\n      <td>3</td>\n      <td>Medium/Medium</td>\n      <td>Normal</td>\n      <td>Yes</td>\n      <td>112800000.0</td>\n      <td>#Playmaker, #Distance Shooter, #Crosser, #Comp...</td>\n      <td>LCM</td>\n      <td>8.0</td>\n      <td>NaN</td>\n      <td>2014-07-17</td>\n      <td>2023.0</td>\n      <td>LCM</td>\n      <td>8.0</td>\n      <td>54.0</td>\n      <td>81.0</td>\n      <td>91.0</td>\n      <td>81.0</td>\n      <td>71.0</td>\n      <td>69.0</td>\n      <td>NaN</td>\n      <td>NaN</td>\n      <td>NaN</td>\n      <td>NaN</td>\n      <td>NaN</td>\n      <td>NaN</td>\n      <td>Long Passer (AI), Long Shot Taker (AI), Playma...</td>\n      <td>88</td>\n      <td>76</td>\n      <td>58</td>\n      <td>93</td>\n      <td>82</td>\n      <td>80</td>\n      <td>86</td>\n      <td>84</td>\n      <td>93</td>\n      <td>89</td>\n      <td>57</td>\n      <td>52</td>\n      <td>63</td>\n      <td>89</td>\n      <td>71</td>\n      <td>89</td>\n      <td>32</td>\n      <td>75</td>\n      <td>73</td>\n      <td>86</td>\n      <td>60</td>\n      <td>79</td>\n      <td>76</td>\n      <td>90</td>\n      <td>73</td>\n      <td>88</td>\n      <td>NaN</td>\n      <td>73</td>\n      <td>60</td>\n      <td>10</td>\n      <td>11</td>\n      <td>13</td>\n      <td>7</td>\n      <td>10</td>\n      <td>77+3</td>\n      <td>77+3</td>\n      <td>77+3</td>\n      <td>80+0</td>\n      <td>81+0</td>\n      <td>81+0</td>\n      <td>81+0</td>\n      <td>80+0</td>\n      <td>83+3</td>\n      <td>83+3</td>\n      <td>83+3</td>\n      <td>81+3</td>\n      <td>86+2</td>\n      <td>86+2</td>\n      <td>86+2</td>\n      <td>81+3</td>\n      <td>77+3</td>\n      <td>81+3</td>\n      <td>81+3</td>\n      <td>81+3</td>\n      <td>77+3</td>\n      <td>74+3</td>\n      <td>71+3</td>\n      <td>71+3</td>\n      <td>71+3</td>\n      <td>74+3</td>\n    </tr>\n    <tr>\n      <th>56</th>\n      <td>200145</td>\n      <td>https://sofifa.com/player/200145/carlos-henriq...</td>\n      <td>Casemiro</td>\n      <td>Carlos Henrique Venancio Casimiro</td>\n      <td>28</td>\n      <td>1992-02-23</td>\n      <td>185</td>\n      <td>84</td>\n      <td>Brazil</td>\n      <td>Real Madrid</td>\n      <td>Spain Primera Division</td>\n      <td>1.0</td>\n      <td>89</td>\n      <td>89</td>\n      <td>59500000</td>\n      <td>310000</td>\n      <td>CDM</td>\n      <td>Right</td>\n      <td>3</td>\n      <td>3</td>\n      <td>2</td>\n      <td>High/High</td>\n      <td>PLAYER_BODY_TYPE_358</td>\n      <td>Yes</td>\n      <td>122000000.0</td>\n      <td>#Engine, #Tackling, #Tactician, #Strength, #Co...</td>\n      <td>CDM</td>\n      <td>14.0</td>\n      <td>NaN</td>\n      <td>2013-07-11</td>\n      <td>2023.0</td>\n      <td>NaN</td>\n      <td>NaN</td>\n      <td>65.0</td>\n      <td>73.0</td>\n      <td>76.0</td>\n      <td>72.0</td>\n      <td>86.0</td>\n      <td>91.0</td>\n      <td>NaN</td>\n      <td>NaN</td>\n      <td>NaN</td>\n      <td>NaN</td>\n      <td>NaN</td>\n      <td>NaN</td>\n      <td>Power Free-Kick, Solid Player, Dives Into Tack...</td>\n      <td>58</td>\n      <td>64</td>\n      <td>80</td>\n      <td>84</td>\n      <td>63</td>\n      <td>69</td>\n      <td>63</td>\n      <td>74</td>\n      <td>84</td>\n      <td>79</td>\n      <td>60</td>\n      <td>69</td>\n      <td>61</td>\n      <td>87</td>\n      <td>66</td>\n      <td>88</td>\n      <td>87</td>\n      <td>90</td>\n      <td>91</td>\n      <td>81</td>\n      <td>91</td>\n      <td>87</td>\n      <td>72</td>\n      <td>80</td>\n      <td>66</td>\n      <td>84</td>\n      <td>NaN</td>\n      <td>88</td>\n      <td>87</td>\n      <td>13</td>\n      <td>14</td>\n      <td>16</td>\n      <td>12</td>\n      <td>12</td>\n      <td>76+3</td>\n      <td>76+3</td>\n      <td>76+3</td>\n      <td>72+0</td>\n      <td>75+0</td>\n      <td>75+0</td>\n      <td>75+0</td>\n      <td>72+0</td>\n      <td>76+3</td>\n      <td>76+3</td>\n      <td>76+3</td>\n      <td>74+3</td>\n      <td>81+3</td>\n      <td>81+3</td>\n      <td>81+3</td>\n      <td>74+3</td>\n      <td>80+3</td>\n      <td>86+3</td>\n      <td>86+3</td>\n      <td>86+3</td>\n      <td>80+3</td>\n      <td>81+3</td>\n      <td>86+3</td>\n      <td>86+3</td>\n      <td>86+3</td>\n      <td>81+3</td>\n    </tr>\n    <tr>\n      <th>9</th>\n      <td>153079</td>\n      <td>https://sofifa.com/player/153079/sergio-aguero...</td>\n      <td>S. Agüero</td>\n      <td>Sergio Leonel Agüero del Castillo</td>\n      <td>32</td>\n      <td>1988-06-02</td>\n      <td>173</td>\n      <td>70</td>\n      <td>Argentina</td>\n      <td>Manchester City</td>\n      <td>English Premier League</td>\n      <td>1.0</td>\n      <td>89</td>\n      <td>89</td>\n      <td>53000000</td>\n      <td>300000</td>\n      <td>ST</td>\n      <td>Right</td>\n      <td>4</td>\n      <td>4</td>\n      <td>4</td>\n      <td>High/Medium</td>\n      <td>PLAYER_BODY_TYPE_322</td>\n      <td>Yes</td>\n      <td>98100000.0</td>\n      <td>#Dribbler, #Clinical Finisher, #Complete Forward</td>\n      <td>SUB</td>\n      <td>10.0</td>\n      <td>NaN</td>\n      <td>2011-07-28</td>\n      <td>2021.0</td>\n      <td>ST</td>\n      <td>9.0</td>\n      <td>78.0</td>\n      <td>90.0</td>\n      <td>77.0</td>\n      <td>88.0</td>\n      <td>33.0</td>\n      <td>73.0</td>\n      <td>NaN</td>\n      <td>NaN</td>\n      <td>NaN</td>\n      <td>NaN</td>\n      <td>NaN</td>\n      <td>NaN</td>\n      <td>Injury Prone, Leadership, Chip Shot (AI)</td>\n      <td>70</td>\n      <td>94</td>\n      <td>78</td>\n      <td>83</td>\n      <td>86</td>\n      <td>88</td>\n      <td>83</td>\n      <td>73</td>\n      <td>64</td>\n      <td>89</td>\n      <td>79</td>\n      <td>78</td>\n      <td>84</td>\n      <td>92</td>\n      <td>91</td>\n      <td>89</td>\n      <td>78</td>\n      <td>78</td>\n      <td>74</td>\n      <td>84</td>\n      <td>65</td>\n      <td>24</td>\n      <td>94</td>\n      <td>83</td>\n      <td>75</td>\n      <td>91</td>\n      <td>NaN</td>\n      <td>29</td>\n      <td>24</td>\n      <td>13</td>\n      <td>15</td>\n      <td>6</td>\n      <td>11</td>\n      <td>14</td>\n      <td>87+2</td>\n      <td>87+2</td>\n      <td>87+2</td>\n      <td>86+0</td>\n      <td>88+0</td>\n      <td>88+0</td>\n      <td>88+0</td>\n      <td>86+0</td>\n      <td>86+3</td>\n      <td>86+3</td>\n      <td>86+3</td>\n      <td>84+3</td>\n      <td>77+3</td>\n      <td>77+3</td>\n      <td>77+3</td>\n      <td>84+3</td>\n      <td>60+3</td>\n      <td>58+3</td>\n      <td>58+3</td>\n      <td>58+3</td>\n      <td>60+3</td>\n      <td>56+3</td>\n      <td>51+3</td>\n      <td>51+3</td>\n      <td>51+3</td>\n      <td>56+3</td>\n    </tr>\n    <tr>\n      <th>10</th>\n      <td>155862</td>\n      <td>https://sofifa.com/player/155862/sergio-ramos-...</td>\n      <td>Sergio Ramos</td>\n      <td>Sergio Ramos García</td>\n      <td>34</td>\n      <td>1986-03-30</td>\n      <td>184</td>\n      <td>82</td>\n      <td>Spain</td>\n      <td>Real Madrid</td>\n      <td>Spain Primera Division</td>\n      <td>1.0</td>\n      <td>89</td>\n      <td>89</td>\n      <td>24500000</td>\n      <td>300000</td>\n      <td>CB</td>\n      <td>Right</td>\n      <td>4</td>\n      <td>3</td>\n      <td>3</td>\n      <td>High/Medium</td>\n      <td>PLAYER_BODY_TYPE_352</td>\n      <td>Yes</td>\n      <td>50200000.0</td>\n      <td>#Aerial Threat, #Tackling, #Tactician, #Comple...</td>\n      <td>LCB</td>\n      <td>4.0</td>\n      <td>NaN</td>\n      <td>2005-08-01</td>\n      <td>2021.0</td>\n      <td>RCB</td>\n      <td>15.0</td>\n      <td>71.0</td>\n      <td>70.0</td>\n      <td>76.0</td>\n      <td>73.0</td>\n      <td>88.0</td>\n      <td>85.0</td>\n      <td>NaN</td>\n      <td>NaN</td>\n      <td>NaN</td>\n      <td>NaN</td>\n      <td>NaN</td>\n      <td>NaN</td>\n      <td>Dives Into Tackles (AI), Leadership, Long Pass...</td>\n      <td>66</td>\n      <td>65</td>\n      <td>92</td>\n      <td>82</td>\n      <td>69</td>\n      <td>65</td>\n      <td>74</td>\n      <td>76</td>\n      <td>83</td>\n      <td>83</td>\n      <td>72</td>\n      <td>70</td>\n      <td>78</td>\n      <td>92</td>\n      <td>66</td>\n      <td>79</td>\n      <td>93</td>\n      <td>81</td>\n      <td>85</td>\n      <td>64</td>\n      <td>90</td>\n      <td>88</td>\n      <td>73</td>\n      <td>71</td>\n      <td>92</td>\n      <td>88</td>\n      <td>NaN</td>\n      <td>88</td>\n      <td>90</td>\n      <td>11</td>\n      <td>8</td>\n      <td>9</td>\n      <td>7</td>\n      <td>11</td>\n      <td>77+3</td>\n      <td>77+3</td>\n      <td>77+3</td>\n      <td>73+0</td>\n      <td>75+0</td>\n      <td>75+0</td>\n      <td>75+0</td>\n      <td>73+0</td>\n      <td>75+3</td>\n      <td>75+3</td>\n      <td>75+3</td>\n      <td>75+3</td>\n      <td>79+3</td>\n      <td>79+3</td>\n      <td>79+3</td>\n      <td>75+3</td>\n      <td>81+3</td>\n      <td>85+3</td>\n      <td>85+3</td>\n      <td>85+3</td>\n      <td>81+3</td>\n      <td>83+3</td>\n      <td>88+1</td>\n      <td>88+1</td>\n      <td>88+1</td>\n      <td>83+3</td>\n    </tr>\n    <tr>\n      <th>19</th>\n      <td>194765</td>\n      <td>https://sofifa.com/player/194765/antoine-griez...</td>\n      <td>A. Griezmann</td>\n      <td>Antoine Griezmann</td>\n      <td>29</td>\n      <td>1991-03-21</td>\n      <td>176</td>\n      <td>73</td>\n      <td>France</td>\n      <td>FC Barcelona</td>\n      <td>Spain Primera Division</td>\n      <td>1.0</td>\n      <td>87</td>\n      <td>87</td>\n      <td>50500000</td>\n      <td>290000</td>\n      <td>ST, CF, LW</td>\n      <td>Left</td>\n      <td>4</td>\n      <td>3</td>\n      <td>4</td>\n      <td>Medium/Medium</td>\n      <td>PLAYER_BODY_TYPE_266</td>\n      <td>Yes</td>\n      <td>103500000.0</td>\n      <td>#Poacher, #Dribbler, #Acrobat, #Clinical Finis...</td>\n      <td>ST</td>\n      <td>7.0</td>\n      <td>NaN</td>\n      <td>2019-07-12</td>\n      <td>2024.0</td>\n      <td>CF</td>\n      <td>7.0</td>\n      <td>79.0</td>\n      <td>85.0</td>\n      <td>84.0</td>\n      <td>88.0</td>\n      <td>57.0</td>\n      <td>72.0</td>\n      <td>NaN</td>\n      <td>NaN</td>\n      <td>NaN</td>\n      <td>NaN</td>\n      <td>NaN</td>\n      <td>NaN</td>\n      <td>Finesse Shot, Flair, Long Shot Taker (AI), Pla...</td>\n      <td>83</td>\n      <td>88</td>\n      <td>83</td>\n      <td>84</td>\n      <td>87</td>\n      <td>87</td>\n      <td>86</td>\n      <td>85</td>\n      <td>82</td>\n      <td>89</td>\n      <td>80</td>\n      <td>79</td>\n      <td>91</td>\n      <td>92</td>\n      <td>83</td>\n      <td>81</td>\n      <td>90</td>\n      <td>86</td>\n      <td>63</td>\n      <td>82</td>\n      <td>73</td>\n      <td>49</td>\n      <td>89</td>\n      <td>85</td>\n      <td>86</td>\n      <td>89</td>\n      <td>NaN</td>\n      <td>54</td>\n      <td>49</td>\n      <td>14</td>\n      <td>8</td>\n      <td>14</td>\n      <td>13</td>\n      <td>14</td>\n      <td>85+2</td>\n      <td>85+2</td>\n      <td>85+2</td>\n      <td>86+0</td>\n      <td>86+0</td>\n      <td>86+0</td>\n      <td>86+0</td>\n      <td>86+0</td>\n      <td>86+1</td>\n      <td>86+1</td>\n      <td>86+1</td>\n      <td>86+1</td>\n      <td>83+3</td>\n      <td>83+3</td>\n      <td>83+3</td>\n      <td>86+1</td>\n      <td>73+3</td>\n      <td>71+3</td>\n      <td>71+3</td>\n      <td>71+3</td>\n      <td>73+3</td>\n      <td>70+3</td>\n      <td>65+3</td>\n      <td>65+3</td>\n      <td>65+3</td>\n      <td>70+3</td>\n    </tr>\n    <tr>\n      <th>4</th>\n      <td>176580</td>\n      <td>https://sofifa.com/player/176580/luis-suarez/2...</td>\n      <td>L. Suárez</td>\n      <td>Luis Alberto Suárez Díaz</td>\n      <td>33</td>\n      <td>1987-01-24</td>\n      <td>182</td>\n      <td>86</td>\n      <td>Uruguay</td>\n      <td>FC Barcelona</td>\n      <td>Spain Primera Division</td>\n      <td>1.0</td>\n      <td>87</td>\n      <td>87</td>\n      <td>31500000</td>\n      <td>280000</td>\n      <td>ST</td>\n      <td>Right</td>\n      <td>5</td>\n      <td>4</td>\n      <td>3</td>\n      <td>High/Medium</td>\n      <td>PLAYER_BODY_TYPE_374</td>\n      <td>Yes</td>\n      <td>64600000.0</td>\n      <td>#Distance Shooter, #Clinical Finisher</td>\n      <td>SUB</td>\n      <td>9.0</td>\n      <td>NaN</td>\n      <td>2014-07-11</td>\n      <td>2021.0</td>\n      <td>NaN</td>\n      <td>NaN</td>\n      <td>70.0</td>\n      <td>90.0</td>\n      <td>82.0</td>\n      <td>83.0</td>\n      <td>51.0</td>\n      <td>83.0</td>\n      <td>NaN</td>\n      <td>NaN</td>\n      <td>NaN</td>\n      <td>NaN</td>\n      <td>NaN</td>\n      <td>NaN</td>\n      <td>Solid Player, Outside Foot Shot</td>\n      <td>80</td>\n      <td>92</td>\n      <td>84</td>\n      <td>83</td>\n      <td>90</td>\n      <td>84</td>\n      <td>86</td>\n      <td>82</td>\n      <td>77</td>\n      <td>84</td>\n      <td>72</td>\n      <td>68</td>\n      <td>76</td>\n      <td>92</td>\n      <td>78</td>\n      <td>89</td>\n      <td>69</td>\n      <td>78</td>\n      <td>85</td>\n      <td>88</td>\n      <td>87</td>\n      <td>41</td>\n      <td>91</td>\n      <td>84</td>\n      <td>83</td>\n      <td>85</td>\n      <td>NaN</td>\n      <td>45</td>\n      <td>38</td>\n      <td>27</td>\n      <td>25</td>\n      <td>31</td>\n      <td>33</td>\n      <td>37</td>\n      <td>86+1</td>\n      <td>86+1</td>\n      <td>86+1</td>\n      <td>84+0</td>\n      <td>85+0</td>\n      <td>85+0</td>\n      <td>85+0</td>\n      <td>84+0</td>\n      <td>84+3</td>\n      <td>84+3</td>\n      <td>84+3</td>\n      <td>83+3</td>\n      <td>80+3</td>\n      <td>80+3</td>\n      <td>80+3</td>\n      <td>83+3</td>\n      <td>67+3</td>\n      <td>68+3</td>\n      <td>68+3</td>\n      <td>68+3</td>\n      <td>67+3</td>\n      <td>64+3</td>\n      <td>63+3</td>\n      <td>63+3</td>\n      <td>63+3</td>\n      <td>64+3</td>\n    </tr>\n  </tbody>\n</table>\n</div>"
     },
     "execution_count": 102,
     "metadata": {},
     "output_type": "execute_result"
    }
   ],
   "source": [
    "df.nlargest(10, \"wage_eur\")"
   ]
  },
  {
   "cell_type": "markdown",
   "source": [
    "아쉽지만, 손흥민 선수는 10위에 포함되지는 않네요.\n",
    "그럼 손흥민 선수의 연봉은 몇 유로인지 확인해볼까요?"
   ],
   "metadata": {
    "collapsed": false,
    "pycharm": {
     "name": "#%% md\n"
    }
   }
  },
  {
   "cell_type": "code",
   "execution_count": 103,
   "outputs": [
    {
     "data": {
      "text/plain": "71    165000\nName: wage_eur, dtype: int64"
     },
     "execution_count": 103,
     "metadata": {},
     "output_type": "execute_result"
    }
   ],
   "source": [
    "df[df.short_name == \"H. Son\"].wage_eur"
   ],
   "metadata": {
    "collapsed": false,
    "pycharm": {
     "name": "#%%\n"
    }
   }
  },
  {
   "cell_type": "markdown",
   "source": [
    "출력된 값은 165,000유로, 한화로 환산하면 약 2억2천만원인데요. 우리 연봉보다 조금밖에 많지 않아서 당황하셨나요? 사실 wage_eur은 연봉이 아니라 주급입니다. 52를 곱해보면 대략.."
   ],
   "metadata": {
    "collapsed": false,
    "pycharm": {
     "name": "#%% md\n"
    }
   }
  },
  {
   "cell_type": "code",
   "execution_count": 113,
   "outputs": [
    {
     "data": {
      "text/plain": "71    1.151985e+10\nName: wage_eur, dtype: float64"
     },
     "execution_count": 113,
     "metadata": {},
     "output_type": "execute_result"
    }
   ],
   "source": [
    "df[df.short_name == \"H. Son\"].wage_eur * 52 * 1342.64"
   ],
   "metadata": {
    "collapsed": false,
    "pycharm": {
     "name": "#%%\n"
    }
   }
  },
  {
   "cell_type": "markdown",
   "source": [
    "이런 표기법이 익숙하지 않은 분도 계실 겁니다. e+6이면 백만원 e+10이면 백억원이니까 약 115억 정도가 되겠네요. 약간의 신태틱을 붙이면 조금 더 보기 편해지실 겁니다."
   ],
   "metadata": {
    "collapsed": false,
    "pycharm": {
     "name": "#%% md\n"
    }
   }
  },
  {
   "cell_type": "code",
   "execution_count": 105,
   "outputs": [
    {
     "data": {
      "text/plain": "'11,519,851,200'"
     },
     "execution_count": 105,
     "metadata": {},
     "output_type": "execute_result"
    }
   ],
   "source": [
    "f'{int(df[df.short_name == \"H. Son\"].wage_eur * 52 * 1342.64):,}'"
   ],
   "metadata": {
    "collapsed": false,
    "pycharm": {
     "name": "#%%\n"
    }
   }
  },
  {
   "cell_type": "markdown",
   "source": [
    "# 특정 행의 칼럼값 순위 확인(rank)\n",
    "\n",
    "(사실 115억 정도면 굉장히 저평가된 것 같습니다. 2021~2022 프리미어리그 득점왕인데 말이죠...)\n",
    "이 정도 금액이면 도대체 몇 위 정도일까요? ```df.rank()```로 알아보겠습니다."
   ],
   "metadata": {
    "collapsed": false,
    "pycharm": {
     "name": "#%% md\n"
    }
   }
  },
  {
   "cell_type": "code",
   "execution_count": 106,
   "outputs": [
    {
     "data": {
      "text/plain": "71    18896.0\nName: rank_wage, dtype: float64"
     },
     "execution_count": 106,
     "metadata": {},
     "output_type": "execute_result"
    }
   ],
   "source": [
    "df[\"rank_wage\"] = df[\"wage_eur\"].rank()\n",
    "df[df.short_name == \"H. Son\"].rank_wage"
   ],
   "metadata": {
    "collapsed": false,
    "pycharm": {
     "name": "#%%\n"
    }
   }
  },
  {
   "cell_type": "markdown",
   "source": [
    "잉? 18896번째라고요? 뭔가 이상한 값이 나왔죠? 사실 rank() 메서드는 오름차순이 디폴트라 그렇습니다.\n",
    "다시 계산해보겠습니다."
   ],
   "metadata": {
    "collapsed": false,
    "pycharm": {
     "name": "#%% md\n"
    }
   }
  },
  {
   "cell_type": "code",
   "execution_count": 107,
   "outputs": [
    {
     "data": {
      "text/plain": "71    49.0\nName: rank_wage, dtype: float64"
     },
     "execution_count": 107,
     "metadata": {},
     "output_type": "execute_result"
    }
   ],
   "source": [
    "df[\"rank_wage\"] = df[\"wage_eur\"].rank(ascending=False)\n",
    "df[df.short_name == \"H. Son\"].rank_wage"
   ],
   "metadata": {
    "collapsed": false,
    "pycharm": {
     "name": "#%%\n"
    }
   }
  },
  {
   "cell_type": "markdown",
   "source": [
    "그래도 무려 프리미어리그 득점왕 손흥민 선수가 연봉 49위 밖에 아니라니 좀 아쉽기는 하네요...\n",
    "\n",
    "재미로 몇 가지 다른 값도 한 번 탐색해보겠습니다.\n",
    "축구선수 중 키가 큰 선수들은 대부분 어떤 나라 사람들일까요?\n",
    "우선 최고로 키가 큰 선수의 신장을 한 번 알아보겠습니다."
   ],
   "metadata": {
    "collapsed": false,
    "pycharm": {
     "name": "#%% md\n"
    }
   }
  },
  {
   "cell_type": "code",
   "execution_count": 108,
   "id": "924386e3",
   "metadata": {
    "pycharm": {
     "name": "#%%\n"
    }
   },
   "outputs": [
    {
     "data": {
      "text/plain": "206"
     },
     "execution_count": 108,
     "metadata": {},
     "output_type": "execute_result"
    }
   ],
   "source": [
    "# df[\"height_cm\"].max() 와 동일\n",
    "df.height_cm.max()"
   ]
  },
  {
   "cell_type": "markdown",
   "source": [
    "# 정렬(sort_values) 사용해보기\n",
    "\n",
    "최장신 선수는 무려 206센티미터네요. 그럼 키가 2미터 이상인 선수들 열 명만 내림차순으로 출력해보겠습니다. 정렬은 ```df.sort_values``` 메서드를 사용하면 됩니다."
   ],
   "metadata": {
    "collapsed": false,
    "pycharm": {
     "name": "#%% md\n"
    }
   }
  },
  {
   "cell_type": "code",
   "execution_count": 109,
   "outputs": [
    {
     "data": {
      "text/plain": "                short_name     nationality                   league_name  \\\n10190              T. Holý  Czech Republic            English League One   \n11374                A. Ba      Mauritania                French Ligue 2   \n4449         C. Pantilimon         Romania             Turkish Süper Lig   \n7381           K. Scherpen     Netherlands            Holland Eredivisie   \n11578        S. Maierhofer         Austria  Austrian Football Bundesliga   \n6643   V. Milinković-Savić          Serbia               Italian Serie A   \n18199             D. Thiam         Senegal               Italian Serie B   \n17713          D. Turnbull   United States            English League One   \n18658     K. McKenzie-Lyle          Guyana            English League Two   \n9768            T. Rönning          Sweden           Swedish Allsvenskan   \n\n       height_cm  league_rank  \n10190        206          3.0  \n11374        203          2.0  \n4449         203          1.0  \n7381         202          1.0  \n11578        202          1.0  \n6643         202          1.0  \n18199        202          2.0  \n17713        201          3.0  \n18658        201          4.0  \n9768         201          1.0  ",
      "text/html": "<div>\n<style scoped>\n    .dataframe tbody tr th:only-of-type {\n        vertical-align: middle;\n    }\n\n    .dataframe tbody tr th {\n        vertical-align: top;\n    }\n\n    .dataframe thead th {\n        text-align: right;\n    }\n</style>\n<table border=\"1\" class=\"dataframe\">\n  <thead>\n    <tr style=\"text-align: right;\">\n      <th></th>\n      <th>short_name</th>\n      <th>nationality</th>\n      <th>league_name</th>\n      <th>height_cm</th>\n      <th>league_rank</th>\n    </tr>\n  </thead>\n  <tbody>\n    <tr>\n      <th>10190</th>\n      <td>T. Holý</td>\n      <td>Czech Republic</td>\n      <td>English League One</td>\n      <td>206</td>\n      <td>3.0</td>\n    </tr>\n    <tr>\n      <th>11374</th>\n      <td>A. Ba</td>\n      <td>Mauritania</td>\n      <td>French Ligue 2</td>\n      <td>203</td>\n      <td>2.0</td>\n    </tr>\n    <tr>\n      <th>4449</th>\n      <td>C. Pantilimon</td>\n      <td>Romania</td>\n      <td>Turkish Süper Lig</td>\n      <td>203</td>\n      <td>1.0</td>\n    </tr>\n    <tr>\n      <th>7381</th>\n      <td>K. Scherpen</td>\n      <td>Netherlands</td>\n      <td>Holland Eredivisie</td>\n      <td>202</td>\n      <td>1.0</td>\n    </tr>\n    <tr>\n      <th>11578</th>\n      <td>S. Maierhofer</td>\n      <td>Austria</td>\n      <td>Austrian Football Bundesliga</td>\n      <td>202</td>\n      <td>1.0</td>\n    </tr>\n    <tr>\n      <th>6643</th>\n      <td>V. Milinković-Savić</td>\n      <td>Serbia</td>\n      <td>Italian Serie A</td>\n      <td>202</td>\n      <td>1.0</td>\n    </tr>\n    <tr>\n      <th>18199</th>\n      <td>D. Thiam</td>\n      <td>Senegal</td>\n      <td>Italian Serie B</td>\n      <td>202</td>\n      <td>2.0</td>\n    </tr>\n    <tr>\n      <th>17713</th>\n      <td>D. Turnbull</td>\n      <td>United States</td>\n      <td>English League One</td>\n      <td>201</td>\n      <td>3.0</td>\n    </tr>\n    <tr>\n      <th>18658</th>\n      <td>K. McKenzie-Lyle</td>\n      <td>Guyana</td>\n      <td>English League Two</td>\n      <td>201</td>\n      <td>4.0</td>\n    </tr>\n    <tr>\n      <th>9768</th>\n      <td>T. Rönning</td>\n      <td>Sweden</td>\n      <td>Swedish Allsvenskan</td>\n      <td>201</td>\n      <td>1.0</td>\n    </tr>\n  </tbody>\n</table>\n</div>"
     },
     "execution_count": 109,
     "metadata": {},
     "output_type": "execute_result"
    }
   ],
   "source": [
    "df[[\"short_name\", \"nationality\", \"league_name\", \"height_cm\", \"league_rank\"]].sort_values(\"height_cm\", ascending=False)[:10]"
   ],
   "metadata": {
    "collapsed": false,
    "pycharm": {
     "name": "#%%\n"
    }
   }
  },
  {
   "cell_type": "code",
   "execution_count": 110,
   "outputs": [
    {
     "data": {
      "text/plain": "                short_name     nationality                   league_name  \\\n10190              T. Holý  Czech Republic            English League One   \n11374                A. Ba      Mauritania                French Ligue 2   \n4449         C. Pantilimon         Romania             Turkish Süper Lig   \n7381           K. Scherpen     Netherlands            Holland Eredivisie   \n11578        S. Maierhofer         Austria  Austrian Football Bundesliga   \n6643   V. Milinković-Savić          Serbia               Italian Serie A   \n18199             D. Thiam         Senegal               Italian Serie B   \n17713          D. Turnbull   United States            English League One   \n18658     K. McKenzie-Lyle          Guyana            English League Two   \n9768            T. Rönning          Sweden           Swedish Allsvenskan   \n\n       height_cm  league_rank  \n10190        206          3.0  \n11374        203          2.0  \n4449         203          1.0  \n7381         202          1.0  \n11578        202          1.0  \n6643         202          1.0  \n18199        202          2.0  \n17713        201          3.0  \n18658        201          4.0  \n9768         201          1.0  ",
      "text/html": "<div>\n<style scoped>\n    .dataframe tbody tr th:only-of-type {\n        vertical-align: middle;\n    }\n\n    .dataframe tbody tr th {\n        vertical-align: top;\n    }\n\n    .dataframe thead th {\n        text-align: right;\n    }\n</style>\n<table border=\"1\" class=\"dataframe\">\n  <thead>\n    <tr style=\"text-align: right;\">\n      <th></th>\n      <th>short_name</th>\n      <th>nationality</th>\n      <th>league_name</th>\n      <th>height_cm</th>\n      <th>league_rank</th>\n    </tr>\n  </thead>\n  <tbody>\n    <tr>\n      <th>10190</th>\n      <td>T. Holý</td>\n      <td>Czech Republic</td>\n      <td>English League One</td>\n      <td>206</td>\n      <td>3.0</td>\n    </tr>\n    <tr>\n      <th>11374</th>\n      <td>A. Ba</td>\n      <td>Mauritania</td>\n      <td>French Ligue 2</td>\n      <td>203</td>\n      <td>2.0</td>\n    </tr>\n    <tr>\n      <th>4449</th>\n      <td>C. Pantilimon</td>\n      <td>Romania</td>\n      <td>Turkish Süper Lig</td>\n      <td>203</td>\n      <td>1.0</td>\n    </tr>\n    <tr>\n      <th>7381</th>\n      <td>K. Scherpen</td>\n      <td>Netherlands</td>\n      <td>Holland Eredivisie</td>\n      <td>202</td>\n      <td>1.0</td>\n    </tr>\n    <tr>\n      <th>11578</th>\n      <td>S. Maierhofer</td>\n      <td>Austria</td>\n      <td>Austrian Football Bundesliga</td>\n      <td>202</td>\n      <td>1.0</td>\n    </tr>\n    <tr>\n      <th>6643</th>\n      <td>V. Milinković-Savić</td>\n      <td>Serbia</td>\n      <td>Italian Serie A</td>\n      <td>202</td>\n      <td>1.0</td>\n    </tr>\n    <tr>\n      <th>18199</th>\n      <td>D. Thiam</td>\n      <td>Senegal</td>\n      <td>Italian Serie B</td>\n      <td>202</td>\n      <td>2.0</td>\n    </tr>\n    <tr>\n      <th>17713</th>\n      <td>D. Turnbull</td>\n      <td>United States</td>\n      <td>English League One</td>\n      <td>201</td>\n      <td>3.0</td>\n    </tr>\n    <tr>\n      <th>18658</th>\n      <td>K. McKenzie-Lyle</td>\n      <td>Guyana</td>\n      <td>English League Two</td>\n      <td>201</td>\n      <td>4.0</td>\n    </tr>\n    <tr>\n      <th>9768</th>\n      <td>T. Rönning</td>\n      <td>Sweden</td>\n      <td>Swedish Allsvenskan</td>\n      <td>201</td>\n      <td>1.0</td>\n    </tr>\n  </tbody>\n</table>\n</div>"
     },
     "execution_count": 110,
     "metadata": {},
     "output_type": "execute_result"
    }
   ],
   "source": [
    "# 위 명령어와 아래 명령어는 동일한 결과를 반환합니다.\n",
    "df.sort_values(\"height_cm\", ascending=False)[[\"short_name\", \"nationality\", \"league_name\", \"height_cm\", \"league_rank\"]][0:10]"
   ],
   "metadata": {
    "collapsed": false,
    "pycharm": {
     "name": "#%%\n"
    }
   }
  },
  {
   "cell_type": "markdown",
   "source": [
    "# 다중 정렬(sort_values().sort_values()...)\n",
    "\n",
    "sort_values 메서드를 여러 번 사용해서 다중 정렬도 구현할 수 있습니다.\n",
    "1차로 키 오름차순, 2차로 나이 내림차순으로 검색해보려면 sort_values를 연달아 두 번 사용하면 됩니다(일명 체이닝).\n",
    "\n",
    "이 때 1차를 먼저 입력해야 할까요, 2차를 먼저 입력해야 할까요?\n",
    "가만 생각해보면 먼저 입력하는 칼럼이 후순위가 됩니다. 뒤에서 섞이니까요."
   ],
   "metadata": {
    "collapsed": false,
    "pycharm": {
     "name": "#%% md\n"
    }
   }
  },
  {
   "cell_type": "code",
   "execution_count": 111,
   "outputs": [
    {
     "data": {
      "text/plain": "          short_name nationality  age  height_cm\n12541    H. Nakagawa       Japan   25        155\n5622      N. Barrios   Argentina   22        156\n4494        J. Plata     Ecuador   28        157\n16323      J. Nisbet   Australia   21        158\n3611   C. Songkrasin    Thailand   26        158\n880       M. Moralez   Argentina   33        158\n16694      J. Romero   Argentina   19        159\n7550    M. Domínguez      Mexico   20        159\n7255      E. Oztumer     England   29        160\n4551    V. Hernández    Colombia   31        160",
      "text/html": "<div>\n<style scoped>\n    .dataframe tbody tr th:only-of-type {\n        vertical-align: middle;\n    }\n\n    .dataframe tbody tr th {\n        vertical-align: top;\n    }\n\n    .dataframe thead th {\n        text-align: right;\n    }\n</style>\n<table border=\"1\" class=\"dataframe\">\n  <thead>\n    <tr style=\"text-align: right;\">\n      <th></th>\n      <th>short_name</th>\n      <th>nationality</th>\n      <th>age</th>\n      <th>height_cm</th>\n    </tr>\n  </thead>\n  <tbody>\n    <tr>\n      <th>12541</th>\n      <td>H. Nakagawa</td>\n      <td>Japan</td>\n      <td>25</td>\n      <td>155</td>\n    </tr>\n    <tr>\n      <th>5622</th>\n      <td>N. Barrios</td>\n      <td>Argentina</td>\n      <td>22</td>\n      <td>156</td>\n    </tr>\n    <tr>\n      <th>4494</th>\n      <td>J. Plata</td>\n      <td>Ecuador</td>\n      <td>28</td>\n      <td>157</td>\n    </tr>\n    <tr>\n      <th>16323</th>\n      <td>J. Nisbet</td>\n      <td>Australia</td>\n      <td>21</td>\n      <td>158</td>\n    </tr>\n    <tr>\n      <th>3611</th>\n      <td>C. Songkrasin</td>\n      <td>Thailand</td>\n      <td>26</td>\n      <td>158</td>\n    </tr>\n    <tr>\n      <th>880</th>\n      <td>M. Moralez</td>\n      <td>Argentina</td>\n      <td>33</td>\n      <td>158</td>\n    </tr>\n    <tr>\n      <th>16694</th>\n      <td>J. Romero</td>\n      <td>Argentina</td>\n      <td>19</td>\n      <td>159</td>\n    </tr>\n    <tr>\n      <th>7550</th>\n      <td>M. Domínguez</td>\n      <td>Mexico</td>\n      <td>20</td>\n      <td>159</td>\n    </tr>\n    <tr>\n      <th>7255</th>\n      <td>E. Oztumer</td>\n      <td>England</td>\n      <td>29</td>\n      <td>160</td>\n    </tr>\n    <tr>\n      <th>4551</th>\n      <td>V. Hernández</td>\n      <td>Colombia</td>\n      <td>31</td>\n      <td>160</td>\n    </tr>\n  </tbody>\n</table>\n</div>"
     },
     "execution_count": 111,
     "metadata": {},
     "output_type": "execute_result"
    }
   ],
   "source": [
    "df.sort_values(\"age\", ascending=False).sort_values(\"height_cm\")[[\"short_name\", \"nationality\", \"age\", \"height_cm\"]][0:10]"
   ],
   "metadata": {
    "collapsed": false,
    "pycharm": {
     "name": "#%%\n"
    }
   }
  },
  {
   "cell_type": "code",
   "execution_count": null,
   "id": "a190fa03",
   "metadata": {
    "pycharm": {
     "name": "#%%\n"
    }
   },
   "outputs": [],
   "source": [
    "df.query(\"shooting > passing\")"
   ]
  },
  {
   "cell_type": "code",
   "execution_count": null,
   "id": "a2d35388",
   "metadata": {
    "pycharm": {
     "name": "#%%\n"
    }
   },
   "outputs": [],
   "source": [
    "df.iloc[:10, 5:10]"
   ]
  },
  {
   "cell_type": "code",
   "execution_count": null,
   "id": "8818b9e0",
   "metadata": {
    "pycharm": {
     "name": "#%%\n"
    }
   },
   "outputs": [],
   "source": [
    "df.loc[3]"
   ]
  },
  {
   "cell_type": "code",
   "execution_count": null,
   "id": "f5dd85d7",
   "metadata": {
    "pycharm": {
     "name": "#%%\n"
    }
   },
   "outputs": [],
   "source": [
    "df.loc[[0, 1, 3], [\"short_name\", \"nationality\"]]"
   ]
  },
  {
   "cell_type": "code",
   "execution_count": null,
   "id": "b9f998fd",
   "metadata": {
    "pycharm": {
     "name": "#%%\n"
    }
   },
   "outputs": [],
   "source": [
    "df.height_cm.dtypes"
   ]
  },
  {
   "cell_type": "code",
   "execution_count": null,
   "id": "6e7cd6a1",
   "metadata": {
    "pycharm": {
     "name": "#%%\n"
    }
   },
   "outputs": [],
   "source": [
    "df.info()"
   ]
  },
  {
   "cell_type": "code",
   "execution_count": null,
   "id": "fa23ad7f",
   "metadata": {
    "pycharm": {
     "name": "#%%\n"
    }
   },
   "outputs": [],
   "source": [
    "df.dtypes"
   ]
  },
  {
   "cell_type": "code",
   "execution_count": null,
   "id": "aa818868",
   "metadata": {
    "pycharm": {
     "name": "#%%\n"
    }
   },
   "outputs": [],
   "source": [
    "df.sample(n=200)"
   ]
  },
  {
   "cell_type": "code",
   "execution_count": null,
   "id": "16d28163",
   "metadata": {
    "pycharm": {
     "name": "#%%\n"
    }
   },
   "outputs": [],
   "source": [
    "df.sample(frac=0.25)"
   ]
  },
  {
   "cell_type": "code",
   "execution_count": null,
   "id": "6a6faebb",
   "metadata": {
    "pycharm": {
     "name": "#%%\n"
    }
   },
   "outputs": [],
   "source": [
    "df.skill_moves.unique()"
   ]
  },
  {
   "cell_type": "code",
   "execution_count": null,
   "id": "0e70a41f",
   "metadata": {
    "pycharm": {
     "name": "#%%\n"
    }
   },
   "outputs": [],
   "source": [
    "df.nationality.nunique()"
   ]
  },
  {
   "cell_type": "code",
   "execution_count": null,
   "id": "e95ce2db",
   "metadata": {
    "pycharm": {
     "name": "#%%\n"
    }
   },
   "outputs": [],
   "source": [
    "df.nunique()"
   ]
  },
  {
   "cell_type": "code",
   "execution_count": null,
   "id": "1ac8532d",
   "metadata": {
    "pycharm": {
     "name": "#%%\n"
    }
   },
   "outputs": [],
   "source": [
    "df[\"rank_calc\"] = df[\"value_eur\"].rank()"
   ]
  },
  {
   "cell_type": "code",
   "execution_count": null,
   "id": "106afa0b",
   "metadata": {
    "pycharm": {
     "name": "#%%\n"
    }
   },
   "outputs": [],
   "source": [
    "df.head(3)"
   ]
  },
  {
   "cell_type": "code",
   "execution_count": null,
   "id": "8add5978",
   "metadata": {
    "pycharm": {
     "name": "#%%\n"
    }
   },
   "outputs": [],
   "source": [
    "df[df.nationality.str.contains(\"Korea\")].head()"
   ]
  },
  {
   "cell_type": "code",
   "execution_count": null,
   "id": "f4cd744d",
   "metadata": {
    "pycharm": {
     "name": "#%%\n"
    }
   },
   "outputs": [],
   "source": [
    "df[df.nationality == \"Korea Republic\"]"
   ]
  },
  {
   "cell_type": "code",
   "execution_count": null,
   "id": "1214f3ea",
   "metadata": {
    "pycharm": {
     "name": "#%%\n"
    }
   },
   "outputs": [],
   "source": [
    "df.rename(columns={\"weight_kg\": \"Weight(kg)\", \"height_cm\": \"Height(cm)\"})"
   ]
  },
  {
   "cell_type": "code",
   "execution_count": null,
   "id": "d1824907",
   "metadata": {
    "pycharm": {
     "name": "#%%\n"
    }
   },
   "outputs": [],
   "source": [
    "df.height_cm.head()  # 바뀌지 않음"
   ]
  },
  {
   "cell_type": "code",
   "execution_count": null,
   "id": "d1497af2",
   "metadata": {
    "pycharm": {
     "name": "#%%\n"
    }
   },
   "outputs": [],
   "source": [
    "df.pace.head()"
   ]
  },
  {
   "cell_type": "code",
   "execution_count": null,
   "id": "a3557666",
   "metadata": {
    "pycharm": {
     "name": "#%%\n"
    }
   },
   "outputs": [],
   "source": [
    "df.pace.fillna(0, inplace=True)"
   ]
  },
  {
   "cell_type": "code",
   "execution_count": null,
   "id": "540a1562",
   "metadata": {
    "pycharm": {
     "name": "#%%\n"
    }
   },
   "outputs": [],
   "source": [
    "df.pace.head()"
   ]
  },
  {
   "cell_type": "code",
   "execution_count": null,
   "id": "97edd9c0",
   "metadata": {
    "pycharm": {
     "name": "#%%\n"
    }
   },
   "outputs": [],
   "source": [
    "df.pace.fillna(df[\"pace\"].mean(), inplace=True)"
   ]
  },
  {
   "cell_type": "code",
   "execution_count": null,
   "id": "a7d6205b",
   "metadata": {
    "pycharm": {
     "name": "#%%\n"
    }
   },
   "outputs": [],
   "source": [
    "df.groupby(\"nationality\")[\"value_eur\"].sum()"
   ]
  },
  {
   "cell_type": "code",
   "execution_count": null,
   "id": "65e4c811",
   "metadata": {
    "pycharm": {
     "name": "#%%\n"
    }
   },
   "outputs": [],
   "source": [
    "df.groupby(['nationality', 'league_rank'])[['value_eur', 'wage_eur']].agg([np.mean, np.median])"
   ]
  },
  {
   "cell_type": "code",
   "execution_count": null,
   "id": "b9032fa2",
   "metadata": {
    "pycharm": {
     "name": "#%%\n"
    }
   },
   "outputs": [],
   "source": [
    "df['league_rank'].value_counts(ascending=True)"
   ]
  },
  {
   "cell_type": "code",
   "execution_count": null,
   "id": "37d0ea74",
   "metadata": {
    "pycharm": {
     "name": "#%%\n"
    }
   },
   "outputs": [],
   "source": [
    "pd.crosstab(df['league_rank'], df['international_reputation'])"
   ]
  }
 ],
 "metadata": {
  "kernelspec": {
   "display_name": "Python 3",
   "language": "python",
   "name": "python3"
  },
  "language_info": {
   "codemirror_mode": {
    "name": "ipython",
    "version": 3
   },
   "file_extension": ".py",
   "mimetype": "text/x-python",
   "name": "python",
   "nbconvert_exporter": "python",
   "pygments_lexer": "ipython3",
   "version": "3.6.8"
  }
 },
 "nbformat": 4,
 "nbformat_minor": 5
}