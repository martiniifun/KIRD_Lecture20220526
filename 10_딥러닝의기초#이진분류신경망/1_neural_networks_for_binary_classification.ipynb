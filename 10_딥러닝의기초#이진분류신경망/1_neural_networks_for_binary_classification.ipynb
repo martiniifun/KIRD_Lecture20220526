{
 "cells": [
  {
   "cell_type": "markdown",
   "source": [
    "# <딥러닝 첫 번째 시간, 이미지 분류>"
   ],
   "metadata": {
    "collapsed": false,
    "pycharm": {
     "name": "#%% md\n"
    }
   }
  },
  {
   "cell_type": "markdown",
   "source": [
    "# 1. 모듈 임포트"
   ],
   "metadata": {
    "collapsed": false,
    "pycharm": {
     "name": "#%% md\n"
    }
   }
  },
  {
   "cell_type": "code",
   "execution_count": 2,
   "metadata": {
    "collapsed": true,
    "pycharm": {
     "name": "#%%\n"
    }
   },
   "outputs": [],
   "source": [
    "import numpy as np\n",
    "import tensorflow as tf\n",
    "from keras.models import Sequential\n",
    "from keras.layers import Dense\n",
    "import matplotlib.pyplot as plt"
   ]
  },
  {
   "cell_type": "code",
   "execution_count": 3,
   "outputs": [
    {
     "data": {
      "text/plain": "'C:\\\\Users\\\\smj02\\\\PycharmProjects\\\\KIRD_Lecture20220526\\\\10_딥러닝의기초#이진분류신경망'"
     },
     "execution_count": 3,
     "metadata": {},
     "output_type": "execute_result"
    }
   ],
   "source": [
    "import os\n",
    "os.getcwd()  # current working directory"
   ],
   "metadata": {
    "collapsed": false,
    "pycharm": {
     "name": "#%%\n"
    }
   }
  },
  {
   "cell_type": "markdown",
   "source": [
    "# 2. 데이터 불러오기(MNIST 중 0과 1만)"
   ],
   "metadata": {
    "collapsed": false,
    "pycharm": {
     "name": "#%% md\n"
    }
   }
  },
  {
   "cell_type": "code",
   "execution_count": 4,
   "outputs": [],
   "source": [
    "def load_data(end_idx):\n",
    "    \"\"\"\n",
    "     This is a subset of the MNIST handwritten digit dataset (http://yann.lecun.com/exdb/mnist/)\n",
    "    \"\"\"\n",
    "    X = np.load(\"./data/X.npy\")\n",
    "    y = np.load(\"./data/y.npy\")\n",
    "    X = X[0:end_idx]  # 0과 1의 데이터만 분류해보기\n",
    "    y = y[0:end_idx]\n",
    "    return X, y\n",
    "\n",
    "X, y = load_data(1000)"
   ],
   "metadata": {
    "collapsed": false,
    "pycharm": {
     "name": "#%%\n"
    }
   }
  },
  {
   "cell_type": "code",
   "execution_count": 4,
   "outputs": [
    {
     "data": {
      "text/plain": "array([[0., 0., 0., ..., 0., 0., 0.],\n       [0., 0., 0., ..., 0., 0., 0.],\n       [0., 0., 0., ..., 0., 0., 0.],\n       ...,\n       [0., 0., 0., ..., 0., 0., 0.],\n       [0., 0., 0., ..., 0., 0., 0.],\n       [0., 0., 0., ..., 0., 0., 0.]])"
     },
     "execution_count": 4,
     "metadata": {},
     "output_type": "execute_result"
    }
   ],
   "source": [
    "X"
   ],
   "metadata": {
    "collapsed": false,
    "pycharm": {
     "name": "#%%\n"
    }
   }
  },
  {
   "cell_type": "code",
   "execution_count": 5,
   "outputs": [
    {
     "data": {
      "text/plain": "array([[0],\n       [0],\n       [0],\n       [0],\n       [0],\n       [0],\n       [0],\n       [0],\n       [0],\n       [0],\n       [0],\n       [0],\n       [0],\n       [0],\n       [0],\n       [0],\n       [0],\n       [0],\n       [0],\n       [0],\n       [0],\n       [0],\n       [0],\n       [0],\n       [0],\n       [0],\n       [0],\n       [0],\n       [0],\n       [0],\n       [0],\n       [0],\n       [0],\n       [0],\n       [0],\n       [0],\n       [0],\n       [0],\n       [0],\n       [0],\n       [0],\n       [0],\n       [0],\n       [0],\n       [0],\n       [0],\n       [0],\n       [0],\n       [0],\n       [0],\n       [0],\n       [0],\n       [0],\n       [0],\n       [0],\n       [0],\n       [0],\n       [0],\n       [0],\n       [0],\n       [0],\n       [0],\n       [0],\n       [0],\n       [0],\n       [0],\n       [0],\n       [0],\n       [0],\n       [0],\n       [0],\n       [0],\n       [0],\n       [0],\n       [0],\n       [0],\n       [0],\n       [0],\n       [0],\n       [0],\n       [0],\n       [0],\n       [0],\n       [0],\n       [0],\n       [0],\n       [0],\n       [0],\n       [0],\n       [0],\n       [0],\n       [0],\n       [0],\n       [0],\n       [0],\n       [0],\n       [0],\n       [0],\n       [0],\n       [0],\n       [0],\n       [0],\n       [0],\n       [0],\n       [0],\n       [0],\n       [0],\n       [0],\n       [0],\n       [0],\n       [0],\n       [0],\n       [0],\n       [0],\n       [0],\n       [0],\n       [0],\n       [0],\n       [0],\n       [0],\n       [0],\n       [0],\n       [0],\n       [0],\n       [0],\n       [0],\n       [0],\n       [0],\n       [0],\n       [0],\n       [0],\n       [0],\n       [0],\n       [0],\n       [0],\n       [0],\n       [0],\n       [0],\n       [0],\n       [0],\n       [0],\n       [0],\n       [0],\n       [0],\n       [0],\n       [0],\n       [0],\n       [0],\n       [0],\n       [0],\n       [0],\n       [0],\n       [0],\n       [0],\n       [0],\n       [0],\n       [0],\n       [0],\n       [0],\n       [0],\n       [0],\n       [0],\n       [0],\n       [0],\n       [0],\n       [0],\n       [0],\n       [0],\n       [0],\n       [0],\n       [0],\n       [0],\n       [0],\n       [0],\n       [0],\n       [0],\n       [0],\n       [0],\n       [0],\n       [0],\n       [0],\n       [0],\n       [0],\n       [0],\n       [0],\n       [0],\n       [0],\n       [0],\n       [0],\n       [0],\n       [0],\n       [0],\n       [0],\n       [0],\n       [0],\n       [0],\n       [0],\n       [0],\n       [0],\n       [0],\n       [0],\n       [0],\n       [0],\n       [0],\n       [0],\n       [0],\n       [0],\n       [0],\n       [0],\n       [0],\n       [0],\n       [0],\n       [0],\n       [0],\n       [0],\n       [0],\n       [0],\n       [0],\n       [0],\n       [0],\n       [0],\n       [0],\n       [0],\n       [0],\n       [0],\n       [0],\n       [0],\n       [0],\n       [0],\n       [0],\n       [0],\n       [0],\n       [0],\n       [0],\n       [0],\n       [0],\n       [0],\n       [0],\n       [0],\n       [0],\n       [0],\n       [0],\n       [0],\n       [0],\n       [0],\n       [0],\n       [0],\n       [0],\n       [0],\n       [0],\n       [0],\n       [0],\n       [0],\n       [0],\n       [0],\n       [0],\n       [0],\n       [0],\n       [0],\n       [0],\n       [0],\n       [0],\n       [0],\n       [0],\n       [0],\n       [0],\n       [0],\n       [0],\n       [0],\n       [0],\n       [0],\n       [0],\n       [0],\n       [0],\n       [0],\n       [0],\n       [0],\n       [0],\n       [0],\n       [0],\n       [0],\n       [0],\n       [0],\n       [0],\n       [0],\n       [0],\n       [0],\n       [0],\n       [0],\n       [0],\n       [0],\n       [0],\n       [0],\n       [0],\n       [0],\n       [0],\n       [0],\n       [0],\n       [0],\n       [0],\n       [0],\n       [0],\n       [0],\n       [0],\n       [0],\n       [0],\n       [0],\n       [0],\n       [0],\n       [0],\n       [0],\n       [0],\n       [0],\n       [0],\n       [0],\n       [0],\n       [0],\n       [0],\n       [0],\n       [0],\n       [0],\n       [0],\n       [0],\n       [0],\n       [0],\n       [0],\n       [0],\n       [0],\n       [0],\n       [0],\n       [0],\n       [0],\n       [0],\n       [0],\n       [0],\n       [0],\n       [0],\n       [0],\n       [0],\n       [0],\n       [0],\n       [0],\n       [0],\n       [0],\n       [0],\n       [0],\n       [0],\n       [0],\n       [0],\n       [0],\n       [0],\n       [0],\n       [0],\n       [0],\n       [0],\n       [0],\n       [0],\n       [0],\n       [0],\n       [0],\n       [0],\n       [0],\n       [0],\n       [0],\n       [0],\n       [0],\n       [0],\n       [0],\n       [0],\n       [0],\n       [0],\n       [0],\n       [0],\n       [0],\n       [0],\n       [0],\n       [0],\n       [0],\n       [0],\n       [0],\n       [0],\n       [0],\n       [0],\n       [0],\n       [0],\n       [0],\n       [0],\n       [0],\n       [0],\n       [0],\n       [0],\n       [0],\n       [0],\n       [0],\n       [0],\n       [0],\n       [0],\n       [0],\n       [0],\n       [0],\n       [0],\n       [0],\n       [0],\n       [0],\n       [0],\n       [0],\n       [0],\n       [0],\n       [0],\n       [0],\n       [0],\n       [0],\n       [0],\n       [0],\n       [0],\n       [0],\n       [0],\n       [0],\n       [0],\n       [0],\n       [0],\n       [0],\n       [0],\n       [0],\n       [0],\n       [0],\n       [0],\n       [0],\n       [0],\n       [0],\n       [0],\n       [0],\n       [0],\n       [0],\n       [0],\n       [0],\n       [0],\n       [0],\n       [0],\n       [0],\n       [0],\n       [0],\n       [0],\n       [0],\n       [0],\n       [0],\n       [0],\n       [0],\n       [0],\n       [0],\n       [0],\n       [0],\n       [0],\n       [0],\n       [0],\n       [0],\n       [0],\n       [0],\n       [0],\n       [0],\n       [0],\n       [0],\n       [0],\n       [0],\n       [0],\n       [0],\n       [0],\n       [0],\n       [0],\n       [0],\n       [0],\n       [0],\n       [0],\n       [0],\n       [0],\n       [0],\n       [0],\n       [0],\n       [0],\n       [0],\n       [0],\n       [0],\n       [0],\n       [0],\n       [0],\n       [0],\n       [0],\n       [0],\n       [0],\n       [0],\n       [0],\n       [0],\n       [0],\n       [0],\n       [0],\n       [0],\n       [0],\n       [0],\n       [0],\n       [0],\n       [1],\n       [1],\n       [1],\n       [1],\n       [1],\n       [1],\n       [1],\n       [1],\n       [1],\n       [1],\n       [1],\n       [1],\n       [1],\n       [1],\n       [1],\n       [1],\n       [1],\n       [1],\n       [1],\n       [1],\n       [1],\n       [1],\n       [1],\n       [1],\n       [1],\n       [1],\n       [1],\n       [1],\n       [1],\n       [1],\n       [1],\n       [1],\n       [1],\n       [1],\n       [1],\n       [1],\n       [1],\n       [1],\n       [1],\n       [1],\n       [1],\n       [1],\n       [1],\n       [1],\n       [1],\n       [1],\n       [1],\n       [1],\n       [1],\n       [1],\n       [1],\n       [1],\n       [1],\n       [1],\n       [1],\n       [1],\n       [1],\n       [1],\n       [1],\n       [1],\n       [1],\n       [1],\n       [1],\n       [1],\n       [1],\n       [1],\n       [1],\n       [1],\n       [1],\n       [1],\n       [1],\n       [1],\n       [1],\n       [1],\n       [1],\n       [1],\n       [1],\n       [1],\n       [1],\n       [1],\n       [1],\n       [1],\n       [1],\n       [1],\n       [1],\n       [1],\n       [1],\n       [1],\n       [1],\n       [1],\n       [1],\n       [1],\n       [1],\n       [1],\n       [1],\n       [1],\n       [1],\n       [1],\n       [1],\n       [1],\n       [1],\n       [1],\n       [1],\n       [1],\n       [1],\n       [1],\n       [1],\n       [1],\n       [1],\n       [1],\n       [1],\n       [1],\n       [1],\n       [1],\n       [1],\n       [1],\n       [1],\n       [1],\n       [1],\n       [1],\n       [1],\n       [1],\n       [1],\n       [1],\n       [1],\n       [1],\n       [1],\n       [1],\n       [1],\n       [1],\n       [1],\n       [1],\n       [1],\n       [1],\n       [1],\n       [1],\n       [1],\n       [1],\n       [1],\n       [1],\n       [1],\n       [1],\n       [1],\n       [1],\n       [1],\n       [1],\n       [1],\n       [1],\n       [1],\n       [1],\n       [1],\n       [1],\n       [1],\n       [1],\n       [1],\n       [1],\n       [1],\n       [1],\n       [1],\n       [1],\n       [1],\n       [1],\n       [1],\n       [1],\n       [1],\n       [1],\n       [1],\n       [1],\n       [1],\n       [1],\n       [1],\n       [1],\n       [1],\n       [1],\n       [1],\n       [1],\n       [1],\n       [1],\n       [1],\n       [1],\n       [1],\n       [1],\n       [1],\n       [1],\n       [1],\n       [1],\n       [1],\n       [1],\n       [1],\n       [1],\n       [1],\n       [1],\n       [1],\n       [1],\n       [1],\n       [1],\n       [1],\n       [1],\n       [1],\n       [1],\n       [1],\n       [1],\n       [1],\n       [1],\n       [1],\n       [1],\n       [1],\n       [1],\n       [1],\n       [1],\n       [1],\n       [1],\n       [1],\n       [1],\n       [1],\n       [1],\n       [1],\n       [1],\n       [1],\n       [1],\n       [1],\n       [1],\n       [1],\n       [1],\n       [1],\n       [1],\n       [1],\n       [1],\n       [1],\n       [1],\n       [1],\n       [1],\n       [1],\n       [1],\n       [1],\n       [1],\n       [1],\n       [1],\n       [1],\n       [1],\n       [1],\n       [1],\n       [1],\n       [1],\n       [1],\n       [1],\n       [1],\n       [1],\n       [1],\n       [1],\n       [1],\n       [1],\n       [1],\n       [1],\n       [1],\n       [1],\n       [1],\n       [1],\n       [1],\n       [1],\n       [1],\n       [1],\n       [1],\n       [1],\n       [1],\n       [1],\n       [1],\n       [1],\n       [1],\n       [1],\n       [1],\n       [1],\n       [1],\n       [1],\n       [1],\n       [1],\n       [1],\n       [1],\n       [1],\n       [1],\n       [1],\n       [1],\n       [1],\n       [1],\n       [1],\n       [1],\n       [1],\n       [1],\n       [1],\n       [1],\n       [1],\n       [1],\n       [1],\n       [1],\n       [1],\n       [1],\n       [1],\n       [1],\n       [1],\n       [1],\n       [1],\n       [1],\n       [1],\n       [1],\n       [1],\n       [1],\n       [1],\n       [1],\n       [1],\n       [1],\n       [1],\n       [1],\n       [1],\n       [1],\n       [1],\n       [1],\n       [1],\n       [1],\n       [1],\n       [1],\n       [1],\n       [1],\n       [1],\n       [1],\n       [1],\n       [1],\n       [1],\n       [1],\n       [1],\n       [1],\n       [1],\n       [1],\n       [1],\n       [1],\n       [1],\n       [1],\n       [1],\n       [1],\n       [1],\n       [1],\n       [1],\n       [1],\n       [1],\n       [1],\n       [1],\n       [1],\n       [1],\n       [1],\n       [1],\n       [1],\n       [1],\n       [1],\n       [1],\n       [1],\n       [1],\n       [1],\n       [1],\n       [1],\n       [1],\n       [1],\n       [1],\n       [1],\n       [1],\n       [1],\n       [1],\n       [1],\n       [1],\n       [1],\n       [1],\n       [1],\n       [1],\n       [1],\n       [1],\n       [1],\n       [1],\n       [1],\n       [1],\n       [1],\n       [1],\n       [1],\n       [1],\n       [1],\n       [1],\n       [1],\n       [1],\n       [1],\n       [1],\n       [1],\n       [1],\n       [1],\n       [1],\n       [1],\n       [1],\n       [1],\n       [1],\n       [1],\n       [1],\n       [1],\n       [1],\n       [1],\n       [1],\n       [1],\n       [1],\n       [1],\n       [1],\n       [1],\n       [1],\n       [1],\n       [1],\n       [1],\n       [1],\n       [1],\n       [1],\n       [1],\n       [1],\n       [1],\n       [1],\n       [1],\n       [1],\n       [1],\n       [1],\n       [1],\n       [1],\n       [1],\n       [1],\n       [1],\n       [1],\n       [1],\n       [1],\n       [1],\n       [1],\n       [1],\n       [1],\n       [1],\n       [1],\n       [1],\n       [1],\n       [1],\n       [1],\n       [1],\n       [1],\n       [1],\n       [1],\n       [1],\n       [1],\n       [1],\n       [1],\n       [1],\n       [1],\n       [1],\n       [1],\n       [1],\n       [1],\n       [1],\n       [1],\n       [1],\n       [1],\n       [1],\n       [1],\n       [1],\n       [1],\n       [1],\n       [1],\n       [1],\n       [1],\n       [1],\n       [1],\n       [1],\n       [1],\n       [1],\n       [1],\n       [1],\n       [1],\n       [1],\n       [1],\n       [1],\n       [1],\n       [1],\n       [1],\n       [1],\n       [1],\n       [1],\n       [1],\n       [1],\n       [1],\n       [1],\n       [1],\n       [1],\n       [1],\n       [1],\n       [1],\n       [1],\n       [1],\n       [1],\n       [1],\n       [1],\n       [1],\n       [1],\n       [1],\n       [1]], dtype=uint8)"
     },
     "execution_count": 5,
     "metadata": {},
     "output_type": "execute_result"
    }
   ],
   "source": [
    "y"
   ],
   "metadata": {
    "collapsed": false,
    "pycharm": {
     "name": "#%%\n"
    }
   }
  },
  {
   "cell_type": "code",
   "execution_count": 6,
   "outputs": [
    {
     "name": "stdout",
     "output_type": "stream",
     "text": [
      "The first element of X is:  [ 0.00000000e+00  0.00000000e+00  0.00000000e+00  0.00000000e+00\n",
      "  0.00000000e+00  0.00000000e+00  0.00000000e+00  0.00000000e+00\n",
      "  0.00000000e+00  0.00000000e+00  0.00000000e+00  0.00000000e+00\n",
      "  0.00000000e+00  0.00000000e+00  0.00000000e+00  0.00000000e+00\n",
      "  0.00000000e+00  0.00000000e+00  0.00000000e+00  0.00000000e+00\n",
      "  0.00000000e+00  0.00000000e+00  0.00000000e+00  0.00000000e+00\n",
      "  0.00000000e+00  0.00000000e+00  0.00000000e+00  0.00000000e+00\n",
      "  0.00000000e+00  0.00000000e+00  0.00000000e+00  0.00000000e+00\n",
      "  0.00000000e+00  0.00000000e+00  0.00000000e+00  0.00000000e+00\n",
      "  0.00000000e+00  0.00000000e+00  0.00000000e+00  0.00000000e+00\n",
      "  0.00000000e+00  0.00000000e+00  0.00000000e+00  0.00000000e+00\n",
      "  0.00000000e+00  0.00000000e+00  0.00000000e+00  0.00000000e+00\n",
      "  0.00000000e+00  0.00000000e+00  0.00000000e+00  0.00000000e+00\n",
      "  0.00000000e+00  0.00000000e+00  0.00000000e+00  0.00000000e+00\n",
      "  0.00000000e+00  0.00000000e+00  0.00000000e+00  0.00000000e+00\n",
      "  0.00000000e+00  0.00000000e+00  0.00000000e+00  0.00000000e+00\n",
      "  0.00000000e+00  0.00000000e+00  0.00000000e+00  8.56059680e-06\n",
      "  1.94035948e-06 -7.37438725e-04 -8.13403799e-03 -1.86104473e-02\n",
      " -1.87412865e-02 -1.87572508e-02 -1.90963542e-02 -1.64039011e-02\n",
      " -3.78191381e-03  3.30347316e-04  1.27655229e-05  0.00000000e+00\n",
      "  0.00000000e+00  0.00000000e+00  0.00000000e+00  0.00000000e+00\n",
      "  0.00000000e+00  0.00000000e+00  1.16421569e-04  1.20052179e-04\n",
      " -1.40444581e-02 -2.84542484e-02  8.03826593e-02  2.66540339e-01\n",
      "  2.73853746e-01  2.78729541e-01  2.74293607e-01  2.24676403e-01\n",
      "  2.77562977e-02 -7.06315478e-03  2.34715414e-04  0.00000000e+00\n",
      "  0.00000000e+00  0.00000000e+00  0.00000000e+00  0.00000000e+00\n",
      "  0.00000000e+00  1.28335523e-17 -3.26286765e-04 -1.38651604e-02\n",
      "  8.15651552e-02  3.82800381e-01  8.57849775e-01  1.00109761e+00\n",
      "  9.69710638e-01  9.30928598e-01  1.00383757e+00  9.64157356e-01\n",
      "  4.49256553e-01 -5.60408259e-03 -3.78319036e-03  0.00000000e+00\n",
      "  0.00000000e+00  0.00000000e+00  0.00000000e+00  5.10620915e-06\n",
      "  4.36410675e-04 -3.95509940e-03 -2.68537241e-02  1.00755014e-01\n",
      "  6.42031710e-01  1.03136838e+00  8.50968614e-01  5.43122379e-01\n",
      "  3.42599738e-01  2.68918777e-01  6.68374643e-01  1.01256958e+00\n",
      "  9.03795598e-01  1.04481574e-01 -1.66424973e-02  0.00000000e+00\n",
      "  0.00000000e+00  0.00000000e+00  0.00000000e+00  2.59875260e-05\n",
      " -3.10606987e-03  7.52456076e-03  1.77539831e-01  7.92890120e-01\n",
      "  9.65626503e-01  4.63166079e-01  6.91720680e-02 -3.64100526e-03\n",
      " -4.12180405e-02 -5.01900656e-02  1.56102907e-01  9.01762651e-01\n",
      "  1.04748346e+00  1.51055252e-01 -2.16044665e-02  0.00000000e+00\n",
      "  0.00000000e+00  0.00000000e+00  5.87012352e-05 -6.40931373e-04\n",
      " -3.23305249e-02  2.78203465e-01  9.36720163e-01  1.04320956e+00\n",
      "  5.98003217e-01 -3.59409041e-03 -2.16751770e-02 -4.81021923e-03\n",
      "  6.16566793e-05 -1.23773318e-02  1.55477482e-01  9.14867477e-01\n",
      "  9.20401348e-01  1.09173902e-01 -1.71058007e-02  0.00000000e+00\n",
      "  0.00000000e+00  1.56250000e-04 -4.27724104e-04 -2.51466503e-02\n",
      "  1.30532561e-01  7.81664862e-01  1.02836583e+00  7.57137601e-01\n",
      "  2.84667194e-01  4.86865128e-03 -3.18688725e-03  0.00000000e+00\n",
      "  8.36492601e-04 -3.70751123e-02  4.52644165e-01  1.03180133e+00\n",
      "  5.39028101e-01 -2.43742611e-03 -4.80290033e-03  0.00000000e+00\n",
      "  0.00000000e+00 -7.03635621e-04 -1.27262443e-02  1.61706648e-01\n",
      "  7.79865383e-01  1.03676705e+00  8.04490400e-01  1.60586724e-01\n",
      " -1.38173339e-02  2.14879493e-03 -2.12622549e-04  2.04248366e-04\n",
      " -6.85907627e-03  4.31712963e-04  7.20680947e-01  8.48136063e-01\n",
      "  1.51383408e-01 -2.28404366e-02  1.98971950e-04  0.00000000e+00\n",
      "  0.00000000e+00 -9.40410539e-03  3.74520505e-02  6.94389110e-01\n",
      "  1.02844844e+00  1.01648066e+00  8.80488426e-01  3.92123945e-01\n",
      " -1.74122413e-02 -1.20098039e-04  5.55215142e-05 -2.23907271e-03\n",
      " -2.76068376e-02  3.68645493e-01  9.36411169e-01  4.59006723e-01\n",
      " -4.24701797e-02  1.17356610e-03  1.88929739e-05  0.00000000e+00\n",
      "  0.00000000e+00 -1.93511951e-02  1.29999794e-01  9.79821705e-01\n",
      "  9.41862388e-01  7.75147704e-01  8.73632241e-01  2.12778350e-01\n",
      " -1.72353349e-02  0.00000000e+00  1.09937426e-03 -2.61793751e-02\n",
      "  1.22872879e-01  8.30812662e-01  7.26501773e-01  5.24441863e-02\n",
      " -6.18971913e-03  0.00000000e+00  0.00000000e+00  0.00000000e+00\n",
      "  0.00000000e+00 -9.36563862e-03  3.68349741e-02  6.99079299e-01\n",
      "  1.00293583e+00  6.05704402e-01  3.27299224e-01 -3.22099249e-02\n",
      " -4.83053002e-02 -4.34069138e-02 -5.75151144e-02  9.55674190e-02\n",
      "  7.26512627e-01  6.95366966e-01  1.47114481e-01 -1.20048679e-02\n",
      " -3.02798203e-04  0.00000000e+00  0.00000000e+00  0.00000000e+00\n",
      "  0.00000000e+00 -6.76572712e-04 -6.51415556e-03  1.17339359e-01\n",
      "  4.21948410e-01  9.93210937e-01  8.82013974e-01  7.45758734e-01\n",
      "  7.23874268e-01  7.23341725e-01  7.20020340e-01  8.45324959e-01\n",
      "  8.31859739e-01  6.88831870e-02 -2.77765012e-02  3.59136710e-04\n",
      "  7.14869281e-05  0.00000000e+00  0.00000000e+00  0.00000000e+00\n",
      "  0.00000000e+00  1.53186275e-04  3.17353553e-04 -2.29167177e-02\n",
      " -4.14402914e-03  3.87038450e-01  5.04583435e-01  7.74885876e-01\n",
      "  9.90037446e-01  1.00769478e+00  1.00851440e+00  7.37905042e-01\n",
      "  2.15455291e-01 -2.69624864e-02  1.32506127e-03  0.00000000e+00\n",
      "  0.00000000e+00  0.00000000e+00  0.00000000e+00  0.00000000e+00\n",
      "  0.00000000e+00  0.00000000e+00  0.00000000e+00  2.36366422e-04\n",
      " -2.26031454e-03 -2.51994485e-02 -3.73889910e-02  6.62121228e-02\n",
      "  2.91134498e-01  3.23055726e-01  3.06260315e-01  8.76070942e-02\n",
      " -2.50581917e-02  2.37438725e-04  0.00000000e+00  0.00000000e+00\n",
      "  0.00000000e+00  0.00000000e+00  0.00000000e+00  0.00000000e+00\n",
      "  0.00000000e+00  0.00000000e+00  0.00000000e+00  0.00000000e+00\n",
      "  0.00000000e+00  6.20939216e-18  6.72618320e-04 -1.13151411e-02\n",
      " -3.54641066e-02 -3.88214912e-02 -3.71077412e-02 -1.33524928e-02\n",
      "  9.90964718e-04  4.89176960e-05  0.00000000e+00  0.00000000e+00\n",
      "  0.00000000e+00  0.00000000e+00  0.00000000e+00  0.00000000e+00\n",
      "  0.00000000e+00  0.00000000e+00  0.00000000e+00  0.00000000e+00\n",
      "  0.00000000e+00  0.00000000e+00  0.00000000e+00  0.00000000e+00\n",
      "  0.00000000e+00  0.00000000e+00  0.00000000e+00  0.00000000e+00\n",
      "  0.00000000e+00  0.00000000e+00  0.00000000e+00  0.00000000e+00\n",
      "  0.00000000e+00  0.00000000e+00  0.00000000e+00  0.00000000e+00\n",
      "  0.00000000e+00  0.00000000e+00  0.00000000e+00  0.00000000e+00\n",
      "  0.00000000e+00  0.00000000e+00  0.00000000e+00  0.00000000e+00\n",
      "  0.00000000e+00  0.00000000e+00  0.00000000e+00  0.00000000e+00\n",
      "  0.00000000e+00  0.00000000e+00  0.00000000e+00  0.00000000e+00\n",
      "  0.00000000e+00  0.00000000e+00  0.00000000e+00  0.00000000e+00]\n"
     ]
    }
   ],
   "source": [
    "print('The first element of X is: ', X[0])"
   ],
   "metadata": {
    "collapsed": false,
    "pycharm": {
     "name": "#%%\n"
    }
   }
  },
  {
   "cell_type": "markdown",
   "source": [
    "# 3. 데이터 이미지"
   ],
   "metadata": {
    "collapsed": false,
    "pycharm": {
     "name": "#%% md\n"
    }
   }
  },
  {
   "cell_type": "code",
   "execution_count": 9,
   "outputs": [
    {
     "data": {
      "text/plain": "<Figure size 432x288 with 1 Axes>",
      "image/png": "[encoded data removed]"
     },
     "metadata": {
      "needs_background": "light"
     },
     "output_type": "display_data"
    }
   ],
   "source": [
    "pixels = X[999].reshape((20, 20)).T\n",
    "plt.imshow(pixels, cmap='gray')\n",
    "plt.show()"
   ],
   "metadata": {
    "collapsed": false,
    "pycharm": {
     "name": "#%%\n"
    }
   }
  },
  {
   "cell_type": "code",
   "execution_count": 6,
   "outputs": [
    {
     "data": {
      "text/plain": "<matplotlib.image.AxesImage at 0x216384c4700>"
     },
     "execution_count": 6,
     "metadata": {},
     "output_type": "execute_result"
    },
    {
     "data": {
      "text/plain": "<Figure size 432x288 with 1 Axes>",
      "image/png": "[encoded data removed]"
     },
     "metadata": {
      "needs_background": "light"
     },
     "output_type": "display_data"
    }
   ],
   "source": [
    "plt.imshow(X[999].reshape((20,20)).T, cmap='gray')"
   ],
   "metadata": {
    "collapsed": false,
    "pycharm": {
     "name": "#%%\n"
    }
   }
  },
  {
   "cell_type": "code",
   "execution_count": 9,
   "outputs": [
    {
     "name": "stdout",
     "output_type": "stream",
     "text": [
      "y의 첫 번째 원소 :  0\n",
      "y의 마지막 원소 :  1\n",
      "X의 shape은 : (1000, 400)\n",
      "y의 shape은 : (1000, 1)\n"
     ]
    }
   ],
   "source": [
    "print ('y의 첫 번째 원소 : ', y[0,0])\n",
    "print ('y의 마지막 원소 : ', y[-1,0])\n",
    "print ('X의 shape은 : ' + str(X.shape))\n",
    "print ('y의 shape은 : ' + str(y.shape))"
   ],
   "metadata": {
    "collapsed": false,
    "pycharm": {
     "name": "#%%\n"
    }
   }
  },
  {
   "cell_type": "code",
   "execution_count": 10,
   "outputs": [
    {
     "data": {
      "text/plain": "<Figure size 576x576 with 64 Axes>",
      "image/png": "[encoded data removed]"
     },
     "metadata": {
      "needs_background": "light"
     },
     "output_type": "display_data"
    }
   ],
   "source": [
    "m, n = X.shape\n",
    "\n",
    "fig, axes = plt.subplots(8,8, figsize=(8,8))\n",
    "fig.tight_layout(pad=0.1)\n",
    "\n",
    "for i,ax in enumerate(axes.flat):\n",
    "    # 랜덤 인덱스 생성\n",
    "    random_index = np.random.randint(m)\n",
    "\n",
    "    # 랜덤하게 한 행을 선택하고, 20x20으로 reshape\n",
    "    X_random_reshaped = X[random_index].reshape((20,20)).T\n",
    "\n",
    "    # 이미지 출력\n",
    "    ax.imshow(X_random_reshaped, cmap='gray')\n",
    "\n",
    "    # 이미지 상단에 레이블 추가 및 축 비활성화\n",
    "    ax.set_title(y[random_index,0])\n",
    "    ax.set_axis_off()"
   ],
   "metadata": {
    "collapsed": false,
    "pycharm": {
     "name": "#%%\n"
    }
   }
  },
  {
   "cell_type": "markdown",
   "source": [
    "# 4. 케라스로 예측모델 구축"
   ],
   "metadata": {
    "collapsed": false,
    "pycharm": {
     "name": "#%% md\n"
    }
   }
  },
  {
   "cell_type": "markdown",
   "source": [
    "## 4.1 모델 생성"
   ],
   "metadata": {
    "collapsed": false,
    "pycharm": {
     "name": "#%% md\n"
    }
   }
  },
  {
   "cell_type": "code",
   "execution_count": 10,
   "outputs": [
    {
     "name": "stdout",
     "output_type": "stream",
     "text": [
      "Model: \"my_model\"\n",
      "_________________________________________________________________\n",
      " Layer (type)                Output Shape              Param #   \n",
      "=================================================================\n",
      " dense (Dense)               (None, 25)                10025     \n",
      "                                                                 \n",
      " dense_1 (Dense)             (None, 15)                390       \n",
      "                                                                 \n",
      " dense_2 (Dense)             (None, 1)                 16        \n",
      "                                                                 \n",
      "=================================================================\n",
      "Total params: 10,431\n",
      "Trainable params: 10,431\n",
      "Non-trainable params: 0\n",
      "_________________________________________________________________\n"
     ]
    }
   ],
   "source": [
    "model = Sequential(\n",
    "    [\n",
    "        tf.keras.Input(shape=(400,)),    # 인풋 사이즈 지정(픽셀 수)\n",
    "        Dense(25, activation='sigmoid'),  # 25개 유닛(뉴런), 커널 초기화함수 디폴트는 글로럿(시그모이드의 경우)\n",
    "        Dense(15, activation='sigmoid'),  # 15개 유닛\n",
    "        Dense(1,  activation='sigmoid'),  # 1개 유닛(출력)\n",
    "    ], name = \"my_model\"\n",
    ")\n",
    "\n",
    "model.summary()"
   ],
   "metadata": {
    "collapsed": false,
    "pycharm": {
     "name": "#%%\n"
    }
   }
  },
  {
   "cell_type": "markdown",
   "source": [
    "## 4.2 파라미터 갯수"
   ],
   "metadata": {
    "collapsed": false,
    "pycharm": {
     "name": "#%% md\n"
    }
   }
  },
  {
   "cell_type": "code",
   "execution_count": 11,
   "outputs": [
    {
     "name": "stdout",
     "output_type": "stream",
     "text": [
      "L1 params =  10025 , L2 params =  390 ,  L3 params =  16\n"
     ]
    }
   ],
   "source": [
    "L1_num_params = 400 * 25 + 25  # 가중치 W1 파라미터 + 편향 b1 파라미터\n",
    "L2_num_params = 25 * 15 + 15   # W2 파라미터  + b2 파라미터\n",
    "L3_num_params = 15 * 1 + 1     # W3 파라미터  + b3 파라미터\n",
    "print(\"L1 params = \", L1_num_params, \", L2 params = \", L2_num_params, \",  L3 params = \", L3_num_params )"
   ],
   "metadata": {
    "collapsed": false,
    "pycharm": {
     "name": "#%%\n"
    }
   }
  },
  {
   "cell_type": "markdown",
   "source": [
    "## 4.3 초기화된 가중치"
   ],
   "metadata": {
    "collapsed": false,
    "pycharm": {
     "name": "#%% md\n"
    }
   }
  },
  {
   "cell_type": "code",
   "execution_count": 12,
   "outputs": [
    {
     "name": "stdout",
     "output_type": "stream",
     "text": [
      "W1 shape = (400, 25), b1 shape = (25,)\n",
      "W2 shape = (25, 15), b2 shape = (15,)\n",
      "W3 shape = (15, 1), b3 shape = (1,)\n"
     ]
    }
   ],
   "source": [
    "[layer1, layer2, layer3] = model.layers\n",
    "\n",
    "W1,b1 = layer1.get_weights()\n",
    "W2,b2 = layer2.get_weights()\n",
    "W3,b3 = layer3.get_weights()\n",
    "print(f\"W1 shape = {W1.shape}, b1 shape = {b1.shape}\")\n",
    "print(f\"W2 shape = {W2.shape}, b2 shape = {b2.shape}\")\n",
    "print(f\"W3 shape = {W3.shape}, b3 shape = {b3.shape}\")"
   ],
   "metadata": {
    "collapsed": false,
    "pycharm": {
     "name": "#%%\n"
    }
   }
  },
  {
   "cell_type": "code",
   "execution_count": 13,
   "outputs": [
    {
     "name": "stdout",
     "output_type": "stream",
     "text": [
      "[<tf.Variable 'dense_2/kernel:0' shape=(15, 1) dtype=float32, numpy=\n",
      "array([[ 0.19288492],\n",
      "       [ 0.5722324 ],\n",
      "       [ 0.2077452 ],\n",
      "       [ 0.42918414],\n",
      "       [ 0.19124037],\n",
      "       [-0.44742405],\n",
      "       [ 0.33564413],\n",
      "       [ 0.5535173 ],\n",
      "       [ 0.09066468],\n",
      "       [-0.01024389],\n",
      "       [ 0.15878451],\n",
      "       [ 0.00250876],\n",
      "       [ 0.5251797 ],\n",
      "       [ 0.09586042],\n",
      "       [-0.46533445]], dtype=float32)>, <tf.Variable 'dense_2/bias:0' shape=(1,) dtype=float32, numpy=array([0.], dtype=float32)>]\n"
     ]
    }
   ],
   "source": [
    "print(model.layers[2].weights)"
   ],
   "metadata": {
    "collapsed": false,
    "pycharm": {
     "name": "#%%\n"
    }
   }
  },
  {
   "cell_type": "markdown",
   "source": [
    "## 4.4 모델 컴파일 및 학습"
   ],
   "metadata": {
    "collapsed": false,
    "pycharm": {
     "name": "#%% md\n"
    }
   }
  },
  {
   "cell_type": "code",
   "execution_count": 14,
   "outputs": [
    {
     "name": "stdout",
     "output_type": "stream",
     "text": [
      "Epoch 1/20\n",
      "32/32 [==============================] - 6s 3ms/step - loss: 0.8319\n",
      "Epoch 2/20\n",
      "32/32 [==============================] - 0s 3ms/step - loss: 0.6378\n",
      "Epoch 3/20\n",
      "32/32 [==============================] - 0s 3ms/step - loss: 0.5238\n",
      "Epoch 4/20\n",
      "32/32 [==============================] - 0s 4ms/step - loss: 0.4157\n",
      "Epoch 5/20\n",
      "32/32 [==============================] - 0s 4ms/step - loss: 0.3255\n",
      "Epoch 6/20\n",
      "32/32 [==============================] - 0s 5ms/step - loss: 0.2597\n",
      "Epoch 7/20\n",
      "32/32 [==============================] - 0s 4ms/step - loss: 0.2134\n",
      "Epoch 8/20\n",
      "32/32 [==============================] - 0s 5ms/step - loss: 0.1800\n",
      "Epoch 9/20\n",
      "32/32 [==============================] - 0s 4ms/step - loss: 0.1547\n",
      "Epoch 10/20\n",
      "32/32 [==============================] - 0s 3ms/step - loss: 0.1349\n",
      "Epoch 11/20\n",
      "32/32 [==============================] - 0s 4ms/step - loss: 0.1191\n",
      "Epoch 12/20\n",
      "32/32 [==============================] - 0s 4ms/step - loss: 0.1061\n",
      "Epoch 13/20\n",
      "32/32 [==============================] - 0s 3ms/step - loss: 0.0953\n",
      "Epoch 14/20\n",
      "32/32 [==============================] - 0s 3ms/step - loss: 0.0862\n",
      "Epoch 15/20\n",
      "32/32 [==============================] - 0s 4ms/step - loss: 0.0783\n",
      "Epoch 16/20\n",
      "32/32 [==============================] - 0s 4ms/step - loss: 0.0717\n",
      "Epoch 17/20\n",
      "32/32 [==============================] - 0s 3ms/step - loss: 0.0660\n",
      "Epoch 18/20\n",
      "32/32 [==============================] - 0s 3ms/step - loss: 0.0610\n",
      "Epoch 19/20\n",
      "32/32 [==============================] - 0s 3ms/step - loss: 0.0566\n",
      "Epoch 20/20\n",
      "32/32 [==============================] - 0s 3ms/step - loss: 0.0528\n"
     ]
    },
    {
     "data": {
      "text/plain": "<keras.callbacks.History at 0x2163ac49670>"
     },
     "execution_count": 14,
     "metadata": {},
     "output_type": "execute_result"
    }
   ],
   "source": [
    "model.compile(\n",
    "    loss=tf.keras.losses.BinaryCrossentropy(),\n",
    "    optimizer=tf.keras.optimizers.Adam(0.001),\n",
    ")\n",
    "\n",
    "model.fit(\n",
    "    X,y,\n",
    "    epochs=20  # 20에포크만 실행\n",
    ")"
   ],
   "metadata": {
    "collapsed": false,
    "pycharm": {
     "name": "#%%\n"
    }
   }
  },
  {
   "cell_type": "markdown",
   "source": [
    "## 4.5 학습결과 확인"
   ],
   "metadata": {
    "collapsed": false,
    "pycharm": {
     "name": "#%% md\n"
    }
   }
  },
  {
   "cell_type": "code",
   "execution_count": 15,
   "outputs": [
    {
     "name": "stdout",
     "output_type": "stream",
     "text": [
      "1/1 [==============================] - 0s 250ms/step\n",
      " predicting a zero: [[0.06696872]]\n",
      "1/1 [==============================] - 0s 36ms/step\n",
      " predicting a one:  [[0.97688645]]\n"
     ]
    }
   ],
   "source": [
    "prediction = model.predict(X[0].reshape(1,400))  # 0의 이미지\n",
    "print(f\" predicting a zero: {prediction}\")\n",
    "prediction = model.predict(X[500].reshape(1,400))  # 1의 이미지\n",
    "print(f\" predicting a one:  {prediction}\")"
   ],
   "metadata": {
    "collapsed": false,
    "pycharm": {
     "name": "#%%\n"
    }
   }
  },
  {
   "cell_type": "markdown",
   "source": [
    "## 4.6 임계값 지정(0.5)"
   ],
   "metadata": {
    "collapsed": false,
    "pycharm": {
     "name": "#%% md\n"
    }
   }
  },
  {
   "cell_type": "code",
   "execution_count": 17,
   "outputs": [
    {
     "name": "stdout",
     "output_type": "stream",
     "text": [
      "prediction after threshold: 1\n"
     ]
    }
   ],
   "source": [
    "if prediction >= 0.5:\n",
    "    yhat = 1\n",
    "else:\n",
    "    yhat = 0\n",
    "print(f\"prediction after threshold: {yhat}\")"
   ],
   "metadata": {
    "collapsed": false,
    "pycharm": {
     "name": "#%%\n"
    }
   }
  },
  {
   "cell_type": "markdown",
   "source": [
    "# 5. 케라스 이진분류모델의 추론결과 시각화"
   ],
   "metadata": {
    "collapsed": false,
    "pycharm": {
     "name": "#%% md\n"
    }
   }
  },
  {
   "cell_type": "code",
   "execution_count": 18,
   "outputs": [
    {
     "name": "stdout",
     "output_type": "stream",
     "text": [
      "1/1 [==============================] - 0s 17ms/step\n",
      "1/1 [==============================] - 0s 17ms/step\n",
      "1/1 [==============================] - 0s 23ms/step\n",
      "1/1 [==============================] - 0s 17ms/step\n",
      "1/1 [==============================] - 0s 18ms/step\n",
      "1/1 [==============================] - 0s 16ms/step\n",
      "1/1 [==============================] - 0s 17ms/step\n",
      "1/1 [==============================] - 0s 20ms/step\n",
      "1/1 [==============================] - 0s 19ms/step\n",
      "1/1 [==============================] - 0s 22ms/step\n",
      "1/1 [==============================] - 0s 21ms/step\n",
      "1/1 [==============================] - 0s 22ms/step\n",
      "1/1 [==============================] - 0s 20ms/step\n",
      "1/1 [==============================] - 0s 17ms/step\n",
      "1/1 [==============================] - 0s 19ms/step\n",
      "1/1 [==============================] - 0s 23ms/step\n",
      "1/1 [==============================] - 0s 21ms/step\n",
      "1/1 [==============================] - 0s 20ms/step\n",
      "1/1 [==============================] - 0s 19ms/step\n",
      "1/1 [==============================] - 0s 20ms/step\n",
      "1/1 [==============================] - 0s 21ms/step\n",
      "1/1 [==============================] - 0s 22ms/step\n",
      "1/1 [==============================] - 0s 20ms/step\n",
      "1/1 [==============================] - 0s 17ms/step\n",
      "1/1 [==============================] - 0s 18ms/step\n",
      "1/1 [==============================] - 0s 17ms/step\n",
      "1/1 [==============================] - 0s 16ms/step\n",
      "1/1 [==============================] - 0s 17ms/step\n",
      "1/1 [==============================] - 0s 19ms/step\n",
      "1/1 [==============================] - 0s 18ms/step\n",
      "1/1 [==============================] - 0s 16ms/step\n",
      "1/1 [==============================] - 0s 16ms/step\n",
      "1/1 [==============================] - 0s 17ms/step\n",
      "1/1 [==============================] - 0s 17ms/step\n",
      "1/1 [==============================] - 0s 17ms/step\n",
      "1/1 [==============================] - 0s 22ms/step\n",
      "1/1 [==============================] - 0s 19ms/step\n",
      "1/1 [==============================] - 0s 16ms/step\n",
      "1/1 [==============================] - 0s 17ms/step\n",
      "1/1 [==============================] - 0s 19ms/step\n",
      "1/1 [==============================] - 0s 19ms/step\n",
      "1/1 [==============================] - 0s 18ms/step\n",
      "1/1 [==============================] - 0s 20ms/step\n",
      "1/1 [==============================] - 0s 17ms/step\n",
      "1/1 [==============================] - 0s 18ms/step\n",
      "1/1 [==============================] - 0s 19ms/step\n",
      "1/1 [==============================] - 0s 20ms/step\n",
      "1/1 [==============================] - 0s 19ms/step\n",
      "1/1 [==============================] - 0s 18ms/step\n",
      "1/1 [==============================] - 0s 17ms/step\n",
      "1/1 [==============================] - 0s 18ms/step\n",
      "1/1 [==============================] - 0s 17ms/step\n",
      "1/1 [==============================] - 0s 16ms/step\n",
      "1/1 [==============================] - 0s 18ms/step\n",
      "1/1 [==============================] - 0s 17ms/step\n",
      "1/1 [==============================] - 0s 17ms/step\n",
      "1/1 [==============================] - 0s 18ms/step\n",
      "1/1 [==============================] - 0s 17ms/step\n",
      "1/1 [==============================] - 0s 17ms/step\n",
      "1/1 [==============================] - 0s 17ms/step\n",
      "1/1 [==============================] - 0s 21ms/step\n",
      "1/1 [==============================] - 0s 23ms/step\n",
      "1/1 [==============================] - 0s 19ms/step\n",
      "1/1 [==============================] - 0s 21ms/step\n"
     ]
    },
    {
     "data": {
      "text/plain": "<Figure size 576x576 with 64 Axes>",
      "image/png": "[encoded data removed]"
     },
     "metadata": {
      "needs_background": "light"
     },
     "output_type": "display_data"
    }
   ],
   "source": [
    "m, n = X.shape\n",
    "\n",
    "fig, axes = plt.subplots(8,8, figsize=(8,8))\n",
    "fig.tight_layout(pad=0.1,rect=[0, 0.03, 1, 0.92])  # rect: 각각 좌, 하, 우, 상\n",
    "\n",
    "for i,ax in enumerate(axes.flat):\n",
    "    # m개의 랜덤인덱스 생성\n",
    "    random_index = np.random.randint(m)\n",
    "\n",
    "    # 랜덤인덱스 행의 모든 열 값을 가져다가 재배열\n",
    "    X_random_reshaped = X[random_index].reshape((20,20)).T\n",
    "\n",
    "    # 이미지 출력\n",
    "    ax.imshow(X_random_reshaped, cmap='gray')\n",
    "\n",
    "    # 케라스모델 예측\n",
    "    prediction = model.predict(X[random_index].reshape(1,400))\n",
    "    if prediction >= 0.5:\n",
    "        yhat = 1\n",
    "    else:\n",
    "        yhat = 0\n",
    "\n",
    "    # 참값, 예측값 레이블 추가\n",
    "    ax.set_title(f\"{y[random_index,0]},{yhat}\")\n",
    "    ax.set_axis_off()\n",
    "\n",
    "fig.suptitle(\"Label, yhat\", fontsize=16)\n",
    "plt.show()"
   ],
   "metadata": {
    "collapsed": false,
    "pycharm": {
     "name": "#%%\n"
    }
   }
  },
  {
   "cell_type": "markdown",
   "source": [
    "# 6. 넘파이로 직접 코딩해본다면?"
   ],
   "metadata": {
    "collapsed": false,
    "pycharm": {
     "name": "#%% md\n"
    }
   }
  },
  {
   "cell_type": "markdown",
   "source": [
    "## 6.1 밀집층(dense layer) 모사"
   ],
   "metadata": {
    "collapsed": false,
    "pycharm": {
     "name": "#%% md\n"
    }
   }
  },
  {
   "cell_type": "code",
   "execution_count": 19,
   "outputs": [],
   "source": [
    "def my_dense(a_in, W, b, g):\n",
    "    \"\"\"\n",
    "    Computes dense layer\n",
    "    Args:\n",
    "      a_in (ndarray (n, )) : Data, 1 example\n",
    "      W    (ndarray (n,j)) : Weight matrix, n features per unit, j units\n",
    "      b    (ndarray (j, )) : bias vector, j units\n",
    "      g    activation function (e.g. sigmoid, relu..)\n",
    "    Returns\n",
    "      a_out (ndarray (j,))  : j units\n",
    "    \"\"\"\n",
    "    units = W.shape[1]\n",
    "    a_out = np.zeros(units)\n",
    "    for j in range(units):\n",
    "        w = W[:,j]\n",
    "        z = np.dot(w, a_in) + b[j]\n",
    "        a_out[j] = g(z)\n",
    "    return a_out"
   ],
   "metadata": {
    "collapsed": false,
    "pycharm": {
     "name": "#%%\n"
    }
   }
  },
  {
   "cell_type": "markdown",
   "source": [
    "## 6.2 활성화함수 sigmoid"
   ],
   "metadata": {
    "collapsed": false,
    "pycharm": {
     "name": "#%% md\n"
    }
   }
  },
  {
   "cell_type": "code",
   "execution_count": 20,
   "outputs": [],
   "source": [
    "def sigmoid(x):\n",
    "    return 1. / (1. + np.exp(-x))"
   ],
   "metadata": {
    "collapsed": false,
    "pycharm": {
     "name": "#%%\n"
    }
   }
  },
  {
   "cell_type": "markdown",
   "source": [
    "## 6.3 간단한 계산결과(참고)"
   ],
   "metadata": {
    "collapsed": false,
    "pycharm": {
     "name": "#%% md\n"
    }
   }
  },
  {
   "cell_type": "code",
   "execution_count": 21,
   "outputs": [
    {
     "name": "stdout",
     "output_type": "stream",
     "text": [
      "[0.1 0.2]\n",
      "[[0.1 0.2 0.3]\n",
      " [0.4 0.5 0.6]]\n",
      "[0.1 0.2 0.3]\n",
      "[0.54735762 0.57932425 0.61063923]\n"
     ]
    }
   ],
   "source": [
    "x_tst = 0.1*np.arange(1,3,1).reshape(2,)  # (1 examples, 2 features)\n",
    "W_tst = 0.1*np.arange(1,7,1).reshape(2,3) # (2 input features, 3 output features)\n",
    "b_tst = 0.1*np.arange(1,4,1).reshape(3,)  # (3 features)\n",
    "A_tst = my_dense(x_tst, W_tst, b_tst, sigmoid)\n",
    "print(x_tst)\n",
    "print(W_tst)\n",
    "print(b_tst)\n",
    "print(A_tst)"
   ],
   "metadata": {
    "collapsed": false,
    "pycharm": {
     "name": "#%%\n"
    }
   }
  },
  {
   "cell_type": "markdown",
   "source": [
    "## 6.4 Sequential 클래스 모사"
   ],
   "metadata": {
    "collapsed": false,
    "pycharm": {
     "name": "#%% md\n"
    }
   }
  },
  {
   "cell_type": "code",
   "execution_count": 22,
   "outputs": [],
   "source": [
    "def my_sequential(x, W1, b1, W2, b2, W3, b3):\n",
    "    a1 = my_dense(x,  W1, b1, sigmoid)\n",
    "    a2 = my_dense(a1, W2, b2, sigmoid)\n",
    "    a3 = my_dense(a2, W3, b3, sigmoid)\n",
    "    return(a3)"
   ],
   "metadata": {
    "collapsed": false,
    "pycharm": {
     "name": "#%%\n"
    }
   }
  },
  {
   "cell_type": "markdown",
   "source": [
    "## 6.5 위에서 학습한 가중치 가져오기"
   ],
   "metadata": {
    "collapsed": false,
    "pycharm": {
     "name": "#%% md\n"
    }
   }
  },
  {
   "cell_type": "code",
   "execution_count": 23,
   "outputs": [],
   "source": [
    "W1_tmp,b1_tmp = layer1.get_weights()\n",
    "W2_tmp,b2_tmp = layer2.get_weights()\n",
    "W3_tmp,b3_tmp = layer3.get_weights()"
   ],
   "metadata": {
    "collapsed": false,
    "pycharm": {
     "name": "#%%\n"
    }
   }
  },
  {
   "cell_type": "markdown",
   "source": [
    "## 6.6 모사한 넘파이 모델로 예측해보기"
   ],
   "metadata": {
    "collapsed": false,
    "pycharm": {
     "name": "#%% md\n"
    }
   }
  },
  {
   "cell_type": "code",
   "execution_count": 24,
   "outputs": [
    {
     "name": "stdout",
     "output_type": "stream",
     "text": [
      "prediction =  [0.0178234]\n",
      "yhat =  0  label=  0\n",
      "prediction =  [0.98854758]\n",
      "yhat =  1  label=  1\n"
     ]
    }
   ],
   "source": [
    "# make predictions\n",
    "prediction = my_sequential(X[0], W1_tmp, b1_tmp, W2_tmp, b2_tmp, W3_tmp, b3_tmp )\n",
    "print(\"prediction = \", prediction)\n",
    "if prediction >= 0.5:\n",
    "    yhat = 1\n",
    "else:\n",
    "    yhat = 0\n",
    "print( \"yhat = \", yhat, \" label= \", y[0,0])\n",
    "prediction = my_sequential(X[500], W1_tmp, b1_tmp, W2_tmp, b2_tmp, W3_tmp, b3_tmp )\n",
    "print(\"prediction = \", prediction)\n",
    "if prediction >= 0.5:\n",
    "    yhat = 1\n",
    "else:\n",
    "    yhat = 0\n",
    "print( \"yhat = \", yhat, \" label= \", y[500,0])"
   ],
   "metadata": {
    "collapsed": false,
    "pycharm": {
     "name": "#%%\n"
    }
   }
  },
  {
   "cell_type": "code",
   "execution_count": 25,
   "outputs": [
    {
     "name": "stdout",
     "output_type": "stream",
     "text": [
      "1/1 [==============================] - 0s 16ms/step\n",
      "1/1 [==============================] - 0s 29ms/step\n",
      "1/1 [==============================] - 0s 23ms/step\n",
      "1/1 [==============================] - 0s 16ms/step\n",
      "1/1 [==============================] - 0s 17ms/step\n",
      "1/1 [==============================] - 0s 32ms/step\n",
      "1/1 [==============================] - 0s 16ms/step\n",
      "1/1 [==============================] - 0s 16ms/step\n",
      "1/1 [==============================] - 0s 16ms/step\n",
      "1/1 [==============================] - 0s 16ms/step\n",
      "1/1 [==============================] - 0s 33ms/step\n",
      "1/1 [==============================] - 0s 16ms/step\n",
      "1/1 [==============================] - 0s 16ms/step\n",
      "1/1 [==============================] - 0s 16ms/step\n",
      "1/1 [==============================] - 0s 20ms/step\n",
      "1/1 [==============================] - 0s 25ms/step\n",
      "1/1 [==============================] - 0s 30ms/step\n",
      "1/1 [==============================] - 0s 17ms/step\n",
      "1/1 [==============================] - 0s 16ms/step\n",
      "1/1 [==============================] - 0s 16ms/step\n",
      "1/1 [==============================] - 0s 15ms/step\n",
      "1/1 [==============================] - 0s 34ms/step\n",
      "1/1 [==============================] - 0s 17ms/step\n",
      "1/1 [==============================] - 0s 19ms/step\n",
      "1/1 [==============================] - 0s 18ms/step\n",
      "1/1 [==============================] - 0s 18ms/step\n",
      "1/1 [==============================] - 0s 18ms/step\n",
      "1/1 [==============================] - 0s 17ms/step\n",
      "1/1 [==============================] - 0s 19ms/step\n",
      "1/1 [==============================] - 0s 19ms/step\n",
      "1/1 [==============================] - 0s 20ms/step\n",
      "1/1 [==============================] - 0s 16ms/step\n",
      "1/1 [==============================] - 0s 17ms/step\n",
      "1/1 [==============================] - 0s 20ms/step\n",
      "1/1 [==============================] - 0s 19ms/step\n",
      "1/1 [==============================] - 0s 19ms/step\n",
      "1/1 [==============================] - 0s 18ms/step\n",
      "1/1 [==============================] - 0s 20ms/step\n",
      "1/1 [==============================] - 0s 19ms/step\n",
      "1/1 [==============================] - 0s 17ms/step\n",
      "1/1 [==============================] - 0s 19ms/step\n",
      "1/1 [==============================] - 0s 19ms/step\n",
      "1/1 [==============================] - 0s 19ms/step\n",
      "1/1 [==============================] - 0s 20ms/step\n",
      "1/1 [==============================] - 0s 19ms/step\n",
      "1/1 [==============================] - 0s 17ms/step\n",
      "1/1 [==============================] - 0s 16ms/step\n",
      "1/1 [==============================] - 0s 18ms/step\n",
      "1/1 [==============================] - 0s 19ms/step\n",
      "1/1 [==============================] - 0s 18ms/step\n",
      "1/1 [==============================] - 0s 18ms/step\n",
      "1/1 [==============================] - 0s 18ms/step\n",
      "1/1 [==============================] - 0s 19ms/step\n",
      "1/1 [==============================] - 0s 16ms/step\n",
      "1/1 [==============================] - 0s 17ms/step\n",
      "1/1 [==============================] - 0s 17ms/step\n",
      "1/1 [==============================] - 0s 17ms/step\n",
      "1/1 [==============================] - 0s 17ms/step\n",
      "1/1 [==============================] - 0s 17ms/step\n",
      "1/1 [==============================] - 0s 16ms/step\n",
      "1/1 [==============================] - 0s 20ms/step\n",
      "1/1 [==============================] - 0s 20ms/step\n",
      "1/1 [==============================] - 0s 18ms/step\n",
      "1/1 [==============================] - 0s 17ms/step\n"
     ]
    },
    {
     "data": {
      "text/plain": "<Figure size 576x576 with 64 Axes>",
      "image/png": "[encoded data removed]"
     },
     "metadata": {
      "needs_background": "light"
     },
     "output_type": "display_data"
    }
   ],
   "source": [
    "m, n = X.shape\n",
    "\n",
    "fig, axes = plt.subplots(8,8, figsize=(8,8))\n",
    "fig.tight_layout(pad=0.1,rect=[0, 0.03, 1, 0.92])  # 각각 좌 하 우 상 순서\n",
    "\n",
    "for i,ax in enumerate(axes.flat):\n",
    "    # m개의 랜덤한 정수배열 생성\n",
    "    random_index = np.random.randint(m)\n",
    "\n",
    "    # 샘플 하나를 골라서 20x20 행렬로 만들기\n",
    "    X_random_reshaped = X[random_index].reshape((20,20)).T\n",
    "\n",
    "    # 이미지 출력\n",
    "    ax.imshow(X_random_reshaped, cmap='gray')\n",
    "\n",
    "    # 넘파이모델 예측 실행 및 예측값 저장\n",
    "    my_prediction = my_sequential(X[random_index], W1_tmp, b1_tmp, W2_tmp, b2_tmp, W3_tmp, b3_tmp )\n",
    "    my_yhat = int(my_prediction >= 0.5)\n",
    "\n",
    "    # 케라스모델 예측 실행 및 예측값 저장\n",
    "    tf_prediction = model.predict(X[random_index].reshape(1,400))\n",
    "    tf_yhat = int(tf_prediction >= 0.5)\n",
    "\n",
    "    # 이미지 상단에 두 개의 예측값 출력\n",
    "    ax.set_title(f\"{y[random_index,0]},{tf_yhat},{my_yhat}\")\n",
    "    ax.set_axis_off()\n",
    "\n",
    "fig.suptitle(\"Label, yhat Tensorflow, yhat Numpy\", fontsize=16)\n",
    "plt.show()"
   ],
   "metadata": {
    "collapsed": false,
    "pycharm": {
     "name": "#%%\n"
    }
   }
  },
  {
   "cell_type": "markdown",
   "source": [
    "# 7. [응용] K-Food 이미지 분류 모델 구축"
   ],
   "metadata": {
    "collapsed": false,
    "pycharm": {
     "name": "#%% md\n"
    }
   }
  },
  {
   "cell_type": "markdown",
   "source": [
    "딥러닝 기술을 이용하여 강아지 종 분류, 꽃 종류 분류, 자동차 분류, 사물 구분 등 다양한 사례를 생각해 볼 수 있습니다. 코딩 유튜버 조코딩 님의 \"동물상테스트\" 한 번씩 다들 해 보지 않으셨나요?"
   ],
   "metadata": {
    "collapsed": false,
    "pycharm": {
     "name": "#%% md\n"
    }
   }
  },
  {
   "cell_type": "markdown",
   "source": [
    "여기서 분류해볼 음식 종류는 총 여섯 가지입니다.\n",
    "\n",
    "1. 치킨\n",
    "2. 김치\n",
    "3. 돌솥밥\n",
    "4. 삼겹살\n",
    "5. 제육볶음\n",
    "6. 된장찌개\n",
    "\n",
    "kfood 폴더 내에 각각 30장의 이미지가 저장되어 있습니다.\n",
    "\n",
    "![](https://i.ibb.co/sw5LTYZ/238.png)\n",
    "치킨\n",
    "\n",
    "![](https://i.ibb.co/Lkwrrsj/239.png)\n",
    "돌솥밥\n",
    "\n",
    "위 6개 카테고리의 이미지들을 통해 K-food 분류모델을 만들어보겠습니다."
   ],
   "metadata": {
    "collapsed": false,
    "pycharm": {
     "name": "#%% md\n"
    }
   }
  },
  {
   "cell_type": "markdown",
   "source": [
    "# 7-1. 데이터셋 만들기"
   ],
   "metadata": {
    "collapsed": false,
    "pycharm": {
     "name": "#%% md\n"
    }
   }
  },
  {
   "cell_type": "code",
   "execution_count": 26,
   "outputs": [],
   "source": [
    "from sklearn.model_selection import train_test_split\n",
    "from PIL import Image  # pillow\n",
    "import os\n",
    "import numpy as np"
   ],
   "metadata": {
    "collapsed": false,
    "pycharm": {
     "name": "#%%\n"
    }
   }
  },
  {
   "cell_type": "code",
   "execution_count": 27,
   "outputs": [
    {
     "data": {
      "text/plain": "'C:\\\\Users\\\\smj02\\\\PycharmProjects\\\\KIRD_Lecture20220526\\\\10_딥러닝의기초#이진분류신경망'"
     },
     "execution_count": 27,
     "metadata": {},
     "output_type": "execute_result"
    }
   ],
   "source": [
    "os.getcwd()"
   ],
   "metadata": {
    "collapsed": false,
    "pycharm": {
     "name": "#%%\n"
    }
   }
  },
  {
   "cell_type": "code",
   "execution_count": 28,
   "outputs": [
    {
     "data": {
      "text/plain": "'C:\\\\Users\\\\smj02\\\\PycharmProjects\\\\KIRD_Lecture20220526\\\\10_딥러닝의기초#이진분류신경망\\\\kfood'"
     },
     "execution_count": 28,
     "metadata": {},
     "output_type": "execute_result"
    }
   ],
   "source": [
    "os.chdir(\"./kfood\")\n",
    "os.getcwd()"
   ],
   "metadata": {
    "collapsed": false,
    "pycharm": {
     "name": "#%%\n"
    }
   }
  },
  {
   "cell_type": "code",
   "execution_count": 29,
   "outputs": [],
   "source": [
    "categories = [\"Chicken\", \"Dolsotbab\", \"Kimchi\", \"Jeyugbokk-eum\", \"Samgyeobsal\", \"SoybeanPasteStew\"]"
   ],
   "metadata": {
    "collapsed": false,
    "pycharm": {
     "name": "#%%\n"
    }
   }
  },
  {
   "cell_type": "code",
   "execution_count": 30,
   "outputs": [],
   "source": [
    "image_width = image_height = 64"
   ],
   "metadata": {
    "collapsed": false,
    "pycharm": {
     "name": "#%%\n"
    }
   }
  },
  {
   "cell_type": "code",
   "execution_count": 31,
   "outputs": [],
   "source": [
    "# 데이터를 담을 변수\n",
    "X = []\n",
    "y = []"
   ],
   "metadata": {
    "collapsed": false,
    "pycharm": {
     "name": "#%%\n"
    }
   }
  },
  {
   "cell_type": "code",
   "execution_count": 32,
   "outputs": [
    {
     "name": "stdout",
     "output_type": "stream",
     "text": [
      "['C:\\\\Users\\\\smj02\\\\PycharmProjects\\\\KIRD_Lecture20220526\\\\10_딥러닝의기초#이진분류신경망\\\\kfood\\\\Chicken\\\\chicken_01.jpg', 'C:\\\\Users\\\\smj02\\\\PycharmProjects\\\\KIRD_Lecture20220526\\\\10_딥러닝의기초#이진분류신경망\\\\kfood\\\\Chicken\\\\chicken_02.jpg', 'C:\\\\Users\\\\smj02\\\\PycharmProjects\\\\KIRD_Lecture20220526\\\\10_딥러닝의기초#이진분류신경망\\\\kfood\\\\Chicken\\\\chicken_03.jpg', 'C:\\\\Users\\\\smj02\\\\PycharmProjects\\\\KIRD_Lecture20220526\\\\10_딥러닝의기초#이진분류신경망\\\\kfood\\\\Chicken\\\\chicken_04.jpg', 'C:\\\\Users\\\\smj02\\\\PycharmProjects\\\\KIRD_Lecture20220526\\\\10_딥러닝의기초#이진분류신경망\\\\kfood\\\\Chicken\\\\chicken_05.jpg', 'C:\\\\Users\\\\smj02\\\\PycharmProjects\\\\KIRD_Lecture20220526\\\\10_딥러닝의기초#이진분류신경망\\\\kfood\\\\Chicken\\\\chicken_06.jpg', 'C:\\\\Users\\\\smj02\\\\PycharmProjects\\\\KIRD_Lecture20220526\\\\10_딥러닝의기초#이진분류신경망\\\\kfood\\\\Chicken\\\\chicken_07.jpg', 'C:\\\\Users\\\\smj02\\\\PycharmProjects\\\\KIRD_Lecture20220526\\\\10_딥러닝의기초#이진분류신경망\\\\kfood\\\\Chicken\\\\chicken_08.jpg', 'C:\\\\Users\\\\smj02\\\\PycharmProjects\\\\KIRD_Lecture20220526\\\\10_딥러닝의기초#이진분류신경망\\\\kfood\\\\Chicken\\\\chicken_09.jpg', 'C:\\\\Users\\\\smj02\\\\PycharmProjects\\\\KIRD_Lecture20220526\\\\10_딥러닝의기초#이진분류신경망\\\\kfood\\\\Chicken\\\\chicken_10.jpg', 'C:\\\\Users\\\\smj02\\\\PycharmProjects\\\\KIRD_Lecture20220526\\\\10_딥러닝의기초#이진분류신경망\\\\kfood\\\\Chicken\\\\chicken_11.jpg', 'C:\\\\Users\\\\smj02\\\\PycharmProjects\\\\KIRD_Lecture20220526\\\\10_딥러닝의기초#이진분류신경망\\\\kfood\\\\Chicken\\\\chicken_12.jpg', 'C:\\\\Users\\\\smj02\\\\PycharmProjects\\\\KIRD_Lecture20220526\\\\10_딥러닝의기초#이진분류신경망\\\\kfood\\\\Chicken\\\\chicken_13.jpg', 'C:\\\\Users\\\\smj02\\\\PycharmProjects\\\\KIRD_Lecture20220526\\\\10_딥러닝의기초#이진분류신경망\\\\kfood\\\\Chicken\\\\chicken_14.jpg', 'C:\\\\Users\\\\smj02\\\\PycharmProjects\\\\KIRD_Lecture20220526\\\\10_딥러닝의기초#이진분류신경망\\\\kfood\\\\Chicken\\\\chicken_15.jpg', 'C:\\\\Users\\\\smj02\\\\PycharmProjects\\\\KIRD_Lecture20220526\\\\10_딥러닝의기초#이진분류신경망\\\\kfood\\\\Chicken\\\\chicken_16.jpg', 'C:\\\\Users\\\\smj02\\\\PycharmProjects\\\\KIRD_Lecture20220526\\\\10_딥러닝의기초#이진분류신경망\\\\kfood\\\\Chicken\\\\chicken_17.jpg', 'C:\\\\Users\\\\smj02\\\\PycharmProjects\\\\KIRD_Lecture20220526\\\\10_딥러닝의기초#이진분류신경망\\\\kfood\\\\Chicken\\\\chicken_18.jpg', 'C:\\\\Users\\\\smj02\\\\PycharmProjects\\\\KIRD_Lecture20220526\\\\10_딥러닝의기초#이진분류신경망\\\\kfood\\\\Chicken\\\\chicken_19.jpg', 'C:\\\\Users\\\\smj02\\\\PycharmProjects\\\\KIRD_Lecture20220526\\\\10_딥러닝의기초#이진분류신경망\\\\kfood\\\\Chicken\\\\chicken_20.jpg', 'C:\\\\Users\\\\smj02\\\\PycharmProjects\\\\KIRD_Lecture20220526\\\\10_딥러닝의기초#이진분류신경망\\\\kfood\\\\Chicken\\\\chicken_21.jpg', 'C:\\\\Users\\\\smj02\\\\PycharmProjects\\\\KIRD_Lecture20220526\\\\10_딥러닝의기초#이진분류신경망\\\\kfood\\\\Chicken\\\\chicken_22.jpg', 'C:\\\\Users\\\\smj02\\\\PycharmProjects\\\\KIRD_Lecture20220526\\\\10_딥러닝의기초#이진분류신경망\\\\kfood\\\\Chicken\\\\chicken_23.jpg', 'C:\\\\Users\\\\smj02\\\\PycharmProjects\\\\KIRD_Lecture20220526\\\\10_딥러닝의기초#이진분류신경망\\\\kfood\\\\Chicken\\\\chicken_24.jpg', 'C:\\\\Users\\\\smj02\\\\PycharmProjects\\\\KIRD_Lecture20220526\\\\10_딥러닝의기초#이진분류신경망\\\\kfood\\\\Chicken\\\\chicken_25.jpg', 'C:\\\\Users\\\\smj02\\\\PycharmProjects\\\\KIRD_Lecture20220526\\\\10_딥러닝의기초#이진분류신경망\\\\kfood\\\\Chicken\\\\chicken_26.jpg', 'C:\\\\Users\\\\smj02\\\\PycharmProjects\\\\KIRD_Lecture20220526\\\\10_딥러닝의기초#이진분류신경망\\\\kfood\\\\Chicken\\\\chicken_27.jpg', 'C:\\\\Users\\\\smj02\\\\PycharmProjects\\\\KIRD_Lecture20220526\\\\10_딥러닝의기초#이진분류신경망\\\\kfood\\\\Chicken\\\\chicken_28.jpg', 'C:\\\\Users\\\\smj02\\\\PycharmProjects\\\\KIRD_Lecture20220526\\\\10_딥러닝의기초#이진분류신경망\\\\kfood\\\\Chicken\\\\chicken_29.jpg', 'C:\\\\Users\\\\smj02\\\\PycharmProjects\\\\KIRD_Lecture20220526\\\\10_딥러닝의기초#이진분류신경망\\\\kfood\\\\Chicken\\\\chicken_30.jpg']\n",
      "['C:\\\\Users\\\\smj02\\\\PycharmProjects\\\\KIRD_Lecture20220526\\\\10_딥러닝의기초#이진분류신경망\\\\kfood\\\\Dolsotbab\\\\Dolsotbab_01.jpg', 'C:\\\\Users\\\\smj02\\\\PycharmProjects\\\\KIRD_Lecture20220526\\\\10_딥러닝의기초#이진분류신경망\\\\kfood\\\\Dolsotbab\\\\Dolsotbab_02.jpg', 'C:\\\\Users\\\\smj02\\\\PycharmProjects\\\\KIRD_Lecture20220526\\\\10_딥러닝의기초#이진분류신경망\\\\kfood\\\\Dolsotbab\\\\Dolsotbab_03.jpg', 'C:\\\\Users\\\\smj02\\\\PycharmProjects\\\\KIRD_Lecture20220526\\\\10_딥러닝의기초#이진분류신경망\\\\kfood\\\\Dolsotbab\\\\Dolsotbab_04.jpg', 'C:\\\\Users\\\\smj02\\\\PycharmProjects\\\\KIRD_Lecture20220526\\\\10_딥러닝의기초#이진분류신경망\\\\kfood\\\\Dolsotbab\\\\Dolsotbab_05.jpg', 'C:\\\\Users\\\\smj02\\\\PycharmProjects\\\\KIRD_Lecture20220526\\\\10_딥러닝의기초#이진분류신경망\\\\kfood\\\\Dolsotbab\\\\Dolsotbab_06.jpg', 'C:\\\\Users\\\\smj02\\\\PycharmProjects\\\\KIRD_Lecture20220526\\\\10_딥러닝의기초#이진분류신경망\\\\kfood\\\\Dolsotbab\\\\Dolsotbab_07.jpg', 'C:\\\\Users\\\\smj02\\\\PycharmProjects\\\\KIRD_Lecture20220526\\\\10_딥러닝의기초#이진분류신경망\\\\kfood\\\\Dolsotbab\\\\Dolsotbab_08.jpg', 'C:\\\\Users\\\\smj02\\\\PycharmProjects\\\\KIRD_Lecture20220526\\\\10_딥러닝의기초#이진분류신경망\\\\kfood\\\\Dolsotbab\\\\Dolsotbab_09.jpg', 'C:\\\\Users\\\\smj02\\\\PycharmProjects\\\\KIRD_Lecture20220526\\\\10_딥러닝의기초#이진분류신경망\\\\kfood\\\\Dolsotbab\\\\Dolsotbab_10.jpg', 'C:\\\\Users\\\\smj02\\\\PycharmProjects\\\\KIRD_Lecture20220526\\\\10_딥러닝의기초#이진분류신경망\\\\kfood\\\\Dolsotbab\\\\Dolsotbab_11.jpg', 'C:\\\\Users\\\\smj02\\\\PycharmProjects\\\\KIRD_Lecture20220526\\\\10_딥러닝의기초#이진분류신경망\\\\kfood\\\\Dolsotbab\\\\Dolsotbab_12.jpg', 'C:\\\\Users\\\\smj02\\\\PycharmProjects\\\\KIRD_Lecture20220526\\\\10_딥러닝의기초#이진분류신경망\\\\kfood\\\\Dolsotbab\\\\Dolsotbab_13.jpg', 'C:\\\\Users\\\\smj02\\\\PycharmProjects\\\\KIRD_Lecture20220526\\\\10_딥러닝의기초#이진분류신경망\\\\kfood\\\\Dolsotbab\\\\Dolsotbab_14.jpg', 'C:\\\\Users\\\\smj02\\\\PycharmProjects\\\\KIRD_Lecture20220526\\\\10_딥러닝의기초#이진분류신경망\\\\kfood\\\\Dolsotbab\\\\Dolsotbab_15.jpg', 'C:\\\\Users\\\\smj02\\\\PycharmProjects\\\\KIRD_Lecture20220526\\\\10_딥러닝의기초#이진분류신경망\\\\kfood\\\\Dolsotbab\\\\Dolsotbab_16.jpg', 'C:\\\\Users\\\\smj02\\\\PycharmProjects\\\\KIRD_Lecture20220526\\\\10_딥러닝의기초#이진분류신경망\\\\kfood\\\\Dolsotbab\\\\Dolsotbab_17.jpg', 'C:\\\\Users\\\\smj02\\\\PycharmProjects\\\\KIRD_Lecture20220526\\\\10_딥러닝의기초#이진분류신경망\\\\kfood\\\\Dolsotbab\\\\Dolsotbab_18.jpg', 'C:\\\\Users\\\\smj02\\\\PycharmProjects\\\\KIRD_Lecture20220526\\\\10_딥러닝의기초#이진분류신경망\\\\kfood\\\\Dolsotbab\\\\Dolsotbab_19.jpg', 'C:\\\\Users\\\\smj02\\\\PycharmProjects\\\\KIRD_Lecture20220526\\\\10_딥러닝의기초#이진분류신경망\\\\kfood\\\\Dolsotbab\\\\Dolsotbab_20.jpg', 'C:\\\\Users\\\\smj02\\\\PycharmProjects\\\\KIRD_Lecture20220526\\\\10_딥러닝의기초#이진분류신경망\\\\kfood\\\\Dolsotbab\\\\Dolsotbab_21.jpg', 'C:\\\\Users\\\\smj02\\\\PycharmProjects\\\\KIRD_Lecture20220526\\\\10_딥러닝의기초#이진분류신경망\\\\kfood\\\\Dolsotbab\\\\Dolsotbab_22.jpg', 'C:\\\\Users\\\\smj02\\\\PycharmProjects\\\\KIRD_Lecture20220526\\\\10_딥러닝의기초#이진분류신경망\\\\kfood\\\\Dolsotbab\\\\Dolsotbab_23.jpg', 'C:\\\\Users\\\\smj02\\\\PycharmProjects\\\\KIRD_Lecture20220526\\\\10_딥러닝의기초#이진분류신경망\\\\kfood\\\\Dolsotbab\\\\Dolsotbab_24.jpg', 'C:\\\\Users\\\\smj02\\\\PycharmProjects\\\\KIRD_Lecture20220526\\\\10_딥러닝의기초#이진분류신경망\\\\kfood\\\\Dolsotbab\\\\Dolsotbab_25.jpg', 'C:\\\\Users\\\\smj02\\\\PycharmProjects\\\\KIRD_Lecture20220526\\\\10_딥러닝의기초#이진분류신경망\\\\kfood\\\\Dolsotbab\\\\Dolsotbab_26.jpg', 'C:\\\\Users\\\\smj02\\\\PycharmProjects\\\\KIRD_Lecture20220526\\\\10_딥러닝의기초#이진분류신경망\\\\kfood\\\\Dolsotbab\\\\Dolsotbab_27.jpg', 'C:\\\\Users\\\\smj02\\\\PycharmProjects\\\\KIRD_Lecture20220526\\\\10_딥러닝의기초#이진분류신경망\\\\kfood\\\\Dolsotbab\\\\Dolsotbab_28.jpg', 'C:\\\\Users\\\\smj02\\\\PycharmProjects\\\\KIRD_Lecture20220526\\\\10_딥러닝의기초#이진분류신경망\\\\kfood\\\\Dolsotbab\\\\Dolsotbab_29.jpg', 'C:\\\\Users\\\\smj02\\\\PycharmProjects\\\\KIRD_Lecture20220526\\\\10_딥러닝의기초#이진분류신경망\\\\kfood\\\\Dolsotbab\\\\Dolsotbab_30.jpg']\n",
      "['C:\\\\Users\\\\smj02\\\\PycharmProjects\\\\KIRD_Lecture20220526\\\\10_딥러닝의기초#이진분류신경망\\\\kfood\\\\Kimchi\\\\kimchi01.jpg', 'C:\\\\Users\\\\smj02\\\\PycharmProjects\\\\KIRD_Lecture20220526\\\\10_딥러닝의기초#이진분류신경망\\\\kfood\\\\Kimchi\\\\kimchi02.jpg', 'C:\\\\Users\\\\smj02\\\\PycharmProjects\\\\KIRD_Lecture20220526\\\\10_딥러닝의기초#이진분류신경망\\\\kfood\\\\Kimchi\\\\kimchi03.jpg', 'C:\\\\Users\\\\smj02\\\\PycharmProjects\\\\KIRD_Lecture20220526\\\\10_딥러닝의기초#이진분류신경망\\\\kfood\\\\Kimchi\\\\kimchi04.jpg', 'C:\\\\Users\\\\smj02\\\\PycharmProjects\\\\KIRD_Lecture20220526\\\\10_딥러닝의기초#이진분류신경망\\\\kfood\\\\Kimchi\\\\kimchi05.jpg', 'C:\\\\Users\\\\smj02\\\\PycharmProjects\\\\KIRD_Lecture20220526\\\\10_딥러닝의기초#이진분류신경망\\\\kfood\\\\Kimchi\\\\kimchi06.jpg', 'C:\\\\Users\\\\smj02\\\\PycharmProjects\\\\KIRD_Lecture20220526\\\\10_딥러닝의기초#이진분류신경망\\\\kfood\\\\Kimchi\\\\kimchi07.jpg', 'C:\\\\Users\\\\smj02\\\\PycharmProjects\\\\KIRD_Lecture20220526\\\\10_딥러닝의기초#이진분류신경망\\\\kfood\\\\Kimchi\\\\kimchi08.jpg', 'C:\\\\Users\\\\smj02\\\\PycharmProjects\\\\KIRD_Lecture20220526\\\\10_딥러닝의기초#이진분류신경망\\\\kfood\\\\Kimchi\\\\kimchi09.jpg', 'C:\\\\Users\\\\smj02\\\\PycharmProjects\\\\KIRD_Lecture20220526\\\\10_딥러닝의기초#이진분류신경망\\\\kfood\\\\Kimchi\\\\kimchi10.jpg', 'C:\\\\Users\\\\smj02\\\\PycharmProjects\\\\KIRD_Lecture20220526\\\\10_딥러닝의기초#이진분류신경망\\\\kfood\\\\Kimchi\\\\kimchi11.jpg', 'C:\\\\Users\\\\smj02\\\\PycharmProjects\\\\KIRD_Lecture20220526\\\\10_딥러닝의기초#이진분류신경망\\\\kfood\\\\Kimchi\\\\kimchi12.jpg', 'C:\\\\Users\\\\smj02\\\\PycharmProjects\\\\KIRD_Lecture20220526\\\\10_딥러닝의기초#이진분류신경망\\\\kfood\\\\Kimchi\\\\kimchi13.jpg', 'C:\\\\Users\\\\smj02\\\\PycharmProjects\\\\KIRD_Lecture20220526\\\\10_딥러닝의기초#이진분류신경망\\\\kfood\\\\Kimchi\\\\kimchi14.jpg', 'C:\\\\Users\\\\smj02\\\\PycharmProjects\\\\KIRD_Lecture20220526\\\\10_딥러닝의기초#이진분류신경망\\\\kfood\\\\Kimchi\\\\kimchi15.jpg', 'C:\\\\Users\\\\smj02\\\\PycharmProjects\\\\KIRD_Lecture20220526\\\\10_딥러닝의기초#이진분류신경망\\\\kfood\\\\Kimchi\\\\kimchi16.jpg', 'C:\\\\Users\\\\smj02\\\\PycharmProjects\\\\KIRD_Lecture20220526\\\\10_딥러닝의기초#이진분류신경망\\\\kfood\\\\Kimchi\\\\kimchi17.jpg', 'C:\\\\Users\\\\smj02\\\\PycharmProjects\\\\KIRD_Lecture20220526\\\\10_딥러닝의기초#이진분류신경망\\\\kfood\\\\Kimchi\\\\kimchi18.jpg', 'C:\\\\Users\\\\smj02\\\\PycharmProjects\\\\KIRD_Lecture20220526\\\\10_딥러닝의기초#이진분류신경망\\\\kfood\\\\Kimchi\\\\kimchi19.jpg', 'C:\\\\Users\\\\smj02\\\\PycharmProjects\\\\KIRD_Lecture20220526\\\\10_딥러닝의기초#이진분류신경망\\\\kfood\\\\Kimchi\\\\kimchi20.jpg', 'C:\\\\Users\\\\smj02\\\\PycharmProjects\\\\KIRD_Lecture20220526\\\\10_딥러닝의기초#이진분류신경망\\\\kfood\\\\Kimchi\\\\kimchi21.JPG', 'C:\\\\Users\\\\smj02\\\\PycharmProjects\\\\KIRD_Lecture20220526\\\\10_딥러닝의기초#이진분류신경망\\\\kfood\\\\Kimchi\\\\kimchi22.jpg', 'C:\\\\Users\\\\smj02\\\\PycharmProjects\\\\KIRD_Lecture20220526\\\\10_딥러닝의기초#이진분류신경망\\\\kfood\\\\Kimchi\\\\kimchi23.jpg', 'C:\\\\Users\\\\smj02\\\\PycharmProjects\\\\KIRD_Lecture20220526\\\\10_딥러닝의기초#이진분류신경망\\\\kfood\\\\Kimchi\\\\kimchi24.jpg', 'C:\\\\Users\\\\smj02\\\\PycharmProjects\\\\KIRD_Lecture20220526\\\\10_딥러닝의기초#이진분류신경망\\\\kfood\\\\Kimchi\\\\kimchi25.jpg', 'C:\\\\Users\\\\smj02\\\\PycharmProjects\\\\KIRD_Lecture20220526\\\\10_딥러닝의기초#이진분류신경망\\\\kfood\\\\Kimchi\\\\kimchi26.jpg', 'C:\\\\Users\\\\smj02\\\\PycharmProjects\\\\KIRD_Lecture20220526\\\\10_딥러닝의기초#이진분류신경망\\\\kfood\\\\Kimchi\\\\kimchi27.jpg', 'C:\\\\Users\\\\smj02\\\\PycharmProjects\\\\KIRD_Lecture20220526\\\\10_딥러닝의기초#이진분류신경망\\\\kfood\\\\Kimchi\\\\kimchi28.jpg', 'C:\\\\Users\\\\smj02\\\\PycharmProjects\\\\KIRD_Lecture20220526\\\\10_딥러닝의기초#이진분류신경망\\\\kfood\\\\Kimchi\\\\kimchi29.jpg', 'C:\\\\Users\\\\smj02\\\\PycharmProjects\\\\KIRD_Lecture20220526\\\\10_딥러닝의기초#이진분류신경망\\\\kfood\\\\Kimchi\\\\kimchi30.JPG']\n",
      "['C:\\\\Users\\\\smj02\\\\PycharmProjects\\\\KIRD_Lecture20220526\\\\10_딥러닝의기초#이진분류신경망\\\\kfood\\\\Jeyugbokk-eum\\\\Jeyugbokk-eum01.jpg', 'C:\\\\Users\\\\smj02\\\\PycharmProjects\\\\KIRD_Lecture20220526\\\\10_딥러닝의기초#이진분류신경망\\\\kfood\\\\Jeyugbokk-eum\\\\Jeyugbokk-eum02.jpg', 'C:\\\\Users\\\\smj02\\\\PycharmProjects\\\\KIRD_Lecture20220526\\\\10_딥러닝의기초#이진분류신경망\\\\kfood\\\\Jeyugbokk-eum\\\\Jeyugbokk-eum03.jpg', 'C:\\\\Users\\\\smj02\\\\PycharmProjects\\\\KIRD_Lecture20220526\\\\10_딥러닝의기초#이진분류신경망\\\\kfood\\\\Jeyugbokk-eum\\\\Jeyugbokk-eum04.jpg', 'C:\\\\Users\\\\smj02\\\\PycharmProjects\\\\KIRD_Lecture20220526\\\\10_딥러닝의기초#이진분류신경망\\\\kfood\\\\Jeyugbokk-eum\\\\Jeyugbokk-eum05.jpg', 'C:\\\\Users\\\\smj02\\\\PycharmProjects\\\\KIRD_Lecture20220526\\\\10_딥러닝의기초#이진분류신경망\\\\kfood\\\\Jeyugbokk-eum\\\\Jeyugbokk-eum06.jpg', 'C:\\\\Users\\\\smj02\\\\PycharmProjects\\\\KIRD_Lecture20220526\\\\10_딥러닝의기초#이진분류신경망\\\\kfood\\\\Jeyugbokk-eum\\\\Jeyugbokk-eum07.jpg', 'C:\\\\Users\\\\smj02\\\\PycharmProjects\\\\KIRD_Lecture20220526\\\\10_딥러닝의기초#이진분류신경망\\\\kfood\\\\Jeyugbokk-eum\\\\Jeyugbokk-eum08.jpg', 'C:\\\\Users\\\\smj02\\\\PycharmProjects\\\\KIRD_Lecture20220526\\\\10_딥러닝의기초#이진분류신경망\\\\kfood\\\\Jeyugbokk-eum\\\\Jeyugbokk-eum09.jpg', 'C:\\\\Users\\\\smj02\\\\PycharmProjects\\\\KIRD_Lecture20220526\\\\10_딥러닝의기초#이진분류신경망\\\\kfood\\\\Jeyugbokk-eum\\\\Jeyugbokk-eum10.jpg', 'C:\\\\Users\\\\smj02\\\\PycharmProjects\\\\KIRD_Lecture20220526\\\\10_딥러닝의기초#이진분류신경망\\\\kfood\\\\Jeyugbokk-eum\\\\Jeyugbokk-eum11.jpg', 'C:\\\\Users\\\\smj02\\\\PycharmProjects\\\\KIRD_Lecture20220526\\\\10_딥러닝의기초#이진분류신경망\\\\kfood\\\\Jeyugbokk-eum\\\\Jeyugbokk-eum12.jpg', 'C:\\\\Users\\\\smj02\\\\PycharmProjects\\\\KIRD_Lecture20220526\\\\10_딥러닝의기초#이진분류신경망\\\\kfood\\\\Jeyugbokk-eum\\\\Jeyugbokk-eum13.jpg', 'C:\\\\Users\\\\smj02\\\\PycharmProjects\\\\KIRD_Lecture20220526\\\\10_딥러닝의기초#이진분류신경망\\\\kfood\\\\Jeyugbokk-eum\\\\Jeyugbokk-eum14.jpg', 'C:\\\\Users\\\\smj02\\\\PycharmProjects\\\\KIRD_Lecture20220526\\\\10_딥러닝의기초#이진분류신경망\\\\kfood\\\\Jeyugbokk-eum\\\\Jeyugbokk-eum15.jpg', 'C:\\\\Users\\\\smj02\\\\PycharmProjects\\\\KIRD_Lecture20220526\\\\10_딥러닝의기초#이진분류신경망\\\\kfood\\\\Jeyugbokk-eum\\\\Jeyugbokk-eum16.jpg', 'C:\\\\Users\\\\smj02\\\\PycharmProjects\\\\KIRD_Lecture20220526\\\\10_딥러닝의기초#이진분류신경망\\\\kfood\\\\Jeyugbokk-eum\\\\Jeyugbokk-eum17.jpg', 'C:\\\\Users\\\\smj02\\\\PycharmProjects\\\\KIRD_Lecture20220526\\\\10_딥러닝의기초#이진분류신경망\\\\kfood\\\\Jeyugbokk-eum\\\\Jeyugbokk-eum18.jpg', 'C:\\\\Users\\\\smj02\\\\PycharmProjects\\\\KIRD_Lecture20220526\\\\10_딥러닝의기초#이진분류신경망\\\\kfood\\\\Jeyugbokk-eum\\\\Jeyugbokk-eum19.jpg', 'C:\\\\Users\\\\smj02\\\\PycharmProjects\\\\KIRD_Lecture20220526\\\\10_딥러닝의기초#이진분류신경망\\\\kfood\\\\Jeyugbokk-eum\\\\Jeyugbokk-eum20.jpg', 'C:\\\\Users\\\\smj02\\\\PycharmProjects\\\\KIRD_Lecture20220526\\\\10_딥러닝의기초#이진분류신경망\\\\kfood\\\\Jeyugbokk-eum\\\\Jeyugbokk-eum21.jpg', 'C:\\\\Users\\\\smj02\\\\PycharmProjects\\\\KIRD_Lecture20220526\\\\10_딥러닝의기초#이진분류신경망\\\\kfood\\\\Jeyugbokk-eum\\\\Jeyugbokk-eum22.jpg', 'C:\\\\Users\\\\smj02\\\\PycharmProjects\\\\KIRD_Lecture20220526\\\\10_딥러닝의기초#이진분류신경망\\\\kfood\\\\Jeyugbokk-eum\\\\Jeyugbokk-eum23.JPG', 'C:\\\\Users\\\\smj02\\\\PycharmProjects\\\\KIRD_Lecture20220526\\\\10_딥러닝의기초#이진분류신경망\\\\kfood\\\\Jeyugbokk-eum\\\\Jeyugbokk-eum24.jpg', 'C:\\\\Users\\\\smj02\\\\PycharmProjects\\\\KIRD_Lecture20220526\\\\10_딥러닝의기초#이진분류신경망\\\\kfood\\\\Jeyugbokk-eum\\\\Jeyugbokk-eum25.jpg', 'C:\\\\Users\\\\smj02\\\\PycharmProjects\\\\KIRD_Lecture20220526\\\\10_딥러닝의기초#이진분류신경망\\\\kfood\\\\Jeyugbokk-eum\\\\Jeyugbokk-eum26.JPG', 'C:\\\\Users\\\\smj02\\\\PycharmProjects\\\\KIRD_Lecture20220526\\\\10_딥러닝의기초#이진분류신경망\\\\kfood\\\\Jeyugbokk-eum\\\\Jeyugbokk-eum27.jpeg', 'C:\\\\Users\\\\smj02\\\\PycharmProjects\\\\KIRD_Lecture20220526\\\\10_딥러닝의기초#이진분류신경망\\\\kfood\\\\Jeyugbokk-eum\\\\Jeyugbokk-eum28.jpg', 'C:\\\\Users\\\\smj02\\\\PycharmProjects\\\\KIRD_Lecture20220526\\\\10_딥러닝의기초#이진분류신경망\\\\kfood\\\\Jeyugbokk-eum\\\\Jeyugbokk-eum29.jpg', 'C:\\\\Users\\\\smj02\\\\PycharmProjects\\\\KIRD_Lecture20220526\\\\10_딥러닝의기초#이진분류신경망\\\\kfood\\\\Jeyugbokk-eum\\\\Jeyugbokk-eum30.png']\n",
      "['C:\\\\Users\\\\smj02\\\\PycharmProjects\\\\KIRD_Lecture20220526\\\\10_딥러닝의기초#이진분류신경망\\\\kfood\\\\Samgyeobsal\\\\Samgyeobsal01.jpg', 'C:\\\\Users\\\\smj02\\\\PycharmProjects\\\\KIRD_Lecture20220526\\\\10_딥러닝의기초#이진분류신경망\\\\kfood\\\\Samgyeobsal\\\\Samgyeobsal02.jpg', 'C:\\\\Users\\\\smj02\\\\PycharmProjects\\\\KIRD_Lecture20220526\\\\10_딥러닝의기초#이진분류신경망\\\\kfood\\\\Samgyeobsal\\\\Samgyeobsal03.jpg', 'C:\\\\Users\\\\smj02\\\\PycharmProjects\\\\KIRD_Lecture20220526\\\\10_딥러닝의기초#이진분류신경망\\\\kfood\\\\Samgyeobsal\\\\Samgyeobsal04.jpg', 'C:\\\\Users\\\\smj02\\\\PycharmProjects\\\\KIRD_Lecture20220526\\\\10_딥러닝의기초#이진분류신경망\\\\kfood\\\\Samgyeobsal\\\\Samgyeobsal05.jpg', 'C:\\\\Users\\\\smj02\\\\PycharmProjects\\\\KIRD_Lecture20220526\\\\10_딥러닝의기초#이진분류신경망\\\\kfood\\\\Samgyeobsal\\\\Samgyeobsal06.jpg', 'C:\\\\Users\\\\smj02\\\\PycharmProjects\\\\KIRD_Lecture20220526\\\\10_딥러닝의기초#이진분류신경망\\\\kfood\\\\Samgyeobsal\\\\Samgyeobsal07.jpg', 'C:\\\\Users\\\\smj02\\\\PycharmProjects\\\\KIRD_Lecture20220526\\\\10_딥러닝의기초#이진분류신경망\\\\kfood\\\\Samgyeobsal\\\\Samgyeobsal08.jpg', 'C:\\\\Users\\\\smj02\\\\PycharmProjects\\\\KIRD_Lecture20220526\\\\10_딥러닝의기초#이진분류신경망\\\\kfood\\\\Samgyeobsal\\\\Samgyeobsal09.jpg', 'C:\\\\Users\\\\smj02\\\\PycharmProjects\\\\KIRD_Lecture20220526\\\\10_딥러닝의기초#이진분류신경망\\\\kfood\\\\Samgyeobsal\\\\Samgyeobsal10.jpg', 'C:\\\\Users\\\\smj02\\\\PycharmProjects\\\\KIRD_Lecture20220526\\\\10_딥러닝의기초#이진분류신경망\\\\kfood\\\\Samgyeobsal\\\\Samgyeobsal11.jpg', 'C:\\\\Users\\\\smj02\\\\PycharmProjects\\\\KIRD_Lecture20220526\\\\10_딥러닝의기초#이진분류신경망\\\\kfood\\\\Samgyeobsal\\\\Samgyeobsal12.jpg', 'C:\\\\Users\\\\smj02\\\\PycharmProjects\\\\KIRD_Lecture20220526\\\\10_딥러닝의기초#이진분류신경망\\\\kfood\\\\Samgyeobsal\\\\Samgyeobsal13.jpg', 'C:\\\\Users\\\\smj02\\\\PycharmProjects\\\\KIRD_Lecture20220526\\\\10_딥러닝의기초#이진분류신경망\\\\kfood\\\\Samgyeobsal\\\\Samgyeobsal14.jpg', 'C:\\\\Users\\\\smj02\\\\PycharmProjects\\\\KIRD_Lecture20220526\\\\10_딥러닝의기초#이진분류신경망\\\\kfood\\\\Samgyeobsal\\\\Samgyeobsal15.jpg', 'C:\\\\Users\\\\smj02\\\\PycharmProjects\\\\KIRD_Lecture20220526\\\\10_딥러닝의기초#이진분류신경망\\\\kfood\\\\Samgyeobsal\\\\Samgyeobsal16.jpg', 'C:\\\\Users\\\\smj02\\\\PycharmProjects\\\\KIRD_Lecture20220526\\\\10_딥러닝의기초#이진분류신경망\\\\kfood\\\\Samgyeobsal\\\\Samgyeobsal17.jpg', 'C:\\\\Users\\\\smj02\\\\PycharmProjects\\\\KIRD_Lecture20220526\\\\10_딥러닝의기초#이진분류신경망\\\\kfood\\\\Samgyeobsal\\\\Samgyeobsal18.jpg', 'C:\\\\Users\\\\smj02\\\\PycharmProjects\\\\KIRD_Lecture20220526\\\\10_딥러닝의기초#이진분류신경망\\\\kfood\\\\Samgyeobsal\\\\Samgyeobsal19.jpg', 'C:\\\\Users\\\\smj02\\\\PycharmProjects\\\\KIRD_Lecture20220526\\\\10_딥러닝의기초#이진분류신경망\\\\kfood\\\\Samgyeobsal\\\\Samgyeobsal20.jpg', 'C:\\\\Users\\\\smj02\\\\PycharmProjects\\\\KIRD_Lecture20220526\\\\10_딥러닝의기초#이진분류신경망\\\\kfood\\\\Samgyeobsal\\\\Samgyeobsal21.jpg', 'C:\\\\Users\\\\smj02\\\\PycharmProjects\\\\KIRD_Lecture20220526\\\\10_딥러닝의기초#이진분류신경망\\\\kfood\\\\Samgyeobsal\\\\Samgyeobsal22.jpg', 'C:\\\\Users\\\\smj02\\\\PycharmProjects\\\\KIRD_Lecture20220526\\\\10_딥러닝의기초#이진분류신경망\\\\kfood\\\\Samgyeobsal\\\\Samgyeobsal23.jpg', 'C:\\\\Users\\\\smj02\\\\PycharmProjects\\\\KIRD_Lecture20220526\\\\10_딥러닝의기초#이진분류신경망\\\\kfood\\\\Samgyeobsal\\\\Samgyeobsal24.jpg', 'C:\\\\Users\\\\smj02\\\\PycharmProjects\\\\KIRD_Lecture20220526\\\\10_딥러닝의기초#이진분류신경망\\\\kfood\\\\Samgyeobsal\\\\Samgyeobsal25.jpg', 'C:\\\\Users\\\\smj02\\\\PycharmProjects\\\\KIRD_Lecture20220526\\\\10_딥러닝의기초#이진분류신경망\\\\kfood\\\\Samgyeobsal\\\\Samgyeobsal26.jpg', 'C:\\\\Users\\\\smj02\\\\PycharmProjects\\\\KIRD_Lecture20220526\\\\10_딥러닝의기초#이진분류신경망\\\\kfood\\\\Samgyeobsal\\\\Samgyeobsal27.jpg', 'C:\\\\Users\\\\smj02\\\\PycharmProjects\\\\KIRD_Lecture20220526\\\\10_딥러닝의기초#이진분류신경망\\\\kfood\\\\Samgyeobsal\\\\Samgyeobsal28.jpg', 'C:\\\\Users\\\\smj02\\\\PycharmProjects\\\\KIRD_Lecture20220526\\\\10_딥러닝의기초#이진분류신경망\\\\kfood\\\\Samgyeobsal\\\\Samgyeobsal29.jpg', 'C:\\\\Users\\\\smj02\\\\PycharmProjects\\\\KIRD_Lecture20220526\\\\10_딥러닝의기초#이진분류신경망\\\\kfood\\\\Samgyeobsal\\\\Samgyeobsal30.jpg']\n",
      "['C:\\\\Users\\\\smj02\\\\PycharmProjects\\\\KIRD_Lecture20220526\\\\10_딥러닝의기초#이진분류신경망\\\\kfood\\\\SoybeanPasteStew\\\\SoybeanPasteStew01.jpg', 'C:\\\\Users\\\\smj02\\\\PycharmProjects\\\\KIRD_Lecture20220526\\\\10_딥러닝의기초#이진분류신경망\\\\kfood\\\\SoybeanPasteStew\\\\SoybeanPasteStew02.jpg', 'C:\\\\Users\\\\smj02\\\\PycharmProjects\\\\KIRD_Lecture20220526\\\\10_딥러닝의기초#이진분류신경망\\\\kfood\\\\SoybeanPasteStew\\\\SoybeanPasteStew03.jpg', 'C:\\\\Users\\\\smj02\\\\PycharmProjects\\\\KIRD_Lecture20220526\\\\10_딥러닝의기초#이진분류신경망\\\\kfood\\\\SoybeanPasteStew\\\\SoybeanPasteStew04.jpg', 'C:\\\\Users\\\\smj02\\\\PycharmProjects\\\\KIRD_Lecture20220526\\\\10_딥러닝의기초#이진분류신경망\\\\kfood\\\\SoybeanPasteStew\\\\SoybeanPasteStew05.jpg', 'C:\\\\Users\\\\smj02\\\\PycharmProjects\\\\KIRD_Lecture20220526\\\\10_딥러닝의기초#이진분류신경망\\\\kfood\\\\SoybeanPasteStew\\\\SoybeanPasteStew06.jpg', 'C:\\\\Users\\\\smj02\\\\PycharmProjects\\\\KIRD_Lecture20220526\\\\10_딥러닝의기초#이진분류신경망\\\\kfood\\\\SoybeanPasteStew\\\\SoybeanPasteStew07.jpg', 'C:\\\\Users\\\\smj02\\\\PycharmProjects\\\\KIRD_Lecture20220526\\\\10_딥러닝의기초#이진분류신경망\\\\kfood\\\\SoybeanPasteStew\\\\SoybeanPasteStew08.jpg', 'C:\\\\Users\\\\smj02\\\\PycharmProjects\\\\KIRD_Lecture20220526\\\\10_딥러닝의기초#이진분류신경망\\\\kfood\\\\SoybeanPasteStew\\\\SoybeanPasteStew09.jpg', 'C:\\\\Users\\\\smj02\\\\PycharmProjects\\\\KIRD_Lecture20220526\\\\10_딥러닝의기초#이진분류신경망\\\\kfood\\\\SoybeanPasteStew\\\\SoybeanPasteStew10.jpg', 'C:\\\\Users\\\\smj02\\\\PycharmProjects\\\\KIRD_Lecture20220526\\\\10_딥러닝의기초#이진분류신경망\\\\kfood\\\\SoybeanPasteStew\\\\SoybeanPasteStew11.jpg', 'C:\\\\Users\\\\smj02\\\\PycharmProjects\\\\KIRD_Lecture20220526\\\\10_딥러닝의기초#이진분류신경망\\\\kfood\\\\SoybeanPasteStew\\\\SoybeanPasteStew12.jpg', 'C:\\\\Users\\\\smj02\\\\PycharmProjects\\\\KIRD_Lecture20220526\\\\10_딥러닝의기초#이진분류신경망\\\\kfood\\\\SoybeanPasteStew\\\\SoybeanPasteStew13.jpg', 'C:\\\\Users\\\\smj02\\\\PycharmProjects\\\\KIRD_Lecture20220526\\\\10_딥러닝의기초#이진분류신경망\\\\kfood\\\\SoybeanPasteStew\\\\SoybeanPasteStew14.jpg', 'C:\\\\Users\\\\smj02\\\\PycharmProjects\\\\KIRD_Lecture20220526\\\\10_딥러닝의기초#이진분류신경망\\\\kfood\\\\SoybeanPasteStew\\\\SoybeanPasteStew15.jpg', 'C:\\\\Users\\\\smj02\\\\PycharmProjects\\\\KIRD_Lecture20220526\\\\10_딥러닝의기초#이진분류신경망\\\\kfood\\\\SoybeanPasteStew\\\\SoybeanPasteStew16.jpg', 'C:\\\\Users\\\\smj02\\\\PycharmProjects\\\\KIRD_Lecture20220526\\\\10_딥러닝의기초#이진분류신경망\\\\kfood\\\\SoybeanPasteStew\\\\SoybeanPasteStew17.jpg', 'C:\\\\Users\\\\smj02\\\\PycharmProjects\\\\KIRD_Lecture20220526\\\\10_딥러닝의기초#이진분류신경망\\\\kfood\\\\SoybeanPasteStew\\\\SoybeanPasteStew18.jpg', 'C:\\\\Users\\\\smj02\\\\PycharmProjects\\\\KIRD_Lecture20220526\\\\10_딥러닝의기초#이진분류신경망\\\\kfood\\\\SoybeanPasteStew\\\\SoybeanPasteStew19.jpg', 'C:\\\\Users\\\\smj02\\\\PycharmProjects\\\\KIRD_Lecture20220526\\\\10_딥러닝의기초#이진분류신경망\\\\kfood\\\\SoybeanPasteStew\\\\SoybeanPasteStew20.jpg', 'C:\\\\Users\\\\smj02\\\\PycharmProjects\\\\KIRD_Lecture20220526\\\\10_딥러닝의기초#이진분류신경망\\\\kfood\\\\SoybeanPasteStew\\\\SoybeanPasteStew21.jpg', 'C:\\\\Users\\\\smj02\\\\PycharmProjects\\\\KIRD_Lecture20220526\\\\10_딥러닝의기초#이진분류신경망\\\\kfood\\\\SoybeanPasteStew\\\\SoybeanPasteStew22.jpg', 'C:\\\\Users\\\\smj02\\\\PycharmProjects\\\\KIRD_Lecture20220526\\\\10_딥러닝의기초#이진분류신경망\\\\kfood\\\\SoybeanPasteStew\\\\SoybeanPasteStew23.jpg', 'C:\\\\Users\\\\smj02\\\\PycharmProjects\\\\KIRD_Lecture20220526\\\\10_딥러닝의기초#이진분류신경망\\\\kfood\\\\SoybeanPasteStew\\\\SoybeanPasteStew24.jpg', 'C:\\\\Users\\\\smj02\\\\PycharmProjects\\\\KIRD_Lecture20220526\\\\10_딥러닝의기초#이진분류신경망\\\\kfood\\\\SoybeanPasteStew\\\\SoybeanPasteStew25.JPG', 'C:\\\\Users\\\\smj02\\\\PycharmProjects\\\\KIRD_Lecture20220526\\\\10_딥러닝의기초#이진분류신경망\\\\kfood\\\\SoybeanPasteStew\\\\SoybeanPasteStew26.jpg', 'C:\\\\Users\\\\smj02\\\\PycharmProjects\\\\KIRD_Lecture20220526\\\\10_딥러닝의기초#이진분류신경망\\\\kfood\\\\SoybeanPasteStew\\\\SoybeanPasteStew27.jpg', 'C:\\\\Users\\\\smj02\\\\PycharmProjects\\\\KIRD_Lecture20220526\\\\10_딥러닝의기초#이진분류신경망\\\\kfood\\\\SoybeanPasteStew\\\\SoybeanPasteStew28.jpg', 'C:\\\\Users\\\\smj02\\\\PycharmProjects\\\\KIRD_Lecture20220526\\\\10_딥러닝의기초#이진분류신경망\\\\kfood\\\\SoybeanPasteStew\\\\SoybeanPasteStew29.jpg', 'C:\\\\Users\\\\smj02\\\\PycharmProjects\\\\KIRD_Lecture20220526\\\\10_딥러닝의기초#이진분류신경망\\\\kfood\\\\SoybeanPasteStew\\\\SoybeanPasteStew30.JPG']\n"
     ]
    }
   ],
   "source": [
    "for idx, category in enumerate(categories):\n",
    "    image_dir = os.path.join(os.getcwd(), category)\n",
    "    files = [os.path.join(image_dir, i) for i in os.listdir(image_dir)]\n",
    "    print(files)\n",
    "    for i, f in enumerate(files):\n",
    "        with Image.open(f) as img:\n",
    "            img = img.convert(\"RGB\").resize((image_width, image_height))\n",
    "            data = np.asarray(img)\n",
    "            X.append(data)\n",
    "            y.append(idx)\n",
    "\n",
    "X = np.array(X)\n",
    "y = np.array(y)\n",
    "\n",
    "X_train, X_test, y_train, y_test = train_test_split(X, y)"
   ],
   "metadata": {
    "collapsed": false,
    "pycharm": {
     "name": "#%%\n"
    }
   }
  },
  {
   "cell_type": "code",
   "execution_count": 33,
   "outputs": [],
   "source": [
    "dataset = np.array((X_train, X_test, y_train, y_test), dtype=object)\n",
    "np.save(os.path.join(os.getcwd(), \"kfood.npy\"), dataset)"
   ],
   "metadata": {
    "collapsed": false,
    "pycharm": {
     "name": "#%%\n"
    }
   }
  },
  {
   "cell_type": "markdown",
   "source": [
    "# 7-2. K-food 분류모델 학습하기"
   ],
   "metadata": {
    "collapsed": false,
    "pycharm": {
     "name": "#%% md\n"
    }
   }
  },
  {
   "cell_type": "code",
   "execution_count": 34,
   "outputs": [],
   "source": [
    "from keras.models import Sequential\n",
    "from keras.layers import Convolution2D, MaxPooling2D, Activation, Dropout, Flatten, Dense\n",
    "from keras.regularizers import l2\n",
    "from keras.utils import np_utils\n",
    "import numpy as np"
   ],
   "metadata": {
    "collapsed": false,
    "pycharm": {
     "name": "#%%\n"
    }
   }
  },
  {
   "cell_type": "markdown",
   "source": [
    "## 데이터 로딩 및 전처리"
   ],
   "metadata": {
    "collapsed": false,
    "pycharm": {
     "name": "#%% md\n"
    }
   }
  },
  {
   "cell_type": "code",
   "execution_count": 35,
   "outputs": [
    {
     "name": "stdout",
     "output_type": "stream",
     "text": [
      "X_train[0][0][0] before :  [255 255 255]\n",
      "X_train[0][0][0] after :  [1. 1. 1.]\n",
      "y_train[0] before :  0\n",
      "y_train[0] after :  [1. 0. 0. 0. 0. 0.]\n"
     ]
    }
   ],
   "source": [
    "X_train, X_test, y_train, y_test = np.load(\"./kfood.npy\", allow_pickle=True)\n",
    "print(\"X_train[0][0][0] before : \", X_train[0][0][0])\n",
    "X_train = X_train.astype(float) / 255\n",
    "print(\"X_train[0][0][0] after : \", X_train[0][0][0])\n",
    "X_test = X_test.astype(float) / 255\n",
    "print(\"y_train[0] before : \", y_train[0])\n",
    "y_train = np_utils.to_categorical(y_train, len(categories))\n",
    "print(\"y_train[0] after : \", y_train[0])\n",
    "y_test = np_utils.to_categorical(y_test, len(categories))"
   ],
   "metadata": {
    "collapsed": false,
    "pycharm": {
     "name": "#%%\n"
    }
   }
  },
  {
   "cell_type": "markdown",
   "source": [
    "## 모델 구성"
   ],
   "metadata": {
    "collapsed": false,
    "pycharm": {
     "name": "#%% md\n"
    }
   }
  },
  {
   "cell_type": "code",
   "execution_count": 36,
   "outputs": [],
   "source": [
    "model = Sequential()\n",
    "model.add(Convolution2D(filters=64, kernel_size=1, strides=1, padding=\"same\",\n",
    "                        input_shape=(64, 64, 3), kernel_initializer=\"he_normal\", kernel_regularizer=l2(l=0.01)))\n",
    "model.add(Activation(\"relu\"))\n",
    "model.add(MaxPooling2D(pool_size=(2, 2)))\n",
    "model.add(Dropout(1/4))\n",
    "model.add(Convolution2D(64, 1, 1, \"same\", input_shape=(64, 64, 3), kernel_initializer=\"he_normal\",\n",
    "                        kernel_regularizer=l2(l=0.01)))\n",
    "model.add(Activation(\"relu\"))\n",
    "model.add(Convolution2D(64, 1, 1, \"same\", input_shape=(64, 64, 3), kernel_initializer=\"he_normal\",\n",
    "                        kernel_regularizer=l2(l=0.01)))\n",
    "model.add(MaxPooling2D(pool_size=(2, 2)))\n",
    "model.add(Dropout(1/4))\n",
    "model.add(Flatten())\n",
    "model.add(Dense(512))\n",
    "model.add(Activation(\"relu\"))\n",
    "model.add(Dropout(1/2))\n",
    "model.add(Dense(len(categories)))\n",
    "model.add(Activation(\"softmax\"))\n",
    "model.compile(loss=\"categorical_crossentropy\", optimizer=\"adam\",\n",
    "              metrics=[\"accuracy\"])\n"
   ],
   "metadata": {
    "collapsed": false,
    "pycharm": {
     "name": "#%%\n"
    }
   }
  },
  {
   "cell_type": "markdown",
   "source": [
    "## 모델 학습"
   ],
   "metadata": {
    "collapsed": false,
    "pycharm": {
     "name": "#%% md\n"
    }
   }
  },
  {
   "cell_type": "code",
   "execution_count": 37,
   "outputs": [
    {
     "name": "stdout",
     "output_type": "stream",
     "text": [
      "Epoch 1/100\n",
      "9/9 [==============================] - 1s 65ms/step - loss: 24.2256 - accuracy: 0.1630\n",
      "Epoch 2/100\n",
      "9/9 [==============================] - 1s 80ms/step - loss: 10.5676 - accuracy: 0.2444\n",
      "Epoch 3/100\n",
      "9/9 [==============================] - 1s 82ms/step - loss: 6.0779 - accuracy: 0.3704\n",
      "Epoch 4/100\n",
      "9/9 [==============================] - 1s 80ms/step - loss: 5.2780 - accuracy: 0.3333\n",
      "Epoch 5/100\n",
      "9/9 [==============================] - 1s 80ms/step - loss: 4.9352 - accuracy: 0.3852\n",
      "Epoch 6/100\n",
      "9/9 [==============================] - 1s 76ms/step - loss: 4.6317 - accuracy: 0.5407\n",
      "Epoch 7/100\n",
      "9/9 [==============================] - 1s 75ms/step - loss: 4.2248 - accuracy: 0.6444\n",
      "Epoch 8/100\n",
      "9/9 [==============================] - 1s 74ms/step - loss: 4.2838 - accuracy: 0.6000\n",
      "Epoch 9/100\n",
      "9/9 [==============================] - 1s 75ms/step - loss: 4.0972 - accuracy: 0.5926\n",
      "Epoch 10/100\n",
      "9/9 [==============================] - 1s 73ms/step - loss: 3.9857 - accuracy: 0.7037\n",
      "Epoch 11/100\n",
      "9/9 [==============================] - 1s 77ms/step - loss: 3.8276 - accuracy: 0.6593\n",
      "Epoch 12/100\n",
      "9/9 [==============================] - 1s 74ms/step - loss: 3.6689 - accuracy: 0.7556\n",
      "Epoch 13/100\n",
      "9/9 [==============================] - 1s 73ms/step - loss: 3.6123 - accuracy: 0.7926\n",
      "Epoch 14/100\n",
      "9/9 [==============================] - 1s 75ms/step - loss: 3.5865 - accuracy: 0.7407\n",
      "Epoch 15/100\n",
      "9/9 [==============================] - 1s 75ms/step - loss: 3.4408 - accuracy: 0.8296\n",
      "Epoch 16/100\n",
      "9/9 [==============================] - 1s 76ms/step - loss: 3.3784 - accuracy: 0.8148\n",
      "Epoch 17/100\n",
      "9/9 [==============================] - 1s 75ms/step - loss: 3.3263 - accuracy: 0.8074\n",
      "Epoch 18/100\n",
      "9/9 [==============================] - 1s 73ms/step - loss: 3.2273 - accuracy: 0.8593\n",
      "Epoch 19/100\n",
      "9/9 [==============================] - 1s 75ms/step - loss: 3.1497 - accuracy: 0.8593\n",
      "Epoch 20/100\n",
      "9/9 [==============================] - 1s 77ms/step - loss: 3.1165 - accuracy: 0.8593\n",
      "Epoch 21/100\n",
      "9/9 [==============================] - 1s 76ms/step - loss: 3.1280 - accuracy: 0.8593\n",
      "Epoch 22/100\n",
      "9/9 [==============================] - 1s 74ms/step - loss: 3.0399 - accuracy: 0.8519\n",
      "Epoch 23/100\n",
      "9/9 [==============================] - 1s 76ms/step - loss: 2.9223 - accuracy: 0.8667\n",
      "Epoch 24/100\n",
      "9/9 [==============================] - 1s 77ms/step - loss: 2.8173 - accuracy: 0.9037\n",
      "Epoch 25/100\n",
      "9/9 [==============================] - 1s 76ms/step - loss: 2.8414 - accuracy: 0.9037\n",
      "Epoch 26/100\n",
      "9/9 [==============================] - 1s 77ms/step - loss: 2.7462 - accuracy: 0.9407\n",
      "Epoch 27/100\n",
      "9/9 [==============================] - 1s 76ms/step - loss: 2.7968 - accuracy: 0.8889\n",
      "Epoch 28/100\n",
      "9/9 [==============================] - 1s 74ms/step - loss: 2.6931 - accuracy: 0.9111\n",
      "Epoch 29/100\n",
      "9/9 [==============================] - 1s 76ms/step - loss: 2.6345 - accuracy: 0.9185\n",
      "Epoch 30/100\n",
      "9/9 [==============================] - 1s 75ms/step - loss: 2.5844 - accuracy: 0.9037\n",
      "Epoch 31/100\n",
      "9/9 [==============================] - 1s 75ms/step - loss: 2.5102 - accuracy: 0.9630\n",
      "Epoch 32/100\n",
      "9/9 [==============================] - 1s 73ms/step - loss: 2.4864 - accuracy: 0.9481\n",
      "Epoch 33/100\n",
      "9/9 [==============================] - 1s 75ms/step - loss: 2.4404 - accuracy: 0.9556\n",
      "Epoch 34/100\n",
      "9/9 [==============================] - 1s 74ms/step - loss: 2.4649 - accuracy: 0.9259\n",
      "Epoch 35/100\n",
      "9/9 [==============================] - 1s 75ms/step - loss: 2.4012 - accuracy: 0.9630\n",
      "Epoch 36/100\n",
      "9/9 [==============================] - 1s 76ms/step - loss: 2.3192 - accuracy: 0.9852\n",
      "Epoch 37/100\n",
      "9/9 [==============================] - 1s 72ms/step - loss: 2.3939 - accuracy: 0.9407\n",
      "Epoch 38/100\n",
      "9/9 [==============================] - 1s 76ms/step - loss: 2.3403 - accuracy: 0.9481\n",
      "Epoch 39/100\n",
      "9/9 [==============================] - 1s 76ms/step - loss: 2.2758 - accuracy: 0.9556\n",
      "Epoch 40/100\n",
      "9/9 [==============================] - 1s 74ms/step - loss: 2.2190 - accuracy: 0.9852\n",
      "Epoch 41/100\n",
      "9/9 [==============================] - 1s 74ms/step - loss: 2.2214 - accuracy: 0.9852\n",
      "Epoch 42/100\n",
      "9/9 [==============================] - 1s 76ms/step - loss: 2.2258 - accuracy: 0.9704\n",
      "Epoch 43/100\n",
      "9/9 [==============================] - 1s 75ms/step - loss: 2.1500 - accuracy: 0.9704\n",
      "Epoch 44/100\n",
      "9/9 [==============================] - 1s 74ms/step - loss: 2.1405 - accuracy: 0.9704\n",
      "Epoch 45/100\n",
      "9/9 [==============================] - 1s 75ms/step - loss: 2.1083 - accuracy: 0.9852\n",
      "Epoch 46/100\n",
      "9/9 [==============================] - 1s 76ms/step - loss: 2.1120 - accuracy: 0.9778\n",
      "Epoch 47/100\n",
      "9/9 [==============================] - 1s 79ms/step - loss: 2.0913 - accuracy: 0.9481\n",
      "Epoch 48/100\n",
      "9/9 [==============================] - 1s 79ms/step - loss: 2.2199 - accuracy: 0.9037\n",
      "Epoch 49/100\n",
      "9/9 [==============================] - 1s 84ms/step - loss: 2.1968 - accuracy: 0.9185\n",
      "Epoch 50/100\n",
      "9/9 [==============================] - 1s 82ms/step - loss: 2.1393 - accuracy: 0.9333\n",
      "Epoch 51/100\n",
      "9/9 [==============================] - 1s 76ms/step - loss: 2.1077 - accuracy: 0.9259\n",
      "Epoch 52/100\n",
      "9/9 [==============================] - 1s 75ms/step - loss: 2.0286 - accuracy: 0.9630\n",
      "Epoch 53/100\n",
      "9/9 [==============================] - 1s 75ms/step - loss: 2.0052 - accuracy: 0.9704\n",
      "Epoch 54/100\n",
      "9/9 [==============================] - 1s 73ms/step - loss: 1.9637 - accuracy: 0.9704\n",
      "Epoch 55/100\n",
      "9/9 [==============================] - 1s 73ms/step - loss: 1.9002 - accuracy: 0.9926\n",
      "Epoch 56/100\n",
      "9/9 [==============================] - 1s 76ms/step - loss: 1.8973 - accuracy: 0.9926\n",
      "Epoch 57/100\n",
      "9/9 [==============================] - 1s 74ms/step - loss: 1.8427 - accuracy: 1.0000\n",
      "Epoch 58/100\n",
      "9/9 [==============================] - 1s 76ms/step - loss: 1.8523 - accuracy: 1.0000\n",
      "Epoch 59/100\n",
      "9/9 [==============================] - 1s 75ms/step - loss: 1.8444 - accuracy: 0.9852\n",
      "Epoch 60/100\n",
      "9/9 [==============================] - 1s 75ms/step - loss: 1.8099 - accuracy: 0.9926\n",
      "Epoch 61/100\n",
      "9/9 [==============================] - 1s 79ms/step - loss: 1.7931 - accuracy: 0.9778\n",
      "Epoch 62/100\n",
      "9/9 [==============================] - 1s 80ms/step - loss: 1.8040 - accuracy: 0.9630\n",
      "Epoch 63/100\n",
      "9/9 [==============================] - 1s 80ms/step - loss: 1.7613 - accuracy: 0.9852\n",
      "Epoch 64/100\n",
      "9/9 [==============================] - 1s 81ms/step - loss: 1.7382 - accuracy: 0.9926\n",
      "Epoch 65/100\n",
      "9/9 [==============================] - 1s 78ms/step - loss: 1.7213 - accuracy: 0.9926\n",
      "Epoch 66/100\n",
      "9/9 [==============================] - 1s 79ms/step - loss: 1.7369 - accuracy: 0.9926\n",
      "Epoch 67/100\n",
      "9/9 [==============================] - 1s 78ms/step - loss: 1.7166 - accuracy: 0.9704\n",
      "Epoch 68/100\n",
      "9/9 [==============================] - 1s 79ms/step - loss: 1.6972 - accuracy: 0.9926\n",
      "Epoch 69/100\n",
      "9/9 [==============================] - 1s 78ms/step - loss: 1.6917 - accuracy: 0.9926\n",
      "Epoch 70/100\n",
      "9/9 [==============================] - 1s 79ms/step - loss: 1.6609 - accuracy: 0.9926\n",
      "Epoch 71/100\n",
      "9/9 [==============================] - 1s 77ms/step - loss: 1.6245 - accuracy: 1.0000\n",
      "Epoch 72/100\n",
      "9/9 [==============================] - 1s 76ms/step - loss: 1.6112 - accuracy: 1.0000\n",
      "Epoch 73/100\n",
      "9/9 [==============================] - 1s 73ms/step - loss: 1.5937 - accuracy: 1.0000\n",
      "Epoch 74/100\n",
      "9/9 [==============================] - 1s 78ms/step - loss: 1.5726 - accuracy: 1.0000\n",
      "Epoch 75/100\n",
      "9/9 [==============================] - 1s 77ms/step - loss: 1.5964 - accuracy: 0.9926\n",
      "Epoch 76/100\n",
      "9/9 [==============================] - 1s 77ms/step - loss: 1.5682 - accuracy: 0.9852\n",
      "Epoch 77/100\n",
      "9/9 [==============================] - 1s 78ms/step - loss: 1.5432 - accuracy: 1.0000\n",
      "Epoch 78/100\n",
      "9/9 [==============================] - 1s 77ms/step - loss: 1.5255 - accuracy: 1.0000\n",
      "Epoch 79/100\n",
      "9/9 [==============================] - 1s 77ms/step - loss: 1.5362 - accuracy: 0.9852\n",
      "Epoch 80/100\n",
      "9/9 [==============================] - 1s 76ms/step - loss: 1.5199 - accuracy: 0.9926\n",
      "Epoch 81/100\n",
      "9/9 [==============================] - 1s 80ms/step - loss: 1.5039 - accuracy: 0.9852\n",
      "Epoch 82/100\n",
      "9/9 [==============================] - 1s 78ms/step - loss: 1.4742 - accuracy: 1.0000\n",
      "Epoch 83/100\n",
      "9/9 [==============================] - 1s 75ms/step - loss: 1.4560 - accuracy: 1.0000\n",
      "Epoch 84/100\n",
      "9/9 [==============================] - 1s 83ms/step - loss: 1.4461 - accuracy: 1.0000\n",
      "Epoch 85/100\n",
      "9/9 [==============================] - 1s 80ms/step - loss: 1.4379 - accuracy: 0.9926\n",
      "Epoch 86/100\n",
      "9/9 [==============================] - 1s 82ms/step - loss: 1.4506 - accuracy: 0.9778\n",
      "Epoch 87/100\n",
      "9/9 [==============================] - 1s 78ms/step - loss: 1.4162 - accuracy: 0.9926\n",
      "Epoch 88/100\n",
      "9/9 [==============================] - 1s 77ms/step - loss: 1.4400 - accuracy: 0.9852\n",
      "Epoch 89/100\n",
      "9/9 [==============================] - 1s 77ms/step - loss: 1.4314 - accuracy: 0.9630\n",
      "Epoch 90/100\n",
      "9/9 [==============================] - 1s 77ms/step - loss: 1.4108 - accuracy: 0.9778\n",
      "Epoch 91/100\n",
      "9/9 [==============================] - 1s 76ms/step - loss: 1.3932 - accuracy: 0.9926\n",
      "Epoch 92/100\n",
      "9/9 [==============================] - 1s 76ms/step - loss: 1.3583 - accuracy: 1.0000\n",
      "Epoch 93/100\n",
      "9/9 [==============================] - 1s 78ms/step - loss: 1.3473 - accuracy: 1.0000\n",
      "Epoch 94/100\n",
      "9/9 [==============================] - 1s 76ms/step - loss: 1.3398 - accuracy: 0.9926\n",
      "Epoch 95/100\n",
      "9/9 [==============================] - 1s 79ms/step - loss: 1.3386 - accuracy: 0.9926\n",
      "Epoch 96/100\n",
      "9/9 [==============================] - 1s 78ms/step - loss: 1.3267 - accuracy: 0.9852\n",
      "Epoch 97/100\n",
      "9/9 [==============================] - 1s 77ms/step - loss: 1.3526 - accuracy: 0.9704\n",
      "Epoch 98/100\n",
      "9/9 [==============================] - 1s 78ms/step - loss: 1.3225 - accuracy: 0.9852\n",
      "Epoch 99/100\n",
      "9/9 [==============================] - 1s 78ms/step - loss: 1.3144 - accuracy: 0.9704\n",
      "Epoch 100/100\n",
      "9/9 [==============================] - 1s 77ms/step - loss: 1.2753 - accuracy: 1.0000\n"
     ]
    },
    {
     "data": {
      "text/plain": "<keras.callbacks.History at 0x1f2a96607f0>"
     },
     "execution_count": 37,
     "metadata": {},
     "output_type": "execute_result"
    }
   ],
   "source": [
    "model.fit(X_train, y_train, batch_size=16, epochs=100)"
   ],
   "metadata": {
    "collapsed": false,
    "pycharm": {
     "name": "#%%\n"
    }
   }
  },
  {
   "cell_type": "markdown",
   "source": [
    "## 모델 평가하기"
   ],
   "metadata": {
    "collapsed": false,
    "pycharm": {
     "name": "#%% md\n"
    }
   }
  },
  {
   "cell_type": "code",
   "execution_count": 38,
   "outputs": [
    {
     "name": "stdout",
     "output_type": "stream",
     "text": [
      "2/2 [==============================] - 0s 12ms/step - loss: 3.6006 - accuracy: 0.4889\n",
      "loss:  3.600600242614746\n",
      "accuracy:  0.4888888895511627\n"
     ]
    }
   ],
   "source": [
    "score_test = model.evaluate(X_test, y_test)\n",
    "print(\"loss: \", score_test[0])\n",
    "print(\"accuracy: \", score_test[1])"
   ],
   "metadata": {
    "collapsed": false,
    "pycharm": {
     "name": "#%%\n"
    }
   }
  },
  {
   "cell_type": "code",
   "execution_count": 39,
   "outputs": [
    {
     "name": "stdout",
     "output_type": "stream",
     "text": [
      "5/5 [==============================] - 0s 19ms/step - loss: 1.3211 - accuracy: 0.9630\n",
      "loss:  1.3210595846176147\n",
      "accuracy:  0.9629629850387573\n"
     ]
    }
   ],
   "source": [
    "score_train = model.evaluate(X_train, y_train)\n",
    "print(\"loss: \", score_train[0])\n",
    "print(\"accuracy: \", score_train[1])"
   ],
   "metadata": {
    "collapsed": false,
    "pycharm": {
     "name": "#%%\n"
    }
   }
  },
  {
   "cell_type": "code",
   "execution_count": 40,
   "outputs": [
    {
     "name": "stdout",
     "output_type": "stream",
     "text": [
      "Epoch 1/100\n",
      "9/9 [==============================] - 1s 7ms/step - loss: 1.9945 - accuracy: 0.1481\n",
      "Epoch 2/100\n",
      "9/9 [==============================] - 0s 7ms/step - loss: 1.9110 - accuracy: 0.1778\n",
      "Epoch 3/100\n",
      "9/9 [==============================] - 0s 7ms/step - loss: 1.8449 - accuracy: 0.2000\n",
      "Epoch 4/100\n",
      "9/9 [==============================] - 0s 7ms/step - loss: 1.8097 - accuracy: 0.2000\n",
      "Epoch 5/100\n",
      "9/9 [==============================] - 0s 7ms/step - loss: 1.7615 - accuracy: 0.3037\n",
      "Epoch 6/100\n",
      "9/9 [==============================] - 0s 7ms/step - loss: 1.7675 - accuracy: 0.2963\n",
      "Epoch 7/100\n",
      "9/9 [==============================] - 0s 6ms/step - loss: 1.7359 - accuracy: 0.2963\n",
      "Epoch 8/100\n",
      "9/9 [==============================] - 0s 7ms/step - loss: 1.7231 - accuracy: 0.2593\n",
      "Epoch 9/100\n",
      "9/9 [==============================] - 0s 7ms/step - loss: 1.6454 - accuracy: 0.4148\n",
      "Epoch 10/100\n",
      "9/9 [==============================] - 0s 6ms/step - loss: 1.5480 - accuracy: 0.3630\n",
      "Epoch 11/100\n",
      "9/9 [==============================] - 0s 6ms/step - loss: 1.4385 - accuracy: 0.4074\n",
      "Epoch 12/100\n",
      "9/9 [==============================] - 0s 7ms/step - loss: 1.3330 - accuracy: 0.4148\n",
      "Epoch 13/100\n",
      "9/9 [==============================] - 0s 6ms/step - loss: 1.3251 - accuracy: 0.4667\n",
      "Epoch 14/100\n",
      "9/9 [==============================] - 0s 6ms/step - loss: 1.1336 - accuracy: 0.5926\n",
      "Epoch 15/100\n",
      "9/9 [==============================] - 0s 6ms/step - loss: 1.1556 - accuracy: 0.5037\n",
      "Epoch 16/100\n",
      "9/9 [==============================] - 0s 6ms/step - loss: 1.1232 - accuracy: 0.5852\n",
      "Epoch 17/100\n",
      "9/9 [==============================] - 0s 7ms/step - loss: 1.0345 - accuracy: 0.5481\n",
      "Epoch 18/100\n",
      "9/9 [==============================] - 0s 7ms/step - loss: 1.0909 - accuracy: 0.5630\n",
      "Epoch 19/100\n",
      "9/9 [==============================] - 0s 7ms/step - loss: 1.0765 - accuracy: 0.5556\n",
      "Epoch 20/100\n",
      "9/9 [==============================] - 0s 7ms/step - loss: 1.0033 - accuracy: 0.5926\n",
      "Epoch 21/100\n",
      "9/9 [==============================] - 0s 7ms/step - loss: 0.9032 - accuracy: 0.6296\n",
      "Epoch 22/100\n",
      "9/9 [==============================] - 0s 7ms/step - loss: 0.7965 - accuracy: 0.6667\n",
      "Epoch 23/100\n",
      "9/9 [==============================] - 0s 7ms/step - loss: 0.9143 - accuracy: 0.6000\n",
      "Epoch 24/100\n",
      "9/9 [==============================] - 0s 6ms/step - loss: 0.8640 - accuracy: 0.6370\n",
      "Epoch 25/100\n",
      "9/9 [==============================] - 0s 6ms/step - loss: 0.8241 - accuracy: 0.6889\n",
      "Epoch 26/100\n",
      "9/9 [==============================] - 0s 6ms/step - loss: 0.8388 - accuracy: 0.6370\n",
      "Epoch 27/100\n",
      "9/9 [==============================] - 0s 6ms/step - loss: 0.7124 - accuracy: 0.7407\n",
      "Epoch 28/100\n",
      "9/9 [==============================] - 0s 7ms/step - loss: 0.6057 - accuracy: 0.7704\n",
      "Epoch 29/100\n",
      "9/9 [==============================] - 0s 6ms/step - loss: 0.6728 - accuracy: 0.7556\n",
      "Epoch 30/100\n",
      "9/9 [==============================] - 0s 6ms/step - loss: 0.6739 - accuracy: 0.7778\n",
      "Epoch 31/100\n",
      "9/9 [==============================] - 0s 6ms/step - loss: 0.5231 - accuracy: 0.8222\n",
      "Epoch 32/100\n",
      "9/9 [==============================] - 0s 6ms/step - loss: 0.5404 - accuracy: 0.8222\n",
      "Epoch 33/100\n",
      "9/9 [==============================] - 0s 6ms/step - loss: 0.5354 - accuracy: 0.7926\n",
      "Epoch 34/100\n",
      "9/9 [==============================] - 0s 6ms/step - loss: 0.4856 - accuracy: 0.8444\n",
      "Epoch 35/100\n",
      "9/9 [==============================] - 0s 6ms/step - loss: 0.4434 - accuracy: 0.8444\n",
      "Epoch 36/100\n",
      "9/9 [==============================] - 0s 6ms/step - loss: 0.5446 - accuracy: 0.7778\n",
      "Epoch 37/100\n",
      "9/9 [==============================] - 0s 7ms/step - loss: 0.5275 - accuracy: 0.8296\n",
      "Epoch 38/100\n",
      "9/9 [==============================] - 0s 6ms/step - loss: 0.5214 - accuracy: 0.8296\n",
      "Epoch 39/100\n",
      "9/9 [==============================] - 0s 7ms/step - loss: 0.4740 - accuracy: 0.7778\n",
      "Epoch 40/100\n",
      "9/9 [==============================] - 0s 7ms/step - loss: 0.4013 - accuracy: 0.8741\n",
      "Epoch 41/100\n",
      "9/9 [==============================] - 0s 7ms/step - loss: 0.3698 - accuracy: 0.8963\n",
      "Epoch 42/100\n",
      "9/9 [==============================] - 0s 7ms/step - loss: 0.3380 - accuracy: 0.8815\n",
      "Epoch 43/100\n",
      "9/9 [==============================] - 0s 7ms/step - loss: 0.3596 - accuracy: 0.8667\n",
      "Epoch 44/100\n",
      "9/9 [==============================] - 0s 6ms/step - loss: 0.3796 - accuracy: 0.8667\n",
      "Epoch 45/100\n",
      "9/9 [==============================] - 0s 6ms/step - loss: 0.2900 - accuracy: 0.9037\n",
      "Epoch 46/100\n",
      "9/9 [==============================] - 0s 6ms/step - loss: 0.2216 - accuracy: 0.9407\n",
      "Epoch 47/100\n",
      "9/9 [==============================] - 0s 6ms/step - loss: 0.2283 - accuracy: 0.9630\n",
      "Epoch 48/100\n",
      "9/9 [==============================] - 0s 6ms/step - loss: 0.2422 - accuracy: 0.9333\n",
      "Epoch 49/100\n",
      "9/9 [==============================] - 0s 6ms/step - loss: 0.2232 - accuracy: 0.9111\n",
      "Epoch 50/100\n",
      "9/9 [==============================] - 0s 6ms/step - loss: 0.2014 - accuracy: 0.9333\n",
      "Epoch 51/100\n",
      "9/9 [==============================] - 0s 6ms/step - loss: 0.2431 - accuracy: 0.9185\n",
      "Epoch 52/100\n",
      "9/9 [==============================] - 0s 6ms/step - loss: 0.2518 - accuracy: 0.9333\n",
      "Epoch 53/100\n",
      "9/9 [==============================] - 0s 6ms/step - loss: 0.2376 - accuracy: 0.9185\n",
      "Epoch 54/100\n",
      "9/9 [==============================] - 0s 6ms/step - loss: 0.2671 - accuracy: 0.8889\n",
      "Epoch 55/100\n",
      "9/9 [==============================] - 0s 6ms/step - loss: 0.1541 - accuracy: 0.9630\n",
      "Epoch 56/100\n",
      "9/9 [==============================] - 0s 6ms/step - loss: 0.1603 - accuracy: 0.9630\n",
      "Epoch 57/100\n",
      "9/9 [==============================] - 0s 6ms/step - loss: 0.1809 - accuracy: 0.9333\n",
      "Epoch 58/100\n",
      "9/9 [==============================] - 0s 6ms/step - loss: 0.1783 - accuracy: 0.9481\n",
      "Epoch 59/100\n",
      "9/9 [==============================] - 0s 6ms/step - loss: 0.1182 - accuracy: 0.9852\n",
      "Epoch 60/100\n",
      "9/9 [==============================] - 0s 6ms/step - loss: 0.1450 - accuracy: 0.9704\n",
      "Epoch 61/100\n",
      "9/9 [==============================] - 0s 5ms/step - loss: 0.0978 - accuracy: 0.9926\n",
      "Epoch 62/100\n",
      "9/9 [==============================] - 0s 6ms/step - loss: 0.1262 - accuracy: 0.9778\n",
      "Epoch 63/100\n",
      "9/9 [==============================] - 0s 7ms/step - loss: 0.0977 - accuracy: 0.9778\n",
      "Epoch 64/100\n",
      "9/9 [==============================] - 0s 6ms/step - loss: 0.1320 - accuracy: 0.9704\n",
      "Epoch 65/100\n",
      "9/9 [==============================] - 0s 8ms/step - loss: 0.0804 - accuracy: 0.9852\n",
      "Epoch 66/100\n",
      "9/9 [==============================] - 0s 5ms/step - loss: 0.0954 - accuracy: 0.9852\n",
      "Epoch 67/100\n",
      "9/9 [==============================] - 0s 6ms/step - loss: 0.1827 - accuracy: 0.9556\n",
      "Epoch 68/100\n",
      "9/9 [==============================] - 0s 6ms/step - loss: 0.1544 - accuracy: 0.9481\n",
      "Epoch 69/100\n",
      "9/9 [==============================] - 0s 6ms/step - loss: 0.1347 - accuracy: 0.9704\n",
      "Epoch 70/100\n",
      "9/9 [==============================] - 0s 6ms/step - loss: 0.1099 - accuracy: 0.9852\n",
      "Epoch 71/100\n",
      "9/9 [==============================] - 0s 6ms/step - loss: 0.0855 - accuracy: 0.9778\n",
      "Epoch 72/100\n",
      "9/9 [==============================] - 0s 6ms/step - loss: 0.0917 - accuracy: 0.9852\n",
      "Epoch 73/100\n",
      "9/9 [==============================] - 0s 5ms/step - loss: 0.1177 - accuracy: 0.9778\n",
      "Epoch 74/100\n",
      "9/9 [==============================] - 0s 4ms/step - loss: 0.0746 - accuracy: 0.9926\n",
      "Epoch 75/100\n",
      "9/9 [==============================] - 0s 7ms/step - loss: 0.0630 - accuracy: 1.0000\n",
      "Epoch 76/100\n",
      "9/9 [==============================] - 0s 5ms/step - loss: 0.0763 - accuracy: 0.9852\n",
      "Epoch 77/100\n",
      "9/9 [==============================] - 0s 5ms/step - loss: 0.0741 - accuracy: 0.9926\n",
      "Epoch 78/100\n",
      "9/9 [==============================] - 0s 7ms/step - loss: 0.0538 - accuracy: 1.0000\n",
      "Epoch 79/100\n",
      "9/9 [==============================] - 0s 8ms/step - loss: 0.0680 - accuracy: 1.0000\n",
      "Epoch 80/100\n",
      "9/9 [==============================] - 0s 9ms/step - loss: 0.0664 - accuracy: 1.0000\n",
      "Epoch 81/100\n",
      "9/9 [==============================] - 0s 7ms/step - loss: 0.0571 - accuracy: 0.9926\n",
      "Epoch 82/100\n",
      "9/9 [==============================] - 0s 7ms/step - loss: 0.0627 - accuracy: 0.9926\n",
      "Epoch 83/100\n",
      "9/9 [==============================] - 0s 7ms/step - loss: 0.0578 - accuracy: 1.0000\n",
      "Epoch 84/100\n",
      "9/9 [==============================] - 0s 7ms/step - loss: 0.0637 - accuracy: 0.9926\n",
      "Epoch 85/100\n",
      "9/9 [==============================] - 0s 6ms/step - loss: 0.0600 - accuracy: 0.9926\n",
      "Epoch 86/100\n",
      "9/9 [==============================] - 0s 7ms/step - loss: 0.1064 - accuracy: 0.9704\n",
      "Epoch 87/100\n",
      "9/9 [==============================] - 0s 6ms/step - loss: 0.0694 - accuracy: 0.9852\n",
      "Epoch 88/100\n",
      "9/9 [==============================] - 0s 7ms/step - loss: 0.0818 - accuracy: 0.9852\n",
      "Epoch 89/100\n",
      "9/9 [==============================] - 0s 7ms/step - loss: 0.0825 - accuracy: 0.9852\n",
      "Epoch 90/100\n",
      "9/9 [==============================] - 0s 7ms/step - loss: 0.1157 - accuracy: 0.9704\n",
      "Epoch 91/100\n",
      "9/9 [==============================] - 0s 7ms/step - loss: 0.0703 - accuracy: 0.9926\n",
      "Epoch 92/100\n",
      "9/9 [==============================] - 0s 6ms/step - loss: 0.0938 - accuracy: 0.9778\n",
      "Epoch 93/100\n",
      "9/9 [==============================] - 0s 6ms/step - loss: 0.0914 - accuracy: 0.9778\n",
      "Epoch 94/100\n",
      "9/9 [==============================] - 0s 7ms/step - loss: 0.0625 - accuracy: 1.0000\n",
      "Epoch 95/100\n",
      "9/9 [==============================] - 0s 6ms/step - loss: 0.0610 - accuracy: 1.0000\n",
      "Epoch 96/100\n",
      "9/9 [==============================] - 0s 6ms/step - loss: 0.0547 - accuracy: 1.0000\n",
      "Epoch 97/100\n",
      "9/9 [==============================] - 0s 6ms/step - loss: 0.0710 - accuracy: 0.9926\n",
      "Epoch 98/100\n",
      "9/9 [==============================] - 0s 7ms/step - loss: 0.0436 - accuracy: 1.0000\n",
      "Epoch 99/100\n",
      "9/9 [==============================] - 0s 8ms/step - loss: 0.0557 - accuracy: 0.9852\n",
      "Epoch 100/100\n",
      "9/9 [==============================] - 0s 7ms/step - loss: 0.0464 - accuracy: 1.0000\n",
      "2/2 [==============================] - 0s 4ms/step - loss: 1.8234 - accuracy: 0.6444\n",
      "loss:  1.8234084844589233\n",
      "accuracy:  0.644444465637207\n"
     ]
    }
   ],
   "source": [
    "# 정확도를 최소 50% 이상 끌어올리려면???? NGD!\n",
    "# (1) 가장 먼저 모델이 언더피팅인지 오버피팅인지 구분\n",
    "# (2) 언더피팅의 경우 먼저 모델의 복잡도를 올려볼 것(데이터 추가는 큰 향상을 보이지 않음)\n",
    "# (3) 오버피팅의 경우 먼저 ①데이터셋 추가, ②규제 강화 또는 ③드롭아웃 등의 방법을 사용해볼 것\n",
    "\n",
    "model = Sequential()\n",
    "model.add(Convolution2D(filters=32, kernel_size=3, strides=3, padding=\"same\",\n",
    "                        input_shape=(64, 64, 3), kernel_initializer=\"he_normal\", kernel_regularizer=l2(l=0.0001)))\n",
    "model.add(Activation(\"relu\"))\n",
    "model.add(MaxPooling2D(pool_size=(2, 2)))\n",
    "model.add(Dropout(1/4))\n",
    "model.add(Convolution2D(64, 3, 3, \"same\", input_shape=(64, 64, 3), kernel_initializer=\"he_normal\",\n",
    "                        kernel_regularizer=l2(l=0.0001)))\n",
    "model.add(Activation(\"relu\"))\n",
    "model.add(Convolution2D(64, 3, 3, \"same\", input_shape=(64, 64, 3), kernel_initializer=\"he_normal\",\n",
    "                        kernel_regularizer=l2(l=0.0001)))\n",
    "model.add(MaxPooling2D(pool_size=(2, 2)))\n",
    "model.add(Dropout(1/4))\n",
    "model.add(Flatten())\n",
    "model.add(Dense(512))\n",
    "model.add(Activation(\"relu\"))\n",
    "model.add(Dropout(1/2))\n",
    "model.add(Dense(len(categories)))\n",
    "model.add(Activation(\"softmax\"))\n",
    "model.compile(loss=\"categorical_crossentropy\", optimizer=\"adam\",\n",
    "              metrics=[\"accuracy\"])\n",
    "\n",
    "model.fit(X_train, y_train, batch_size=16, epochs=100)\n",
    "\n",
    "score_test = model.evaluate(X_test, y_test)\n",
    "print(\"loss: \", score_test[0])\n",
    "print(\"accuracy: \", score_test[1])"
   ],
   "metadata": {
    "collapsed": false,
    "pycharm": {
     "name": "#%%\n"
    }
   }
  },
  {
   "cell_type": "markdown",
   "source": [
    "## 모델 저장"
   ],
   "metadata": {
    "collapsed": false,
    "pycharm": {
     "name": "#%% md\n"
    }
   }
  },
  {
   "cell_type": "code",
   "execution_count": 41,
   "outputs": [],
   "source": [
    "model.save(\"./kfood_model.h5\")"
   ],
   "metadata": {
    "collapsed": false,
    "pycharm": {
     "name": "#%%\n"
    }
   }
  },
  {
   "cell_type": "markdown",
   "source": [
    "# 만들어진 모델을 활용한 음식 분류기"
   ],
   "metadata": {
    "collapsed": false,
    "pycharm": {
     "name": "#%% md\n"
    }
   }
  },
  {
   "cell_type": "code",
   "execution_count": 60,
   "outputs": [
    {
     "name": "stdout",
     "output_type": "stream",
     "text": [
      "2/2 [==============================] - 0s 5ms/step\n",
      "입력 :  chicken_11.jpg\n",
      "예측 :  [0] Chicken 99.97%\n",
      "[틀림]\n",
      "\n",
      "\n",
      "입력 :  chicken_12.jpg\n",
      "예측 :  [0] Chicken 100.00%\n",
      "[틀림]\n",
      "\n",
      "\n",
      "입력 :  chicken_13.jpg\n",
      "예측 :  [0] Chicken 99.98%\n",
      "[틀림]\n",
      "\n",
      "\n",
      "입력 :  chicken_14.jpg\n",
      "예측 :  [0] Chicken 100.00%\n",
      "[틀림]\n",
      "\n",
      "\n",
      "입력 :  chicken_15.jpg\n",
      "예측 :  [0] Chicken 99.92%\n",
      "[틀림]\n",
      "\n",
      "\n",
      "입력 :  chicken_16.jpg\n",
      "예측 :  [0] Chicken 99.86%\n",
      "[틀림]\n",
      "\n",
      "\n",
      "입력 :  chicken_17.jpg\n",
      "예측 :  [0] Chicken 100.00%\n",
      "[틀림]\n",
      "\n",
      "\n",
      "입력 :  chicken_18.jpg\n",
      "예측 :  [0] Chicken 100.00%\n",
      "[틀림]\n",
      "\n",
      "\n",
      "입력 :  chicken_19.jpg\n",
      "예측 :  [0] Chicken 100.00%\n",
      "[틀림]\n",
      "\n",
      "\n",
      "입력 :  chicken_20.jpg\n",
      "예측 :  [0] Chicken 99.99%\n",
      "[틀림]\n",
      "\n",
      "\n",
      "입력 :  Dolsotbab_11.jpg\n",
      "예측 :  [1] Dolsotbab 100.00%\n",
      "[맞음]\n",
      "\n",
      "\n",
      "입력 :  Dolsotbab_12.jpg\n",
      "예측 :  [1] Dolsotbab 99.99%\n",
      "[맞음]\n",
      "\n",
      "\n",
      "입력 :  Dolsotbab_13.jpg\n",
      "예측 :  [5] SoybeanPasteStew 88.07%\n",
      "[틀림]\n",
      "\n",
      "\n",
      "입력 :  Dolsotbab_14.jpg\n",
      "예측 :  [1] Dolsotbab 99.99%\n",
      "[맞음]\n",
      "\n",
      "\n",
      "입력 :  Dolsotbab_15.jpg\n",
      "예측 :  [1] Dolsotbab 100.00%\n",
      "[맞음]\n",
      "\n",
      "\n",
      "입력 :  Dolsotbab_16.jpg\n",
      "예측 :  [1] Dolsotbab 100.00%\n",
      "[맞음]\n",
      "\n",
      "\n",
      "입력 :  Dolsotbab_17.jpg\n",
      "예측 :  [1] Dolsotbab 100.00%\n",
      "[맞음]\n",
      "\n",
      "\n",
      "입력 :  Dolsotbab_18.jpg\n",
      "예측 :  [1] Dolsotbab 100.00%\n",
      "[맞음]\n",
      "\n",
      "\n",
      "입력 :  Dolsotbab_19.jpg\n",
      "예측 :  [1] Dolsotbab 100.00%\n",
      "[맞음]\n",
      "\n",
      "\n",
      "입력 :  Dolsotbab_20.jpg\n",
      "예측 :  [1] Dolsotbab 100.00%\n",
      "[맞음]\n",
      "\n",
      "\n",
      "입력 :  Jeyugbokk-eum11.jpg\n",
      "예측 :  [0] Chicken 81.74%\n",
      "[틀림]\n",
      "\n",
      "\n",
      "입력 :  Jeyugbokk-eum12.jpg\n",
      "예측 :  [3] Jeyugbokk-eum 99.99%\n",
      "[맞음]\n",
      "\n",
      "\n",
      "입력 :  Jeyugbokk-eum13.jpg\n",
      "예측 :  [3] Jeyugbokk-eum 55.92%\n",
      "[맞음]\n",
      "\n",
      "\n",
      "입력 :  Jeyugbokk-eum14.jpg\n",
      "예측 :  [3] Jeyugbokk-eum 99.65%\n",
      "[맞음]\n",
      "\n",
      "\n",
      "입력 :  Jeyugbokk-eum15.jpg\n",
      "예측 :  [3] Jeyugbokk-eum 99.98%\n",
      "[맞음]\n",
      "\n",
      "\n",
      "입력 :  Jeyugbokk-eum16.jpg\n",
      "예측 :  [3] Jeyugbokk-eum 99.99%\n",
      "[맞음]\n",
      "\n",
      "\n",
      "입력 :  Jeyugbokk-eum17.jpg\n",
      "예측 :  [3] Jeyugbokk-eum 99.61%\n",
      "[맞음]\n",
      "\n",
      "\n",
      "입력 :  Jeyugbokk-eum18.jpg\n",
      "예측 :  [3] Jeyugbokk-eum 99.97%\n",
      "[맞음]\n",
      "\n",
      "\n",
      "입력 :  Jeyugbokk-eum19.jpg\n",
      "예측 :  [3] Jeyugbokk-eum 99.98%\n",
      "[맞음]\n",
      "\n",
      "\n",
      "입력 :  Jeyugbokk-eum20.jpg\n",
      "예측 :  [0] Chicken 96.60%\n",
      "[틀림]\n",
      "\n",
      "\n",
      "입력 :  kimchi11.jpg\n",
      "예측 :  [2] Kimchi 99.98%\n",
      "[틀림]\n",
      "\n",
      "\n",
      "입력 :  kimchi12.jpg\n",
      "예측 :  [2] Kimchi 99.74%\n",
      "[틀림]\n",
      "\n",
      "\n",
      "입력 :  kimchi13.jpg\n",
      "예측 :  [2] Kimchi 99.98%\n",
      "[틀림]\n",
      "\n",
      "\n",
      "입력 :  kimchi14.jpg\n",
      "예측 :  [2] Kimchi 99.96%\n",
      "[틀림]\n",
      "\n",
      "\n",
      "입력 :  kimchi15.jpg\n",
      "예측 :  [2] Kimchi 99.99%\n",
      "[틀림]\n",
      "\n",
      "\n",
      "입력 :  kimchi16.jpg\n",
      "예측 :  [0] Chicken 98.19%\n",
      "[틀림]\n",
      "\n",
      "\n",
      "입력 :  kimchi17.jpg\n",
      "예측 :  [2] Kimchi 83.22%\n",
      "[틀림]\n",
      "\n",
      "\n",
      "입력 :  kimchi18.jpg\n",
      "예측 :  [3] Jeyugbokk-eum 48.09%\n",
      "[틀림]\n",
      "\n",
      "\n",
      "입력 :  kimchi19.jpg\n",
      "예측 :  [2] Kimchi 99.99%\n",
      "[틀림]\n",
      "\n",
      "\n",
      "입력 :  kimchi20.jpg\n",
      "예측 :  [2] Kimchi 99.74%\n",
      "[틀림]\n",
      "\n",
      "\n",
      "입력 :  Samgyeobsal11.jpg\n",
      "예측 :  [4] Samgyeobsal 100.00%\n",
      "[맞음]\n",
      "\n",
      "\n",
      "입력 :  Samgyeobsal12.jpg\n",
      "예측 :  [4] Samgyeobsal 100.00%\n",
      "[맞음]\n",
      "\n",
      "\n",
      "입력 :  Samgyeobsal13.jpg\n",
      "예측 :  [4] Samgyeobsal 100.00%\n",
      "[맞음]\n",
      "\n",
      "\n",
      "입력 :  Samgyeobsal14.jpg\n",
      "예측 :  [4] Samgyeobsal 99.98%\n",
      "[맞음]\n",
      "\n",
      "\n",
      "입력 :  Samgyeobsal15.jpg\n",
      "예측 :  [4] Samgyeobsal 99.99%\n",
      "[맞음]\n",
      "\n",
      "\n",
      "입력 :  Samgyeobsal16.jpg\n",
      "예측 :  [4] Samgyeobsal 100.00%\n",
      "[맞음]\n",
      "\n",
      "\n",
      "입력 :  Samgyeobsal17.jpg\n",
      "예측 :  [4] Samgyeobsal 99.95%\n",
      "[맞음]\n",
      "\n",
      "\n",
      "입력 :  Samgyeobsal18.jpg\n",
      "예측 :  [4] Samgyeobsal 100.00%\n",
      "[맞음]\n",
      "\n",
      "\n",
      "입력 :  Samgyeobsal19.jpg\n",
      "예측 :  [4] Samgyeobsal 99.93%\n",
      "[맞음]\n",
      "\n",
      "\n",
      "입력 :  Samgyeobsal20.jpg\n",
      "예측 :  [4] Samgyeobsal 99.99%\n",
      "[맞음]\n",
      "\n",
      "\n",
      "입력 :  SoybeanPasteStew11.jpg\n",
      "예측 :  [5] SoybeanPasteStew 99.99%\n",
      "[맞음]\n",
      "\n",
      "\n",
      "입력 :  SoybeanPasteStew12.jpg\n",
      "예측 :  [5] SoybeanPasteStew 98.91%\n",
      "[맞음]\n",
      "\n",
      "\n",
      "입력 :  SoybeanPasteStew13.jpg\n",
      "예측 :  [5] SoybeanPasteStew 99.90%\n",
      "[맞음]\n",
      "\n",
      "\n",
      "입력 :  SoybeanPasteStew14.jpg\n",
      "예측 :  [1] Dolsotbab 99.43%\n",
      "[틀림]\n",
      "\n",
      "\n",
      "입력 :  SoybeanPasteStew15.jpg\n",
      "예측 :  [5] SoybeanPasteStew 99.99%\n",
      "[맞음]\n",
      "\n",
      "\n",
      "입력 :  SoybeanPasteStew16.jpg\n",
      "예측 :  [1] Dolsotbab 51.57%\n",
      "[틀림]\n",
      "\n",
      "\n",
      "입력 :  SoybeanPasteStew17.jpg\n",
      "예측 :  [4] Samgyeobsal 97.39%\n",
      "[틀림]\n",
      "\n",
      "\n",
      "입력 :  SoybeanPasteStew18.jpg\n",
      "예측 :  [5] SoybeanPasteStew 99.99%\n",
      "[맞음]\n",
      "\n",
      "\n",
      "입력 :  SoybeanPasteStew19.jpg\n",
      "예측 :  [5] SoybeanPasteStew 65.66%\n",
      "[맞음]\n",
      "\n",
      "\n",
      "입력 :  SoybeanPasteStew20.jpg\n",
      "예측 :  [5] SoybeanPasteStew 99.94%\n",
      "[맞음]\n",
      "\n",
      "\n"
     ]
    }
   ],
   "source": [
    "from keras.models import load_model\n",
    "from glob import glob\n",
    "\n",
    "model = load_model(\"./kfood_model.h5\")\n",
    "# test_image = [\"./Chicken/chicken_01.jpg\", \"./Chicken/chicken_02.jpg\",\n",
    "#               \"./Kimchi/kimchi15.jpg\", \"./Kimchi/kimchi07.jpg\",\n",
    "#               \"./Samgyeobsal/Samgyeobsal04.jpg\"]\n",
    "\n",
    "test_image = glob(os.path.join(os.getcwd(), \"Testdata\", \"*.jpg\"))\n",
    "\n",
    "X = []\n",
    "files = []\n",
    "for file in test_image:\n",
    "    img = Image.open(file)\n",
    "    img = img.convert(\"RGB\").resize((64, 64))\n",
    "    input_data = np.asarray(img).astype(\"float\") / 255\n",
    "    X.append(input_data)\n",
    "    files.append(file)\n",
    "\n",
    "X = np.array(X)\n",
    "\n",
    "predict_result = model.predict(X)\n",
    "\n",
    "right_count = 0\n",
    "wrong_count = 0\n",
    "\n",
    "for i, p in enumerate(predict_result):\n",
    "    y = p.argmax()\n",
    "    print(\"입력 : \", files[i].split(\"\\\\\")[-1])\n",
    "    print(\"예측 : \", f\"[{y}]\", categories[y], f\"{p[y]*100:.2f}%\")\n",
    "\n",
    "    if categories[y][:3] == files[i].split(\"\\\\\")[-1][:3]:\n",
    "        print(\"[맞음]\")\n",
    "        right_count += 1\n",
    "    else:\n",
    "        print(\"[틀림]\")\n",
    "        wrong_count += 1\n",
    "    print(\"\\n\")"
   ],
   "metadata": {
    "collapsed": false,
    "pycharm": {
     "name": "#%%\n"
    }
   }
  },
  {
   "cell_type": "code",
   "execution_count": 62,
   "outputs": [
    {
     "name": "stdout",
     "output_type": "stream",
     "text": [
      "정확도 : 56.67 %\n"
     ]
    }
   ],
   "source": [
    "print(f\"정확도 : {right_count / (right_count + wrong_count) * 100:.2f} %\")"
   ],
   "metadata": {
    "collapsed": false,
    "pycharm": {
     "name": "#%%\n"
    }
   }
  },
  {
   "cell_type": "markdown",
   "source": [
    "# 참고할 만한 영상들\n",
    "\n",
    "## 얀르쿤 2020년 딥러닝 강의\n",
    "https://www.youtube.com/watch?v=0bMe_vCZo30&list=PL80I41oVxglKcAHllsU0txr3OuTTaWX2v\n",
    "\n",
    "## 컨볼루션 신경망의 학습원리\n",
    "https://youtu.be/FmpDIaiMIeA"
   ],
   "metadata": {
    "collapsed": false,
    "pycharm": {
     "name": "#%% md\n"
    }
   }
  },
  {
   "cell_type": "code",
   "execution_count": null,
   "outputs": [],
   "source": [],
   "metadata": {
    "collapsed": false,
    "pycharm": {
     "name": "#%%\n"
    }
   }
  }
 ],
 "metadata": {
  "kernelspec": {
   "display_name": "Python 3",
   "language": "python",
   "name": "python3"
  },
  "language_info": {
   "codemirror_mode": {
    "name": "ipython",
    "version": 2
   },
   "file_extension": ".py",
   "mimetype": "text/x-python",
   "name": "python",
   "nbconvert_exporter": "python",
   "pygments_lexer": "ipython2",
   "version": "2.7.6"
  }
 },
 "nbformat": 4,
 "nbformat_minor": 0
}