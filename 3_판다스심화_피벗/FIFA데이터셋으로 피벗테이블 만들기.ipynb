{
 "cells": [
  {
   "cell_type": "markdown",
   "source": [
    "# 3. FIFA데이터셋으로 피벗테이블 만들기\n",
    "\n",
    "이번 차시에서는 fifa21.csv를 한 번만 더 이어서 살펴보겠습니다.\n",
    "엑셀의 피벗테이블에 해당하는 group_by나 crosstab, value_counts 등의 피벗 메서드를 통해\n",
    "데이터프레임을 그룹화하거나 재구성해보고, 판다스를 통한 시각화도 살짝 진행해보겠습니다.\n",
    "\n",
    "3-1."
   ],
   "metadata": {
    "collapsed": false,
    "pycharm": {
     "name": "#%% md\n"
    }
   }
  },
  {
   "cell_type": "code",
   "execution_count": 301,
   "outputs": [],
   "source": [
    "# 임포트\n",
    "import pandas as pd"
   ],
   "metadata": {
    "collapsed": false,
    "pycharm": {
     "name": "#%%\n"
    }
   }
  },
  {
   "cell_type": "code",
   "execution_count": 302,
   "outputs": [],
   "source": [
    "# 데이터셋 불러오기\n",
    "df = pd.read_csv(\"../2_파이썬기초&판다스기초/fifa21.csv\")"
   ],
   "metadata": {
    "collapsed": false,
    "pycharm": {
     "name": "#%%\n"
    }
   }
  },
  {
   "cell_type": "code",
   "execution_count": 307,
   "outputs": [
    {
     "data": {
      "text/plain": "   sofifa_id                                         player_url  \\\n0     158023  https://sofifa.com/player/158023/lionel-messi/...   \n1      20801  https://sofifa.com/player/20801/c-ronaldo-dos-...   \n2     190871  https://sofifa.com/player/190871/neymar-da-sil...   \n3     167495  https://sofifa.com/player/167495/manuel-neuer/...   \n4     176580  https://sofifa.com/player/176580/luis-suarez/2...   \n\n          short_name                            long_name  age         dob  \\\n0           L. Messi       Lionel Andrés Messi Cuccittini   33  1987-06-24   \n1  Cristiano Ronaldo  Cristiano Ronaldo dos Santos Aveiro   35  1985-02-05   \n2          Neymar Jr        Neymar da Silva Santos Júnior   28  1992-02-05   \n3           M. Neuer                         Manuel Neuer   34  1986-03-27   \n4          L. Suárez             Luis Alberto Suárez Díaz   33  1987-01-24   \n\n   height_cm  weight_kg nationality            club_name  ...   lwb   ldm  \\\n0        170         72   Argentina         FC Barcelona  ...  66+3  65+3   \n1        187         83    Portugal             Juventus  ...  65+3  61+3   \n2        175         68      Brazil  Paris Saint-Germain  ...  67+3  62+3   \n3        193         92     Germany    FC Bayern München  ...  36+3  42+3   \n4        182         86     Uruguay         FC Barcelona  ...  67+3  68+3   \n\n    cdm   rdm   rwb    lb   lcb    cb   rcb    rb  \n0  65+3  65+3  66+3  62+3  52+3  52+3  52+3  62+3  \n1  61+3  61+3  65+3  61+3  54+3  54+3  54+3  61+3  \n2  62+3  62+3  67+3  62+3  49+3  49+3  49+3  62+3  \n3  42+3  42+3  36+3  34+3  34+3  34+3  34+3  34+3  \n4  68+3  68+3  67+3  64+3  63+3  63+3  63+3  64+3  \n\n[5 rows x 106 columns]",
      "text/html": "<div>\n<style scoped>\n    .dataframe tbody tr th:only-of-type {\n        vertical-align: middle;\n    }\n\n    .dataframe tbody tr th {\n        vertical-align: top;\n    }\n\n    .dataframe thead th {\n        text-align: right;\n    }\n</style>\n<table border=\"1\" class=\"dataframe\">\n  <thead>\n    <tr style=\"text-align: right;\">\n      <th></th>\n      <th>sofifa_id</th>\n      <th>player_url</th>\n      <th>short_name</th>\n      <th>long_name</th>\n      <th>age</th>\n      <th>dob</th>\n      <th>height_cm</th>\n      <th>weight_kg</th>\n      <th>nationality</th>\n      <th>club_name</th>\n      <th>...</th>\n      <th>lwb</th>\n      <th>ldm</th>\n      <th>cdm</th>\n      <th>rdm</th>\n      <th>rwb</th>\n      <th>lb</th>\n      <th>lcb</th>\n      <th>cb</th>\n      <th>rcb</th>\n      <th>rb</th>\n    </tr>\n  </thead>\n  <tbody>\n    <tr>\n      <th>0</th>\n      <td>158023</td>\n      <td>https://sofifa.com/player/158023/lionel-messi/...</td>\n      <td>L. Messi</td>\n      <td>Lionel Andrés Messi Cuccittini</td>\n      <td>33</td>\n      <td>1987-06-24</td>\n      <td>170</td>\n      <td>72</td>\n      <td>Argentina</td>\n      <td>FC Barcelona</td>\n      <td>...</td>\n      <td>66+3</td>\n      <td>65+3</td>\n      <td>65+3</td>\n      <td>65+3</td>\n      <td>66+3</td>\n      <td>62+3</td>\n      <td>52+3</td>\n      <td>52+3</td>\n      <td>52+3</td>\n      <td>62+3</td>\n    </tr>\n    <tr>\n      <th>1</th>\n      <td>20801</td>\n      <td>https://sofifa.com/player/20801/c-ronaldo-dos-...</td>\n      <td>Cristiano Ronaldo</td>\n      <td>Cristiano Ronaldo dos Santos Aveiro</td>\n      <td>35</td>\n      <td>1985-02-05</td>\n      <td>187</td>\n      <td>83</td>\n      <td>Portugal</td>\n      <td>Juventus</td>\n      <td>...</td>\n      <td>65+3</td>\n      <td>61+3</td>\n      <td>61+3</td>\n      <td>61+3</td>\n      <td>65+3</td>\n      <td>61+3</td>\n      <td>54+3</td>\n      <td>54+3</td>\n      <td>54+3</td>\n      <td>61+3</td>\n    </tr>\n    <tr>\n      <th>2</th>\n      <td>190871</td>\n      <td>https://sofifa.com/player/190871/neymar-da-sil...</td>\n      <td>Neymar Jr</td>\n      <td>Neymar da Silva Santos Júnior</td>\n      <td>28</td>\n      <td>1992-02-05</td>\n      <td>175</td>\n      <td>68</td>\n      <td>Brazil</td>\n      <td>Paris Saint-Germain</td>\n      <td>...</td>\n      <td>67+3</td>\n      <td>62+3</td>\n      <td>62+3</td>\n      <td>62+3</td>\n      <td>67+3</td>\n      <td>62+3</td>\n      <td>49+3</td>\n      <td>49+3</td>\n      <td>49+3</td>\n      <td>62+3</td>\n    </tr>\n    <tr>\n      <th>3</th>\n      <td>167495</td>\n      <td>https://sofifa.com/player/167495/manuel-neuer/...</td>\n      <td>M. Neuer</td>\n      <td>Manuel Neuer</td>\n      <td>34</td>\n      <td>1986-03-27</td>\n      <td>193</td>\n      <td>92</td>\n      <td>Germany</td>\n      <td>FC Bayern München</td>\n      <td>...</td>\n      <td>36+3</td>\n      <td>42+3</td>\n      <td>42+3</td>\n      <td>42+3</td>\n      <td>36+3</td>\n      <td>34+3</td>\n      <td>34+3</td>\n      <td>34+3</td>\n      <td>34+3</td>\n      <td>34+3</td>\n    </tr>\n    <tr>\n      <th>4</th>\n      <td>176580</td>\n      <td>https://sofifa.com/player/176580/luis-suarez/2...</td>\n      <td>L. Suárez</td>\n      <td>Luis Alberto Suárez Díaz</td>\n      <td>33</td>\n      <td>1987-01-24</td>\n      <td>182</td>\n      <td>86</td>\n      <td>Uruguay</td>\n      <td>FC Barcelona</td>\n      <td>...</td>\n      <td>67+3</td>\n      <td>68+3</td>\n      <td>68+3</td>\n      <td>68+3</td>\n      <td>67+3</td>\n      <td>64+3</td>\n      <td>63+3</td>\n      <td>63+3</td>\n      <td>63+3</td>\n      <td>64+3</td>\n    </tr>\n  </tbody>\n</table>\n<p>5 rows × 106 columns</p>\n</div>"
     },
     "execution_count": 307,
     "metadata": {},
     "output_type": "execute_result"
    }
   ],
   "source": [
    "df.head()"
   ],
   "metadata": {
    "collapsed": false,
    "pycharm": {
     "name": "#%%\n"
    }
   }
  },
  {
   "cell_type": "code",
   "execution_count": 308,
   "outputs": [
    {
     "data": {
      "text/plain": "nationality\nAfghanistan       3000\nAlbania         388600\nAlgeria        1115000\nAndorra            800\nAngola          153000\n                ...   \nUzbekistan       22000\nVenezuela       376400\nWales          1206950\nZambia           64500\nZimbabwe        144000\nName: wage_eur, Length: 162, dtype: int64"
     },
     "execution_count": 308,
     "metadata": {},
     "output_type": "execute_result"
    }
   ],
   "source": [
    "# 나라별로 선수들의 wage 합계를 구해보려면?\n",
    "country_wage = df[\"wage_eur\"].groupby(df[\"nationality\"])\n",
    "country_wage_sum = country_wage.sum()\n",
    "country_wage_sum"
   ],
   "metadata": {
    "collapsed": false,
    "pycharm": {
     "name": "#%%\n"
    }
   }
  },
  {
   "cell_type": "code",
   "execution_count": 309,
   "outputs": [
    {
     "data": {
      "text/plain": "nationality\nEngland    15706500\nSpain      15556900\nFrance     13297450\nBrazil     12941350\nGermany    10620450\nName: wage_eur, dtype: int64"
     },
     "execution_count": 309,
     "metadata": {},
     "output_type": "execute_result"
    }
   ],
   "source": [
    "# 기본적으로 국적 오름차순(sort_index by nationality)으로 정렬된 Series를 리턴합니다.\n",
    "# sort_values를 통해 연봉합이 높은 순서로 정렬해보려면?\n",
    "country_wage_sum.sort_values(ascending=False).head()"
   ],
   "metadata": {
    "collapsed": false,
    "pycharm": {
     "name": "#%%\n"
    }
   }
  },
  {
   "cell_type": "code",
   "execution_count": 310,
   "outputs": [
    {
     "data": {
      "text/plain": "1100700"
     },
     "execution_count": 310,
     "metadata": {},
     "output_type": "execute_result"
    }
   ],
   "source": [
    "# 이 중 대한민국의 연봉합은?\n",
    "country_wage_sum[\"Korea Republic\"]"
   ],
   "metadata": {
    "collapsed": false,
    "pycharm": {
     "name": "#%%\n"
    }
   }
  },
  {
   "cell_type": "code",
   "execution_count": 311,
   "outputs": [
    {
     "data": {
      "text/plain": "37.0"
     },
     "execution_count": 311,
     "metadata": {},
     "output_type": "execute_result"
    }
   ],
   "source": [
    "# 대한민국의 주급 합계는 약 백십만 유로.\n",
    "# 이 정도면 랭킹 몇 위일까?\n",
    "country_wage.sum().rank(ascending=False)[\"Korea Republic\"]"
   ],
   "metadata": {
    "collapsed": false,
    "pycharm": {
     "name": "#%%\n"
    }
   }
  },
  {
   "cell_type": "code",
   "execution_count": 312,
   "outputs": [
    {
     "data": {
      "text/plain": "                          mean           std\nnationality                                 \nTanzania               55000.0           NaN\nDominican Republic     33000.0  61335.144901\nBermuda                33000.0           NaN\nSaint Kitts and Nevis  30500.0  40305.086528\nArmenia                23500.0  26362.852653\n...                        ...           ...\nUnited Arab Emirates     500.0      0.000000\nMalawi                   500.0           NaN\nPapua New Guinea         500.0           NaN\nNicaragua                500.0           NaN\nIndia                      0.0      0.000000\n\n[162 rows x 2 columns]",
      "text/html": "<div>\n<style scoped>\n    .dataframe tbody tr th:only-of-type {\n        vertical-align: middle;\n    }\n\n    .dataframe tbody tr th {\n        vertical-align: top;\n    }\n\n    .dataframe thead th {\n        text-align: right;\n    }\n</style>\n<table border=\"1\" class=\"dataframe\">\n  <thead>\n    <tr style=\"text-align: right;\">\n      <th></th>\n      <th>mean</th>\n      <th>std</th>\n    </tr>\n    <tr>\n      <th>nationality</th>\n      <th></th>\n      <th></th>\n    </tr>\n  </thead>\n  <tbody>\n    <tr>\n      <th>Tanzania</th>\n      <td>55000.0</td>\n      <td>NaN</td>\n    </tr>\n    <tr>\n      <th>Dominican Republic</th>\n      <td>33000.0</td>\n      <td>61335.144901</td>\n    </tr>\n    <tr>\n      <th>Bermuda</th>\n      <td>33000.0</td>\n      <td>NaN</td>\n    </tr>\n    <tr>\n      <th>Saint Kitts and Nevis</th>\n      <td>30500.0</td>\n      <td>40305.086528</td>\n    </tr>\n    <tr>\n      <th>Armenia</th>\n      <td>23500.0</td>\n      <td>26362.852653</td>\n    </tr>\n    <tr>\n      <th>...</th>\n      <td>...</td>\n      <td>...</td>\n    </tr>\n    <tr>\n      <th>United Arab Emirates</th>\n      <td>500.0</td>\n      <td>0.000000</td>\n    </tr>\n    <tr>\n      <th>Malawi</th>\n      <td>500.0</td>\n      <td>NaN</td>\n    </tr>\n    <tr>\n      <th>Papua New Guinea</th>\n      <td>500.0</td>\n      <td>NaN</td>\n    </tr>\n    <tr>\n      <th>Nicaragua</th>\n      <td>500.0</td>\n      <td>NaN</td>\n    </tr>\n    <tr>\n      <th>India</th>\n      <td>0.0</td>\n      <td>0.000000</td>\n    </tr>\n  </tbody>\n</table>\n<p>162 rows × 2 columns</p>\n</div>"
     },
     "execution_count": 312,
     "metadata": {},
     "output_type": "execute_result"
    }
   ],
   "source": [
    "# 우리나라가 주급합계 기준 37위네요.\n",
    "# 선수가 많은 국가들이 있을 수도 있으니 평균과 표준편차를 알아보겠습니다.\n",
    "country_wage.describe()[[\"mean\", \"std\"]]\\\n",
    "    .sort_values(by=\"mean\", ascending=False)"
   ],
   "metadata": {
    "collapsed": false,
    "pycharm": {
     "name": "#%%\n"
    }
   }
  },
  {
   "cell_type": "code",
   "execution_count": 318,
   "outputs": [
    {
     "data": {
      "text/plain": "                          mean           std\nnationality                                 \nTanzania               55000.0           NaN\nDominican Republic     33000.0  61335.144901\nBermuda                33000.0           NaN\nSaint Kitts and Nevis  30500.0  40305.086528\nArmenia                23500.0  26362.852653\n...                        ...           ...\nUnited Arab Emirates     500.0      0.000000\nMalawi                   500.0           NaN\nPapua New Guinea         500.0           NaN\nNicaragua                500.0           NaN\nIndia                      0.0      0.000000\n\n[162 rows x 2 columns]",
      "text/html": "<div>\n<style scoped>\n    .dataframe tbody tr th:only-of-type {\n        vertical-align: middle;\n    }\n\n    .dataframe tbody tr th {\n        vertical-align: top;\n    }\n\n    .dataframe thead th {\n        text-align: right;\n    }\n</style>\n<table border=\"1\" class=\"dataframe\">\n  <thead>\n    <tr style=\"text-align: right;\">\n      <th></th>\n      <th>mean</th>\n      <th>std</th>\n    </tr>\n    <tr>\n      <th>nationality</th>\n      <th></th>\n      <th></th>\n    </tr>\n  </thead>\n  <tbody>\n    <tr>\n      <th>Tanzania</th>\n      <td>55000.0</td>\n      <td>NaN</td>\n    </tr>\n    <tr>\n      <th>Dominican Republic</th>\n      <td>33000.0</td>\n      <td>61335.144901</td>\n    </tr>\n    <tr>\n      <th>Bermuda</th>\n      <td>33000.0</td>\n      <td>NaN</td>\n    </tr>\n    <tr>\n      <th>Saint Kitts and Nevis</th>\n      <td>30500.0</td>\n      <td>40305.086528</td>\n    </tr>\n    <tr>\n      <th>Armenia</th>\n      <td>23500.0</td>\n      <td>26362.852653</td>\n    </tr>\n    <tr>\n      <th>...</th>\n      <td>...</td>\n      <td>...</td>\n    </tr>\n    <tr>\n      <th>United Arab Emirates</th>\n      <td>500.0</td>\n      <td>0.000000</td>\n    </tr>\n    <tr>\n      <th>Malawi</th>\n      <td>500.0</td>\n      <td>NaN</td>\n    </tr>\n    <tr>\n      <th>Papua New Guinea</th>\n      <td>500.0</td>\n      <td>NaN</td>\n    </tr>\n    <tr>\n      <th>Nicaragua</th>\n      <td>500.0</td>\n      <td>NaN</td>\n    </tr>\n    <tr>\n      <th>India</th>\n      <td>0.0</td>\n      <td>0.000000</td>\n    </tr>\n  </tbody>\n</table>\n<p>162 rows × 2 columns</p>\n</div>"
     },
     "execution_count": 318,
     "metadata": {},
     "output_type": "execute_result"
    }
   ],
   "source": [
    "# 위의 코드는 직관적이기는 하지만,\n",
    "# agg를 통해 간편하게 실행할 수도 있습니다.\n",
    "\n",
    "country_wage.agg([\"mean\", \"std\"])\\\n",
    "    .sort_values(by=\"mean\", ascending=False)"
   ],
   "metadata": {
    "collapsed": false,
    "pycharm": {
     "name": "#%%\n"
    }
   }
  },
  {
   "cell_type": "code",
   "execution_count": 319,
   "outputs": [],
   "source": [
    "# 탄자니아, 도미니카, 버뮤다.. 대체로 생소한 국가가 주급평균이 높네요.\n",
    "# (사실 스타플레이어 한 명의 몸값이 높죠. 탄자니아의 음브와나 사마타 같은..)"
   ],
   "metadata": {
    "collapsed": false,
    "pycharm": {
     "name": "#%%\n"
    }
   }
  },
  {
   "cell_type": "code",
   "execution_count": 320,
   "outputs": [
    {
     "data": {
      "text/plain": "                 mean\nnationality          \nEngland          45.0\nItaly            11.0\nBrazil           16.0\nKorea Republic  117.0",
      "text/html": "<div>\n<style scoped>\n    .dataframe tbody tr th:only-of-type {\n        vertical-align: middle;\n    }\n\n    .dataframe tbody tr th {\n        vertical-align: top;\n    }\n\n    .dataframe thead th {\n        text-align: right;\n    }\n</style>\n<table border=\"1\" class=\"dataframe\">\n  <thead>\n    <tr style=\"text-align: right;\">\n      <th></th>\n      <th>mean</th>\n    </tr>\n    <tr>\n      <th>nationality</th>\n      <th></th>\n    </tr>\n  </thead>\n  <tbody>\n    <tr>\n      <th>England</th>\n      <td>45.0</td>\n    </tr>\n    <tr>\n      <th>Italy</th>\n      <td>11.0</td>\n    </tr>\n    <tr>\n      <th>Brazil</th>\n      <td>16.0</td>\n    </tr>\n    <tr>\n      <th>Korea Republic</th>\n      <td>117.0</td>\n    </tr>\n  </tbody>\n</table>\n</div>"
     },
     "execution_count": 320,
     "metadata": {},
     "output_type": "execute_result"
    }
   ],
   "source": [
    "# 이번엔 영국과 이탈리아, 브라질, 대한민국의 평균주급 순위를 한 번 확인해볼까요?\n",
    "\n",
    "country_wage.describe()[[\"mean\"]].rank(ascending=False).loc[[\n",
    "    \"England\", \"Italy\", \"Brazil\", \"Korea Republic\"]]"
   ],
   "metadata": {
    "collapsed": false,
    "pycharm": {
     "name": "#%%\n"
    }
   }
  },
  {
   "cell_type": "code",
   "execution_count": 321,
   "outputs": [
    {
     "data": {
      "text/plain": "England          1685\nGermany          1189\nSpain            1072\nFrance            984\nArgentina         936\n                 ... \nNew Caledonia       1\nBermuda             1\nChad                1\nTanzania            1\nNicaragua           1\nName: nationality, Length: 162, dtype: int64"
     },
     "execution_count": 321,
     "metadata": {},
     "output_type": "execute_result"
    }
   ],
   "source": [
    "# 음, 우리나라의 평균주급은 더 낮은 편이네요.\n",
    "# 나라별 선수의 수가 영향이 클 것 같은데,\n",
    "# 나라별 선수의 수를 집계해볼까요?\n",
    "# 드디어 value_counts를 사용해볼 차례입니다.\n",
    "df[\"nationality\"].value_counts()"
   ],
   "metadata": {
    "collapsed": false,
    "pycharm": {
     "name": "#%%\n"
    }
   }
  },
  {
   "cell_type": "code",
   "execution_count": 330,
   "outputs": [
    {
     "data": {
      "text/plain": "<AxesSubplot:>"
     },
     "execution_count": 330,
     "metadata": {},
     "output_type": "execute_result"
    },
    {
     "data": {
      "text/plain": "<Figure size 432x288 with 1 Axes>",
      "image/png": "[encoded data removed]"
     },
     "metadata": {
      "needs_background": "light"
     },
     "output_type": "display_data"
    }
   ],
   "source": [
    "# 판다스의 시각화는 엄청나게 간편합니다.\n",
    "df[\"nationality\"].value_counts().head(19)\\\n",
    "    .plot.bar()"
   ],
   "metadata": {
    "collapsed": false,
    "pycharm": {
     "name": "#%%\n"
    }
   }
  },
  {
   "cell_type": "code",
   "execution_count": 336,
   "outputs": [
    {
     "data": {
      "text/plain": "<AxesSubplot:>"
     },
     "execution_count": 336,
     "metadata": {},
     "output_type": "execute_result"
    },
    {
     "data": {
      "text/plain": "<Figure size 432x288 with 1 Axes>",
      "image/png": "[encoded data removed]"
     },
     "metadata": {
      "needs_background": "light"
     },
     "output_type": "display_data"
    }
   ],
   "source": [
    "# 가로 막대그래프로 그려볼까요?\n",
    "df[\"nationality\"].value_counts().head(19).sort_values(ascending=True)\\\n",
    "    .plot.barh()"
   ],
   "metadata": {
    "collapsed": false,
    "pycharm": {
     "name": "#%%\n"
    }
   }
  },
  {
   "cell_type": "code",
   "execution_count": 387,
   "outputs": [
    {
     "data": {
      "text/plain": "league_name                  nationality\nArgentina Primera División   Argentina      571\n                             Armenia          1\n                             Chile            7\n                             Colombia        20\n                             Ecuador          2\n                                           ... \nVenezuelan Primera División  Ghana            1\n                             Mexico           1\n                             Nicaragua        1\n                             Uruguay          1\n                             Venezuela      139\nName: 선수 수, Length: 1744, dtype: int64"
     },
     "execution_count": 387,
     "metadata": {},
     "output_type": "execute_result"
    }
   ],
   "source": [
    "# 그럼 이번엔,\n",
    "# 각 클럽의 국가별 선수 수를 확인해보려면?\n",
    "\n",
    "df2 = df.groupby([\"league_name\", \"nationality\"]).count()[\"sofifa_id\"]\n",
    "df2.name = \"선수 수\"\n",
    "df2"
   ],
   "metadata": {
    "collapsed": false,
    "pycharm": {
     "name": "#%%\n"
    }
   }
  },
  {
   "cell_type": "code",
   "execution_count": 219,
   "outputs": [
    {
     "data": {
      "text/plain": "league_name                 nationality\nArgentina Primera División  Argentina      571\n                            Armenia          1\n                            Chile            7\nName: 선수 수, dtype: int64"
     },
     "execution_count": 219,
     "metadata": {},
     "output_type": "execute_result"
    }
   ],
   "source": [
    "# 리그별로 상위 3개의 국가만 보고 싶으면?\n",
    "# df2.head(3)을 하면 될까요?\n",
    "df2.head(3)"
   ],
   "metadata": {
    "collapsed": false,
    "pycharm": {
     "name": "#%%\n"
    }
   }
  },
  {
   "cell_type": "code",
   "execution_count": 414,
   "outputs": [
    {
     "data": {
      "text/plain": "<pandas.core.groupby.generic.DataFrameGroupBy object at 0x000001D6AE5FEDF0>"
     },
     "execution_count": 414,
     "metadata": {},
     "output_type": "execute_result"
    }
   ],
   "source": [
    "# 잉? 안 되네요.\n",
    "# 그룹별 상위3개가 아니라 전체의 상위 3개가 나와버렸네요..\n",
    "# 어떻게 해야 할까요?\n",
    "# 약간 번거롭지만, 아래처럼 실행하면 됩니다.\n",
    "\n",
    "df.groupby(by=[\"league_name\", \"nationality\"])"
   ],
   "metadata": {
    "collapsed": false,
    "pycharm": {
     "name": "#%%\n"
    }
   }
  },
  {
   "cell_type": "code",
   "execution_count": 300,
   "outputs": [
    {
     "name": "stdout",
     "output_type": "stream",
     "text": [
      "league_name                  nationality\n",
      "Argentina Primera División   Argentina      571\n",
      "                             Armenia          1\n",
      "                             Chile            7\n",
      "                             Colombia        20\n",
      "                             Ecuador          2\n",
      "                                           ... \n",
      "Venezuelan Primera División  Ghana            1\n",
      "                             Mexico           1\n",
      "                             Nicaragua        1\n",
      "                             Uruguay          1\n",
      "                             Venezuela      139\n",
      "Name: 선수 수, Length: 1744, dtype: int64\n"
     ]
    }
   ],
   "source": [],
   "metadata": {
    "collapsed": false,
    "pycharm": {
     "name": "#%%\n"
    }
   }
  },
  {
   "cell_type": "code",
   "execution_count": null,
   "outputs": [],
   "source": [],
   "metadata": {
    "collapsed": false,
    "pycharm": {
     "name": "#%%\n"
    }
   }
  }
 ],
 "metadata": {
  "kernelspec": {
   "display_name": "Python 3",
   "language": "python",
   "name": "python3"
  },
  "language_info": {
   "codemirror_mode": {
    "name": "ipython",
    "version": 2
   },
   "file_extension": ".py",
   "mimetype": "text/x-python",
   "name": "python",
   "nbconvert_exporter": "python",
   "pygments_lexer": "ipython2",
   "version": "2.7.6"
  }
 },
 "nbformat": 4,
 "nbformat_minor": 0
}